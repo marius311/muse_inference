{
 "cells": [
  {
   "cell_type": "markdown",
   "id": "b84b7417",
   "metadata": {},
   "source": [
    "# User API"
   ]
  },
  {
   "cell_type": "code",
   "execution_count": 1,
   "id": "9850e0bc",
   "metadata": {
    "execution": {
     "iopub.execute_input": "2022-06-04T07:49:35.879771Z",
     "iopub.status.busy": "2022-06-04T07:49:35.879103Z",
     "iopub.status.idle": "2022-06-04T07:49:35.920054Z",
     "shell.execute_reply": "2022-06-04T07:49:35.918777Z"
    },
    "nbsphinx": "hidden",
    "tags": []
   },
   "outputs": [],
   "source": [
    "%config InlineBackend.print_figure_kwargs = {'bbox_inches': 'tight', 'dpi': 110}\n",
    "%load_ext autoreload\n",
    "%autoreload 2\n",
    "import logging, warnings\n",
    "logging.getLogger(\"pymc\").setLevel(logging.FATAL)\n",
    "warnings.filterwarnings(\"ignore\")"
   ]
  },
  {
   "cell_type": "markdown",
   "id": "ac69602d",
   "metadata": {},
   "source": [
    "## PyMC"
   ]
  },
  {
   "cell_type": "markdown",
   "id": "1a3b20b3",
   "metadata": {},
   "source": [
    "The [Example](example.html) page introduces how to use *muse-inference* for a problem defined with PyMC. Here we consider a more complex problem to highlight additional features. In particular:\n",
    "\n",
    "* We can estimate any number of parameters with any shapes. Here we have a 2-dimensional array $\\mu$ and a scalar $\\theta$. Note that by default, *muse-inference* considers any variables which do not depend on others as \"parameters\" (i.e. the \"leaves\" of the probabilistic graph). However, the algorithm is not limited to such parameters, and any choice can be selected by providing a list of `params` to the `PyMCMuseProblem` constructor.\n",
    "\n",
    "* We can work with distributions with limited domain support. For example, below we use the $\\rm Beta$ distribution with support on $(0,1)$ and the $\\rm LogNormal$ distribution with support on $(0,\\infty)$. All necessary transformations are handled internally.\n",
    "\n",
    "* The data and latent space can include any number of variables, with any shapes. Below we demonstrate an $x$ and $z$ which are 2-dimensional arrays. \n",
    "\n",
    "First, load the relevant packages:"
   ]
  },
  {
   "cell_type": "code",
   "execution_count": 2,
   "id": "72973eba",
   "metadata": {
    "execution": {
     "iopub.execute_input": "2022-06-04T07:49:35.925987Z",
     "iopub.status.busy": "2022-06-04T07:49:35.925221Z",
     "iopub.status.idle": "2022-06-04T07:49:38.374103Z",
     "shell.execute_reply": "2022-06-04T07:49:38.373131Z"
    }
   },
   "outputs": [
    {
     "name": "stdout",
     "output_type": "stream",
     "text": [
      "Populating the interactive namespace from numpy and matplotlib\n"
     ]
    }
   ],
   "source": [
    "%pylab inline\n",
    "import pymc as pm\n",
    "from muse_inference.pymc import PyMCMuseProblem"
   ]
  },
  {
   "cell_type": "markdown",
   "id": "038d13e8",
   "metadata": {},
   "source": [
    "Then define the problem,"
   ]
  },
  {
   "cell_type": "code",
   "execution_count": 3,
   "id": "5aa231d9",
   "metadata": {
    "execution": {
     "iopub.execute_input": "2022-06-04T07:49:38.380099Z",
     "iopub.status.busy": "2022-06-04T07:49:38.379031Z",
     "iopub.status.idle": "2022-06-04T07:49:38.405068Z",
     "shell.execute_reply": "2022-06-04T07:49:38.404279Z"
    }
   },
   "outputs": [],
   "source": [
    "def gen_funnel(x=None, θ=None, μ=None, rng=None):\n",
    "    with pm.Model(rng_seeder=rng) as model:\n",
    "        μ = pm.Beta(\"μ\", 2, 5, size=2) if μ is None else μ\n",
    "        θ = pm.Normal(\"θ\", 0, 3) if θ is None else θ\n",
    "        z = pm.LogNormal(\"z\", μ, np.exp(θ/2), size=(100, 2))\n",
    "        x = pm.Normal(\"x\", z, 1, observed=x)\n",
    "    return model"
   ]
  },
  {
   "cell_type": "markdown",
   "id": "870dc8bd",
   "metadata": {},
   "source": [
    "generate the model and some data, given some chosen true values of parameters,"
   ]
  },
  {
   "cell_type": "code",
   "execution_count": 4,
   "id": "54bf9b32",
   "metadata": {
    "execution": {
     "iopub.execute_input": "2022-06-04T07:49:38.409232Z",
     "iopub.status.busy": "2022-06-04T07:49:38.408948Z",
     "iopub.status.idle": "2022-06-04T07:50:40.144996Z",
     "shell.execute_reply": "2022-06-04T07:50:40.143663Z"
    }
   },
   "outputs": [],
   "source": [
    "params_true = dict(μ=[0.3, 0.7], θ=1)\n",
    "x_obs = pm.sample_prior_predictive(1, gen_funnel(rng=RandomState(0), **params_true)).prior.x[0,0]\n",
    "model = gen_funnel(x=x_obs)\n",
    "prob = PyMCMuseProblem(model)"
   ]
  },
  {
   "cell_type": "markdown",
   "id": "478eee63",
   "metadata": {},
   "source": [
    "and finally, run MUSE:"
   ]
  },
  {
   "cell_type": "code",
   "execution_count": 5,
   "id": "aa3cc637",
   "metadata": {
    "execution": {
     "iopub.execute_input": "2022-06-04T07:50:40.157660Z",
     "iopub.status.busy": "2022-06-04T07:50:40.150056Z",
     "iopub.status.idle": "2022-06-04T07:50:57.585142Z",
     "shell.execute_reply": "2022-06-04T07:50:57.584466Z"
    }
   },
   "outputs": [
    {
     "name": "stderr",
     "output_type": "stream",
     "text": [
      "\r",
      "MUSE:   0%|          | 0/5050 [00:00<?, ?it/s]"
     ]
    },
    {
     "name": "stderr",
     "output_type": "stream",
     "text": [
      "\r",
      "MUSE:   0%|          | 4/5050 [00:00<02:20, 35.84it/s]"
     ]
    },
    {
     "name": "stderr",
     "output_type": "stream",
     "text": [
      "\r",
      "MUSE:   0%|          | 9/5050 [00:00<01:58, 42.43it/s]"
     ]
    },
    {
     "name": "stderr",
     "output_type": "stream",
     "text": [
      "\r",
      "MUSE:   0%|          | 14/5050 [00:00<01:56, 43.12it/s]"
     ]
    },
    {
     "name": "stderr",
     "output_type": "stream",
     "text": [
      "\r",
      "MUSE:   0%|          | 20/5050 [00:00<01:42, 49.27it/s]"
     ]
    },
    {
     "name": "stderr",
     "output_type": "stream",
     "text": [
      "\r",
      "MUSE:   1%|          | 27/5050 [00:00<01:31, 54.64it/s]"
     ]
    },
    {
     "name": "stderr",
     "output_type": "stream",
     "text": [
      "\r",
      "MUSE:   1%|          | 34/5050 [00:00<01:26, 58.00it/s]"
     ]
    },
    {
     "name": "stderr",
     "output_type": "stream",
     "text": [
      "\r",
      "MUSE:   1%|          | 40/5050 [00:00<01:36, 52.01it/s]"
     ]
    },
    {
     "name": "stderr",
     "output_type": "stream",
     "text": [
      "\r",
      "MUSE:   1%|          | 46/5050 [00:00<01:37, 51.56it/s]"
     ]
    },
    {
     "name": "stderr",
     "output_type": "stream",
     "text": [
      "\r",
      "MUSE:   1%|          | 52/5050 [00:01<01:40, 49.66it/s]"
     ]
    },
    {
     "name": "stderr",
     "output_type": "stream",
     "text": [
      "\r",
      "MUSE:   1%|          | 58/5050 [00:01<01:43, 48.10it/s]"
     ]
    },
    {
     "name": "stderr",
     "output_type": "stream",
     "text": [
      "\r",
      "MUSE:   1%|▏         | 64/5050 [00:01<01:41, 49.14it/s]"
     ]
    },
    {
     "name": "stderr",
     "output_type": "stream",
     "text": [
      "\r",
      "MUSE:   1%|▏         | 69/5050 [00:01<01:46, 46.74it/s]"
     ]
    },
    {
     "name": "stderr",
     "output_type": "stream",
     "text": [
      "\r",
      "MUSE:   1%|▏         | 74/5050 [00:01<01:46, 46.59it/s]"
     ]
    },
    {
     "name": "stderr",
     "output_type": "stream",
     "text": [
      "\r",
      "MUSE:   2%|▏         | 79/5050 [00:01<01:44, 47.48it/s]"
     ]
    },
    {
     "name": "stderr",
     "output_type": "stream",
     "text": [
      "\r",
      "MUSE:   2%|▏         | 84/5050 [00:01<01:44, 47.43it/s]"
     ]
    },
    {
     "name": "stderr",
     "output_type": "stream",
     "text": [
      "\r",
      "MUSE:   2%|▏         | 89/5050 [00:01<01:49, 45.43it/s]"
     ]
    },
    {
     "name": "stderr",
     "output_type": "stream",
     "text": [
      "\r",
      "MUSE:   2%|▏         | 95/5050 [00:01<01:40, 49.26it/s]"
     ]
    },
    {
     "name": "stderr",
     "output_type": "stream",
     "text": [
      "\r",
      "MUSE:   2%|▏         | 102/5050 [00:02<02:31, 32.56it/s]"
     ]
    },
    {
     "name": "stderr",
     "output_type": "stream",
     "text": [
      "\r",
      "MUSE:   2%|▏         | 109/5050 [00:02<02:07, 38.62it/s]"
     ]
    },
    {
     "name": "stderr",
     "output_type": "stream",
     "text": [
      "\r",
      "MUSE:   2%|▏         | 114/5050 [00:02<02:10, 37.73it/s]"
     ]
    },
    {
     "name": "stderr",
     "output_type": "stream",
     "text": [
      "\r",
      "MUSE:   2%|▏         | 120/5050 [00:02<02:02, 40.36it/s]"
     ]
    },
    {
     "name": "stderr",
     "output_type": "stream",
     "text": [
      "\r",
      "MUSE:   2%|▏         | 125/5050 [00:02<02:01, 40.46it/s]"
     ]
    },
    {
     "name": "stderr",
     "output_type": "stream",
     "text": [
      "\r",
      "MUSE:   3%|▎         | 130/5050 [00:02<01:59, 41.25it/s]"
     ]
    },
    {
     "name": "stderr",
     "output_type": "stream",
     "text": [
      "\r",
      "MUSE:   3%|▎         | 137/5050 [00:03<01:45, 46.48it/s]"
     ]
    },
    {
     "name": "stderr",
     "output_type": "stream",
     "text": [
      "\r",
      "MUSE:   3%|▎         | 143/5050 [00:03<01:42, 47.96it/s]"
     ]
    },
    {
     "name": "stderr",
     "output_type": "stream",
     "text": [
      "\r",
      "MUSE:   3%|▎         | 148/5050 [00:03<01:44, 47.10it/s]"
     ]
    },
    {
     "name": "stderr",
     "output_type": "stream",
     "text": [
      "\r",
      "MUSE:   3%|▎         | 153/5050 [00:03<01:43, 47.13it/s]"
     ]
    },
    {
     "name": "stderr",
     "output_type": "stream",
     "text": [
      "\r",
      "MUSE:   3%|▎         | 158/5050 [00:03<01:48, 45.27it/s]"
     ]
    },
    {
     "name": "stderr",
     "output_type": "stream",
     "text": [
      "\r",
      "MUSE:   3%|▎         | 164/5050 [00:03<01:45, 46.50it/s]"
     ]
    },
    {
     "name": "stderr",
     "output_type": "stream",
     "text": [
      "\r",
      "MUSE:   3%|▎         | 169/5050 [00:03<01:53, 43.18it/s]"
     ]
    },
    {
     "name": "stderr",
     "output_type": "stream",
     "text": [
      "\r",
      "MUSE:   3%|▎         | 174/5050 [00:03<02:01, 40.23it/s]"
     ]
    },
    {
     "name": "stderr",
     "output_type": "stream",
     "text": [
      "\r",
      "MUSE:   4%|▎         | 181/5050 [00:04<01:46, 45.93it/s]"
     ]
    },
    {
     "name": "stderr",
     "output_type": "stream",
     "text": [
      "\r",
      "MUSE:   4%|▎         | 186/5050 [00:04<01:47, 45.18it/s]"
     ]
    },
    {
     "name": "stderr",
     "output_type": "stream",
     "text": [
      "\r",
      "MUSE:   4%|▍         | 193/5050 [00:04<01:36, 50.47it/s]"
     ]
    },
    {
     "name": "stderr",
     "output_type": "stream",
     "text": [
      "\r",
      "MUSE:   4%|▍         | 199/5050 [00:04<01:34, 51.12it/s]"
     ]
    },
    {
     "name": "stderr",
     "output_type": "stream",
     "text": [
      "\r",
      "MUSE:   4%|▍         | 205/5050 [00:04<02:24, 33.52it/s]"
     ]
    },
    {
     "name": "stderr",
     "output_type": "stream",
     "text": [
      "\r",
      "MUSE:   4%|▍         | 212/5050 [00:04<02:02, 39.56it/s]"
     ]
    },
    {
     "name": "stderr",
     "output_type": "stream",
     "text": [
      "\r",
      "MUSE:   4%|▍         | 220/5050 [00:04<01:42, 47.14it/s]"
     ]
    },
    {
     "name": "stderr",
     "output_type": "stream",
     "text": [
      "\r",
      "MUSE:   5%|▍         | 228/5050 [00:04<01:28, 54.59it/s]"
     ]
    },
    {
     "name": "stderr",
     "output_type": "stream",
     "text": [
      "\r",
      "MUSE:   5%|▍         | 236/5050 [00:05<01:20, 59.80it/s]"
     ]
    },
    {
     "name": "stderr",
     "output_type": "stream",
     "text": [
      "\r",
      "MUSE:   5%|▍         | 243/5050 [00:05<01:17, 62.30it/s]"
     ]
    },
    {
     "name": "stderr",
     "output_type": "stream",
     "text": [
      "\r",
      "MUSE:   5%|▍         | 252/5050 [00:05<01:11, 66.78it/s]"
     ]
    },
    {
     "name": "stderr",
     "output_type": "stream",
     "text": [
      "\r",
      "MUSE:   5%|▌         | 260/5050 [00:05<01:13, 65.18it/s]"
     ]
    },
    {
     "name": "stderr",
     "output_type": "stream",
     "text": [
      "\r",
      "MUSE:   5%|▌         | 267/5050 [00:05<01:15, 63.48it/s]"
     ]
    },
    {
     "name": "stderr",
     "output_type": "stream",
     "text": [
      "\r",
      "MUSE:   5%|▌         | 274/5050 [00:05<01:16, 62.37it/s]"
     ]
    },
    {
     "name": "stderr",
     "output_type": "stream",
     "text": [
      "\r",
      "MUSE:   6%|▌         | 284/5050 [00:05<01:08, 69.23it/s]"
     ]
    },
    {
     "name": "stderr",
     "output_type": "stream",
     "text": [
      "\r",
      "MUSE:   6%|▌         | 292/5050 [00:05<01:14, 64.17it/s]"
     ]
    },
    {
     "name": "stderr",
     "output_type": "stream",
     "text": [
      "\r",
      "MUSE:   6%|▌         | 300/5050 [00:06<01:11, 66.70it/s]"
     ]
    },
    {
     "name": "stderr",
     "output_type": "stream",
     "text": [
      "\r",
      "MUSE:   6%|▌         | 307/5050 [00:06<01:50, 43.08it/s]"
     ]
    },
    {
     "name": "stderr",
     "output_type": "stream",
     "text": [
      "\r",
      "MUSE:   6%|▋         | 320/5050 [00:06<01:19, 59.41it/s]"
     ]
    },
    {
     "name": "stderr",
     "output_type": "stream",
     "text": [
      "\r",
      "MUSE:   7%|▋         | 330/5050 [00:06<01:09, 67.70it/s]"
     ]
    },
    {
     "name": "stderr",
     "output_type": "stream",
     "text": [
      "\r",
      "MUSE:   7%|▋         | 343/5050 [00:06<00:58, 80.33it/s]"
     ]
    },
    {
     "name": "stderr",
     "output_type": "stream",
     "text": [
      "\r",
      "MUSE:   7%|▋         | 355/5050 [00:06<00:52, 88.85it/s]"
     ]
    },
    {
     "name": "stderr",
     "output_type": "stream",
     "text": [
      "\r",
      "MUSE:   7%|▋         | 368/5050 [00:06<00:47, 97.94it/s]"
     ]
    },
    {
     "name": "stderr",
     "output_type": "stream",
     "text": [
      "\r",
      "MUSE:   8%|▊         | 380/5050 [00:06<00:45, 102.35it/s]"
     ]
    },
    {
     "name": "stderr",
     "output_type": "stream",
     "text": [
      "\r",
      "MUSE:   8%|▊         | 392/5050 [00:07<00:44, 105.33it/s]"
     ]
    },
    {
     "name": "stderr",
     "output_type": "stream",
     "text": [
      "\r",
      "MUSE:   8%|▊         | 403/5050 [00:07<00:45, 102.85it/s]"
     ]
    },
    {
     "name": "stderr",
     "output_type": "stream",
     "text": [
      "\r",
      "MUSE:   8%|▊         | 414/5050 [00:07<01:11, 64.73it/s] "
     ]
    },
    {
     "name": "stderr",
     "output_type": "stream",
     "text": [
      "\r",
      "MUSE:   9%|▊         | 432/5050 [00:07<00:53, 87.01it/s]"
     ]
    },
    {
     "name": "stderr",
     "output_type": "stream",
     "text": [
      "\r",
      "MUSE:   9%|▉         | 445/5050 [00:07<00:48, 94.32it/s]"
     ]
    },
    {
     "name": "stderr",
     "output_type": "stream",
     "text": [
      "\r",
      "MUSE:   9%|▉         | 462/5050 [00:07<00:41, 111.56it/s]"
     ]
    },
    {
     "name": "stderr",
     "output_type": "stream",
     "text": [
      "\r",
      "MUSE:   9%|▉         | 477/5050 [00:07<00:37, 120.91it/s]"
     ]
    },
    {
     "name": "stderr",
     "output_type": "stream",
     "text": [
      "\r",
      "MUSE:  10%|▉         | 491/5050 [00:08<00:36, 125.65it/s]"
     ]
    },
    {
     "name": "stderr",
     "output_type": "stream",
     "text": [
      "\r",
      "MUSE:  10%|█         | 506/5050 [00:08<00:57, 79.30it/s] "
     ]
    },
    {
     "name": "stderr",
     "output_type": "stream",
     "text": [
      "\r",
      "MUSE:  10%|█         | 517/5050 [00:08<00:55, 81.07it/s]"
     ]
    },
    {
     "name": "stderr",
     "output_type": "stream",
     "text": [
      "\r",
      "MUSE:  10%|█         | 528/5050 [00:08<00:52, 85.41it/s]"
     ]
    },
    {
     "name": "stderr",
     "output_type": "stream",
     "text": [
      "\r",
      "MUSE:  11%|█         | 547/5050 [00:08<00:42, 107.02it/s]"
     ]
    },
    {
     "name": "stderr",
     "output_type": "stream",
     "text": [
      "\r",
      "MUSE:  11%|█         | 560/5050 [00:08<00:41, 108.93it/s]"
     ]
    },
    {
     "name": "stderr",
     "output_type": "stream",
     "text": [
      "\r",
      "MUSE:  11%|█▏        | 576/5050 [00:08<00:36, 121.13it/s]"
     ]
    },
    {
     "name": "stderr",
     "output_type": "stream",
     "text": [
      "\r",
      "MUSE:  12%|█▏        | 592/5050 [00:09<00:34, 130.50it/s]"
     ]
    },
    {
     "name": "stderr",
     "output_type": "stream",
     "text": [
      "\r",
      "MUSE:  12%|█▏        | 606/5050 [00:09<00:33, 132.44it/s]"
     ]
    },
    {
     "name": "stderr",
     "output_type": "stream",
     "text": [
      "\r",
      "MUSE:  12%|█▏        | 620/5050 [00:09<00:52, 84.23it/s] "
     ]
    },
    {
     "name": "stderr",
     "output_type": "stream",
     "text": [
      "\r",
      "MUSE:  13%|█▎        | 635/5050 [00:09<00:45, 96.70it/s]"
     ]
    },
    {
     "name": "stderr",
     "output_type": "stream",
     "text": [
      "\r",
      "MUSE:  13%|█▎        | 653/5050 [00:09<00:38, 113.71it/s]"
     ]
    },
    {
     "name": "stderr",
     "output_type": "stream",
     "text": [
      "\r",
      "MUSE:  13%|█▎        | 672/5050 [00:09<00:33, 129.23it/s]"
     ]
    },
    {
     "name": "stderr",
     "output_type": "stream",
     "text": [
      "\r",
      "MUSE:  14%|█▎        | 690/5050 [00:09<00:30, 141.34it/s]"
     ]
    },
    {
     "name": "stderr",
     "output_type": "stream",
     "text": [
      "\r",
      "MUSE:  14%|█▍        | 708/5050 [00:10<00:46, 92.73it/s] "
     ]
    },
    {
     "name": "stderr",
     "output_type": "stream",
     "text": [
      "\r",
      "MUSE:  14%|█▍        | 725/5050 [00:10<00:40, 106.73it/s]"
     ]
    },
    {
     "name": "stderr",
     "output_type": "stream",
     "text": [
      "\r",
      "MUSE:  15%|█▍        | 746/5050 [00:10<00:33, 127.73it/s]"
     ]
    },
    {
     "name": "stderr",
     "output_type": "stream",
     "text": [
      "\r",
      "MUSE:  15%|█▌        | 763/5050 [00:10<00:32, 133.37it/s]"
     ]
    },
    {
     "name": "stderr",
     "output_type": "stream",
     "text": [
      "\r",
      "MUSE:  16%|█▌        | 783/5050 [00:10<00:28, 148.36it/s]"
     ]
    },
    {
     "name": "stderr",
     "output_type": "stream",
     "text": [
      "\r",
      "MUSE:  16%|█▌        | 803/5050 [00:10<00:26, 160.48it/s]"
     ]
    },
    {
     "name": "stderr",
     "output_type": "stream",
     "text": [
      "\r",
      "MUSE:  16%|█▋        | 821/5050 [00:11<00:40, 105.32it/s]"
     ]
    },
    {
     "name": "stderr",
     "output_type": "stream",
     "text": [
      "\r",
      "MUSE:  17%|█▋        | 847/5050 [00:11<00:31, 135.26it/s]"
     ]
    },
    {
     "name": "stderr",
     "output_type": "stream",
     "text": [
      "\r",
      "MUSE:  17%|█▋        | 874/5050 [00:11<00:25, 162.98it/s]"
     ]
    },
    {
     "name": "stderr",
     "output_type": "stream",
     "text": [
      "\r",
      "MUSE:  18%|█▊        | 897/5050 [00:11<00:23, 178.15it/s]"
     ]
    },
    {
     "name": "stderr",
     "output_type": "stream",
     "text": [
      "\r",
      "MUSE:  18%|█▊        | 918/5050 [00:11<00:35, 116.23it/s]"
     ]
    },
    {
     "name": "stderr",
     "output_type": "stream",
     "text": [
      "\r",
      "MUSE:  19%|█▉        | 976/5050 [00:11<00:20, 200.76it/s]"
     ]
    },
    {
     "name": "stderr",
     "output_type": "stream",
     "text": [
      "\r",
      "MUSE:  20%|██        | 1011/5050 [00:12<00:24, 162.94it/s]"
     ]
    },
    {
     "name": "stderr",
     "output_type": "stream",
     "text": [
      "\r",
      "MUSE:  21%|██        | 1069/5050 [00:12<00:17, 232.39it/s]"
     ]
    },
    {
     "name": "stderr",
     "output_type": "stream",
     "text": [
      "\r",
      "MUSE:  22%|██▏       | 1112/5050 [00:12<00:20, 188.19it/s]"
     ]
    },
    {
     "name": "stderr",
     "output_type": "stream",
     "text": [
      "\r",
      "MUSE:  23%|██▎       | 1157/5050 [00:12<00:16, 230.13it/s]"
     ]
    },
    {
     "name": "stderr",
     "output_type": "stream",
     "text": [
      "\r",
      "MUSE:  24%|██▍       | 1210/5050 [00:12<00:13, 285.67it/s]"
     ]
    },
    {
     "name": "stderr",
     "output_type": "stream",
     "text": [
      "\r",
      "MUSE:  25%|██▍       | 1249/5050 [00:13<00:18, 210.64it/s]"
     ]
    },
    {
     "name": "stderr",
     "output_type": "stream",
     "text": [
      "\r",
      "MUSE:  26%|██▌       | 1300/5050 [00:13<00:14, 261.69it/s]"
     ]
    },
    {
     "name": "stderr",
     "output_type": "stream",
     "text": [
      "\r",
      "MUSE:  26%|██▋       | 1337/5050 [00:13<00:18, 197.14it/s]"
     ]
    },
    {
     "name": "stderr",
     "output_type": "stream",
     "text": [
      "\r",
      "MUSE:  28%|██▊       | 1390/5050 [00:13<00:14, 251.41it/s]"
     ]
    },
    {
     "name": "stderr",
     "output_type": "stream",
     "text": [
      "\r",
      "MUSE:  28%|██▊       | 1427/5050 [00:13<00:18, 193.42it/s]"
     ]
    },
    {
     "name": "stderr",
     "output_type": "stream",
     "text": [
      "\r",
      "MUSE:  29%|██▉       | 1484/5050 [00:14<00:14, 253.71it/s]"
     ]
    },
    {
     "name": "stderr",
     "output_type": "stream",
     "text": [
      "\r",
      "MUSE:  30%|███       | 1522/5050 [00:14<00:17, 197.43it/s]"
     ]
    },
    {
     "name": "stderr",
     "output_type": "stream",
     "text": [
      "\r",
      "MUSE:  31%|███▏      | 1580/5050 [00:14<00:13, 258.18it/s]"
     ]
    },
    {
     "name": "stderr",
     "output_type": "stream",
     "text": [
      "\r",
      "MUSE: 100%|██████████| 5050/5050 [00:14<00:00, 4765.19it/s]"
     ]
    },
    {
     "name": "stderr",
     "output_type": "stream",
     "text": [
      "\r",
      "MUSE: 100%|██████████| 5050/5050 [00:14<00:00, 342.21it/s] "
     ]
    },
    {
     "name": "stderr",
     "output_type": "stream",
     "text": [
      "\n"
     ]
    },
    {
     "name": "stderr",
     "output_type": "stream",
     "text": [
      "\r",
      "get_H:   0%|          | 0/70 [00:00<?, ?it/s]"
     ]
    },
    {
     "name": "stderr",
     "output_type": "stream",
     "text": [
      "\r",
      "get_H:   6%|▌         | 4/70 [00:00<00:02, 28.77it/s]"
     ]
    },
    {
     "name": "stderr",
     "output_type": "stream",
     "text": [
      "\r",
      "get_H:  10%|█         | 7/70 [00:00<00:02, 25.49it/s]"
     ]
    },
    {
     "name": "stderr",
     "output_type": "stream",
     "text": [
      "\r",
      "get_H:  16%|█▌        | 11/70 [00:00<00:02, 27.39it/s]"
     ]
    },
    {
     "name": "stderr",
     "output_type": "stream",
     "text": [
      "\r",
      "get_H:  20%|██        | 14/70 [00:00<00:02, 26.76it/s]"
     ]
    },
    {
     "name": "stderr",
     "output_type": "stream",
     "text": [
      "\r",
      "get_H:  26%|██▌       | 18/70 [00:00<00:01, 29.43it/s]"
     ]
    },
    {
     "name": "stderr",
     "output_type": "stream",
     "text": [
      "\r",
      "get_H:  31%|███▏      | 22/70 [00:00<00:01, 31.29it/s]"
     ]
    },
    {
     "name": "stderr",
     "output_type": "stream",
     "text": [
      "\r",
      "get_H:  39%|███▊      | 27/70 [00:00<00:01, 34.36it/s]"
     ]
    },
    {
     "name": "stderr",
     "output_type": "stream",
     "text": [
      "\r",
      "get_H:  46%|████▌     | 32/70 [00:00<00:01, 37.32it/s]"
     ]
    },
    {
     "name": "stderr",
     "output_type": "stream",
     "text": [
      "\r",
      "get_H:  51%|█████▏    | 36/70 [00:01<00:01, 33.71it/s]"
     ]
    },
    {
     "name": "stderr",
     "output_type": "stream",
     "text": [
      "\r",
      "get_H:  57%|█████▋    | 40/70 [00:01<00:00, 32.12it/s]"
     ]
    },
    {
     "name": "stderr",
     "output_type": "stream",
     "text": [
      "\r",
      "get_H:  63%|██████▎   | 44/70 [00:01<00:00, 33.14it/s]"
     ]
    },
    {
     "name": "stderr",
     "output_type": "stream",
     "text": [
      "\r",
      "get_H:  69%|██████▊   | 48/70 [00:01<00:00, 31.95it/s]"
     ]
    },
    {
     "name": "stderr",
     "output_type": "stream",
     "text": [
      "\r",
      "get_H:  74%|███████▍  | 52/70 [00:01<00:00, 30.58it/s]"
     ]
    },
    {
     "name": "stderr",
     "output_type": "stream",
     "text": [
      "\r",
      "get_H:  80%|████████  | 56/70 [00:01<00:00, 30.59it/s]"
     ]
    },
    {
     "name": "stderr",
     "output_type": "stream",
     "text": [
      "\r",
      "get_H:  86%|████████▌ | 60/70 [00:01<00:00, 29.24it/s]"
     ]
    },
    {
     "name": "stderr",
     "output_type": "stream",
     "text": [
      "\r",
      "get_H:  90%|█████████ | 63/70 [00:02<00:00, 27.89it/s]"
     ]
    },
    {
     "name": "stderr",
     "output_type": "stream",
     "text": [
      "\r",
      "get_H:  97%|█████████▋| 68/70 [00:02<00:00, 30.07it/s]"
     ]
    },
    {
     "name": "stderr",
     "output_type": "stream",
     "text": [
      "\r",
      "get_H: 100%|██████████| 70/70 [00:02<00:00, 30.49it/s]"
     ]
    },
    {
     "name": "stderr",
     "output_type": "stream",
     "text": [
      "\n"
     ]
    }
   ],
   "source": [
    "params_start = dict(μ=[0.5, 0.5], θ=0)\n",
    "result = prob.solve(params_start, progress=True)"
   ]
  },
  {
   "cell_type": "markdown",
   "id": "32a1522e",
   "metadata": {},
   "source": [
    "When there are multiple parameters, the starting guess should be specified as as a dictionary, as above.\n",
    "\n",
    "The solution is returned as a 1-dimensional vector of all parameters concatenated in the order they appear in the model:"
   ]
  },
  {
   "cell_type": "code",
   "execution_count": 6,
   "id": "5e767c67",
   "metadata": {
    "execution": {
     "iopub.execute_input": "2022-06-04T07:50:57.589228Z",
     "iopub.status.busy": "2022-06-04T07:50:57.588947Z",
     "iopub.status.idle": "2022-06-04T07:50:57.635703Z",
     "shell.execute_reply": "2022-06-04T07:50:57.635054Z"
    }
   },
   "outputs": [
    {
     "data": {
      "text/plain": [
       "(array([0.33280948, 0.53253313, 0.79573946]),\n",
       " array([[ 0.01414019, -0.0039033 , -0.00140125],\n",
       "        [-0.0039033 ,  0.0323467 ,  0.00066521],\n",
       "        [-0.00140125,  0.00066521,  0.00243382]]))"
      ]
     },
     "execution_count": 6,
     "metadata": {},
     "output_type": "execute_result"
    }
   ],
   "source": [
    "result.θ, result.Σ"
   ]
  },
  {
   "cell_type": "markdown",
   "id": "54b67628",
   "metadata": {},
   "source": [
    "## Jax"
   ]
  },
  {
   "cell_type": "markdown",
   "id": "7615877d",
   "metadata": {},
   "source": [
    "We can also use [Jax](https://jax.readthedocs.io/) to define the problem. In this case we will write out function to generate forward samples and to compute the posterior, and Jax will provide necessary gradients for free. To use Jax, load the necessary packages:"
   ]
  },
  {
   "cell_type": "code",
   "execution_count": 7,
   "id": "b5b4be36",
   "metadata": {
    "execution": {
     "iopub.execute_input": "2022-06-04T07:50:57.640037Z",
     "iopub.status.busy": "2022-06-04T07:50:57.639599Z",
     "iopub.status.idle": "2022-06-04T07:50:58.033967Z",
     "shell.execute_reply": "2022-06-04T07:50:58.033059Z"
    }
   },
   "outputs": [],
   "source": [
    "from functools import partial\n",
    "import jax\n",
    "import jax.numpy as jnp\n",
    "from muse_inference.jax import JittableJaxMuseProblem, JaxMuseProblem\n",
    "from muse_inference import XZSample"
   ]
  },
  {
   "cell_type": "markdown",
   "id": "29b3f8cf",
   "metadata": {},
   "source": [
    "Let's implement the noisy funnel problem from the [Example](example.html) page. To do so, extend either `JaxMuseProblem`, or, if your code is able to be JIT compiled by Jax, extend `JittableJaxMuseProblem` and decorate the functions with `jax.jit`:"
   ]
  },
  {
   "cell_type": "code",
   "execution_count": 8,
   "id": "9ca7a819",
   "metadata": {
    "execution": {
     "iopub.execute_input": "2022-06-04T07:50:58.040140Z",
     "iopub.status.busy": "2022-06-04T07:50:58.038969Z",
     "iopub.status.idle": "2022-06-04T07:50:58.077432Z",
     "shell.execute_reply": "2022-06-04T07:50:58.074211Z"
    }
   },
   "outputs": [],
   "source": [
    "class JaxFunnelMuseProblem(JittableJaxMuseProblem):\n",
    "\n",
    "    def __init__(self, N):\n",
    "        super().__init__()\n",
    "        self.N = N\n",
    "\n",
    "    @partial(jax.jit, static_argnums=0)\n",
    "    def sample_x_z(self, key, θ):\n",
    "        keys = jax.random.split(key, 2)\n",
    "        z = jax.random.normal(keys[0], (self.N,)) * jnp.exp(θ/2)\n",
    "        x = z + jax.random.normal(keys[1], (self.N,))\n",
    "        return XZSample(x, z)\n",
    "\n",
    "    @partial(jax.jit, static_argnums=0)\n",
    "    def logLike(self, x, z, θ):\n",
    "        return -(jnp.sum((x - z)**2) + jnp.sum(z**2) / jnp.exp(θ) + 512*θ) / 2\n",
    "\n",
    "    @partial(jax.jit, static_argnums=0)\n",
    "    def logPrior(self, θ):\n",
    "        return -θ**2 / (2*3**2)"
   ]
  },
  {
   "cell_type": "markdown",
   "id": "76a18f44",
   "metadata": {},
   "source": [
    "Now generate some simulated data, which we set into `prob.x`. Note also the use of `PRNGKey` (rather than `RandomState` for PyMC/Numpy) for random number generation. "
   ]
  },
  {
   "cell_type": "code",
   "execution_count": 9,
   "id": "fa449147",
   "metadata": {
    "execution": {
     "iopub.execute_input": "2022-06-04T07:50:58.082599Z",
     "iopub.status.busy": "2022-06-04T07:50:58.082041Z",
     "iopub.status.idle": "2022-06-04T07:50:58.917692Z",
     "shell.execute_reply": "2022-06-04T07:50:58.916777Z"
    }
   },
   "outputs": [
    {
     "name": "stderr",
     "output_type": "stream",
     "text": [
      "WARNING:absl:No GPU/TPU found, falling back to CPU. (Set TF_CPP_MIN_LOG_LEVEL=0 and rerun for more info.)\n"
     ]
    }
   ],
   "source": [
    "prob = JaxFunnelMuseProblem(10000)\n",
    "key = jax.random.PRNGKey(0)\n",
    "(x, z) = prob.sample_x_z(key, 0)\n",
    "prob.x = x"
   ]
  },
  {
   "cell_type": "markdown",
   "id": "cab0e975",
   "metadata": {},
   "source": [
    "And finally, run MUSE:"
   ]
  },
  {
   "cell_type": "code",
   "execution_count": 10,
   "id": "665db417",
   "metadata": {
    "execution": {
     "iopub.execute_input": "2022-06-04T07:50:58.922164Z",
     "iopub.status.busy": "2022-06-04T07:50:58.921845Z",
     "iopub.status.idle": "2022-06-04T07:51:11.891822Z",
     "shell.execute_reply": "2022-06-04T07:51:11.890960Z"
    },
    "nbsphinx": "hidden",
    "tags": []
   },
   "outputs": [
    {
     "data": {
      "text/plain": [
       "<muse_inference.muse_inference.MuseResult at 0x7fd7f083e610>"
      ]
     },
     "execution_count": 10,
     "metadata": {},
     "output_type": "execute_result"
    }
   ],
   "source": [
    "prob.solve(θ_start=0., rng=jax.random.PRNGKey(1)) # warmup"
   ]
  },
  {
   "cell_type": "code",
   "execution_count": 11,
   "id": "a0c2b885",
   "metadata": {
    "execution": {
     "iopub.execute_input": "2022-06-04T07:51:11.896598Z",
     "iopub.status.busy": "2022-06-04T07:51:11.895884Z",
     "iopub.status.idle": "2022-06-04T07:51:13.111865Z",
     "shell.execute_reply": "2022-06-04T07:51:13.111017Z"
    }
   },
   "outputs": [
    {
     "name": "stderr",
     "output_type": "stream",
     "text": [
      "\r",
      "MUSE:   0%|          | 0/5050 [00:00<?, ?it/s]"
     ]
    },
    {
     "name": "stderr",
     "output_type": "stream",
     "text": [
      "\r",
      "MUSE:   2%|▏         | 102/5050 [00:00<00:07, 627.32it/s]"
     ]
    },
    {
     "name": "stderr",
     "output_type": "stream",
     "text": [
      "\r",
      "MUSE:   4%|▍         | 190/5050 [00:00<00:06, 743.95it/s]"
     ]
    },
    {
     "name": "stderr",
     "output_type": "stream",
     "text": [
      "\r",
      "MUSE:   5%|▌         | 268/5050 [00:00<00:08, 539.12it/s]"
     ]
    },
    {
     "name": "stderr",
     "output_type": "stream",
     "text": [
      "\r",
      "MUSE:   6%|▋         | 328/5050 [00:00<00:11, 428.92it/s]"
     ]
    },
    {
     "name": "stderr",
     "output_type": "stream",
     "text": [
      "\r",
      "MUSE:   8%|▊         | 381/5050 [00:00<00:10, 452.56it/s]"
     ]
    },
    {
     "name": "stderr",
     "output_type": "stream",
     "text": [
      "\r",
      "MUSE: 100%|██████████| 5050/5050 [00:00<00:00, 10300.23it/s]"
     ]
    },
    {
     "name": "stderr",
     "output_type": "stream",
     "text": [
      "\r",
      "MUSE: 100%|██████████| 5050/5050 [00:00<00:00, 5342.69it/s] "
     ]
    },
    {
     "name": "stderr",
     "output_type": "stream",
     "text": [
      "\n"
     ]
    },
    {
     "name": "stderr",
     "output_type": "stream",
     "text": [
      "\r",
      "get_H:   0%|          | 0/30 [00:00<?, ?it/s]"
     ]
    },
    {
     "name": "stderr",
     "output_type": "stream",
     "text": [
      "\r",
      "get_H:  87%|████████▋ | 26/30 [00:00<00:00, 256.74it/s]"
     ]
    },
    {
     "name": "stderr",
     "output_type": "stream",
     "text": [
      "\r",
      "get_H: 100%|██████████| 30/30 [00:00<00:00, 251.22it/s]"
     ]
    },
    {
     "name": "stderr",
     "output_type": "stream",
     "text": [
      "\n"
     ]
    }
   ],
   "source": [
    "result = prob.solve(θ_start=0., rng=jax.random.PRNGKey(1), progress=True)"
   ]
  },
  {
   "cell_type": "markdown",
   "id": "24915306",
   "metadata": {},
   "source": [
    "Note that the solution here is obtained around 10X faster that the PyMC version of this in the [Example](example.html) page (the 10X is not fully achieved on the cloud servers which build these docs, but you can see this if you run these examples locally). The Jax interface has much lower overhead, which will be noticeable for very fast posteriors like the one above. "
   ]
  },
  {
   "cell_type": "markdown",
   "id": "ebbcbaef",
   "metadata": {},
   "source": [
    "One powerful aspect of using Jax is that the parameters, `θ`, and latent space, `z`, can be any [pytree](https://jax.readthedocs.io/en/latest/pytrees.html), ie tuples, dictionaries, nested combinations of them, etc... (there is no requirement on the data format of the `x` variable). To demonstrate, consider a problem which is just two copies of the noisy funnel problem:"
   ]
  },
  {
   "cell_type": "code",
   "execution_count": 12,
   "id": "c309652b",
   "metadata": {
    "execution": {
     "iopub.execute_input": "2022-06-04T07:51:13.116572Z",
     "iopub.status.busy": "2022-06-04T07:51:13.115821Z",
     "iopub.status.idle": "2022-06-04T07:51:13.151102Z",
     "shell.execute_reply": "2022-06-04T07:51:13.150186Z"
    }
   },
   "outputs": [],
   "source": [
    "class JaxPyTreeFunnelMuseProblem(JittableJaxMuseProblem):\n",
    "\n",
    "    def __init__(self, N):\n",
    "        super().__init__()\n",
    "        self.N = N\n",
    "\n",
    "    @partial(jax.jit, static_argnums=0)\n",
    "    def sample_x_z(self, key, θ):\n",
    "        (θ1, θ2) = (θ[\"θ1\"], θ[\"θ2\"])\n",
    "        keys = jax.random.split(key, 4)\n",
    "        z1 = jax.random.normal(keys[0], (self.N,)) * jnp.exp(θ1/2)\n",
    "        z2 = jax.random.normal(keys[1], (self.N,)) * jnp.exp(θ2/2)        \n",
    "        x1 = z1 + jax.random.normal(keys[2], (self.N,))\n",
    "        x2 = z2 + jax.random.normal(keys[3], (self.N,))        \n",
    "        return XZSample(x={\"x1\":x1, \"x2\":x2}, z={\"z1\":z1, \"z2\":z2})\n",
    "\n",
    "    @partial(jax.jit, static_argnums=0)\n",
    "    def logLike(self, x, z, θ):\n",
    "        return (\n",
    "            -(jnp.sum((x[\"x1\"] - z[\"z1\"])**2) + jnp.sum(z[\"z1\"]**2) / jnp.exp(θ[\"θ1\"]) + 512*θ[\"θ1\"]) / 2\n",
    "            -(jnp.sum((x[\"x2\"] - z[\"z2\"])**2) + jnp.sum(z[\"z2\"]**2) / jnp.exp(θ[\"θ2\"]) + 512*θ[\"θ2\"]) / 2\n",
    "        )\n",
    "\n",
    "    @partial(jax.jit, static_argnums=0)\n",
    "    def logPrior(self, θ):\n",
    "        return - θ[\"θ1\"]**2 / (2*3**2) - θ[\"θ2\"]**2 / (2*3**2)"
   ]
  },
  {
   "cell_type": "markdown",
   "id": "c9ff4df9",
   "metadata": {},
   "source": [
    "Here, `x`, `θ`, and `z` are all dictionaries. We generate the problem as usual, passing in parameters as dictionaries,"
   ]
  },
  {
   "cell_type": "code",
   "execution_count": 13,
   "id": "bb35b704",
   "metadata": {
    "execution": {
     "iopub.execute_input": "2022-06-04T07:51:13.155786Z",
     "iopub.status.busy": "2022-06-04T07:51:13.155482Z",
     "iopub.status.idle": "2022-06-04T07:51:13.182250Z",
     "shell.execute_reply": "2022-06-04T07:51:13.181432Z"
    }
   },
   "outputs": [],
   "source": [
    "θ_true = dict(θ1=-1., θ2=2.)\n",
    "θ_start = dict(θ1=0., θ2=0.)"
   ]
  },
  {
   "cell_type": "code",
   "execution_count": 14,
   "id": "bca11f1a",
   "metadata": {
    "execution": {
     "iopub.execute_input": "2022-06-04T07:51:13.186219Z",
     "iopub.status.busy": "2022-06-04T07:51:13.185902Z",
     "iopub.status.idle": "2022-06-04T07:51:14.411876Z",
     "shell.execute_reply": "2022-06-04T07:51:14.410978Z"
    }
   },
   "outputs": [],
   "source": [
    "prob = JaxPyTreeFunnelMuseProblem(10000)\n",
    "key = jax.random.PRNGKey(0)\n",
    "(x, z) = prob.sample_x_z(key, θ_true)\n",
    "prob.x = x"
   ]
  },
  {
   "cell_type": "markdown",
   "id": "a038a95c",
   "metadata": {},
   "source": [
    "and run MUSE:"
   ]
  },
  {
   "cell_type": "code",
   "execution_count": 15,
   "id": "a19fdb07",
   "metadata": {
    "execution": {
     "iopub.execute_input": "2022-06-04T07:51:14.417211Z",
     "iopub.status.busy": "2022-06-04T07:51:14.416783Z",
     "iopub.status.idle": "2022-06-04T07:51:35.880690Z",
     "shell.execute_reply": "2022-06-04T07:51:35.879959Z"
    },
    "nbsphinx": "hidden",
    "tags": []
   },
   "outputs": [
    {
     "data": {
      "text/plain": [
       "<muse_inference.muse_inference.MuseResult at 0x7fd7ae16d6d0>"
      ]
     },
     "execution_count": 15,
     "metadata": {},
     "output_type": "execute_result"
    }
   ],
   "source": [
    "prob.solve(θ_start=θ_start, rng=jax.random.PRNGKey(0)) # warmup"
   ]
  },
  {
   "cell_type": "code",
   "execution_count": 16,
   "id": "55ca17b4",
   "metadata": {
    "execution": {
     "iopub.execute_input": "2022-06-04T07:51:35.886221Z",
     "iopub.status.busy": "2022-06-04T07:51:35.884865Z",
     "iopub.status.idle": "2022-06-04T07:51:45.189153Z",
     "shell.execute_reply": "2022-06-04T07:51:45.187961Z"
    }
   },
   "outputs": [
    {
     "name": "stderr",
     "output_type": "stream",
     "text": [
      "\r",
      "MUSE:   0%|          | 0/5050 [00:00<?, ?it/s]"
     ]
    },
    {
     "name": "stderr",
     "output_type": "stream",
     "text": [
      "\r",
      "MUSE:   2%|▏         | 93/5050 [00:00<00:05, 926.35it/s]"
     ]
    },
    {
     "name": "stderr",
     "output_type": "stream",
     "text": [
      "\r",
      "MUSE:   4%|▎         | 186/5050 [00:00<00:15, 309.47it/s]"
     ]
    },
    {
     "name": "stderr",
     "output_type": "stream",
     "text": [
      "\r",
      "MUSE:   5%|▍         | 237/5050 [00:00<00:22, 213.83it/s]"
     ]
    },
    {
     "name": "stderr",
     "output_type": "stream",
     "text": [
      "\r",
      "MUSE:   5%|▌         | 271/5050 [00:01<00:22, 212.32it/s]"
     ]
    },
    {
     "name": "stderr",
     "output_type": "stream",
     "text": [
      "\r",
      "MUSE:   6%|▌         | 300/5050 [00:01<00:22, 214.88it/s]"
     ]
    },
    {
     "name": "stderr",
     "output_type": "stream",
     "text": [
      "\r",
      "MUSE:   6%|▋         | 327/5050 [00:01<00:28, 163.21it/s]"
     ]
    },
    {
     "name": "stderr",
     "output_type": "stream",
     "text": [
      "\r",
      "MUSE:   7%|▋         | 352/5050 [00:01<00:26, 176.59it/s]"
     ]
    },
    {
     "name": "stderr",
     "output_type": "stream",
     "text": [
      "\r",
      "MUSE:   7%|▋         | 375/5050 [00:01<00:25, 186.15it/s]"
     ]
    },
    {
     "name": "stderr",
     "output_type": "stream",
     "text": [
      "\r",
      "MUSE:   8%|▊         | 397/5050 [00:01<00:24, 189.78it/s]"
     ]
    },
    {
     "name": "stderr",
     "output_type": "stream",
     "text": [
      "\r",
      "MUSE:   8%|▊         | 419/5050 [00:02<00:34, 133.93it/s]"
     ]
    },
    {
     "name": "stderr",
     "output_type": "stream",
     "text": [
      "\r",
      "MUSE:   9%|▊         | 439/5050 [00:02<00:31, 145.25it/s]"
     ]
    },
    {
     "name": "stderr",
     "output_type": "stream",
     "text": [
      "\r",
      "MUSE:   9%|▉         | 460/5050 [00:02<00:29, 157.97it/s]"
     ]
    },
    {
     "name": "stderr",
     "output_type": "stream",
     "text": [
      "\r",
      "MUSE:  10%|▉         | 481/5050 [00:02<00:27, 169.15it/s]"
     ]
    },
    {
     "name": "stderr",
     "output_type": "stream",
     "text": [
      "\r",
      "MUSE:  10%|▉         | 502/5050 [00:02<00:25, 179.10it/s]"
     ]
    },
    {
     "name": "stderr",
     "output_type": "stream",
     "text": [
      "\r",
      "MUSE:  10%|█         | 522/5050 [00:02<00:35, 126.12it/s]"
     ]
    },
    {
     "name": "stderr",
     "output_type": "stream",
     "text": [
      "\r",
      "MUSE:  11%|█         | 546/5050 [00:02<00:30, 147.94it/s]"
     ]
    },
    {
     "name": "stderr",
     "output_type": "stream",
     "text": [
      "\r",
      "MUSE:  11%|█▏        | 569/5050 [00:03<00:27, 164.86it/s]"
     ]
    },
    {
     "name": "stderr",
     "output_type": "stream",
     "text": [
      "\r",
      "MUSE:  12%|█▏        | 592/5050 [00:03<00:24, 179.65it/s]"
     ]
    },
    {
     "name": "stderr",
     "output_type": "stream",
     "text": [
      "\r",
      "MUSE:  12%|█▏        | 613/5050 [00:03<00:35, 126.63it/s]"
     ]
    },
    {
     "name": "stderr",
     "output_type": "stream",
     "text": [
      "\r",
      "MUSE:  13%|█▎        | 637/5050 [00:03<00:29, 148.01it/s]"
     ]
    },
    {
     "name": "stderr",
     "output_type": "stream",
     "text": [
      "\r",
      "MUSE:  13%|█▎        | 658/5050 [00:03<00:27, 161.19it/s]"
     ]
    },
    {
     "name": "stderr",
     "output_type": "stream",
     "text": [
      "\r",
      "MUSE:  13%|█▎        | 678/5050 [00:03<00:25, 170.25it/s]"
     ]
    },
    {
     "name": "stderr",
     "output_type": "stream",
     "text": [
      "\r",
      "MUSE:  14%|█▍        | 700/5050 [00:03<00:23, 182.44it/s]"
     ]
    },
    {
     "name": "stderr",
     "output_type": "stream",
     "text": [
      "\r",
      "MUSE:  14%|█▍        | 721/5050 [00:04<00:33, 128.02it/s]"
     ]
    },
    {
     "name": "stderr",
     "output_type": "stream",
     "text": [
      "\r",
      "MUSE:  15%|█▍        | 745/5050 [00:04<00:28, 149.60it/s]"
     ]
    },
    {
     "name": "stderr",
     "output_type": "stream",
     "text": [
      "\r",
      "MUSE:  15%|█▌        | 768/5050 [00:04<00:25, 166.34it/s]"
     ]
    },
    {
     "name": "stderr",
     "output_type": "stream",
     "text": [
      "\r",
      "MUSE:  16%|█▌        | 792/5050 [00:04<00:23, 182.83it/s]"
     ]
    },
    {
     "name": "stderr",
     "output_type": "stream",
     "text": [
      "\r",
      "MUSE:  16%|█▌        | 813/5050 [00:04<00:33, 124.98it/s]"
     ]
    },
    {
     "name": "stderr",
     "output_type": "stream",
     "text": [
      "\r",
      "MUSE:  16%|█▋        | 832/5050 [00:04<00:30, 137.03it/s]"
     ]
    },
    {
     "name": "stderr",
     "output_type": "stream",
     "text": [
      "\r",
      "MUSE:  17%|█▋        | 853/5050 [00:04<00:27, 151.89it/s]"
     ]
    },
    {
     "name": "stderr",
     "output_type": "stream",
     "text": [
      "\r",
      "MUSE:  17%|█▋        | 875/5050 [00:05<00:25, 166.76it/s]"
     ]
    },
    {
     "name": "stderr",
     "output_type": "stream",
     "text": [
      "\r",
      "MUSE:  18%|█▊        | 895/5050 [00:05<00:23, 174.22it/s]"
     ]
    },
    {
     "name": "stderr",
     "output_type": "stream",
     "text": [
      "\r",
      "MUSE:  18%|█▊        | 915/5050 [00:05<00:36, 112.13it/s]"
     ]
    },
    {
     "name": "stderr",
     "output_type": "stream",
     "text": [
      "\r",
      "MUSE:  19%|█▊        | 936/5050 [00:05<00:31, 130.39it/s]"
     ]
    },
    {
     "name": "stderr",
     "output_type": "stream",
     "text": [
      "\r",
      "MUSE:  19%|█▉        | 953/5050 [00:05<00:30, 133.66it/s]"
     ]
    },
    {
     "name": "stderr",
     "output_type": "stream",
     "text": [
      "\r",
      "MUSE:  19%|█▉        | 972/5050 [00:05<00:27, 146.32it/s]"
     ]
    },
    {
     "name": "stderr",
     "output_type": "stream",
     "text": [
      "\r",
      "MUSE:  20%|█▉        | 993/5050 [00:05<00:25, 160.63it/s]"
     ]
    },
    {
     "name": "stderr",
     "output_type": "stream",
     "text": [
      "\r",
      "MUSE:  20%|██        | 1012/5050 [00:06<00:37, 109.11it/s]"
     ]
    },
    {
     "name": "stderr",
     "output_type": "stream",
     "text": [
      "\r",
      "MUSE:  21%|██        | 1041/5050 [00:06<00:27, 143.85it/s]"
     ]
    },
    {
     "name": "stderr",
     "output_type": "stream",
     "text": [
      "\r",
      "MUSE:  21%|██        | 1070/5050 [00:06<00:22, 175.13it/s]"
     ]
    },
    {
     "name": "stderr",
     "output_type": "stream",
     "text": [
      "\r",
      "MUSE:  22%|██▏       | 1096/5050 [00:06<00:20, 193.91it/s]"
     ]
    },
    {
     "name": "stderr",
     "output_type": "stream",
     "text": [
      "\r",
      "MUSE:  22%|██▏       | 1119/5050 [00:06<00:28, 135.59it/s]"
     ]
    },
    {
     "name": "stderr",
     "output_type": "stream",
     "text": [
      "\r",
      "MUSE:  23%|██▎       | 1151/5050 [00:06<00:22, 170.44it/s]"
     ]
    },
    {
     "name": "stderr",
     "output_type": "stream",
     "text": [
      "\r",
      "MUSE:  24%|██▎       | 1188/5050 [00:07<00:18, 209.29it/s]"
     ]
    },
    {
     "name": "stderr",
     "output_type": "stream",
     "text": [
      "\r",
      "MUSE:  24%|██▍       | 1214/5050 [00:07<00:23, 160.25it/s]"
     ]
    },
    {
     "name": "stderr",
     "output_type": "stream",
     "text": [
      "\r",
      "MUSE:  25%|██▍       | 1251/5050 [00:07<00:18, 200.69it/s]"
     ]
    },
    {
     "name": "stderr",
     "output_type": "stream",
     "text": [
      "\r",
      "MUSE:  26%|██▌       | 1289/5050 [00:07<00:15, 238.96it/s]"
     ]
    },
    {
     "name": "stderr",
     "output_type": "stream",
     "text": [
      "\r",
      "MUSE:  26%|██▌       | 1319/5050 [00:07<00:20, 183.62it/s]"
     ]
    },
    {
     "name": "stderr",
     "output_type": "stream",
     "text": [
      "\r",
      "MUSE:  27%|██▋       | 1363/5050 [00:07<00:15, 231.67it/s]"
     ]
    },
    {
     "name": "stderr",
     "output_type": "stream",
     "text": [
      "\r",
      "MUSE:  28%|██▊       | 1403/5050 [00:07<00:13, 267.48it/s]"
     ]
    },
    {
     "name": "stderr",
     "output_type": "stream",
     "text": [
      "\r",
      "MUSE:  28%|██▊       | 1436/5050 [00:08<00:18, 195.25it/s]"
     ]
    },
    {
     "name": "stderr",
     "output_type": "stream",
     "text": [
      "\r",
      "MUSE:  29%|██▉       | 1467/5050 [00:08<00:16, 215.81it/s]"
     ]
    },
    {
     "name": "stderr",
     "output_type": "stream",
     "text": [
      "\r",
      "MUSE:  30%|██▉       | 1495/5050 [00:08<00:15, 229.00it/s]"
     ]
    },
    {
     "name": "stderr",
     "output_type": "stream",
     "text": [
      "\r",
      "MUSE: 100%|██████████| 5050/5050 [00:08<00:00, 6313.93it/s]"
     ]
    },
    {
     "name": "stderr",
     "output_type": "stream",
     "text": [
      "\r",
      "MUSE: 100%|██████████| 5050/5050 [00:08<00:00, 580.71it/s] "
     ]
    },
    {
     "name": "stderr",
     "output_type": "stream",
     "text": [
      "\n"
     ]
    },
    {
     "name": "stderr",
     "output_type": "stream",
     "text": [
      "\r",
      "get_H:   0%|          | 0/50 [00:00<?, ?it/s]"
     ]
    },
    {
     "name": "stderr",
     "output_type": "stream",
     "text": [
      "\r",
      "get_H:  32%|███▏      | 16/50 [00:00<00:00, 155.39it/s]"
     ]
    },
    {
     "name": "stderr",
     "output_type": "stream",
     "text": [
      "\r",
      "get_H:  64%|██████▍   | 32/50 [00:00<00:00, 135.76it/s]"
     ]
    },
    {
     "name": "stderr",
     "output_type": "stream",
     "text": [
      "\r",
      "get_H:  94%|█████████▍| 47/50 [00:00<00:00, 138.56it/s]"
     ]
    },
    {
     "name": "stderr",
     "output_type": "stream",
     "text": [
      "\r",
      "get_H: 100%|██████████| 50/50 [00:00<00:00, 138.65it/s]"
     ]
    },
    {
     "name": "stderr",
     "output_type": "stream",
     "text": [
      "\n"
     ]
    }
   ],
   "source": [
    "result = prob.solve(θ_start=θ_start, rng=jax.random.PRNGKey(0), progress=True)"
   ]
  },
  {
   "cell_type": "markdown",
   "id": "0ef3baf4",
   "metadata": {},
   "source": [
    "The result is returned as a dictionary:"
   ]
  },
  {
   "cell_type": "code",
   "execution_count": 17,
   "id": "b397d174",
   "metadata": {
    "execution": {
     "iopub.execute_input": "2022-06-04T07:51:45.192975Z",
     "iopub.status.busy": "2022-06-04T07:51:45.192585Z",
     "iopub.status.idle": "2022-06-04T07:51:45.228701Z",
     "shell.execute_reply": "2022-06-04T07:51:45.228029Z"
    }
   },
   "outputs": [
    {
     "data": {
      "text/plain": [
       "{'θ1': DeviceArray(-1.0030082, dtype=float32),\n",
       " 'θ2': DeviceArray(2.0271263, dtype=float32)}"
      ]
     },
     "execution_count": 17,
     "metadata": {},
     "output_type": "execute_result"
    }
   ],
   "source": [
    "result.θ"
   ]
  },
  {
   "cell_type": "markdown",
   "id": "178cdbfc",
   "metadata": {},
   "source": [
    "and the covariance as a matrix:"
   ]
  },
  {
   "cell_type": "code",
   "execution_count": 18,
   "id": "184f2a84",
   "metadata": {
    "execution": {
     "iopub.execute_input": "2022-06-04T07:51:45.232904Z",
     "iopub.status.busy": "2022-06-04T07:51:45.232231Z",
     "iopub.status.idle": "2022-06-04T07:51:45.265445Z",
     "shell.execute_reply": "2022-06-04T07:51:45.264526Z"
    }
   },
   "outputs": [
    {
     "data": {
      "text/plain": [
       "array([[ 3.3970999e-03, -3.8145434e-05],\n",
       "       [-3.8145430e-05,  2.4442433e-04]], dtype=float32)"
      ]
     },
     "execution_count": 18,
     "metadata": {},
     "output_type": "execute_result"
    }
   ],
   "source": [
    "result.Σ"
   ]
  }
 ],
 "metadata": {
  "jupytext": {
   "text_representation": {
    "extension": ".md",
    "format_name": "markdown",
    "format_version": "1.3",
    "jupytext_version": "1.13.8"
   }
  },
  "kernelspec": {
   "display_name": "Python 3.9.7 ('.venv': poetry)",
   "language": "python",
   "name": "python3"
  },
  "language_info": {
   "codemirror_mode": {
    "name": "ipython",
    "version": 3
   },
   "file_extension": ".py",
   "mimetype": "text/x-python",
   "name": "python",
   "nbconvert_exporter": "python",
   "pygments_lexer": "ipython3",
   "version": "3.9.13"
  }
 },
 "nbformat": 4,
 "nbformat_minor": 5
}
