{
 "cells": [
  {
   "cell_type": "markdown",
   "id": "15435cb2",
   "metadata": {},
   "source": [
    "# User API"
   ]
  },
  {
   "cell_type": "code",
   "execution_count": 1,
   "id": "67a4b6cf",
   "metadata": {
    "execution": {
     "iopub.execute_input": "2022-06-05T08:38:35.885828Z",
     "iopub.status.busy": "2022-06-05T08:38:35.885525Z",
     "iopub.status.idle": "2022-06-05T08:38:35.913634Z",
     "shell.execute_reply": "2022-06-05T08:38:35.912925Z"
    },
    "nbsphinx": "hidden",
    "tags": []
   },
   "outputs": [],
   "source": [
    "%config InlineBackend.print_figure_kwargs = {'bbox_inches': 'tight', 'dpi': 110}\n",
    "%load_ext autoreload\n",
    "%autoreload 2\n",
    "import logging, warnings\n",
    "logging.getLogger(\"pymc\").setLevel(logging.FATAL)\n",
    "warnings.filterwarnings(\"ignore\")"
   ]
  },
  {
   "cell_type": "markdown",
   "id": "c3254662",
   "metadata": {},
   "source": [
    "## PyMC"
   ]
  },
  {
   "cell_type": "markdown",
   "id": "1fbe43e9",
   "metadata": {},
   "source": [
    "The [Example](example.html) page introduces how to use *muse-inference* for a problem defined with PyMC. Here we consider a more complex problem to highlight additional features. In particular:\n",
    "\n",
    "* We can estimate any number of parameters with any shapes. Here we have a 2-dimensional array $\\mu$ and a scalar $\\theta$. Note that by default, *muse-inference* considers any variables which do not depend on others as \"parameters\" (i.e. the \"leaves\" of the probabilistic graph). However, the algorithm is not limited to such parameters, and any choice can be selected by providing a list of `params` to the `PyMCMuseProblem` constructor.\n",
    "\n",
    "* We can work with distributions with limited domain support. For example, below we use the $\\rm Beta$ distribution with support on $(0,1)$ and the $\\rm LogNormal$ distribution with support on $(0,\\infty)$. All necessary transformations are handled internally.\n",
    "\n",
    "* The data and latent space can include any number of variables, with any shapes. Below we demonstrate an $x$ and $z$ which are 2-dimensional arrays. \n",
    "\n",
    "First, load the relevant packages:"
   ]
  },
  {
   "cell_type": "code",
   "execution_count": 2,
   "id": "9bfd3683",
   "metadata": {
    "execution": {
     "iopub.execute_input": "2022-06-05T08:38:35.917576Z",
     "iopub.status.busy": "2022-06-05T08:38:35.917303Z",
     "iopub.status.idle": "2022-06-05T08:38:38.128817Z",
     "shell.execute_reply": "2022-06-05T08:38:38.127637Z"
    }
   },
   "outputs": [
    {
     "name": "stdout",
     "output_type": "stream",
     "text": [
      "Populating the interactive namespace from numpy and matplotlib\n"
     ]
    }
   ],
   "source": [
    "%pylab inline\n",
    "import pymc as pm\n",
    "from muse_inference.pymc import PyMCMuseProblem"
   ]
  },
  {
   "cell_type": "markdown",
   "id": "04d9077a",
   "metadata": {},
   "source": [
    "Then define the problem,"
   ]
  },
  {
   "cell_type": "code",
   "execution_count": 3,
   "id": "d6551636",
   "metadata": {
    "execution": {
     "iopub.execute_input": "2022-06-05T08:38:38.134026Z",
     "iopub.status.busy": "2022-06-05T08:38:38.133527Z",
     "iopub.status.idle": "2022-06-05T08:38:38.159546Z",
     "shell.execute_reply": "2022-06-05T08:38:38.158814Z"
    }
   },
   "outputs": [],
   "source": [
    "def gen_funnel(x=None, σ=None, μ=None, rng=None):\n",
    "    with pm.Model(rng_seeder=rng) as model:\n",
    "        μ = pm.Beta(\"μ\", 2, 5, size=2) if μ is None else μ\n",
    "        σ = pm.Normal(\"σ\", 0, 3) if σ is None else σ\n",
    "        z = pm.LogNormal(\"z\", μ, np.exp(σ/2), size=(100, 2))\n",
    "        x = pm.Normal(\"x\", z, 1, observed=x)\n",
    "    return model"
   ]
  },
  {
   "cell_type": "markdown",
   "id": "92c7c84c",
   "metadata": {},
   "source": [
    "generate the model and some data, given some chosen true values of parameters,"
   ]
  },
  {
   "cell_type": "code",
   "execution_count": 4,
   "id": "96ed997a",
   "metadata": {
    "execution": {
     "iopub.execute_input": "2022-06-05T08:38:38.163509Z",
     "iopub.status.busy": "2022-06-05T08:38:38.163224Z",
     "iopub.status.idle": "2022-06-05T08:39:35.964929Z",
     "shell.execute_reply": "2022-06-05T08:39:35.963800Z"
    }
   },
   "outputs": [],
   "source": [
    "θ_true = dict(μ=[0.3, 0.7], σ=1)\n",
    "x_obs = pm.sample_prior_predictive(1, gen_funnel(rng=RandomState(0), **θ_true)).prior.x[0,0]\n",
    "model = gen_funnel(x=x_obs)\n",
    "prob = PyMCMuseProblem(model)"
   ]
  },
  {
   "cell_type": "markdown",
   "id": "24b322a6",
   "metadata": {},
   "source": [
    "and finally, run MUSE:"
   ]
  },
  {
   "cell_type": "code",
   "execution_count": 5,
   "id": "b7b7b03d",
   "metadata": {
    "execution": {
     "iopub.execute_input": "2022-06-05T08:39:35.970387Z",
     "iopub.status.busy": "2022-06-05T08:39:35.970073Z",
     "iopub.status.idle": "2022-06-05T08:39:48.785152Z",
     "shell.execute_reply": "2022-06-05T08:39:48.784420Z"
    }
   },
   "outputs": [
    {
     "name": "stderr",
     "output_type": "stream",
     "text": [
      "\r",
      "MUSE:   0%|          | 0/5050 [00:00<?, ?it/s]"
     ]
    },
    {
     "name": "stderr",
     "output_type": "stream",
     "text": [
      "\r",
      "MUSE:   0%|          | 7/5050 [00:00<01:17, 65.21it/s]"
     ]
    },
    {
     "name": "stderr",
     "output_type": "stream",
     "text": [
      "\r",
      "MUSE:   0%|          | 14/5050 [00:00<01:21, 61.60it/s]"
     ]
    },
    {
     "name": "stderr",
     "output_type": "stream",
     "text": [
      "\r",
      "MUSE:   0%|          | 22/5050 [00:00<01:15, 66.50it/s]"
     ]
    },
    {
     "name": "stderr",
     "output_type": "stream",
     "text": [
      "\r",
      "MUSE:   1%|          | 29/5050 [00:00<01:14, 67.01it/s]"
     ]
    },
    {
     "name": "stderr",
     "output_type": "stream",
     "text": [
      "\r",
      "MUSE:   1%|          | 38/5050 [00:00<01:08, 73.35it/s]"
     ]
    },
    {
     "name": "stderr",
     "output_type": "stream",
     "text": [
      "\r",
      "MUSE:   1%|          | 48/5050 [00:00<01:02, 80.08it/s]"
     ]
    },
    {
     "name": "stderr",
     "output_type": "stream",
     "text": [
      "\r",
      "MUSE:   1%|          | 57/5050 [00:00<01:02, 79.44it/s]"
     ]
    },
    {
     "name": "stderr",
     "output_type": "stream",
     "text": [
      "\r",
      "MUSE:   1%|▏         | 65/5050 [00:00<01:04, 76.99it/s]"
     ]
    },
    {
     "name": "stderr",
     "output_type": "stream",
     "text": [
      "\r",
      "MUSE:   1%|▏         | 73/5050 [00:00<01:05, 75.68it/s]"
     ]
    },
    {
     "name": "stderr",
     "output_type": "stream",
     "text": [
      "\r",
      "MUSE:   2%|▏         | 81/5050 [00:01<01:09, 71.45it/s]"
     ]
    },
    {
     "name": "stderr",
     "output_type": "stream",
     "text": [
      "\r",
      "MUSE:   2%|▏         | 89/5050 [00:01<01:08, 72.86it/s]"
     ]
    },
    {
     "name": "stderr",
     "output_type": "stream",
     "text": [
      "\r",
      "MUSE:   2%|▏         | 97/5050 [00:01<01:08, 72.58it/s]"
     ]
    },
    {
     "name": "stderr",
     "output_type": "stream",
     "text": [
      "\r",
      "MUSE:   2%|▏         | 105/5050 [00:01<01:59, 41.28it/s]"
     ]
    },
    {
     "name": "stderr",
     "output_type": "stream",
     "text": [
      "\r",
      "MUSE:   2%|▏         | 111/5050 [00:01<01:53, 43.34it/s]"
     ]
    },
    {
     "name": "stderr",
     "output_type": "stream",
     "text": [
      "\r",
      "MUSE:   2%|▏         | 117/5050 [00:01<01:48, 45.47it/s]"
     ]
    },
    {
     "name": "stderr",
     "output_type": "stream",
     "text": [
      "\r",
      "MUSE:   2%|▏         | 123/5050 [00:02<01:51, 44.07it/s]"
     ]
    },
    {
     "name": "stderr",
     "output_type": "stream",
     "text": [
      "\r",
      "MUSE:   3%|▎         | 129/5050 [00:02<01:48, 45.42it/s]"
     ]
    },
    {
     "name": "stderr",
     "output_type": "stream",
     "text": [
      "\r",
      "MUSE:   3%|▎         | 135/5050 [00:02<01:40, 48.76it/s]"
     ]
    },
    {
     "name": "stderr",
     "output_type": "stream",
     "text": [
      "\r",
      "MUSE:   3%|▎         | 141/5050 [00:02<01:42, 47.91it/s]"
     ]
    },
    {
     "name": "stderr",
     "output_type": "stream",
     "text": [
      "\r",
      "MUSE:   3%|▎         | 148/5050 [00:02<01:32, 53.14it/s]"
     ]
    },
    {
     "name": "stderr",
     "output_type": "stream",
     "text": [
      "\r",
      "MUSE:   3%|▎         | 154/5050 [00:02<01:31, 53.65it/s]"
     ]
    },
    {
     "name": "stderr",
     "output_type": "stream",
     "text": [
      "\r",
      "MUSE:   3%|▎         | 160/5050 [00:02<01:34, 51.84it/s]"
     ]
    },
    {
     "name": "stderr",
     "output_type": "stream",
     "text": [
      "\r",
      "MUSE:   3%|▎         | 166/5050 [00:02<01:35, 51.25it/s]"
     ]
    },
    {
     "name": "stderr",
     "output_type": "stream",
     "text": [
      "\r",
      "MUSE:   3%|▎         | 172/5050 [00:03<01:34, 51.52it/s]"
     ]
    },
    {
     "name": "stderr",
     "output_type": "stream",
     "text": [
      "\r",
      "MUSE:   4%|▎         | 178/5050 [00:03<01:31, 53.08it/s]"
     ]
    },
    {
     "name": "stderr",
     "output_type": "stream",
     "text": [
      "\r",
      "MUSE:   4%|▎         | 185/5050 [00:03<01:28, 55.07it/s]"
     ]
    },
    {
     "name": "stderr",
     "output_type": "stream",
     "text": [
      "\r",
      "MUSE:   4%|▍         | 191/5050 [00:03<01:31, 53.30it/s]"
     ]
    },
    {
     "name": "stderr",
     "output_type": "stream",
     "text": [
      "\r",
      "MUSE:   4%|▍         | 197/5050 [00:03<01:32, 52.28it/s]"
     ]
    },
    {
     "name": "stderr",
     "output_type": "stream",
     "text": [
      "\r",
      "MUSE:   4%|▍         | 203/5050 [00:03<02:23, 33.67it/s]"
     ]
    },
    {
     "name": "stderr",
     "output_type": "stream",
     "text": [
      "\r",
      "MUSE:   4%|▍         | 212/5050 [00:03<01:52, 43.19it/s]"
     ]
    },
    {
     "name": "stderr",
     "output_type": "stream",
     "text": [
      "\r",
      "MUSE:   4%|▍         | 219/5050 [00:04<01:39, 48.47it/s]"
     ]
    },
    {
     "name": "stderr",
     "output_type": "stream",
     "text": [
      "\r",
      "MUSE:   4%|▍         | 226/5050 [00:04<01:34, 50.88it/s]"
     ]
    },
    {
     "name": "stderr",
     "output_type": "stream",
     "text": [
      "\r",
      "MUSE:   5%|▍         | 233/5050 [00:04<01:29, 53.77it/s]"
     ]
    },
    {
     "name": "stderr",
     "output_type": "stream",
     "text": [
      "\r",
      "MUSE:   5%|▍         | 241/5050 [00:04<01:19, 60.23it/s]"
     ]
    },
    {
     "name": "stderr",
     "output_type": "stream",
     "text": [
      "\r",
      "MUSE:   5%|▍         | 251/5050 [00:04<01:09, 68.70it/s]"
     ]
    },
    {
     "name": "stderr",
     "output_type": "stream",
     "text": [
      "\r",
      "MUSE:   5%|▌         | 260/5050 [00:04<01:06, 72.04it/s]"
     ]
    },
    {
     "name": "stderr",
     "output_type": "stream",
     "text": [
      "\r",
      "MUSE:   5%|▌         | 269/5050 [00:04<01:03, 74.72it/s]"
     ]
    },
    {
     "name": "stderr",
     "output_type": "stream",
     "text": [
      "\r",
      "MUSE:   5%|▌         | 277/5050 [00:04<01:08, 70.18it/s]"
     ]
    },
    {
     "name": "stderr",
     "output_type": "stream",
     "text": [
      "\r",
      "MUSE:   6%|▌         | 285/5050 [00:04<01:10, 67.96it/s]"
     ]
    },
    {
     "name": "stderr",
     "output_type": "stream",
     "text": [
      "\r",
      "MUSE:   6%|▌         | 292/5050 [00:05<01:10, 67.23it/s]"
     ]
    },
    {
     "name": "stderr",
     "output_type": "stream",
     "text": [
      "\r",
      "MUSE:   6%|▌         | 301/5050 [00:05<01:05, 72.88it/s]"
     ]
    },
    {
     "name": "stderr",
     "output_type": "stream",
     "text": [
      "\r",
      "MUSE:   6%|▌         | 309/5050 [00:05<01:42, 46.45it/s]"
     ]
    },
    {
     "name": "stderr",
     "output_type": "stream",
     "text": [
      "\r",
      "MUSE:   6%|▋         | 323/5050 [00:05<01:13, 64.61it/s]"
     ]
    },
    {
     "name": "stderr",
     "output_type": "stream",
     "text": [
      "\r",
      "MUSE:   7%|▋         | 337/5050 [00:05<00:58, 80.60it/s]"
     ]
    },
    {
     "name": "stderr",
     "output_type": "stream",
     "text": [
      "\r",
      "MUSE:   7%|▋         | 351/5050 [00:05<00:49, 94.46it/s]"
     ]
    },
    {
     "name": "stderr",
     "output_type": "stream",
     "text": [
      "\r",
      "MUSE:   7%|▋         | 365/5050 [00:05<00:44, 105.48it/s]"
     ]
    },
    {
     "name": "stderr",
     "output_type": "stream",
     "text": [
      "\r",
      "MUSE:   7%|▋         | 377/5050 [00:06<00:43, 106.62it/s]"
     ]
    },
    {
     "name": "stderr",
     "output_type": "stream",
     "text": [
      "\r",
      "MUSE:   8%|▊         | 394/5050 [00:06<00:37, 123.05it/s]"
     ]
    },
    {
     "name": "stderr",
     "output_type": "stream",
     "text": [
      "\r",
      "MUSE:   8%|▊         | 408/5050 [00:06<01:01, 75.11it/s] "
     ]
    },
    {
     "name": "stderr",
     "output_type": "stream",
     "text": [
      "\r",
      "MUSE:   8%|▊         | 422/5050 [00:06<00:53, 86.25it/s]"
     ]
    },
    {
     "name": "stderr",
     "output_type": "stream",
     "text": [
      "\r",
      "MUSE:   9%|▊         | 436/5050 [00:06<00:48, 96.04it/s]"
     ]
    },
    {
     "name": "stderr",
     "output_type": "stream",
     "text": [
      "\r",
      "MUSE:   9%|▉         | 453/5050 [00:06<00:40, 112.47it/s]"
     ]
    },
    {
     "name": "stderr",
     "output_type": "stream",
     "text": [
      "\r",
      "MUSE:   9%|▉         | 467/5050 [00:06<00:40, 113.05it/s]"
     ]
    },
    {
     "name": "stderr",
     "output_type": "stream",
     "text": [
      "\r",
      "MUSE:  10%|▉         | 481/5050 [00:07<00:38, 118.31it/s]"
     ]
    },
    {
     "name": "stderr",
     "output_type": "stream",
     "text": [
      "\r",
      "MUSE:  10%|▉         | 494/5050 [00:07<00:38, 118.24it/s]"
     ]
    },
    {
     "name": "stderr",
     "output_type": "stream",
     "text": [
      "\r",
      "MUSE:  10%|█         | 507/5050 [00:07<01:00, 74.82it/s] "
     ]
    },
    {
     "name": "stderr",
     "output_type": "stream",
     "text": [
      "\r",
      "MUSE:  10%|█         | 525/5050 [00:07<00:47, 94.39it/s]"
     ]
    },
    {
     "name": "stderr",
     "output_type": "stream",
     "text": [
      "\r",
      "MUSE:  11%|█         | 543/5050 [00:07<00:40, 111.99it/s]"
     ]
    },
    {
     "name": "stderr",
     "output_type": "stream",
     "text": [
      "\r",
      "MUSE:  11%|█         | 560/5050 [00:07<00:36, 122.93it/s]"
     ]
    },
    {
     "name": "stderr",
     "output_type": "stream",
     "text": [
      "\r",
      "MUSE:  11%|█▏        | 575/5050 [00:07<00:34, 128.86it/s]"
     ]
    },
    {
     "name": "stderr",
     "output_type": "stream",
     "text": [
      "\r",
      "MUSE:  12%|█▏        | 594/5050 [00:07<00:31, 143.09it/s]"
     ]
    },
    {
     "name": "stderr",
     "output_type": "stream",
     "text": [
      "\r",
      "MUSE:  12%|█▏        | 610/5050 [00:08<00:50, 87.95it/s] "
     ]
    },
    {
     "name": "stderr",
     "output_type": "stream",
     "text": [
      "\r",
      "MUSE:  12%|█▏        | 626/5050 [00:08<00:43, 101.18it/s]"
     ]
    },
    {
     "name": "stderr",
     "output_type": "stream",
     "text": [
      "\r",
      "MUSE:  13%|█▎        | 641/5050 [00:08<00:40, 109.25it/s]"
     ]
    },
    {
     "name": "stderr",
     "output_type": "stream",
     "text": [
      "\r",
      "MUSE:  13%|█▎        | 656/5050 [00:08<00:37, 116.11it/s]"
     ]
    },
    {
     "name": "stderr",
     "output_type": "stream",
     "text": [
      "\r",
      "MUSE:  13%|█▎        | 674/5050 [00:08<00:33, 130.93it/s]"
     ]
    },
    {
     "name": "stderr",
     "output_type": "stream",
     "text": [
      "\r",
      "MUSE:  14%|█▍        | 695/5050 [00:08<00:28, 150.31it/s]"
     ]
    },
    {
     "name": "stderr",
     "output_type": "stream",
     "text": [
      "\r",
      "MUSE:  14%|█▍        | 712/5050 [00:09<00:44, 97.30it/s] "
     ]
    },
    {
     "name": "stderr",
     "output_type": "stream",
     "text": [
      "\r",
      "MUSE:  14%|█▍        | 729/5050 [00:09<00:39, 109.82it/s]"
     ]
    },
    {
     "name": "stderr",
     "output_type": "stream",
     "text": [
      "\r",
      "MUSE:  15%|█▍        | 753/5050 [00:09<00:31, 137.41it/s]"
     ]
    },
    {
     "name": "stderr",
     "output_type": "stream",
     "text": [
      "\r",
      "MUSE:  15%|█▌        | 775/5050 [00:09<00:27, 155.47it/s]"
     ]
    },
    {
     "name": "stderr",
     "output_type": "stream",
     "text": [
      "\r",
      "MUSE:  16%|█▌        | 794/5050 [00:09<00:27, 153.86it/s]"
     ]
    },
    {
     "name": "stderr",
     "output_type": "stream",
     "text": [
      "\r",
      "MUSE:  16%|█▌        | 812/5050 [00:09<00:41, 101.52it/s]"
     ]
    },
    {
     "name": "stderr",
     "output_type": "stream",
     "text": [
      "\r",
      "MUSE:  17%|█▋        | 845/5050 [00:10<00:29, 142.76it/s]"
     ]
    },
    {
     "name": "stderr",
     "output_type": "stream",
     "text": [
      "\r",
      "MUSE:  17%|█▋        | 881/5050 [00:10<00:22, 187.43it/s]"
     ]
    },
    {
     "name": "stderr",
     "output_type": "stream",
     "text": [
      "\r",
      "MUSE: 100%|██████████| 5050/5050 [00:10<00:00, 6369.74it/s]"
     ]
    },
    {
     "name": "stderr",
     "output_type": "stream",
     "text": [
      "\r",
      "MUSE: 100%|██████████| 5050/5050 [00:10<00:00, 482.12it/s] "
     ]
    },
    {
     "name": "stderr",
     "output_type": "stream",
     "text": [
      "\n"
     ]
    },
    {
     "name": "stderr",
     "output_type": "stream",
     "text": [
      "\r",
      "get_H:   0%|          | 0/70 [00:00<?, ?it/s]"
     ]
    },
    {
     "name": "stderr",
     "output_type": "stream",
     "text": [
      "\r",
      "get_H:   6%|▌         | 4/70 [00:00<00:01, 34.72it/s]"
     ]
    },
    {
     "name": "stderr",
     "output_type": "stream",
     "text": [
      "\r",
      "get_H:  13%|█▎        | 9/70 [00:00<00:01, 39.88it/s]"
     ]
    },
    {
     "name": "stderr",
     "output_type": "stream",
     "text": [
      "\r",
      "get_H:  19%|█▊        | 13/70 [00:00<00:01, 35.15it/s]"
     ]
    },
    {
     "name": "stderr",
     "output_type": "stream",
     "text": [
      "\r",
      "get_H:  24%|██▍       | 17/70 [00:00<00:01, 35.15it/s]"
     ]
    },
    {
     "name": "stderr",
     "output_type": "stream",
     "text": [
      "\r",
      "get_H:  30%|███       | 21/70 [00:00<00:01, 34.07it/s]"
     ]
    },
    {
     "name": "stderr",
     "output_type": "stream",
     "text": [
      "\r",
      "get_H:  37%|███▋      | 26/70 [00:00<00:01, 34.78it/s]"
     ]
    },
    {
     "name": "stderr",
     "output_type": "stream",
     "text": [
      "\r",
      "get_H:  43%|████▎     | 30/70 [00:00<00:01, 34.69it/s]"
     ]
    },
    {
     "name": "stderr",
     "output_type": "stream",
     "text": [
      "\r",
      "get_H:  49%|████▊     | 34/70 [00:01<00:01, 30.37it/s]"
     ]
    },
    {
     "name": "stderr",
     "output_type": "stream",
     "text": [
      "\r",
      "get_H:  54%|█████▍    | 38/70 [00:01<00:01, 31.01it/s]"
     ]
    },
    {
     "name": "stderr",
     "output_type": "stream",
     "text": [
      "\r",
      "get_H:  60%|██████    | 42/70 [00:01<00:00, 31.18it/s]"
     ]
    },
    {
     "name": "stderr",
     "output_type": "stream",
     "text": [
      "\r",
      "get_H:  66%|██████▌   | 46/70 [00:01<00:00, 33.08it/s]"
     ]
    },
    {
     "name": "stderr",
     "output_type": "stream",
     "text": [
      "\r",
      "get_H:  71%|███████▏  | 50/70 [00:01<00:00, 33.79it/s]"
     ]
    },
    {
     "name": "stderr",
     "output_type": "stream",
     "text": [
      "\r",
      "get_H:  77%|███████▋  | 54/70 [00:01<00:00, 34.48it/s]"
     ]
    },
    {
     "name": "stderr",
     "output_type": "stream",
     "text": [
      "\r",
      "get_H:  83%|████████▎ | 58/70 [00:01<00:00, 33.55it/s]"
     ]
    },
    {
     "name": "stderr",
     "output_type": "stream",
     "text": [
      "\r",
      "get_H:  90%|█████████ | 63/70 [00:01<00:00, 36.09it/s]"
     ]
    },
    {
     "name": "stderr",
     "output_type": "stream",
     "text": [
      "\r",
      "get_H:  96%|█████████▌| 67/70 [00:01<00:00, 36.87it/s]"
     ]
    },
    {
     "name": "stderr",
     "output_type": "stream",
     "text": [
      "\r",
      "get_H: 100%|██████████| 70/70 [00:02<00:00, 34.14it/s]"
     ]
    },
    {
     "name": "stderr",
     "output_type": "stream",
     "text": [
      "\n"
     ]
    }
   ],
   "source": [
    "θ_start = dict(μ=[0.5, 0.5], σ=0)\n",
    "result = prob.solve(θ_start=θ_start, progress=True)"
   ]
  },
  {
   "cell_type": "markdown",
   "id": "c1cdecec",
   "metadata": {},
   "source": [
    "When there are multiple parameters, the starting guess should be specified as as a dictionary, as above.\n",
    "\n",
    "The parameter estimate is returned as a dictionary,"
   ]
  },
  {
   "cell_type": "code",
   "execution_count": 6,
   "id": "3eb9d707",
   "metadata": {
    "execution": {
     "iopub.execute_input": "2022-06-05T08:39:48.790460Z",
     "iopub.status.busy": "2022-06-05T08:39:48.789184Z",
     "iopub.status.idle": "2022-06-05T08:39:48.819803Z",
     "shell.execute_reply": "2022-06-05T08:39:48.819211Z"
    }
   },
   "outputs": [
    {
     "data": {
      "text/plain": [
       "{'μ': array([0.30925762, 0.52790826]), 'σ': array(0.82363501)}"
      ]
     },
     "execution_count": 6,
     "metadata": {},
     "output_type": "execute_result"
    }
   ],
   "source": [
    "result.θ"
   ]
  },
  {
   "cell_type": "markdown",
   "id": "000e8159",
   "metadata": {},
   "source": [
    " and the covariance as matrix, with parameters concatenated in the order they appear in the model (or in the order specified in `params`, if that was used):"
   ]
  },
  {
   "cell_type": "code",
   "execution_count": 7,
   "id": "44a0ae62",
   "metadata": {
    "execution": {
     "iopub.execute_input": "2022-06-05T08:39:48.824889Z",
     "iopub.status.busy": "2022-06-05T08:39:48.823661Z",
     "iopub.status.idle": "2022-06-05T08:39:48.855521Z",
     "shell.execute_reply": "2022-06-05T08:39:48.854883Z"
    }
   },
   "outputs": [
    {
     "data": {
      "text/plain": [
       "array([[ 0.02413354,  0.00275797, -0.01015742],\n",
       "       [ 0.00275797,  0.0151224 , -0.00579965],\n",
       "       [-0.01015742, -0.00579965,  0.02910923]])"
      ]
     },
     "execution_count": 7,
     "metadata": {},
     "output_type": "execute_result"
    }
   ],
   "source": [
    "result.Σ"
   ]
  },
  {
   "cell_type": "markdown",
   "id": "088874a3",
   "metadata": {},
   "source": [
    "The `result.ravel` and `result.unravel` functions can be used to convert between dictionary and vector representations of the parameters. For example, to compute the standard deviation for each parameter (the square root of the diagonal of the covariance):"
   ]
  },
  {
   "cell_type": "code",
   "execution_count": 8,
   "id": "9962a40b",
   "metadata": {
    "execution": {
     "iopub.execute_input": "2022-06-05T08:39:48.861906Z",
     "iopub.status.busy": "2022-06-05T08:39:48.860038Z",
     "iopub.status.idle": "2022-06-05T08:39:48.910821Z",
     "shell.execute_reply": "2022-06-05T08:39:48.910164Z"
    }
   },
   "outputs": [
    {
     "data": {
      "text/plain": [
       "{'μ': array([0.15534974, 0.12297316]), 'σ': array(0.17061428)}"
      ]
     },
     "execution_count": 8,
     "metadata": {},
     "output_type": "execute_result"
    }
   ],
   "source": [
    "result.unravel(np.sqrt(np.diag(result.Σ)))"
   ]
  },
  {
   "cell_type": "markdown",
   "id": "69bae09e",
   "metadata": {},
   "source": [
    "or to convert the mean parameters to a vector:"
   ]
  },
  {
   "cell_type": "code",
   "execution_count": 9,
   "id": "c4858bd6",
   "metadata": {
    "execution": {
     "iopub.execute_input": "2022-06-05T08:39:48.914422Z",
     "iopub.status.busy": "2022-06-05T08:39:48.913879Z",
     "iopub.status.idle": "2022-06-05T08:39:48.940784Z",
     "shell.execute_reply": "2022-06-05T08:39:48.939964Z"
    }
   },
   "outputs": [
    {
     "data": {
      "text/plain": [
       "array([0.30925762, 0.52790826, 0.82363501])"
      ]
     },
     "execution_count": 9,
     "metadata": {},
     "output_type": "execute_result"
    }
   ],
   "source": [
    "result.ravel(result.θ)"
   ]
  },
  {
   "cell_type": "markdown",
   "id": "1a33dd5e",
   "metadata": {},
   "source": [
    "## Jax"
   ]
  },
  {
   "cell_type": "markdown",
   "id": "21bbeb90",
   "metadata": {},
   "source": [
    "We can also use [Jax](https://jax.readthedocs.io/) to define the problem. In this case we will write out function to generate forward samples and to compute the posterior, and Jax will provide necessary gradients for free. To use Jax, load the necessary packages:"
   ]
  },
  {
   "cell_type": "code",
   "execution_count": 10,
   "id": "f1bd7e34",
   "metadata": {
    "execution": {
     "iopub.execute_input": "2022-06-05T08:39:48.945614Z",
     "iopub.status.busy": "2022-06-05T08:39:48.945146Z",
     "iopub.status.idle": "2022-06-05T08:39:49.258598Z",
     "shell.execute_reply": "2022-06-05T08:39:49.257487Z"
    }
   },
   "outputs": [],
   "source": [
    "from functools import partial\n",
    "import jax\n",
    "import jax.numpy as jnp\n",
    "from muse_inference.jax import JittableJaxMuseProblem, JaxMuseProblem"
   ]
  },
  {
   "cell_type": "markdown",
   "id": "fd21b038",
   "metadata": {},
   "source": [
    "Let's implement the noisy funnel problem from the [Example](example.html) page. To do so, extend either `JaxMuseProblem`, or, if your code is able to be JIT compiled by Jax, extend `JittableJaxMuseProblem` and decorate the functions with `jax.jit`:"
   ]
  },
  {
   "cell_type": "code",
   "execution_count": 11,
   "id": "4657d4c0",
   "metadata": {
    "execution": {
     "iopub.execute_input": "2022-06-05T08:39:49.264717Z",
     "iopub.status.busy": "2022-06-05T08:39:49.262481Z",
     "iopub.status.idle": "2022-06-05T08:39:49.295778Z",
     "shell.execute_reply": "2022-06-05T08:39:49.294920Z"
    }
   },
   "outputs": [],
   "source": [
    "class JaxFunnelMuseProblem(JittableJaxMuseProblem):\n",
    "\n",
    "    def __init__(self, N):\n",
    "        super().__init__()\n",
    "        self.N = N\n",
    "\n",
    "    @partial(jax.jit, static_argnums=0)\n",
    "    def sample_x_z(self, key, θ):\n",
    "        keys = jax.random.split(key, 2)\n",
    "        z = jax.random.normal(keys[0], (self.N,)) * jnp.exp(θ/2)\n",
    "        x = z + jax.random.normal(keys[1], (self.N,))\n",
    "        return (x, z)\n",
    "\n",
    "    @partial(jax.jit, static_argnums=0)\n",
    "    def logLike(self, x, z, θ):\n",
    "        return -(jnp.sum((x - z)**2) + jnp.sum(z**2) / jnp.exp(θ) + 512*θ) / 2\n",
    "\n",
    "    @partial(jax.jit, static_argnums=0)\n",
    "    def logPrior(self, θ):\n",
    "        return -θ**2 / (2*3**2)"
   ]
  },
  {
   "cell_type": "markdown",
   "id": "ea3e1db5",
   "metadata": {},
   "source": [
    "Now generate some simulated data, which we set into `prob.x`. Note also the use of `PRNGKey` (rather than `RandomState` for PyMC/Numpy) for random number generation. "
   ]
  },
  {
   "cell_type": "code",
   "execution_count": 12,
   "id": "cd79e2a6",
   "metadata": {
    "execution": {
     "iopub.execute_input": "2022-06-05T08:39:49.301065Z",
     "iopub.status.busy": "2022-06-05T08:39:49.300067Z",
     "iopub.status.idle": "2022-06-05T08:39:50.092639Z",
     "shell.execute_reply": "2022-06-05T08:39:50.091348Z"
    }
   },
   "outputs": [
    {
     "name": "stderr",
     "output_type": "stream",
     "text": [
      "WARNING:absl:No GPU/TPU found, falling back to CPU. (Set TF_CPP_MIN_LOG_LEVEL=0 and rerun for more info.)\n"
     ]
    }
   ],
   "source": [
    "prob = JaxFunnelMuseProblem(10000)\n",
    "key = jax.random.PRNGKey(0)\n",
    "(x, z) = prob.sample_x_z(key, 0)\n",
    "prob.x = x"
   ]
  },
  {
   "cell_type": "markdown",
   "id": "2155661c",
   "metadata": {},
   "source": [
    "And finally, run MUSE:"
   ]
  },
  {
   "cell_type": "code",
   "execution_count": 13,
   "id": "60b3afcb",
   "metadata": {
    "execution": {
     "iopub.execute_input": "2022-06-05T08:39:50.097603Z",
     "iopub.status.busy": "2022-06-05T08:39:50.096850Z",
     "iopub.status.idle": "2022-06-05T08:40:02.421698Z",
     "shell.execute_reply": "2022-06-05T08:40:02.421014Z"
    },
    "nbsphinx": "hidden",
    "tags": []
   },
   "outputs": [
    {
     "data": {
      "text/plain": [
       "<muse_inference.muse_inference.MuseResult at 0x7f52fc267190>"
      ]
     },
     "execution_count": 13,
     "metadata": {},
     "output_type": "execute_result"
    }
   ],
   "source": [
    "prob.solve(θ_start=0., rng=jax.random.PRNGKey(1)) # warmup"
   ]
  },
  {
   "cell_type": "code",
   "execution_count": 14,
   "id": "7b50b17e",
   "metadata": {
    "execution": {
     "iopub.execute_input": "2022-06-05T08:40:02.425847Z",
     "iopub.status.busy": "2022-06-05T08:40:02.425082Z",
     "iopub.status.idle": "2022-06-05T08:40:03.396925Z",
     "shell.execute_reply": "2022-06-05T08:40:03.396245Z"
    }
   },
   "outputs": [
    {
     "name": "stderr",
     "output_type": "stream",
     "text": [
      "\r",
      "MUSE:   0%|          | 0/5050 [00:00<?, ?it/s]"
     ]
    },
    {
     "name": "stderr",
     "output_type": "stream",
     "text": [
      "\r",
      "MUSE:   2%|▏         | 102/5050 [00:00<00:06, 712.95it/s]"
     ]
    },
    {
     "name": "stderr",
     "output_type": "stream",
     "text": [
      "\r",
      "MUSE:   4%|▍         | 203/5050 [00:00<00:08, 600.92it/s]"
     ]
    },
    {
     "name": "stderr",
     "output_type": "stream",
     "text": [
      "\r",
      "MUSE:   6%|▌         | 304/5050 [00:00<00:08, 570.17it/s]"
     ]
    },
    {
     "name": "stderr",
     "output_type": "stream",
     "text": [
      "\r",
      "MUSE:   7%|▋         | 374/5050 [00:00<00:07, 602.88it/s]"
     ]
    },
    {
     "name": "stderr",
     "output_type": "stream",
     "text": [
      "\r",
      "MUSE: 100%|██████████| 5050/5050 [00:00<00:00, 12049.36it/s]"
     ]
    },
    {
     "name": "stderr",
     "output_type": "stream",
     "text": [
      "\r",
      "MUSE: 100%|██████████| 5050/5050 [00:00<00:00, 6645.28it/s] "
     ]
    },
    {
     "name": "stderr",
     "output_type": "stream",
     "text": [
      "\n"
     ]
    },
    {
     "name": "stderr",
     "output_type": "stream",
     "text": [
      "\r",
      "get_H:   0%|          | 0/30 [00:00<?, ?it/s]"
     ]
    },
    {
     "name": "stderr",
     "output_type": "stream",
     "text": [
      "\r",
      "get_H: 100%|██████████| 30/30 [00:00<00:00, 313.68it/s]"
     ]
    },
    {
     "name": "stderr",
     "output_type": "stream",
     "text": [
      "\n"
     ]
    }
   ],
   "source": [
    "result = prob.solve(θ_start=0., rng=jax.random.PRNGKey(1), progress=True)"
   ]
  },
  {
   "cell_type": "markdown",
   "id": "5b12e472",
   "metadata": {},
   "source": [
    "Note that the solution here is obtained around 10X faster that the PyMC version of this in the [Example](example.html) page (the cloud machines which build these docs don't always achieve the 10X, but you see this if you run these examples locally). The Jax interface has much lower overhead, which will be noticeable for very fast posteriors like the one above. "
   ]
  },
  {
   "cell_type": "markdown",
   "id": "4e6ed54e",
   "metadata": {},
   "source": [
    "One convenient aspect of using Jax is that the parameters, `θ`, and latent space, `z`, can be any [pytree](https://jax.readthedocs.io/en/latest/pytrees.html), ie tuples, dictionaries, nested combinations of them, etc... (there is no requirement on the data format of the `x` variable). To demonstrate, consider a problem which is just two copies of the noisy funnel problem:"
   ]
  },
  {
   "cell_type": "code",
   "execution_count": 15,
   "id": "c997ce7d",
   "metadata": {
    "execution": {
     "iopub.execute_input": "2022-06-05T08:40:03.401252Z",
     "iopub.status.busy": "2022-06-05T08:40:03.400602Z",
     "iopub.status.idle": "2022-06-05T08:40:03.434751Z",
     "shell.execute_reply": "2022-06-05T08:40:03.433939Z"
    }
   },
   "outputs": [],
   "source": [
    "class JaxPyTreeFunnelMuseProblem(JittableJaxMuseProblem):\n",
    "\n",
    "    def __init__(self, N):\n",
    "        super().__init__()\n",
    "        self.N = N\n",
    "\n",
    "    @partial(jax.jit, static_argnums=0)\n",
    "    def sample_x_z(self, key, θ):\n",
    "        (θ1, θ2) = (θ[\"θ1\"], θ[\"θ2\"])\n",
    "        keys = jax.random.split(key, 4)\n",
    "        z1 = jax.random.normal(keys[0], (self.N,)) * jnp.exp(θ1/2)\n",
    "        z2 = jax.random.normal(keys[1], (self.N,)) * jnp.exp(θ2/2)        \n",
    "        x1 = z1 + jax.random.normal(keys[2], (self.N,))\n",
    "        x2 = z2 + jax.random.normal(keys[3], (self.N,))        \n",
    "        return ({\"x1\":x1, \"x2\":x2}, {\"z1\":z1, \"z2\":z2})\n",
    "\n",
    "    @partial(jax.jit, static_argnums=0)\n",
    "    def logLike(self, x, z, θ):\n",
    "        return (\n",
    "            -(jnp.sum((x[\"x1\"] - z[\"z1\"])**2) + jnp.sum(z[\"z1\"]**2) / jnp.exp(θ[\"θ1\"]) + 512*θ[\"θ1\"]) / 2\n",
    "            -(jnp.sum((x[\"x2\"] - z[\"z2\"])**2) + jnp.sum(z[\"z2\"]**2) / jnp.exp(θ[\"θ2\"]) + 512*θ[\"θ2\"]) / 2\n",
    "        )\n",
    "\n",
    "    @partial(jax.jit, static_argnums=0)\n",
    "    def logPrior(self, θ):\n",
    "        return - θ[\"θ1\"]**2 / (2*3**2) - θ[\"θ2\"]**2 / (2*3**2)"
   ]
  },
  {
   "cell_type": "markdown",
   "id": "e03cc4b5",
   "metadata": {},
   "source": [
    "Here, `x`, `θ`, and `z` are all dictionaries. We generate the problem as usual, passing in parameters as dictionaries,"
   ]
  },
  {
   "cell_type": "code",
   "execution_count": 16,
   "id": "4bf11f7e",
   "metadata": {
    "execution": {
     "iopub.execute_input": "2022-06-05T08:40:03.439469Z",
     "iopub.status.busy": "2022-06-05T08:40:03.438923Z",
     "iopub.status.idle": "2022-06-05T08:40:03.465145Z",
     "shell.execute_reply": "2022-06-05T08:40:03.464400Z"
    }
   },
   "outputs": [],
   "source": [
    "θ_true = dict(θ1=-1., θ2=2.)\n",
    "θ_start = dict(θ1=0., θ2=0.)"
   ]
  },
  {
   "cell_type": "code",
   "execution_count": 17,
   "id": "4e26f56c",
   "metadata": {
    "execution": {
     "iopub.execute_input": "2022-06-05T08:40:03.469072Z",
     "iopub.status.busy": "2022-06-05T08:40:03.468402Z",
     "iopub.status.idle": "2022-06-05T08:40:04.674183Z",
     "shell.execute_reply": "2022-06-05T08:40:04.672895Z"
    }
   },
   "outputs": [],
   "source": [
    "prob = JaxPyTreeFunnelMuseProblem(10000)\n",
    "key = jax.random.PRNGKey(0)\n",
    "(x, z) = prob.sample_x_z(key, θ_true)\n",
    "prob.x = x"
   ]
  },
  {
   "cell_type": "markdown",
   "id": "041ca949",
   "metadata": {},
   "source": [
    "and run MUSE:"
   ]
  },
  {
   "cell_type": "code",
   "execution_count": 18,
   "id": "08722400",
   "metadata": {
    "execution": {
     "iopub.execute_input": "2022-06-05T08:40:04.679842Z",
     "iopub.status.busy": "2022-06-05T08:40:04.679262Z",
     "iopub.status.idle": "2022-06-05T08:40:25.822601Z",
     "shell.execute_reply": "2022-06-05T08:40:25.821893Z"
    },
    "nbsphinx": "hidden",
    "tags": []
   },
   "outputs": [
    {
     "data": {
      "text/plain": [
       "<muse_inference.muse_inference.MuseResult at 0x7f5313b483d0>"
      ]
     },
     "execution_count": 18,
     "metadata": {},
     "output_type": "execute_result"
    }
   ],
   "source": [
    "prob.solve(θ_start=θ_start, rng=jax.random.PRNGKey(0)) # warmup"
   ]
  },
  {
   "cell_type": "code",
   "execution_count": 19,
   "id": "42cd839c",
   "metadata": {
    "execution": {
     "iopub.execute_input": "2022-06-05T08:40:25.826528Z",
     "iopub.status.busy": "2022-06-05T08:40:25.826017Z",
     "iopub.status.idle": "2022-06-05T08:40:35.250581Z",
     "shell.execute_reply": "2022-06-05T08:40:35.249452Z"
    }
   },
   "outputs": [
    {
     "name": "stderr",
     "output_type": "stream",
     "text": [
      "\r",
      "MUSE:   0%|          | 0/5050 [00:00<?, ?it/s]"
     ]
    },
    {
     "name": "stderr",
     "output_type": "stream",
     "text": [
      "\r",
      "MUSE:   2%|▏         | 93/5050 [00:00<00:05, 926.06it/s]"
     ]
    },
    {
     "name": "stderr",
     "output_type": "stream",
     "text": [
      "\r",
      "MUSE:   4%|▎         | 186/5050 [00:00<00:14, 344.51it/s]"
     ]
    },
    {
     "name": "stderr",
     "output_type": "stream",
     "text": [
      "\r",
      "MUSE:   5%|▍         | 239/5050 [00:00<00:19, 243.55it/s]"
     ]
    },
    {
     "name": "stderr",
     "output_type": "stream",
     "text": [
      "\r",
      "MUSE:   5%|▌         | 275/5050 [00:00<00:19, 245.04it/s]"
     ]
    },
    {
     "name": "stderr",
     "output_type": "stream",
     "text": [
      "\r",
      "MUSE:   6%|▌         | 307/5050 [00:01<00:24, 191.87it/s]"
     ]
    },
    {
     "name": "stderr",
     "output_type": "stream",
     "text": [
      "\r",
      "MUSE:   7%|▋         | 333/5050 [00:01<00:23, 202.13it/s]"
     ]
    },
    {
     "name": "stderr",
     "output_type": "stream",
     "text": [
      "\r",
      "MUSE:   7%|▋         | 358/5050 [00:01<00:22, 210.67it/s]"
     ]
    },
    {
     "name": "stderr",
     "output_type": "stream",
     "text": [
      "\r",
      "MUSE:   8%|▊         | 386/5050 [00:01<00:20, 225.15it/s]"
     ]
    },
    {
     "name": "stderr",
     "output_type": "stream",
     "text": [
      "\r",
      "MUSE:   8%|▊         | 412/5050 [00:01<00:27, 167.33it/s]"
     ]
    },
    {
     "name": "stderr",
     "output_type": "stream",
     "text": [
      "\r",
      "MUSE:   9%|▊         | 437/5050 [00:01<00:25, 183.10it/s]"
     ]
    },
    {
     "name": "stderr",
     "output_type": "stream",
     "text": [
      "\r",
      "MUSE:   9%|▉         | 463/5050 [00:02<00:22, 199.54it/s]"
     ]
    },
    {
     "name": "stderr",
     "output_type": "stream",
     "text": [
      "\r",
      "MUSE:  10%|▉         | 487/5050 [00:02<00:22, 207.26it/s]"
     ]
    },
    {
     "name": "stderr",
     "output_type": "stream",
     "text": [
      "\r",
      "MUSE:  10%|█         | 511/5050 [00:02<00:28, 156.91it/s]"
     ]
    },
    {
     "name": "stderr",
     "output_type": "stream",
     "text": [
      "\r",
      "MUSE:  11%|█         | 539/5050 [00:02<00:24, 182.15it/s]"
     ]
    },
    {
     "name": "stderr",
     "output_type": "stream",
     "text": [
      "\r",
      "MUSE:  11%|█         | 566/5050 [00:02<00:22, 201.17it/s]"
     ]
    },
    {
     "name": "stderr",
     "output_type": "stream",
     "text": [
      "\r",
      "MUSE:  12%|█▏        | 593/5050 [00:02<00:20, 216.55it/s]"
     ]
    },
    {
     "name": "stderr",
     "output_type": "stream",
     "text": [
      "\r",
      "MUSE:  12%|█▏        | 618/5050 [00:02<00:27, 161.11it/s]"
     ]
    },
    {
     "name": "stderr",
     "output_type": "stream",
     "text": [
      "\r",
      "MUSE:  13%|█▎        | 648/5050 [00:03<00:23, 189.13it/s]"
     ]
    },
    {
     "name": "stderr",
     "output_type": "stream",
     "text": [
      "\r",
      "MUSE:  13%|█▎        | 675/5050 [00:03<00:21, 207.23it/s]"
     ]
    },
    {
     "name": "stderr",
     "output_type": "stream",
     "text": [
      "\r",
      "MUSE:  14%|█▍        | 701/5050 [00:03<00:19, 218.21it/s]"
     ]
    },
    {
     "name": "stderr",
     "output_type": "stream",
     "text": [
      "\r",
      "MUSE:  14%|█▍        | 726/5050 [00:03<00:26, 161.38it/s]"
     ]
    },
    {
     "name": "stderr",
     "output_type": "stream",
     "text": [
      "\r",
      "MUSE:  15%|█▍        | 756/5050 [00:03<00:22, 188.77it/s]"
     ]
    },
    {
     "name": "stderr",
     "output_type": "stream",
     "text": [
      "\r",
      "MUSE:  16%|█▌        | 783/5050 [00:03<00:20, 205.80it/s]"
     ]
    },
    {
     "name": "stderr",
     "output_type": "stream",
     "text": [
      "\r",
      "MUSE:  16%|█▌        | 809/5050 [00:03<00:27, 156.18it/s]"
     ]
    },
    {
     "name": "stderr",
     "output_type": "stream",
     "text": [
      "\r",
      "MUSE:  16%|█▋        | 833/5050 [00:04<00:24, 171.77it/s]"
     ]
    },
    {
     "name": "stderr",
     "output_type": "stream",
     "text": [
      "\r",
      "MUSE:  17%|█▋        | 857/5050 [00:04<00:22, 186.65it/s]"
     ]
    },
    {
     "name": "stderr",
     "output_type": "stream",
     "text": [
      "\r",
      "MUSE:  17%|█▋        | 881/5050 [00:04<00:20, 198.58it/s]"
     ]
    },
    {
     "name": "stderr",
     "output_type": "stream",
     "text": [
      "\r",
      "MUSE:  18%|█▊        | 905/5050 [00:04<00:19, 208.07it/s]"
     ]
    },
    {
     "name": "stderr",
     "output_type": "stream",
     "text": [
      "\r",
      "MUSE:  18%|█▊        | 928/5050 [00:04<00:27, 152.18it/s]"
     ]
    },
    {
     "name": "stderr",
     "output_type": "stream",
     "text": [
      "\r",
      "MUSE:  19%|█▉        | 955/5050 [00:04<00:23, 176.89it/s]"
     ]
    },
    {
     "name": "stderr",
     "output_type": "stream",
     "text": [
      "\r",
      "MUSE:  19%|█▉        | 982/5050 [00:04<00:20, 198.48it/s]"
     ]
    },
    {
     "name": "stderr",
     "output_type": "stream",
     "text": [
      "\r",
      "MUSE:  20%|█▉        | 1008/5050 [00:04<00:18, 213.36it/s]"
     ]
    },
    {
     "name": "stderr",
     "output_type": "stream",
     "text": [
      "\r",
      "MUSE:  20%|██        | 1032/5050 [00:05<00:24, 163.79it/s]"
     ]
    },
    {
     "name": "stderr",
     "output_type": "stream",
     "text": [
      "\r",
      "MUSE:  21%|██        | 1067/5050 [00:05<00:19, 203.38it/s]"
     ]
    },
    {
     "name": "stderr",
     "output_type": "stream",
     "text": [
      "\r",
      "MUSE:  22%|██▏       | 1101/5050 [00:05<00:16, 235.06it/s]"
     ]
    },
    {
     "name": "stderr",
     "output_type": "stream",
     "text": [
      "\r",
      "MUSE:  22%|██▏       | 1128/5050 [00:05<00:21, 182.17it/s]"
     ]
    },
    {
     "name": "stderr",
     "output_type": "stream",
     "text": [
      "\r",
      "MUSE:  23%|██▎       | 1169/5050 [00:05<00:16, 230.03it/s]"
     ]
    },
    {
     "name": "stderr",
     "output_type": "stream",
     "text": [
      "\r",
      "MUSE:  24%|██▍       | 1210/5050 [00:05<00:14, 270.71it/s]"
     ]
    },
    {
     "name": "stderr",
     "output_type": "stream",
     "text": [
      "\r",
      "MUSE:  25%|██▍       | 1242/5050 [00:06<00:18, 209.84it/s]"
     ]
    },
    {
     "name": "stderr",
     "output_type": "stream",
     "text": [
      "\r",
      "MUSE:  25%|██▌       | 1284/5050 [00:06<00:14, 253.15it/s]"
     ]
    },
    {
     "name": "stderr",
     "output_type": "stream",
     "text": [
      "\r",
      "MUSE:  26%|██▌       | 1315/5050 [00:06<00:18, 199.97it/s]"
     ]
    },
    {
     "name": "stderr",
     "output_type": "stream",
     "text": [
      "\r",
      "MUSE:  27%|██▋       | 1366/5050 [00:06<00:14, 260.36it/s]"
     ]
    },
    {
     "name": "stderr",
     "output_type": "stream",
     "text": [
      "\r",
      "MUSE:  28%|██▊       | 1413/5050 [00:06<00:11, 304.16it/s]"
     ]
    },
    {
     "name": "stderr",
     "output_type": "stream",
     "text": [
      "\r",
      "MUSE:  29%|██▊       | 1450/5050 [00:06<00:15, 229.19it/s]"
     ]
    },
    {
     "name": "stderr",
     "output_type": "stream",
     "text": [
      "\r",
      "MUSE:  29%|██▉       | 1486/5050 [00:06<00:13, 254.58it/s]"
     ]
    },
    {
     "name": "stderr",
     "output_type": "stream",
     "text": [
      "\r",
      "MUSE:  30%|███       | 1518/5050 [00:07<00:17, 199.10it/s]"
     ]
    },
    {
     "name": "stderr",
     "output_type": "stream",
     "text": [
      "\r",
      "MUSE:  31%|███       | 1561/5050 [00:07<00:14, 242.29it/s]"
     ]
    },
    {
     "name": "stderr",
     "output_type": "stream",
     "text": [
      "\r",
      "MUSE:  32%|███▏      | 1597/5050 [00:07<00:12, 266.64it/s]"
     ]
    },
    {
     "name": "stderr",
     "output_type": "stream",
     "text": [
      "\r",
      "MUSE:  32%|███▏      | 1630/5050 [00:07<00:16, 208.43it/s]"
     ]
    },
    {
     "name": "stderr",
     "output_type": "stream",
     "text": [
      "\r",
      "MUSE:  33%|███▎      | 1673/5050 [00:07<00:13, 251.91it/s]"
     ]
    },
    {
     "name": "stderr",
     "output_type": "stream",
     "text": [
      "\r",
      "MUSE:  34%|███▍      | 1713/5050 [00:07<00:11, 283.75it/s]"
     ]
    },
    {
     "name": "stderr",
     "output_type": "stream",
     "text": [
      "\r",
      "MUSE:  35%|███▍      | 1747/5050 [00:08<00:15, 220.20it/s]"
     ]
    },
    {
     "name": "stderr",
     "output_type": "stream",
     "text": [
      "\r",
      "MUSE:  35%|███▌      | 1790/5050 [00:08<00:12, 262.08it/s]"
     ]
    },
    {
     "name": "stderr",
     "output_type": "stream",
     "text": [
      "\r",
      "MUSE:  36%|███▌      | 1823/5050 [00:08<00:15, 213.44it/s]"
     ]
    },
    {
     "name": "stderr",
     "output_type": "stream",
     "text": [
      "\r",
      "MUSE:  37%|███▋      | 1858/5050 [00:08<00:13, 239.79it/s]"
     ]
    },
    {
     "name": "stderr",
     "output_type": "stream",
     "text": [
      "\r",
      "MUSE:  37%|███▋      | 1893/5050 [00:08<00:12, 262.20it/s]"
     ]
    },
    {
     "name": "stderr",
     "output_type": "stream",
     "text": [
      "\r",
      "MUSE: 100%|██████████| 5050/5050 [00:08<00:00, 5788.40it/s]"
     ]
    },
    {
     "name": "stderr",
     "output_type": "stream",
     "text": [
      "\r",
      "MUSE: 100%|██████████| 5050/5050 [00:08<00:00, 565.94it/s] "
     ]
    },
    {
     "name": "stderr",
     "output_type": "stream",
     "text": [
      "\n"
     ]
    },
    {
     "name": "stderr",
     "output_type": "stream",
     "text": [
      "\r",
      "get_H:   0%|          | 0/50 [00:00<?, ?it/s]"
     ]
    },
    {
     "name": "stderr",
     "output_type": "stream",
     "text": [
      "\r",
      "get_H:  38%|███▊      | 19/50 [00:00<00:00, 183.73it/s]"
     ]
    },
    {
     "name": "stderr",
     "output_type": "stream",
     "text": [
      "\r",
      "get_H:  76%|███████▌  | 38/50 [00:00<00:00, 179.86it/s]"
     ]
    },
    {
     "name": "stderr",
     "output_type": "stream",
     "text": [
      "\r",
      "get_H: 100%|██████████| 50/50 [00:00<00:00, 174.02it/s]"
     ]
    },
    {
     "name": "stderr",
     "output_type": "stream",
     "text": [
      "\n"
     ]
    }
   ],
   "source": [
    "result = prob.solve(θ_start=θ_start, rng=jax.random.PRNGKey(0), progress=True)"
   ]
  },
  {
   "cell_type": "markdown",
   "id": "282d0e72",
   "metadata": {},
   "source": [
    "The result is returned as a pytree:"
   ]
  },
  {
   "cell_type": "code",
   "execution_count": 20,
   "id": "8eb754d6",
   "metadata": {
    "execution": {
     "iopub.execute_input": "2022-06-05T08:40:35.254542Z",
     "iopub.status.busy": "2022-06-05T08:40:35.254239Z",
     "iopub.status.idle": "2022-06-05T08:40:35.283448Z",
     "shell.execute_reply": "2022-06-05T08:40:35.282760Z"
    }
   },
   "outputs": [
    {
     "data": {
      "text/plain": [
       "{'θ1': DeviceArray(-1.0024003, dtype=float32),\n",
       " 'θ2': DeviceArray(2.0271273, dtype=float32)}"
      ]
     },
     "execution_count": 20,
     "metadata": {},
     "output_type": "execute_result"
    }
   ],
   "source": [
    "result.θ"
   ]
  },
  {
   "cell_type": "markdown",
   "id": "e99b0723",
   "metadata": {},
   "source": [
    "and the covariance as a matrix:"
   ]
  },
  {
   "cell_type": "code",
   "execution_count": 21,
   "id": "28ec631c",
   "metadata": {
    "execution": {
     "iopub.execute_input": "2022-06-05T08:40:35.286902Z",
     "iopub.status.busy": "2022-06-05T08:40:35.286641Z",
     "iopub.status.idle": "2022-06-05T08:40:35.315785Z",
     "shell.execute_reply": "2022-06-05T08:40:35.315106Z"
    }
   },
   "outputs": [
    {
     "data": {
      "text/plain": [
       "array([[ 3.3699032e-03, -1.7559714e-05],\n",
       "       [-1.7559714e-05,  2.4587807e-04]], dtype=float32)"
      ]
     },
     "execution_count": 21,
     "metadata": {},
     "output_type": "execute_result"
    }
   ],
   "source": [
    "result.Σ"
   ]
  },
  {
   "cell_type": "markdown",
   "id": "c2c057cf",
   "metadata": {},
   "source": [
    "The `result.ravel` and `result.unravel` functions can be used to convert between pytree and vector representations of the parameters. For example, to compute the standard deviation for each parameter (the square root of the diagonal of the covariance):"
   ]
  },
  {
   "cell_type": "code",
   "execution_count": 22,
   "id": "f4e9d424",
   "metadata": {
    "execution": {
     "iopub.execute_input": "2022-06-05T08:40:35.319103Z",
     "iopub.status.busy": "2022-06-05T08:40:35.318847Z",
     "iopub.status.idle": "2022-06-05T08:40:35.349667Z",
     "shell.execute_reply": "2022-06-05T08:40:35.348962Z"
    }
   },
   "outputs": [
    {
     "data": {
      "text/plain": [
       "{'θ1': DeviceArray(0.05805087, dtype=float32),\n",
       " 'θ2': DeviceArray(0.0156805, dtype=float32)}"
      ]
     },
     "execution_count": 22,
     "metadata": {},
     "output_type": "execute_result"
    }
   ],
   "source": [
    "result.unravel(np.sqrt(np.diag(result.Σ)))"
   ]
  },
  {
   "cell_type": "markdown",
   "id": "7f470bbc",
   "metadata": {},
   "source": [
    "or to convert the mean parameters to a vector:"
   ]
  },
  {
   "cell_type": "code",
   "execution_count": 23,
   "id": "2dc4b7cc",
   "metadata": {
    "execution": {
     "iopub.execute_input": "2022-06-05T08:40:35.353960Z",
     "iopub.status.busy": "2022-06-05T08:40:35.353700Z",
     "iopub.status.idle": "2022-06-05T08:40:35.385774Z",
     "shell.execute_reply": "2022-06-05T08:40:35.384954Z"
    }
   },
   "outputs": [
    {
     "data": {
      "text/plain": [
       "DeviceArray([-1.0024003,  2.0271273], dtype=float32)"
      ]
     },
     "execution_count": 23,
     "metadata": {},
     "output_type": "execute_result"
    }
   ],
   "source": [
    "result.ravel(result.θ)"
   ]
  }
 ],
 "metadata": {
  "jupytext": {
   "text_representation": {
    "extension": ".md",
    "format_name": "markdown",
    "format_version": "1.3",
    "jupytext_version": "1.13.8"
   }
  },
  "kernelspec": {
   "display_name": "Python 3.9.7 ('.venv': poetry)",
   "language": "python",
   "name": "python3"
  },
  "language_info": {
   "codemirror_mode": {
    "name": "ipython",
    "version": 3
   },
   "file_extension": ".py",
   "mimetype": "text/x-python",
   "name": "python",
   "nbconvert_exporter": "python",
   "pygments_lexer": "ipython3",
   "version": "3.9.13"
  }
 },
 "nbformat": 4,
 "nbformat_minor": 5
}
