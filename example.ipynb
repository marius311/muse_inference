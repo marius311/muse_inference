{
 "cells": [
  {
   "cell_type": "markdown",
   "id": "fee27d2f",
   "metadata": {},
   "source": [
    "# Example"
   ]
  },
  {
   "cell_type": "markdown",
   "id": "47229dbf",
   "metadata": {},
   "source": [
    "This package allows defining your inference problem with:\n",
    "\n",
    "* the [PyMC](https://docs.pymc.io/) probabilistic programming language\n",
    "* by coding up the posterior by-hand and using [Jax](https://jax.readthedocs.io/) to automatically compute the necessary posterior gradients\n",
    "* by specifying the posterior and its gradients completely by-hand\n",
    "\n",
    "We'll start with PyMC, since it is the easiest. First, load up the relevant packages:"
   ]
  },
  {
   "cell_type": "code",
   "execution_count": 1,
   "id": "44739aab",
   "metadata": {
    "execution": {
     "iopub.execute_input": "2022-06-04T06:12:29.621424Z",
     "iopub.status.busy": "2022-06-04T06:12:29.621169Z",
     "iopub.status.idle": "2022-06-04T06:12:32.738199Z",
     "shell.execute_reply": "2022-06-04T06:12:32.737479Z"
    }
   },
   "outputs": [
    {
     "name": "stdout",
     "output_type": "stream",
     "text": [
      "Populating the interactive namespace from numpy and matplotlib\n"
     ]
    }
   ],
   "source": [
    "%pylab inline\n",
    "from scipy import stats\n",
    "import pymc as pm\n",
    "from ttictoc import tic, toc\n",
    "from muse_inference.pymc import PyMCMuseProblem"
   ]
  },
  {
   "cell_type": "code",
   "execution_count": 2,
   "id": "0333160d",
   "metadata": {
    "execution": {
     "iopub.execute_input": "2022-06-04T06:12:32.742495Z",
     "iopub.status.busy": "2022-06-04T06:12:32.741969Z",
     "iopub.status.idle": "2022-06-04T06:12:32.786668Z",
     "shell.execute_reply": "2022-06-04T06:12:32.786004Z"
    },
    "nbsphinx": "hidden",
    "tags": []
   },
   "outputs": [],
   "source": [
    "%config InlineBackend.print_figure_kwargs = {'bbox_inches': 'tight', 'dpi': 110}\n",
    "%load_ext autoreload\n",
    "%autoreload 2\n",
    "import logging, warnings\n",
    "logging.getLogger(\"pymc\").setLevel(logging.FATAL)\n",
    "warnings.filterwarnings(\"ignore\")"
   ]
  },
  {
   "cell_type": "markdown",
   "id": "2ab66616",
   "metadata": {},
   "source": [
    "As an example, consider the following hierarchical problem, which has the classic [Neal's Funnel](https://mc-stan.org/docs/2_18/stan-users-guide/reparameterization-section.html) problem embedded in it. Neal's funnel is a standard example of a non-Gaussian latent space which HMC struggles to sample efficiently without extra tricks. Specifically, we consider the model defined by:\n",
    "\n",
    "$$\n",
    "\\begin{aligned}\n",
    "\\theta &\\sim {\\rm Normal(0,3)} \\\\ \n",
    "z_i &\\sim {\\rm Normal}(0,\\exp(\\theta/2)) \\\\ \n",
    "x_i &\\sim {\\rm Normal}(z_i, 1)\n",
    "\\end{aligned}\n",
    "$$\n",
    "\n",
    "for $i=1...10000$. This problem can be described by the following PyMC model:"
   ]
  },
  {
   "cell_type": "code",
   "execution_count": 3,
   "id": "0603f3cd",
   "metadata": {
    "execution": {
     "iopub.execute_input": "2022-06-04T06:12:32.789905Z",
     "iopub.status.busy": "2022-06-04T06:12:32.789656Z",
     "iopub.status.idle": "2022-06-04T06:12:32.809542Z",
     "shell.execute_reply": "2022-06-04T06:12:32.808928Z"
    }
   },
   "outputs": [],
   "source": [
    "def gen_funnel(x=None, θ=None, rng=None):\n",
    "    with pm.Model(rng_seeder=rng) as funnel:\n",
    "        θ = pm.Normal(\"θ\", mu=0, sigma=3) if θ is None else θ\n",
    "        z = pm.Normal(\"z\", mu=0, sigma=np.exp(θ/2), size=10000)\n",
    "        x = pm.Normal(\"x\", mu=z, sigma=1, observed=x)\n",
    "    return funnel"
   ]
  },
  {
   "cell_type": "markdown",
   "id": "9d080780",
   "metadata": {},
   "source": [
    "Next, lets choose a true value of $\\theta=0$ and generate some simulated data, $x$, which we'll use as \"observations\":"
   ]
  },
  {
   "cell_type": "code",
   "execution_count": 4,
   "id": "549a1c6c",
   "metadata": {
    "execution": {
     "iopub.execute_input": "2022-06-04T06:12:32.812697Z",
     "iopub.status.busy": "2022-06-04T06:12:32.812467Z",
     "iopub.status.idle": "2022-06-04T06:12:34.837795Z",
     "shell.execute_reply": "2022-06-04T06:12:34.837000Z"
    }
   },
   "outputs": [],
   "source": [
    "rng = np.random.RandomState(0)\n",
    "x_obs = pm.sample_prior_predictive(1, model=gen_funnel(θ=0, rng=rng)).prior.x[0,0]\n",
    "model = gen_funnel(x=x_obs, rng=rng)"
   ]
  },
  {
   "cell_type": "code",
   "execution_count": 5,
   "id": "bd1673c7",
   "metadata": {
    "execution": {
     "iopub.execute_input": "2022-06-04T06:12:34.841820Z",
     "iopub.status.busy": "2022-06-04T06:12:34.841164Z",
     "iopub.status.idle": "2022-06-04T06:14:18.469496Z",
     "shell.execute_reply": "2022-06-04T06:14:18.468749Z"
    },
    "nbsphinx": "hidden",
    "tags": []
   },
   "outputs": [],
   "source": [
    "# warmup so timing results are more fair\n",
    "with model:\n",
    "    pm.sample(10, tune=10, cores=1, chains=1, discard_tuned_samples=False, random_seed=0, progressbar=False)\n",
    "    pm.fit(10, method=\"advi\", obj_n_mc=10, tf_n_mc=10, progressbar=False)\n",
    "prob = PyMCMuseProblem(model)\n",
    "result = prob.solve(θ_start=0, nsims=10, maxsteps=2)"
   ]
  },
  {
   "cell_type": "markdown",
   "id": "f9ab7a8d",
   "metadata": {},
   "source": [
    "We can run HMC on the problem to compute the \"true\" answer to compare against:"
   ]
  },
  {
   "cell_type": "code",
   "execution_count": 6,
   "id": "2272f3ec",
   "metadata": {
    "execution": {
     "iopub.execute_input": "2022-06-04T06:14:18.473574Z",
     "iopub.status.busy": "2022-06-04T06:14:18.472951Z",
     "iopub.status.idle": "2022-06-04T06:14:37.917953Z",
     "shell.execute_reply": "2022-06-04T06:14:37.917316Z"
    }
   },
   "outputs": [
    {
     "data": {
      "text/html": [
       "\n",
       "<style>\n",
       "    /* Turns off some styling */\n",
       "    progress {\n",
       "        /* gets rid of default border in Firefox and Opera. */\n",
       "        border: none;\n",
       "        /* Needs to be in here for Safari polyfill so background images work as expected. */\n",
       "        background-size: auto;\n",
       "    }\n",
       "    .progress-bar-interrupted, .progress-bar-interrupted::-webkit-progress-bar {\n",
       "        background: #F44336;\n",
       "    }\n",
       "</style>\n"
      ],
      "text/plain": [
       "<IPython.core.display.HTML object>"
      ]
     },
     "metadata": {},
     "output_type": "display_data"
    },
    {
     "data": {
      "text/html": [
       "\n",
       "    <div>\n",
       "      <progress value='1000' class='' max='1000' style='width:300px; height:20px; vertical-align: middle;'></progress>\n",
       "      100.00% [1000/1000 00:18<00:00 Sampling chain 0, 0 divergences]\n",
       "    </div>\n",
       "    "
      ],
      "text/plain": [
       "<IPython.core.display.HTML object>"
      ]
     },
     "metadata": {},
     "output_type": "display_data"
    }
   ],
   "source": [
    "with model:\n",
    "    tic()\n",
    "    chain = pm.sample(500, tune=500, chains=1, discard_tuned_samples=False, random_seed=0)\n",
    "    t_hmc = toc()"
   ]
  },
  {
   "cell_type": "markdown",
   "id": "a360c5e6",
   "metadata": {},
   "source": [
    "We next compute the MUSE estimate for the same problem. To reach the same Monte Carlo error as HMC, the number of MUSE simulations should be the same as the effective sample size of the chain we just ran. This is:"
   ]
  },
  {
   "cell_type": "code",
   "execution_count": 7,
   "id": "8223ad2b",
   "metadata": {
    "execution": {
     "iopub.execute_input": "2022-06-04T06:14:37.922132Z",
     "iopub.status.busy": "2022-06-04T06:14:37.921570Z",
     "iopub.status.idle": "2022-06-04T06:14:42.412231Z",
     "shell.execute_reply": "2022-06-04T06:14:42.411575Z"
    }
   },
   "outputs": [
    {
     "data": {
      "text/plain": [
       "37"
      ]
     },
     "execution_count": 7,
     "metadata": {},
     "output_type": "execute_result"
    }
   ],
   "source": [
    "nsims = int(pm.ess(chain)[\"θ\"])\n",
    "nsims"
   ]
  },
  {
   "cell_type": "markdown",
   "id": "0c4d5b3c",
   "metadata": {},
   "source": [
    "Running the MUSE estimate, "
   ]
  },
  {
   "cell_type": "code",
   "execution_count": 8,
   "id": "c17a0ec4",
   "metadata": {
    "execution": {
     "iopub.execute_input": "2022-06-04T06:14:42.415378Z",
     "iopub.status.busy": "2022-06-04T06:14:42.415000Z",
     "iopub.status.idle": "2022-06-04T06:14:50.329209Z",
     "shell.execute_reply": "2022-06-04T06:14:50.328635Z"
    }
   },
   "outputs": [
    {
     "name": "stderr",
     "output_type": "stream",
     "text": [
      "\r",
      "MUSE:   0%|          | 0/1900 [00:00<?, ?it/s]"
     ]
    },
    {
     "name": "stderr",
     "output_type": "stream",
     "text": [
      "\r",
      "MUSE:   0%|          | 8/1900 [00:00<00:52, 35.79it/s]"
     ]
    },
    {
     "name": "stderr",
     "output_type": "stream",
     "text": [
      "\r",
      "MUSE:   1%|          | 17/1900 [00:00<00:34, 54.73it/s]"
     ]
    },
    {
     "name": "stderr",
     "output_type": "stream",
     "text": [
      "\r",
      "MUSE:   1%|▏         | 24/1900 [00:00<00:39, 47.35it/s]"
     ]
    },
    {
     "name": "stderr",
     "output_type": "stream",
     "text": [
      "\r",
      "MUSE:   2%|▏         | 33/1900 [00:00<00:32, 57.53it/s]"
     ]
    },
    {
     "name": "stderr",
     "output_type": "stream",
     "text": [
      "\r",
      "MUSE:   2%|▏         | 40/1900 [00:00<00:44, 41.92it/s]"
     ]
    },
    {
     "name": "stderr",
     "output_type": "stream",
     "text": [
      "\r",
      "MUSE:   3%|▎         | 49/1900 [00:00<00:35, 51.48it/s]"
     ]
    },
    {
     "name": "stderr",
     "output_type": "stream",
     "text": [
      "\r",
      "MUSE:   3%|▎         | 56/1900 [00:01<00:38, 47.30it/s]"
     ]
    },
    {
     "name": "stderr",
     "output_type": "stream",
     "text": [
      "\r",
      "MUSE:   3%|▎         | 65/1900 [00:01<00:32, 55.91it/s]"
     ]
    },
    {
     "name": "stderr",
     "output_type": "stream",
     "text": [
      "\r",
      "MUSE:   4%|▍         | 72/1900 [00:01<00:36, 50.62it/s]"
     ]
    },
    {
     "name": "stderr",
     "output_type": "stream",
     "text": [
      "\r",
      "MUSE:   4%|▍         | 78/1900 [00:01<00:38, 46.81it/s]"
     ]
    },
    {
     "name": "stderr",
     "output_type": "stream",
     "text": [
      "\r",
      "MUSE:   4%|▍         | 85/1900 [00:01<00:40, 44.43it/s]"
     ]
    },
    {
     "name": "stderr",
     "output_type": "stream",
     "text": [
      "\r",
      "MUSE:   5%|▍         | 94/1900 [00:01<00:33, 53.41it/s]"
     ]
    },
    {
     "name": "stderr",
     "output_type": "stream",
     "text": [
      "\r",
      "MUSE:   5%|▌         | 100/1900 [00:02<00:37, 48.09it/s]"
     ]
    },
    {
     "name": "stderr",
     "output_type": "stream",
     "text": [
      "\r",
      "MUSE:   6%|▌         | 109/1900 [00:02<00:31, 56.84it/s]"
     ]
    },
    {
     "name": "stderr",
     "output_type": "stream",
     "text": [
      "\r",
      "MUSE:   6%|▌         | 116/1900 [00:02<00:41, 43.35it/s]"
     ]
    },
    {
     "name": "stderr",
     "output_type": "stream",
     "text": [
      "\r",
      "MUSE:   7%|▋         | 125/1900 [00:02<00:33, 52.23it/s]"
     ]
    },
    {
     "name": "stderr",
     "output_type": "stream",
     "text": [
      "\r",
      "MUSE:   7%|▋         | 132/1900 [00:02<00:36, 48.43it/s]"
     ]
    },
    {
     "name": "stderr",
     "output_type": "stream",
     "text": [
      "\r",
      "MUSE:   7%|▋         | 141/1900 [00:02<00:31, 56.63it/s]"
     ]
    },
    {
     "name": "stderr",
     "output_type": "stream",
     "text": [
      "\r",
      "MUSE:   8%|▊         | 149/1900 [00:02<00:34, 50.45it/s]"
     ]
    },
    {
     "name": "stderr",
     "output_type": "stream",
     "text": [
      "\r",
      "MUSE:   8%|▊         | 155/1900 [00:03<00:37, 46.85it/s]"
     ]
    },
    {
     "name": "stderr",
     "output_type": "stream",
     "text": [
      "\r",
      "MUSE:   9%|▊         | 162/1900 [00:03<00:39, 43.70it/s]"
     ]
    },
    {
     "name": "stderr",
     "output_type": "stream",
     "text": [
      "\r",
      "MUSE:   9%|▉         | 171/1900 [00:03<00:32, 52.50it/s]"
     ]
    },
    {
     "name": "stderr",
     "output_type": "stream",
     "text": [
      "\r",
      "MUSE:   9%|▉         | 177/1900 [00:03<00:37, 46.33it/s]"
     ]
    },
    {
     "name": "stderr",
     "output_type": "stream",
     "text": [
      "\r",
      "MUSE:  10%|▉         | 186/1900 [00:03<00:31, 55.15it/s]"
     ]
    },
    {
     "name": "stderr",
     "output_type": "stream",
     "text": [
      "\r",
      "MUSE:  10%|█         | 193/1900 [00:03<00:40, 42.07it/s]"
     ]
    },
    {
     "name": "stderr",
     "output_type": "stream",
     "text": [
      "\r",
      "MUSE:  11%|█         | 202/1900 [00:04<00:33, 51.00it/s]"
     ]
    },
    {
     "name": "stderr",
     "output_type": "stream",
     "text": [
      "\r",
      "MUSE:  11%|█         | 209/1900 [00:04<00:35, 47.10it/s]"
     ]
    },
    {
     "name": "stderr",
     "output_type": "stream",
     "text": [
      "\r",
      "MUSE:  11%|█▏        | 218/1900 [00:04<00:30, 55.58it/s]"
     ]
    },
    {
     "name": "stderr",
     "output_type": "stream",
     "text": [
      "\r",
      "MUSE:  12%|█▏        | 226/1900 [00:04<00:33, 50.64it/s]"
     ]
    },
    {
     "name": "stderr",
     "output_type": "stream",
     "text": [
      "\r",
      "MUSE:  12%|█▏        | 232/1900 [00:04<00:35, 47.05it/s]"
     ]
    },
    {
     "name": "stderr",
     "output_type": "stream",
     "text": [
      "\r",
      "MUSE:  13%|█▎        | 239/1900 [00:04<00:37, 44.11it/s]"
     ]
    },
    {
     "name": "stderr",
     "output_type": "stream",
     "text": [
      "\r",
      "MUSE:  13%|█▎        | 248/1900 [00:05<00:31, 52.97it/s]"
     ]
    },
    {
     "name": "stderr",
     "output_type": "stream",
     "text": [
      "\r",
      "MUSE:  13%|█▎        | 254/1900 [00:05<00:35, 46.98it/s]"
     ]
    },
    {
     "name": "stderr",
     "output_type": "stream",
     "text": [
      "\r",
      "MUSE:  14%|█▍        | 263/1900 [00:05<00:29, 55.70it/s]"
     ]
    },
    {
     "name": "stderr",
     "output_type": "stream",
     "text": [
      "\r",
      "MUSE:  14%|█▍        | 270/1900 [00:05<00:37, 42.92it/s]"
     ]
    },
    {
     "name": "stderr",
     "output_type": "stream",
     "text": [
      "\r",
      "MUSE:  15%|█▍        | 279/1900 [00:05<00:31, 51.73it/s]"
     ]
    },
    {
     "name": "stderr",
     "output_type": "stream",
     "text": [
      "\r",
      "MUSE:  15%|█▌        | 286/1900 [00:05<00:33, 47.75it/s]"
     ]
    },
    {
     "name": "stderr",
     "output_type": "stream",
     "text": [
      "\r",
      "MUSE:  16%|█▌        | 295/1900 [00:05<00:28, 55.91it/s]"
     ]
    },
    {
     "name": "stderr",
     "output_type": "stream",
     "text": [
      "\r",
      "MUSE:  16%|█▌        | 303/1900 [00:06<00:31, 50.02it/s]"
     ]
    },
    {
     "name": "stderr",
     "output_type": "stream",
     "text": [
      "\r",
      "MUSE: 100%|██████████| 1900/1900 [00:06<00:00, 304.74it/s]"
     ]
    },
    {
     "name": "stderr",
     "output_type": "stream",
     "text": [
      "\n"
     ]
    },
    {
     "name": "stderr",
     "output_type": "stream",
     "text": [
      "\r",
      "get_H:   0%|          | 0/9 [00:00<?, ?it/s]"
     ]
    },
    {
     "name": "stderr",
     "output_type": "stream",
     "text": [
      "\r",
      "get_H:  78%|███████▊  | 7/9 [00:00<00:00, 68.64it/s]"
     ]
    },
    {
     "name": "stderr",
     "output_type": "stream",
     "text": [
      "\r",
      "get_H: 100%|██████████| 9/9 [00:00<00:00, 68.25it/s]"
     ]
    },
    {
     "name": "stderr",
     "output_type": "stream",
     "text": [
      "\n"
     ]
    }
   ],
   "source": [
    "prob = PyMCMuseProblem(model)\n",
    "rng = np.random.SeedSequence(1)\n",
    "tic()\n",
    "result = prob.solve(θ_start=0, nsims=nsims, rng=rng, progress=True, save_MAP_history=True)\n",
    "t_muse = toc()"
   ]
  },
  {
   "cell_type": "markdown",
   "id": "f97d2a52",
   "metadata": {},
   "source": [
    "Lets also try mean-field variational inference (MFVI) to compare to another approximate method."
   ]
  },
  {
   "cell_type": "code",
   "execution_count": 9,
   "id": "c9ccd8cf",
   "metadata": {
    "execution": {
     "iopub.execute_input": "2022-06-04T06:14:50.332905Z",
     "iopub.status.busy": "2022-06-04T06:14:50.332382Z",
     "iopub.status.idle": "2022-06-04T06:16:10.988826Z",
     "shell.execute_reply": "2022-06-04T06:16:10.988136Z"
    }
   },
   "outputs": [
    {
     "data": {
      "text/html": [
       "\n",
       "<style>\n",
       "    /* Turns off some styling */\n",
       "    progress {\n",
       "        /* gets rid of default border in Firefox and Opera. */\n",
       "        border: none;\n",
       "        /* Needs to be in here for Safari polyfill so background images work as expected. */\n",
       "        background-size: auto;\n",
       "    }\n",
       "    .progress-bar-interrupted, .progress-bar-interrupted::-webkit-progress-bar {\n",
       "        background: #F44336;\n",
       "    }\n",
       "</style>\n"
      ],
      "text/plain": [
       "<IPython.core.display.HTML object>"
      ]
     },
     "metadata": {},
     "output_type": "display_data"
    },
    {
     "data": {
      "text/html": [
       "\n",
       "    <div>\n",
       "      <progress value='10000' class='' max='10000' style='width:300px; height:20px; vertical-align: middle;'></progress>\n",
       "      100.00% [10000/10000 01:18<00:00 Average Loss = 17,851]\n",
       "    </div>\n",
       "    "
      ],
      "text/plain": [
       "<IPython.core.display.HTML object>"
      ]
     },
     "metadata": {},
     "output_type": "display_data"
    }
   ],
   "source": [
    "with model:\n",
    "    tic()\n",
    "    mfvi = pm.fit(10000, method=\"advi\", obj_n_mc=10, tf_n_mc=10)\n",
    "    t_mfvi = toc()"
   ]
  },
  {
   "cell_type": "markdown",
   "id": "872c8c7c",
   "metadata": {},
   "source": [
    "Now lets plot the different estimates. In this case, MUSE gives a nearly perfect answer using only a fraction posterior gradient calls. MFVI struggles in both speed and accuracy by comparison."
   ]
  },
  {
   "cell_type": "code",
   "execution_count": 10,
   "id": "d868eff7",
   "metadata": {
    "execution": {
     "iopub.execute_input": "2022-06-04T06:16:10.992420Z",
     "iopub.status.busy": "2022-06-04T06:16:10.991745Z",
     "iopub.status.idle": "2022-06-04T06:16:20.608907Z",
     "shell.execute_reply": "2022-06-04T06:16:20.608186Z"
    }
   },
   "outputs": [
    {
     "data": {
      "image/png": "[encoded data removed]",
      "text/plain": [
       "<Figure size 432x360 with 1 Axes>"
      ]
     },
     "metadata": {
      "needs_background": "light"
     },
     "output_type": "display_data"
    }
   ],
   "source": [
    "figure(figsize=(6,5))\n",
    "axvline(0, c=\"k\", ls=\"--\", alpha=0.5)\n",
    "ncalls_hmc = sum(chain.sample_stats[\"n_steps\"]) + sum(chain.warmup_sample_stats[\"n_steps\"])\n",
    "hist(\n",
    "    chain[\"posterior\"][\"θ\"].to_series(), \n",
    "    bins=30, density=True, alpha=0.5, color=\"C0\",\n",
    "    label=\"HMC (%.2fs, %i ∇logP calls)\"%(t_hmc, ncalls_hmc)\n",
    ")\n",
    "θs = linspace(*xlim())\n",
    "ncalls_muse = sum(\n",
    "    [s.nfev for h in result.history for s in [h[\"MAP_history_dat\"]]+h[\"MAP_history_sims\"]]\n",
    ")\n",
    "plot(\n",
    "    θs, stats.norm(result.θ, sqrt(result.Σ[0,0])).pdf(θs), \n",
    "    color=\"C1\", label=\"MUSE (%.2fs,  %i ∇logP calls)\"%(t_muse, ncalls_muse)\n",
    ")\n",
    "hist(\n",
    "    mfvi.sample(1000)[\"posterior\"][\"θ\"].to_series(), \n",
    "    bins=30, density=True, alpha=0.5, color=\"C2\",\n",
    "    label=\"MFVI (%.2fs)\"%t_mfvi\n",
    ")\n",
    "ylim(0, ylim()[1]*1.2)\n",
    "legend(frameon=True)\n",
    "xlabel(r\"$\\theta$\")\n",
    "ylabel(r\"$\\mathcal{P}(\\theta\\,|\\,x)$\")\n",
    "title(\"10000-dimensional noisy funnel\");"
   ]
  },
  {
   "cell_type": "markdown",
   "id": "07d251d1",
   "metadata": {},
   "source": [
    "Note that due to PyMC overhead, the timing difference between HMC and MUSE is less drastic than the number of gradient calls. For more realistic and expensive posterior functions, this overhead becomes negligible. If you are working with small problems and need less overhead, the Jax or Numpy interfaces will be faster (or even consider using the Julia package [MuseInference.jl](https://cosmicmar.com/MuseInference.jl) which is the fastest of all options)."
   ]
  }
 ],
 "metadata": {
  "jupytext": {
   "formats": "md,ipynb",
   "text_representation": {
    "extension": ".md",
    "format_name": "markdown",
    "format_version": "1.3",
    "jupytext_version": "1.13.8"
   }
  },
  "kernelspec": {
   "display_name": "Python 3.9.7 ('.venv': poetry)",
   "language": "python",
   "name": "python3"
  },
  "language_info": {
   "codemirror_mode": {
    "name": "ipython",
    "version": 3
   },
   "file_extension": ".py",
   "mimetype": "text/x-python",
   "name": "python",
   "nbconvert_exporter": "python",
   "pygments_lexer": "ipython3",
   "version": "3.9.13"
  }
 },
 "nbformat": 4,
 "nbformat_minor": 5
}
