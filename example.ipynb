{
 "cells": [
  {
   "cell_type": "markdown",
   "id": "b7e2e898",
   "metadata": {},
   "source": [
    "# Example"
   ]
  },
  {
   "cell_type": "markdown",
   "id": "f81a68d5",
   "metadata": {},
   "source": [
    "This package allows defining your inference problem with:\n",
    "\n",
    "* the [PyMC](https://docs.pymc.io/) probabilistic programming language\n",
    "* by coding up the posterior by-hand and using [Jax](https://jax.readthedocs.io/) to automatically compute the necessary posterior gradients\n",
    "* by specifying the posterior and its gradients completely by-hand\n",
    "\n",
    "We'll start with PyMC, since it is the easiest. First, load up the relevant packages:"
   ]
  },
  {
   "cell_type": "code",
   "execution_count": 1,
   "id": "4858edc9",
   "metadata": {
    "execution": {
     "iopub.execute_input": "2022-06-04T07:10:36.804059Z",
     "iopub.status.busy": "2022-06-04T07:10:36.803591Z",
     "iopub.status.idle": "2022-06-04T07:10:46.840201Z",
     "shell.execute_reply": "2022-06-04T07:10:46.839569Z"
    }
   },
   "outputs": [
    {
     "name": "stdout",
     "output_type": "stream",
     "text": [
      "Populating the interactive namespace from numpy and matplotlib\n"
     ]
    }
   ],
   "source": [
    "%pylab inline\n",
    "from scipy import stats\n",
    "import pymc as pm\n",
    "from ttictoc import tic, toc\n",
    "from muse_inference.pymc import PyMCMuseProblem"
   ]
  },
  {
   "cell_type": "code",
   "execution_count": 2,
   "id": "d5660511",
   "metadata": {
    "execution": {
     "iopub.execute_input": "2022-06-04T07:10:46.843683Z",
     "iopub.status.busy": "2022-06-04T07:10:46.842881Z",
     "iopub.status.idle": "2022-06-04T07:10:46.890423Z",
     "shell.execute_reply": "2022-06-04T07:10:46.889865Z"
    },
    "nbsphinx": "hidden",
    "tags": []
   },
   "outputs": [],
   "source": [
    "%config InlineBackend.print_figure_kwargs = {'bbox_inches': 'tight', 'dpi': 110}\n",
    "%load_ext autoreload\n",
    "%autoreload 2\n",
    "import logging, warnings\n",
    "logging.getLogger(\"pymc\").setLevel(logging.FATAL)\n",
    "warnings.filterwarnings(\"ignore\")"
   ]
  },
  {
   "cell_type": "markdown",
   "id": "961d8347",
   "metadata": {},
   "source": [
    "As an example, consider the following hierarchical problem, which has the classic [Neal's Funnel](https://mc-stan.org/docs/2_18/stan-users-guide/reparameterization-section.html) problem embedded in it. Neal's funnel is a standard example of a non-Gaussian latent space which HMC struggles to sample efficiently without extra tricks. Specifically, we consider the model defined by:\n",
    "\n",
    "$$\n",
    "\\begin{aligned}\n",
    "\\theta &\\sim {\\rm Normal(0,3)} \\\\ \n",
    "z_i &\\sim {\\rm Normal}(0,\\exp(\\theta/2)) \\\\ \n",
    "x_i &\\sim {\\rm Normal}(z_i, 1)\n",
    "\\end{aligned}\n",
    "$$\n",
    "\n",
    "for $i=1..10000$. This problem can be described by the following PyMC model:"
   ]
  },
  {
   "cell_type": "code",
   "execution_count": 3,
   "id": "64f1f7a8",
   "metadata": {
    "execution": {
     "iopub.execute_input": "2022-06-04T07:10:46.893436Z",
     "iopub.status.busy": "2022-06-04T07:10:46.892920Z",
     "iopub.status.idle": "2022-06-04T07:10:46.908147Z",
     "shell.execute_reply": "2022-06-04T07:10:46.907587Z"
    }
   },
   "outputs": [],
   "source": [
    "def gen_funnel(x=None, θ=None, rng=None):\n",
    "    with pm.Model(rng_seeder=rng) as funnel:\n",
    "        θ = pm.Normal(\"θ\", mu=0, sigma=3) if θ is None else θ\n",
    "        z = pm.Normal(\"z\", mu=0, sigma=np.exp(θ/2), size=10000)\n",
    "        x = pm.Normal(\"x\", mu=z, sigma=1, observed=x)\n",
    "    return funnel"
   ]
  },
  {
   "cell_type": "markdown",
   "id": "0354cfa0",
   "metadata": {},
   "source": [
    "Next, lets choose a true value of $\\theta=0$ and generate some simulated data, $x$, which we'll use as \"observations\":"
   ]
  },
  {
   "cell_type": "code",
   "execution_count": 4,
   "id": "b97f6298",
   "metadata": {
    "execution": {
     "iopub.execute_input": "2022-06-04T07:10:46.910739Z",
     "iopub.status.busy": "2022-06-04T07:10:46.910549Z",
     "iopub.status.idle": "2022-06-04T07:10:50.719458Z",
     "shell.execute_reply": "2022-06-04T07:10:50.718788Z"
    }
   },
   "outputs": [],
   "source": [
    "rng = np.random.RandomState(0)\n",
    "x_obs = pm.sample_prior_predictive(1, model=gen_funnel(θ=0, rng=rng)).prior.x[0,0]\n",
    "model = gen_funnel(x=x_obs, rng=rng)"
   ]
  },
  {
   "cell_type": "code",
   "execution_count": 5,
   "id": "e9aa5f06",
   "metadata": {
    "execution": {
     "iopub.execute_input": "2022-06-04T07:10:50.722882Z",
     "iopub.status.busy": "2022-06-04T07:10:50.722506Z",
     "iopub.status.idle": "2022-06-04T07:12:04.672840Z",
     "shell.execute_reply": "2022-06-04T07:12:04.672241Z"
    },
    "nbsphinx": "hidden",
    "tags": []
   },
   "outputs": [],
   "source": [
    "# warmup so timing results are more fair\n",
    "with model:\n",
    "    pm.sample(10, tune=10, cores=1, chains=1, discard_tuned_samples=False, random_seed=0, progressbar=False)\n",
    "    pm.fit(10, method=\"advi\", obj_n_mc=10, tf_n_mc=10, progressbar=False)\n",
    "prob = PyMCMuseProblem(model)\n",
    "result = prob.solve(θ_start=0, nsims=10, maxsteps=2)"
   ]
  },
  {
   "cell_type": "markdown",
   "id": "7ff889a1",
   "metadata": {},
   "source": [
    "We can run HMC on the problem to compute the \"true\" answer to compare against:"
   ]
  },
  {
   "cell_type": "code",
   "execution_count": 6,
   "id": "39db5d02",
   "metadata": {
    "execution": {
     "iopub.execute_input": "2022-06-04T07:12:04.676446Z",
     "iopub.status.busy": "2022-06-04T07:12:04.675827Z",
     "iopub.status.idle": "2022-06-04T07:12:22.534535Z",
     "shell.execute_reply": "2022-06-04T07:12:22.533984Z"
    }
   },
   "outputs": [
    {
     "data": {
      "text/html": [
       "\n",
       "<style>\n",
       "    /* Turns off some styling */\n",
       "    progress {\n",
       "        /* gets rid of default border in Firefox and Opera. */\n",
       "        border: none;\n",
       "        /* Needs to be in here for Safari polyfill so background images work as expected. */\n",
       "        background-size: auto;\n",
       "    }\n",
       "    .progress-bar-interrupted, .progress-bar-interrupted::-webkit-progress-bar {\n",
       "        background: #F44336;\n",
       "    }\n",
       "</style>\n"
      ],
      "text/plain": [
       "<IPython.core.display.HTML object>"
      ]
     },
     "metadata": {},
     "output_type": "display_data"
    },
    {
     "data": {
      "text/html": [
       "\n",
       "    <div>\n",
       "      <progress value='1000' class='' max='1000' style='width:300px; height:20px; vertical-align: middle;'></progress>\n",
       "      100.00% [1000/1000 00:16<00:00 Sampling chain 0, 0 divergences]\n",
       "    </div>\n",
       "    "
      ],
      "text/plain": [
       "<IPython.core.display.HTML object>"
      ]
     },
     "metadata": {},
     "output_type": "display_data"
    }
   ],
   "source": [
    "with model:\n",
    "    tic()\n",
    "    np.random.seed(1)\n",
    "    chain = pm.sample(500, tune=500, chains=1, discard_tuned_samples=False)\n",
    "    t_hmc = toc()"
   ]
  },
  {
   "cell_type": "markdown",
   "id": "14bec375",
   "metadata": {},
   "source": [
    "We next compute the MUSE estimate for the same problem. To reach the same Monte Carlo error as HMC, the number of MUSE simulations should be the same as the effective sample size of the chain we just ran. This is:"
   ]
  },
  {
   "cell_type": "code",
   "execution_count": 7,
   "id": "6fdf98f3",
   "metadata": {
    "execution": {
     "iopub.execute_input": "2022-06-04T07:12:22.537671Z",
     "iopub.status.busy": "2022-06-04T07:12:22.537476Z",
     "iopub.status.idle": "2022-06-04T07:12:25.977091Z",
     "shell.execute_reply": "2022-06-04T07:12:25.976554Z"
    }
   },
   "outputs": [
    {
     "data": {
      "text/plain": [
       "59"
      ]
     },
     "execution_count": 7,
     "metadata": {},
     "output_type": "execute_result"
    }
   ],
   "source": [
    "nsims = int(pm.ess(chain)[\"θ\"])\n",
    "nsims"
   ]
  },
  {
   "cell_type": "markdown",
   "id": "27e858bd",
   "metadata": {},
   "source": [
    "Running the MUSE estimate, "
   ]
  },
  {
   "cell_type": "code",
   "execution_count": 8,
   "id": "7fad7870",
   "metadata": {
    "execution": {
     "iopub.execute_input": "2022-06-04T07:12:25.979894Z",
     "iopub.status.busy": "2022-06-04T07:12:25.979699Z",
     "iopub.status.idle": "2022-06-04T07:12:34.943529Z",
     "shell.execute_reply": "2022-06-04T07:12:34.942863Z"
    }
   },
   "outputs": [
    {
     "name": "stderr",
     "output_type": "stream",
     "text": [
      "\r",
      "MUSE:   0%|          | 0/3000 [00:00<?, ?it/s]"
     ]
    },
    {
     "name": "stderr",
     "output_type": "stream",
     "text": [
      "\r",
      "MUSE:   0%|          | 5/3000 [00:00<01:35, 31.27it/s]"
     ]
    },
    {
     "name": "stderr",
     "output_type": "stream",
     "text": [
      "\r",
      "MUSE:   1%|          | 17/3000 [00:00<00:42, 70.69it/s]"
     ]
    },
    {
     "name": "stderr",
     "output_type": "stream",
     "text": [
      "\r",
      "MUSE:   1%|          | 25/3000 [00:00<00:48, 61.60it/s]"
     ]
    },
    {
     "name": "stderr",
     "output_type": "stream",
     "text": [
      "\r",
      "MUSE:   1%|          | 37/3000 [00:00<00:47, 62.47it/s]"
     ]
    },
    {
     "name": "stderr",
     "output_type": "stream",
     "text": [
      "\r",
      "MUSE:   2%|▏         | 49/3000 [00:00<00:38, 76.12it/s]"
     ]
    },
    {
     "name": "stderr",
     "output_type": "stream",
     "text": [
      "\r",
      "MUSE:   2%|▏         | 58/3000 [00:00<00:43, 68.40it/s]"
     ]
    },
    {
     "name": "stderr",
     "output_type": "stream",
     "text": [
      "\r",
      "MUSE:   2%|▏         | 66/3000 [00:01<00:48, 60.35it/s]"
     ]
    },
    {
     "name": "stderr",
     "output_type": "stream",
     "text": [
      "\r",
      "MUSE:   2%|▏         | 73/3000 [00:01<00:51, 56.79it/s]"
     ]
    },
    {
     "name": "stderr",
     "output_type": "stream",
     "text": [
      "\r",
      "MUSE:   3%|▎         | 83/3000 [00:01<00:50, 57.24it/s]"
     ]
    },
    {
     "name": "stderr",
     "output_type": "stream",
     "text": [
      "\r",
      "MUSE:   3%|▎         | 95/3000 [00:01<00:41, 70.63it/s]"
     ]
    },
    {
     "name": "stderr",
     "output_type": "stream",
     "text": [
      "\r",
      "MUSE:   3%|▎         | 103/3000 [00:01<00:44, 65.01it/s]"
     ]
    },
    {
     "name": "stderr",
     "output_type": "stream",
     "text": [
      "\r",
      "MUSE:   4%|▍         | 114/3000 [00:01<00:45, 63.03it/s]"
     ]
    },
    {
     "name": "stderr",
     "output_type": "stream",
     "text": [
      "\r",
      "MUSE:   4%|▍         | 121/3000 [00:01<00:50, 56.68it/s]"
     ]
    },
    {
     "name": "stderr",
     "output_type": "stream",
     "text": [
      "\r",
      "MUSE:   4%|▍         | 129/3000 [00:02<00:51, 55.51it/s]"
     ]
    },
    {
     "name": "stderr",
     "output_type": "stream",
     "text": [
      "\r",
      "MUSE:   5%|▍         | 141/3000 [00:02<00:41, 69.06it/s]"
     ]
    },
    {
     "name": "stderr",
     "output_type": "stream",
     "text": [
      "\r",
      "MUSE:   5%|▍         | 149/3000 [00:02<00:44, 63.71it/s]"
     ]
    },
    {
     "name": "stderr",
     "output_type": "stream",
     "text": [
      "\r",
      "MUSE:   5%|▌         | 160/3000 [00:02<00:45, 63.09it/s]"
     ]
    },
    {
     "name": "stderr",
     "output_type": "stream",
     "text": [
      "\r",
      "MUSE:   6%|▌         | 172/3000 [00:02<00:37, 75.11it/s]"
     ]
    },
    {
     "name": "stderr",
     "output_type": "stream",
     "text": [
      "\r",
      "MUSE:   6%|▌         | 181/3000 [00:02<00:49, 56.39it/s]"
     ]
    },
    {
     "name": "stderr",
     "output_type": "stream",
     "text": [
      "\r",
      "MUSE:   6%|▋         | 191/3000 [00:03<00:48, 57.60it/s]"
     ]
    },
    {
     "name": "stderr",
     "output_type": "stream",
     "text": [
      "\r",
      "MUSE:   7%|▋         | 204/3000 [00:03<00:39, 70.90it/s]"
     ]
    },
    {
     "name": "stderr",
     "output_type": "stream",
     "text": [
      "\r",
      "MUSE:   7%|▋         | 213/3000 [00:03<00:41, 66.63it/s]"
     ]
    },
    {
     "name": "stderr",
     "output_type": "stream",
     "text": [
      "\r",
      "MUSE:   7%|▋         | 221/3000 [00:03<00:44, 61.99it/s]"
     ]
    },
    {
     "name": "stderr",
     "output_type": "stream",
     "text": [
      "\r",
      "MUSE:   8%|▊         | 233/3000 [00:03<00:37, 74.48it/s]"
     ]
    },
    {
     "name": "stderr",
     "output_type": "stream",
     "text": [
      "\r",
      "MUSE:   8%|▊         | 242/3000 [00:03<00:48, 56.58it/s]"
     ]
    },
    {
     "name": "stderr",
     "output_type": "stream",
     "text": [
      "\r",
      "MUSE:   8%|▊         | 255/3000 [00:04<00:45, 60.38it/s]"
     ]
    },
    {
     "name": "stderr",
     "output_type": "stream",
     "text": [
      "\r",
      "MUSE:   9%|▉         | 268/3000 [00:04<00:43, 62.70it/s]"
     ]
    },
    {
     "name": "stderr",
     "output_type": "stream",
     "text": [
      "\r",
      "MUSE:   9%|▉         | 281/3000 [00:04<00:36, 74.40it/s]"
     ]
    },
    {
     "name": "stderr",
     "output_type": "stream",
     "text": [
      "\r",
      "MUSE:  10%|▉         | 290/3000 [00:04<00:39, 69.13it/s]"
     ]
    },
    {
     "name": "stderr",
     "output_type": "stream",
     "text": [
      "\r",
      "MUSE:  10%|▉         | 298/3000 [00:04<00:42, 64.27it/s]"
     ]
    },
    {
     "name": "stderr",
     "output_type": "stream",
     "text": [
      "\r",
      "MUSE:  10%|█         | 305/3000 [00:04<00:46, 58.01it/s]"
     ]
    },
    {
     "name": "stderr",
     "output_type": "stream",
     "text": [
      "\r",
      "MUSE:  10%|█         | 314/3000 [00:04<00:46, 57.61it/s]"
     ]
    },
    {
     "name": "stderr",
     "output_type": "stream",
     "text": [
      "\r",
      "MUSE:  11%|█         | 327/3000 [00:05<00:37, 71.84it/s]"
     ]
    },
    {
     "name": "stderr",
     "output_type": "stream",
     "text": [
      "\r",
      "MUSE:  11%|█         | 335/3000 [00:05<00:40, 66.00it/s]"
     ]
    },
    {
     "name": "stderr",
     "output_type": "stream",
     "text": [
      "\r",
      "MUSE:  12%|█▏        | 345/3000 [00:05<00:41, 64.02it/s]"
     ]
    },
    {
     "name": "stderr",
     "output_type": "stream",
     "text": [
      "\r",
      "MUSE:  12%|█▏        | 358/3000 [00:05<00:34, 77.22it/s]"
     ]
    },
    {
     "name": "stderr",
     "output_type": "stream",
     "text": [
      "\r",
      "MUSE:  12%|█▏        | 367/3000 [00:05<00:45, 58.29it/s]"
     ]
    },
    {
     "name": "stderr",
     "output_type": "stream",
     "text": [
      "\r",
      "MUSE:  12%|█▎        | 375/3000 [00:05<00:46, 56.52it/s]"
     ]
    },
    {
     "name": "stderr",
     "output_type": "stream",
     "text": [
      "\r",
      "MUSE:  13%|█▎        | 388/3000 [00:06<00:37, 70.31it/s]"
     ]
    },
    {
     "name": "stderr",
     "output_type": "stream",
     "text": [
      "\r",
      "MUSE:  13%|█▎        | 397/3000 [00:06<00:39, 66.02it/s]"
     ]
    },
    {
     "name": "stderr",
     "output_type": "stream",
     "text": [
      "\r",
      "MUSE:  14%|█▎        | 409/3000 [00:06<00:39, 66.33it/s]"
     ]
    },
    {
     "name": "stderr",
     "output_type": "stream",
     "text": [
      "\r",
      "MUSE:  14%|█▍        | 421/3000 [00:06<00:40, 63.74it/s]"
     ]
    },
    {
     "name": "stderr",
     "output_type": "stream",
     "text": [
      "\r",
      "MUSE:  14%|█▍        | 428/3000 [00:06<00:43, 59.64it/s]"
     ]
    },
    {
     "name": "stderr",
     "output_type": "stream",
     "text": [
      "\r",
      "MUSE:  15%|█▍        | 437/3000 [00:06<00:43, 58.64it/s]"
     ]
    },
    {
     "name": "stderr",
     "output_type": "stream",
     "text": [
      "\r",
      "MUSE:  15%|█▌        | 450/3000 [00:07<00:35, 72.24it/s]"
     ]
    },
    {
     "name": "stderr",
     "output_type": "stream",
     "text": [
      "\r",
      "MUSE:  15%|█▌        | 458/3000 [00:07<00:38, 65.99it/s]"
     ]
    },
    {
     "name": "stderr",
     "output_type": "stream",
     "text": [
      "\r",
      "MUSE:  16%|█▌        | 468/3000 [00:07<00:39, 64.09it/s]"
     ]
    },
    {
     "name": "stderr",
     "output_type": "stream",
     "text": [
      "\r",
      "MUSE: 100%|██████████| 3000/3000 [00:07<00:00, 4563.89it/s]"
     ]
    },
    {
     "name": "stderr",
     "output_type": "stream",
     "text": [
      "\r",
      "MUSE: 100%|██████████| 3000/3000 [00:07<00:00, 398.81it/s] "
     ]
    },
    {
     "name": "stderr",
     "output_type": "stream",
     "text": [
      "\n"
     ]
    },
    {
     "name": "stderr",
     "output_type": "stream",
     "text": [
      "\r",
      "get_H:   0%|          | 0/15 [00:00<?, ?it/s]"
     ]
    },
    {
     "name": "stderr",
     "output_type": "stream",
     "text": [
      "\r",
      "get_H:  33%|███▎      | 5/15 [00:00<00:00, 36.08it/s]"
     ]
    },
    {
     "name": "stderr",
     "output_type": "stream",
     "text": [
      "\r",
      "get_H: 100%|██████████| 15/15 [00:00<00:00, 66.61it/s]"
     ]
    },
    {
     "name": "stderr",
     "output_type": "stream",
     "text": [
      "\r",
      "get_H: 100%|██████████| 15/15 [00:00<00:00, 61.01it/s]"
     ]
    },
    {
     "name": "stderr",
     "output_type": "stream",
     "text": [
      "\n"
     ]
    }
   ],
   "source": [
    "prob = PyMCMuseProblem(model)\n",
    "rng = np.random.SeedSequence(1)\n",
    "tic()\n",
    "result = prob.solve(θ_start=0, nsims=nsims, rng=rng, progress=True, save_MAP_history=True)\n",
    "t_muse = toc()"
   ]
  },
  {
   "cell_type": "markdown",
   "id": "a5ae78a1",
   "metadata": {},
   "source": [
    "Lets also try mean-field variational inference (MFVI) to compare to another approximate method."
   ]
  },
  {
   "cell_type": "code",
   "execution_count": 9,
   "id": "92a773e0",
   "metadata": {
    "execution": {
     "iopub.execute_input": "2022-06-04T07:12:34.946270Z",
     "iopub.status.busy": "2022-06-04T07:12:34.945804Z",
     "iopub.status.idle": "2022-06-04T07:13:33.850786Z",
     "shell.execute_reply": "2022-06-04T07:13:33.850209Z"
    }
   },
   "outputs": [
    {
     "data": {
      "text/html": [
       "\n",
       "<style>\n",
       "    /* Turns off some styling */\n",
       "    progress {\n",
       "        /* gets rid of default border in Firefox and Opera. */\n",
       "        border: none;\n",
       "        /* Needs to be in here for Safari polyfill so background images work as expected. */\n",
       "        background-size: auto;\n",
       "    }\n",
       "    .progress-bar-interrupted, .progress-bar-interrupted::-webkit-progress-bar {\n",
       "        background: #F44336;\n",
       "    }\n",
       "</style>\n"
      ],
      "text/plain": [
       "<IPython.core.display.HTML object>"
      ]
     },
     "metadata": {},
     "output_type": "display_data"
    },
    {
     "data": {
      "text/html": [
       "\n",
       "    <div>\n",
       "      <progress value='10000' class='' max='10000' style='width:300px; height:20px; vertical-align: middle;'></progress>\n",
       "      100.00% [10000/10000 00:57<00:00 Average Loss = 17,851]\n",
       "    </div>\n",
       "    "
      ],
      "text/plain": [
       "<IPython.core.display.HTML object>"
      ]
     },
     "metadata": {},
     "output_type": "display_data"
    }
   ],
   "source": [
    "with model:\n",
    "    tic()\n",
    "    mfvi = pm.fit(10000, method=\"advi\", obj_n_mc=10, tf_n_mc=10)\n",
    "    t_mfvi = toc()"
   ]
  },
  {
   "cell_type": "markdown",
   "id": "38deaca4",
   "metadata": {},
   "source": [
    "Now lets plot the different estimates. In this case, MUSE gives a nearly perfect answer using only a fraction posterior gradient calls. MFVI struggles in both speed and accuracy by comparison."
   ]
  },
  {
   "cell_type": "code",
   "execution_count": 10,
   "id": "04a4766f",
   "metadata": {
    "execution": {
     "iopub.execute_input": "2022-06-04T07:13:33.853729Z",
     "iopub.status.busy": "2022-06-04T07:13:33.853180Z",
     "iopub.status.idle": "2022-06-04T07:13:40.737126Z",
     "shell.execute_reply": "2022-06-04T07:13:40.736503Z"
    }
   },
   "outputs": [
    {
     "data": {
      "image/png": "[encoded data removed]",
      "text/plain": [
       "<Figure size 432x360 with 1 Axes>"
      ]
     },
     "metadata": {
      "needs_background": "light"
     },
     "output_type": "display_data"
    }
   ],
   "source": [
    "figure(figsize=(6,5))\n",
    "axvline(0, c=\"k\", ls=\"--\", alpha=0.5)\n",
    "ncalls_hmc = sum(chain.sample_stats[\"n_steps\"]) + sum(chain.warmup_sample_stats[\"n_steps\"])\n",
    "hist(\n",
    "    chain[\"posterior\"][\"θ\"].to_series(), \n",
    "    bins=30, density=True, alpha=0.5, color=\"C0\",\n",
    "    label=\"HMC (%.2fs, %i ∇logP calls)\"%(t_hmc, ncalls_hmc)\n",
    ")\n",
    "θs = linspace(*xlim())\n",
    "ncalls_muse = sum(\n",
    "    [s.nfev for h in result.history for s in [h[\"MAP_history_dat\"]]+h[\"MAP_history_sims\"]]\n",
    ")\n",
    "plot(\n",
    "    θs, stats.norm(result.θ, sqrt(result.Σ[0,0])).pdf(θs), \n",
    "    color=\"C1\", label=\"MUSE (%.2fs,  %i ∇logP calls)\"%(t_muse, ncalls_muse)\n",
    ")\n",
    "hist(\n",
    "    mfvi.sample(1000)[\"posterior\"][\"θ\"].to_series(), \n",
    "    bins=30, density=True, alpha=0.5, color=\"C2\",\n",
    "    label=\"MFVI (%.2fs)\"%t_mfvi\n",
    ")\n",
    "ylim(0, ylim()[1]*1.2)\n",
    "legend(frameon=True)\n",
    "xlabel(r\"$\\theta$\")\n",
    "ylabel(r\"$\\mathcal{P}(\\theta\\,|\\,x)$\")\n",
    "title(\"10000-dimensional noisy funnel\");"
   ]
  },
  {
   "cell_type": "markdown",
   "id": "85bbc7d3",
   "metadata": {},
   "source": [
    "Note that due to PyMC overhead, the timing difference between HMC and MUSE is less drastic than the number of gradient calls. For more realistic and expensive posterior functions, this overhead becomes negligible. If you are working with small problems and need less overhead, the Jax or Numpy interfaces will be faster (or even consider using the Julia package [MuseInference.jl](https://cosmicmar.com/MuseInference.jl) which is the fastest of all options)."
   ]
  }
 ],
 "metadata": {
  "jupytext": {
   "formats": "md,ipynb",
   "text_representation": {
    "extension": ".md",
    "format_name": "markdown",
    "format_version": "1.3",
    "jupytext_version": "1.13.8"
   }
  },
  "kernelspec": {
   "display_name": "Python 3.9.7 ('.venv': poetry)",
   "language": "python",
   "name": "python3"
  },
  "language_info": {
   "codemirror_mode": {
    "name": "ipython",
    "version": 3
   },
   "file_extension": ".py",
   "mimetype": "text/x-python",
   "name": "python",
   "nbconvert_exporter": "python",
   "pygments_lexer": "ipython3",
   "version": "3.9.13"
  }
 },
 "nbformat": 4,
 "nbformat_minor": 5
}
