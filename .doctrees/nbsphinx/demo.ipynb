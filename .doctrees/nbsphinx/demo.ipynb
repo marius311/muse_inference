{
 "cells": [
  {
   "cell_type": "markdown",
   "id": "38aad54b",
   "metadata": {},
   "source": [
    "# Demo"
   ]
  },
  {
   "cell_type": "code",
   "execution_count": 1,
   "id": "52b7852e",
   "metadata": {
    "execution": {
     "iopub.execute_input": "2022-01-22T09:07:55.636204Z",
     "iopub.status.busy": "2022-01-22T09:07:55.635434Z",
     "iopub.status.idle": "2022-01-22T09:07:57.094564Z",
     "shell.execute_reply": "2022-01-22T09:07:57.093912Z"
    },
    "nbsphinx": "hidden",
    "tags": []
   },
   "outputs": [],
   "source": [
    "%matplotlib inline\n",
    "%config InlineBackend.print_figure_kwargs = {'bbox_inches': 'tight', 'dpi': 110}\n",
    "%load_ext autoreload\n",
    "%autoreload 2"
   ]
  },
  {
   "cell_type": "markdown",
   "id": "1b3c0a7d",
   "metadata": {},
   "source": [
    "Sample text. $\\mathcal{P}(x\\,|\\,\\theta)$"
   ]
  },
  {
   "cell_type": "code",
   "execution_count": 2,
   "id": "f84160e1",
   "metadata": {
    "execution": {
     "iopub.execute_input": "2022-01-22T09:07:57.099640Z",
     "iopub.status.busy": "2022-01-22T09:07:57.098493Z",
     "iopub.status.idle": "2022-01-22T09:07:57.260556Z",
     "shell.execute_reply": "2022-01-22T09:07:57.259669Z"
    }
   },
   "outputs": [],
   "source": [
    "import matplotlib.pyplot as plt\n",
    "import muse_inference\n",
    "from muse_inference import MuseProblem\n",
    "import numpy as np"
   ]
  },
  {
   "cell_type": "code",
   "execution_count": 3,
   "id": "4ca216f6",
   "metadata": {
    "execution": {
     "iopub.execute_input": "2022-01-22T09:07:57.270606Z",
     "iopub.status.busy": "2022-01-22T09:07:57.269926Z",
     "iopub.status.idle": "2022-01-22T09:07:57.280923Z",
     "shell.execute_reply": "2022-01-22T09:07:57.280363Z"
    }
   },
   "outputs": [],
   "source": [
    "θ_true = 1.\n",
    "(θ1_true, θ2_true) = (-1., 2.)"
   ]
  },
  {
   "cell_type": "markdown",
   "id": "0d760c76",
   "metadata": {
    "incorrectly_encoded_metadata": "jp-MarkdownHeadingCollapsed=true tags=[] jp-MarkdownHeadingCollapsed=true jp-MarkdownHeadingCollapsed=true tags=[] jp-MarkdownHeadingCollapsed=true",
    "tags": []
   },
   "source": [
    "## With numpy"
   ]
  },
  {
   "cell_type": "markdown",
   "id": "6e3da07a",
   "metadata": {
    "incorrectly_encoded_metadata": "jp-MarkdownHeadingCollapsed=true",
    "tags": []
   },
   "source": [
    "### Scalar"
   ]
  },
  {
   "cell_type": "code",
   "execution_count": 4,
   "id": "80067e3c",
   "metadata": {
    "execution": {
     "iopub.execute_input": "2022-01-22T09:07:57.288692Z",
     "iopub.status.busy": "2022-01-22T09:07:57.287492Z",
     "iopub.status.idle": "2022-01-22T09:07:57.299969Z",
     "shell.execute_reply": "2022-01-22T09:07:57.300459Z"
    }
   },
   "outputs": [],
   "source": [
    "class NumpyFunnelMuseProblem(MuseProblem):\n",
    "    \n",
    "    def __init__(self, N):\n",
    "        super().__init__()\n",
    "        self.N = N\n",
    "    \n",
    "    def sample_x_z(self, rng, θ):\n",
    "        z = rng.normal(size=self.N) * np.exp(θ/2)\n",
    "        x = z + rng.normal(size=self.N)\n",
    "        return (x, z)\n",
    "    \n",
    "    def gradθ_logLike(self, x, z, θ):\n",
    "        return np.sum(z**2)/(2*np.exp(θ)) - self.N/2\n",
    "    \n",
    "    def logLike_and_gradz_logLike(self, x, z, θ):\n",
    "        logLike = -(np.sum((x - z)**2) + np.sum(z**2) / np.exp(θ) + 512*θ) / 2\n",
    "        gradz_logLike = x - z * (1 + np.exp(-θ))\n",
    "        return (logLike, gradz_logLike)\n",
    "    \n",
    "    def gradθ_and_hessθ_logPrior(self, θ):\n",
    "        return (-θ/(3**2), -1/3**2)"
   ]
  },
  {
   "cell_type": "code",
   "execution_count": 5,
   "id": "7ac059c4",
   "metadata": {
    "execution": {
     "iopub.execute_input": "2022-01-22T09:07:57.304726Z",
     "iopub.status.busy": "2022-01-22T09:07:57.304183Z",
     "iopub.status.idle": "2022-01-22T09:07:57.316824Z",
     "shell.execute_reply": "2022-01-22T09:07:57.316250Z"
    }
   },
   "outputs": [],
   "source": [
    "prob = NumpyFunnelMuseProblem(512)\n",
    "rng = np.random.RandomState(0)\n",
    "(x, z) = prob.sample_x_z(rng, θ_true)\n",
    "prob.x = x"
   ]
  },
  {
   "cell_type": "code",
   "execution_count": 6,
   "id": "a89bfef4",
   "metadata": {
    "execution": {
     "iopub.execute_input": "2022-01-22T09:07:57.321138Z",
     "iopub.status.busy": "2022-01-22T09:07:57.320519Z",
     "iopub.status.idle": "2022-01-22T09:07:58.764205Z",
     "shell.execute_reply": "2022-01-22T09:07:58.763652Z"
    }
   },
   "outputs": [
    {
     "name": "stderr",
     "output_type": "stream",
     "text": [
      "\r",
      "  0%|          | 0/1010 [00:00<?, ?it/s]"
     ]
    },
    {
     "name": "stderr",
     "output_type": "stream",
     "text": [
      "\r",
      "  7%|▋         | 68/1010 [00:00<00:01, 678.04it/s]"
     ]
    },
    {
     "name": "stderr",
     "output_type": "stream",
     "text": [
      "\r",
      " 13%|█▎        | 136/1010 [00:00<00:01, 643.51it/s]"
     ]
    },
    {
     "name": "stderr",
     "output_type": "stream",
     "text": [
      "\r",
      " 20%|██        | 203/1010 [00:00<00:01, 631.20it/s]"
     ]
    },
    {
     "name": "stderr",
     "output_type": "stream",
     "text": [
      "\r",
      " 28%|██▊       | 281/1010 [00:00<00:01, 685.35it/s]"
     ]
    },
    {
     "name": "stderr",
     "output_type": "stream",
     "text": [
      "\r",
      " 35%|███▍      | 352/1010 [00:00<00:00, 692.60it/s]"
     ]
    },
    {
     "name": "stderr",
     "output_type": "stream",
     "text": [
      "\r",
      " 42%|████▏     | 424/1010 [00:00<00:00, 699.51it/s]"
     ]
    },
    {
     "name": "stderr",
     "output_type": "stream",
     "text": [
      "\r",
      " 50%|████▉     | 501/1010 [00:00<00:00, 720.91it/s]"
     ]
    },
    {
     "name": "stderr",
     "output_type": "stream",
     "text": [
      "\r",
      " 57%|█████▋    | 575/1010 [00:00<00:00, 725.67it/s]"
     ]
    },
    {
     "name": "stderr",
     "output_type": "stream",
     "text": [
      "\r",
      " 64%|██████▍   | 648/1010 [00:00<00:00, 723.38it/s]"
     ]
    },
    {
     "name": "stderr",
     "output_type": "stream",
     "text": [
      "\r",
      " 71%|███████▏  | 721/1010 [00:01<00:00, 724.74it/s]"
     ]
    },
    {
     "name": "stderr",
     "output_type": "stream",
     "text": [
      "\r",
      " 79%|███████▉  | 802/1010 [00:01<00:00, 748.61it/s]"
     ]
    },
    {
     "name": "stderr",
     "output_type": "stream",
     "text": [
      "\r",
      " 87%|████████▋ | 877/1010 [00:01<00:00, 742.48it/s]"
     ]
    },
    {
     "name": "stderr",
     "output_type": "stream",
     "text": [
      "\r",
      " 94%|█████████▍| 952/1010 [00:01<00:00, 739.03it/s]"
     ]
    },
    {
     "name": "stderr",
     "output_type": "stream",
     "text": [
      "\r",
      "100%|██████████| 1010/1010 [00:01<00:00, 718.88it/s]"
     ]
    },
    {
     "name": "stderr",
     "output_type": "stream",
     "text": [
      "\n"
     ]
    }
   ],
   "source": [
    "result = prob.solve(0, rng=np.random.SeedSequence(0), gradz_logLike_atol=1e-4, progress=True, maxsteps=10);"
   ]
  },
  {
   "cell_type": "code",
   "execution_count": 7,
   "id": "e19daaa0",
   "metadata": {
    "execution": {
     "iopub.execute_input": "2022-01-22T09:07:58.771484Z",
     "iopub.status.busy": "2022-01-22T09:07:58.770007Z",
     "iopub.status.idle": "2022-01-22T09:07:58.975770Z",
     "shell.execute_reply": "2022-01-22T09:07:58.976174Z"
    }
   },
   "outputs": [
    {
     "data": {
      "image/png": "[encoded data removed]",
      "text/plain": [
       "<Figure size 432x288 with 1 Axes>"
      ]
     },
     "metadata": {
      "needs_background": "light"
     },
     "output_type": "display_data"
    }
   ],
   "source": [
    "plt.plot([h[\"θ\"] for h in result.history], \".-\")\n",
    "plt.xlabel(\"step\")\n",
    "plt.ylabel(\"θ\");"
   ]
  },
  {
   "cell_type": "markdown",
   "id": "a4e41e20",
   "metadata": {},
   "source": [
    "### Tuple"
   ]
  },
  {
   "cell_type": "code",
   "execution_count": 8,
   "id": "b84192f0",
   "metadata": {
    "execution": {
     "iopub.execute_input": "2022-01-22T09:07:58.987291Z",
     "iopub.status.busy": "2022-01-22T09:07:58.986330Z",
     "iopub.status.idle": "2022-01-22T09:07:59.002266Z",
     "shell.execute_reply": "2022-01-22T09:07:59.001774Z"
    }
   },
   "outputs": [],
   "source": [
    "class NumpyFunnelMuseProblem(MuseProblem):\n",
    "    \n",
    "    def __init__(self, N):\n",
    "        super().__init__()\n",
    "        self.N = N\n",
    "    \n",
    "    def sample_x_z(self, rng, θ):\n",
    "        (θ1, θ2) = θ\n",
    "        z1 = rng.normal(size=self.N) * np.exp(θ1/2)\n",
    "        z2 = rng.normal(size=self.N) * np.exp(θ2/2)        \n",
    "        x1 = z1 + rng.normal(size=self.N)\n",
    "        x2 = z2 + rng.normal(size=self.N)        \n",
    "        return ((x1,x2), (z1,z2))\n",
    "    \n",
    "    def gradθ_logLike(self, x, z, θ):\n",
    "        (θ1, θ2) = θ\n",
    "        (x1, x2) = x\n",
    "        (z1, z2) = z\n",
    "        return (np.sum(z1**2)/(2*np.exp(θ1)) - self.N/2, np.sum(z2**2)/(2*np.exp(θ2)) - self.N/2)\n",
    "    \n",
    "    def logLike_and_gradz_logLike(self, x, z, θ):\n",
    "        (θ1, θ2) = θ\n",
    "        (x1, x2) = x\n",
    "        (z1, z2) = z\n",
    "        logLike = -(np.sum((x1 - z1)**2) + np.sum(z1**2) / np.exp(θ1) + 512*θ1) / 2 -(np.sum((x2 - z2)**2) + np.sum(z2**2) / np.exp(θ2) + 512*θ2) / 2\n",
    "        gradz_logLike = (x1 - z1 * (1 + np.exp(-θ1)), x2 - z2 * (1 + np.exp(-θ2)))\n",
    "        return (logLike, gradz_logLike)\n",
    "    \n",
    "    def gradθ_and_hessθ_logPrior(self, θ):\n",
    "        (θ1, θ2) = θ\n",
    "        g = (-θ1/(3**2), -θ2/(3**2))\n",
    "        H = ((-1/3**2, 0),\n",
    "              (0,      -1/3**2))\n",
    "        return g, H"
   ]
  },
  {
   "cell_type": "code",
   "execution_count": 9,
   "id": "260b3931",
   "metadata": {
    "execution": {
     "iopub.execute_input": "2022-01-22T09:07:59.007646Z",
     "iopub.status.busy": "2022-01-22T09:07:59.006494Z",
     "iopub.status.idle": "2022-01-22T09:07:59.019527Z",
     "shell.execute_reply": "2022-01-22T09:07:59.020021Z"
    }
   },
   "outputs": [],
   "source": [
    "prob = NumpyFunnelMuseProblem(2048)\n",
    "rng = np.random.RandomState(0)\n",
    "x, z = prob.sample_x_z(rng, (θ1_true, θ2_true))\n",
    "prob.x = x"
   ]
  },
  {
   "cell_type": "code",
   "execution_count": 10,
   "id": "267267bd",
   "metadata": {
    "execution": {
     "iopub.execute_input": "2022-01-22T09:07:59.025248Z",
     "iopub.status.busy": "2022-01-22T09:07:59.024361Z",
     "iopub.status.idle": "2022-01-22T09:08:07.505815Z",
     "shell.execute_reply": "2022-01-22T09:08:07.506468Z"
    }
   },
   "outputs": [
    {
     "name": "stderr",
     "output_type": "stream",
     "text": [
      "\r",
      "  0%|          | 0/1010 [00:00<?, ?it/s]"
     ]
    },
    {
     "name": "stderr",
     "output_type": "stream",
     "text": [
      "\r",
      "  1%|          | 10/1010 [00:00<00:10, 93.64it/s]"
     ]
    },
    {
     "name": "stderr",
     "output_type": "stream",
     "text": [
      "\r",
      "  3%|▎         | 26/1010 [00:00<00:07, 129.10it/s]"
     ]
    },
    {
     "name": "stderr",
     "output_type": "stream",
     "text": [
      "\r",
      "  4%|▍         | 42/1010 [00:00<00:06, 140.83it/s]"
     ]
    },
    {
     "name": "stderr",
     "output_type": "stream",
     "text": [
      "\r",
      "  6%|▌         | 58/1010 [00:00<00:06, 147.10it/s]"
     ]
    },
    {
     "name": "stderr",
     "output_type": "stream",
     "text": [
      "\r",
      "  7%|▋         | 73/1010 [00:00<00:07, 132.74it/s]"
     ]
    },
    {
     "name": "stderr",
     "output_type": "stream",
     "text": [
      "\r",
      "  9%|▉         | 89/1010 [00:00<00:06, 139.96it/s]"
     ]
    },
    {
     "name": "stderr",
     "output_type": "stream",
     "text": [
      "\r",
      " 10%|█         | 104/1010 [00:00<00:06, 130.66it/s]"
     ]
    },
    {
     "name": "stderr",
     "output_type": "stream",
     "text": [
      "\r",
      " 12%|█▏        | 118/1010 [00:00<00:06, 127.61it/s]"
     ]
    },
    {
     "name": "stderr",
     "output_type": "stream",
     "text": [
      "\r",
      " 13%|█▎        | 131/1010 [00:01<00:07, 113.60it/s]"
     ]
    },
    {
     "name": "stderr",
     "output_type": "stream",
     "text": [
      "\r",
      " 14%|█▍        | 143/1010 [00:01<00:07, 114.81it/s]"
     ]
    },
    {
     "name": "stderr",
     "output_type": "stream",
     "text": [
      "\r",
      " 15%|█▌        | 155/1010 [00:01<00:07, 115.86it/s]"
     ]
    },
    {
     "name": "stderr",
     "output_type": "stream",
     "text": [
      "\r",
      " 17%|█▋        | 167/1010 [00:01<00:07, 116.72it/s]"
     ]
    },
    {
     "name": "stderr",
     "output_type": "stream",
     "text": [
      "\r",
      " 18%|█▊        | 179/1010 [00:01<00:07, 106.47it/s]"
     ]
    },
    {
     "name": "stderr",
     "output_type": "stream",
     "text": [
      "\r",
      " 19%|█▉        | 191/1010 [00:01<00:07, 110.04it/s]"
     ]
    },
    {
     "name": "stderr",
     "output_type": "stream",
     "text": [
      "\r",
      " 20%|██        | 203/1010 [00:01<00:07, 104.77it/s]"
     ]
    },
    {
     "name": "stderr",
     "output_type": "stream",
     "text": [
      "\r",
      " 21%|██        | 214/1010 [00:01<00:08, 98.63it/s] "
     ]
    },
    {
     "name": "stderr",
     "output_type": "stream",
     "text": [
      "\r",
      " 22%|██▏       | 227/1010 [00:01<00:07, 106.45it/s]"
     ]
    },
    {
     "name": "stderr",
     "output_type": "stream",
     "text": [
      "\r",
      " 24%|██▎       | 238/1010 [00:02<00:07, 98.35it/s] "
     ]
    },
    {
     "name": "stderr",
     "output_type": "stream",
     "text": [
      "\r",
      " 25%|██▍       | 251/1010 [00:02<00:07, 105.44it/s]"
     ]
    },
    {
     "name": "stderr",
     "output_type": "stream",
     "text": [
      "\r",
      " 26%|██▌       | 264/1010 [00:02<00:06, 110.52it/s]"
     ]
    },
    {
     "name": "stderr",
     "output_type": "stream",
     "text": [
      "\r",
      " 27%|██▋       | 277/1010 [00:02<00:06, 114.24it/s]"
     ]
    },
    {
     "name": "stderr",
     "output_type": "stream",
     "text": [
      "\r",
      " 29%|██▊       | 290/1010 [00:02<00:06, 117.03it/s]"
     ]
    },
    {
     "name": "stderr",
     "output_type": "stream",
     "text": [
      "\r",
      " 30%|██▉       | 302/1010 [00:02<00:06, 105.84it/s]"
     ]
    },
    {
     "name": "stderr",
     "output_type": "stream",
     "text": [
      "\r",
      " 31%|███       | 313/1010 [00:02<00:06, 103.39it/s]"
     ]
    },
    {
     "name": "stderr",
     "output_type": "stream",
     "text": [
      "\r",
      " 32%|███▏      | 326/1010 [00:02<00:06, 109.43it/s]"
     ]
    },
    {
     "name": "stderr",
     "output_type": "stream",
     "text": [
      "\r",
      " 34%|███▎      | 339/1010 [00:02<00:05, 114.63it/s]"
     ]
    },
    {
     "name": "stderr",
     "output_type": "stream",
     "text": [
      "\r",
      " 35%|███▍      | 352/1010 [00:03<00:05, 117.53it/s]"
     ]
    },
    {
     "name": "stderr",
     "output_type": "stream",
     "text": [
      "\r",
      " 36%|███▌      | 364/1010 [00:03<00:06, 107.03it/s]"
     ]
    },
    {
     "name": "stderr",
     "output_type": "stream",
     "text": [
      "\r",
      " 37%|███▋      | 377/1010 [00:03<00:05, 111.93it/s]"
     ]
    },
    {
     "name": "stderr",
     "output_type": "stream",
     "text": [
      "\r",
      " 39%|███▊      | 390/1010 [00:03<00:05, 116.51it/s]"
     ]
    },
    {
     "name": "stderr",
     "output_type": "stream",
     "text": [
      "\r",
      " 40%|███▉      | 403/1010 [00:03<00:05, 119.83it/s]"
     ]
    },
    {
     "name": "stderr",
     "output_type": "stream",
     "text": [
      "\r",
      " 41%|████      | 416/1010 [00:03<00:05, 105.30it/s]"
     ]
    },
    {
     "name": "stderr",
     "output_type": "stream",
     "text": [
      "\r",
      " 43%|████▎     | 430/1010 [00:03<00:05, 113.03it/s]"
     ]
    },
    {
     "name": "stderr",
     "output_type": "stream",
     "text": [
      "\r",
      " 44%|████▍     | 444/1010 [00:03<00:04, 119.96it/s]"
     ]
    },
    {
     "name": "stderr",
     "output_type": "stream",
     "text": [
      "\r",
      " 45%|████▌     | 457/1010 [00:03<00:04, 114.40it/s]"
     ]
    },
    {
     "name": "stderr",
     "output_type": "stream",
     "text": [
      "\r",
      " 47%|████▋     | 471/1010 [00:04<00:04, 120.93it/s]"
     ]
    },
    {
     "name": "stderr",
     "output_type": "stream",
     "text": [
      "\r",
      " 48%|████▊     | 485/1010 [00:04<00:04, 115.35it/s]"
     ]
    },
    {
     "name": "stderr",
     "output_type": "stream",
     "text": [
      "\r",
      " 49%|████▉     | 499/1010 [00:04<00:04, 120.42it/s]"
     ]
    },
    {
     "name": "stderr",
     "output_type": "stream",
     "text": [
      "\r",
      " 51%|█████     | 512/1010 [00:04<00:04, 105.86it/s]"
     ]
    },
    {
     "name": "stderr",
     "output_type": "stream",
     "text": [
      "\r",
      " 52%|█████▏    | 526/1010 [00:04<00:04, 113.63it/s]"
     ]
    },
    {
     "name": "stderr",
     "output_type": "stream",
     "text": [
      "\r",
      " 53%|█████▎    | 538/1010 [00:04<00:04, 109.65it/s]"
     ]
    },
    {
     "name": "stderr",
     "output_type": "stream",
     "text": [
      "\r",
      " 55%|█████▍    | 552/1010 [00:04<00:03, 116.30it/s]"
     ]
    },
    {
     "name": "stderr",
     "output_type": "stream",
     "text": [
      "\r",
      " 56%|█████▌    | 566/1010 [00:04<00:03, 120.53it/s]"
     ]
    },
    {
     "name": "stderr",
     "output_type": "stream",
     "text": [
      "\r",
      " 57%|█████▋    | 580/1010 [00:05<00:03, 124.84it/s]"
     ]
    },
    {
     "name": "stderr",
     "output_type": "stream",
     "text": [
      "\r",
      " 59%|█████▊    | 593/1010 [00:05<00:03, 125.70it/s]"
     ]
    },
    {
     "name": "stderr",
     "output_type": "stream",
     "text": [
      "\r",
      " 60%|██████    | 606/1010 [00:05<00:03, 115.39it/s]"
     ]
    },
    {
     "name": "stderr",
     "output_type": "stream",
     "text": [
      "\r",
      " 61%|██████    | 618/1010 [00:05<00:03, 114.36it/s]"
     ]
    },
    {
     "name": "stderr",
     "output_type": "stream",
     "text": [
      "\r",
      " 63%|██████▎   | 633/1010 [00:05<00:03, 122.78it/s]"
     ]
    },
    {
     "name": "stderr",
     "output_type": "stream",
     "text": [
      "\r",
      " 64%|██████▍   | 646/1010 [00:05<00:03, 116.13it/s]"
     ]
    },
    {
     "name": "stderr",
     "output_type": "stream",
     "text": [
      "\r",
      " 65%|██████▌   | 661/1010 [00:05<00:02, 124.58it/s]"
     ]
    },
    {
     "name": "stderr",
     "output_type": "stream",
     "text": [
      "\r",
      " 67%|██████▋   | 676/1010 [00:05<00:02, 130.74it/s]"
     ]
    },
    {
     "name": "stderr",
     "output_type": "stream",
     "text": [
      "\r",
      " 68%|██████▊   | 690/1010 [00:05<00:02, 121.46it/s]"
     ]
    },
    {
     "name": "stderr",
     "output_type": "stream",
     "text": [
      "\r",
      " 70%|██████▉   | 704/1010 [00:06<00:02, 116.78it/s]"
     ]
    },
    {
     "name": "stderr",
     "output_type": "stream",
     "text": [
      "\r",
      " 71%|███████   | 716/1010 [00:06<00:02, 115.25it/s]"
     ]
    },
    {
     "name": "stderr",
     "output_type": "stream",
     "text": [
      "\r",
      " 72%|███████▏  | 728/1010 [00:06<00:02, 111.32it/s]"
     ]
    },
    {
     "name": "stderr",
     "output_type": "stream",
     "text": [
      "\r",
      " 74%|███████▎  | 743/1010 [00:06<00:02, 121.12it/s]"
     ]
    },
    {
     "name": "stderr",
     "output_type": "stream",
     "text": [
      "\r",
      " 75%|███████▌  | 758/1010 [00:06<00:01, 129.04it/s]"
     ]
    },
    {
     "name": "stderr",
     "output_type": "stream",
     "text": [
      "\r",
      " 77%|███████▋  | 773/1010 [00:06<00:01, 134.45it/s]"
     ]
    },
    {
     "name": "stderr",
     "output_type": "stream",
     "text": [
      "\r",
      " 78%|███████▊  | 788/1010 [00:06<00:01, 138.42it/s]"
     ]
    },
    {
     "name": "stderr",
     "output_type": "stream",
     "text": [
      "\r",
      " 79%|███████▉  | 802/1010 [00:06<00:01, 127.33it/s]"
     ]
    },
    {
     "name": "stderr",
     "output_type": "stream",
     "text": [
      "\r",
      " 81%|████████  | 815/1010 [00:06<00:01, 123.47it/s]"
     ]
    },
    {
     "name": "stderr",
     "output_type": "stream",
     "text": [
      "\r",
      " 82%|████████▏ | 830/1010 [00:07<00:01, 130.38it/s]"
     ]
    },
    {
     "name": "stderr",
     "output_type": "stream",
     "text": [
      "\r",
      " 84%|████████▍ | 846/1010 [00:07<00:01, 136.29it/s]"
     ]
    },
    {
     "name": "stderr",
     "output_type": "stream",
     "text": [
      "\r",
      " 85%|████████▌ | 860/1010 [00:07<00:01, 126.80it/s]"
     ]
    },
    {
     "name": "stderr",
     "output_type": "stream",
     "text": [
      "\r",
      " 87%|████████▋ | 876/1010 [00:07<00:01, 133.47it/s]"
     ]
    },
    {
     "name": "stderr",
     "output_type": "stream",
     "text": [
      "\r",
      " 88%|████████▊ | 892/1010 [00:07<00:00, 139.28it/s]"
     ]
    },
    {
     "name": "stderr",
     "output_type": "stream",
     "text": [
      "\r",
      " 90%|████████▉ | 907/1010 [00:07<00:00, 130.03it/s]"
     ]
    },
    {
     "name": "stderr",
     "output_type": "stream",
     "text": [
      "\r",
      " 91%|█████████ | 921/1010 [00:07<00:00, 126.50it/s]"
     ]
    },
    {
     "name": "stderr",
     "output_type": "stream",
     "text": [
      "\r",
      " 93%|█████████▎| 937/1010 [00:07<00:00, 134.00it/s]"
     ]
    },
    {
     "name": "stderr",
     "output_type": "stream",
     "text": [
      "\r",
      " 94%|█████████▍| 951/1010 [00:07<00:00, 126.25it/s]"
     ]
    },
    {
     "name": "stderr",
     "output_type": "stream",
     "text": [
      "\r",
      " 96%|█████████▌| 967/1010 [00:08<00:00, 133.43it/s]"
     ]
    },
    {
     "name": "stderr",
     "output_type": "stream",
     "text": [
      "\r",
      " 97%|█████████▋| 981/1010 [00:08<00:00, 125.71it/s]"
     ]
    },
    {
     "name": "stderr",
     "output_type": "stream",
     "text": [
      "\r",
      " 99%|█████████▊| 997/1010 [00:08<00:00, 133.00it/s]"
     ]
    },
    {
     "name": "stderr",
     "output_type": "stream",
     "text": [
      "\r",
      "100%|██████████| 1010/1010 [00:08<00:00, 119.71it/s]"
     ]
    },
    {
     "name": "stderr",
     "output_type": "stream",
     "text": [
      "\n"
     ]
    }
   ],
   "source": [
    "result = prob.solve((0,0), α=0.7, rng=np.random.SeedSequence(0), gradz_logLike_atol=1e-4, progress=True, maxsteps=10);"
   ]
  },
  {
   "cell_type": "code",
   "execution_count": 11,
   "id": "244f3539",
   "metadata": {
    "execution": {
     "iopub.execute_input": "2022-01-22T09:08:07.511754Z",
     "iopub.status.busy": "2022-01-22T09:08:07.511179Z",
     "iopub.status.idle": "2022-01-22T09:08:07.693020Z",
     "shell.execute_reply": "2022-01-22T09:08:07.693870Z"
    }
   },
   "outputs": [
    {
     "data": {
      "image/png": "[encoded data removed]",
      "text/plain": [
       "<Figure size 432x288 with 1 Axes>"
      ]
     },
     "metadata": {
      "needs_background": "light"
     },
     "output_type": "display_data"
    }
   ],
   "source": [
    "plt.plot([h[\"θ\"][0] for h in result.history], \".-\")\n",
    "plt.plot([h[\"θ\"][1] for h in result.history], \".-\")\n",
    "\n",
    "plt.xlabel(\"step\")\n",
    "plt.ylabel(\"θ\");"
   ]
  },
  {
   "cell_type": "markdown",
   "id": "202c2ca3",
   "metadata": {
    "incorrectly_encoded_metadata": "jp-MarkdownHeadingCollapsed=true",
    "tags": []
   },
   "source": [
    "## With Jax"
   ]
  },
  {
   "cell_type": "code",
   "execution_count": 12,
   "id": "f7bb002b",
   "metadata": {
    "execution": {
     "iopub.execute_input": "2022-01-22T09:08:07.697716Z",
     "iopub.status.busy": "2022-01-22T09:08:07.696386Z",
     "iopub.status.idle": "2022-01-22T09:08:08.229591Z",
     "shell.execute_reply": "2022-01-22T09:08:08.230073Z"
    }
   },
   "outputs": [],
   "source": [
    "import jax\n",
    "import jax.numpy as jnp\n",
    "from muse_inference.jax import JittedJaxMuseProblem, JaxMuseProblem"
   ]
  },
  {
   "cell_type": "markdown",
   "id": "01f8b940",
   "metadata": {
    "incorrectly_encoded_metadata": "tags=[] jp-MarkdownHeadingCollapsed=true jp-MarkdownHeadingCollapsed=true",
    "tags": []
   },
   "source": [
    "### Scalar"
   ]
  },
  {
   "cell_type": "code",
   "execution_count": 13,
   "id": "c4c52434",
   "metadata": {
    "execution": {
     "iopub.execute_input": "2022-01-22T09:08:08.237934Z",
     "iopub.status.busy": "2022-01-22T09:08:08.237060Z",
     "iopub.status.idle": "2022-01-22T09:08:08.254082Z",
     "shell.execute_reply": "2022-01-22T09:08:08.253609Z"
    }
   },
   "outputs": [],
   "source": [
    "class JaxFunnelMuseProblem(JittedJaxMuseProblem):\n",
    "    \n",
    "    def __init__(self, N):\n",
    "        super().__init__()\n",
    "        self.N = N\n",
    "\n",
    "    def sample_x_z(self, key, θ):\n",
    "        keys = jax.random.split(key, 2)\n",
    "        z = jax.random.normal(keys[0], (self.N,)) * np.exp(θ/2)\n",
    "        x = z + jax.random.normal(keys[1], (self.N,))\n",
    "        return (x, z)\n",
    "\n",
    "    def logLike(self, x, z, θ):\n",
    "        return -(jnp.sum((x - z)**2) + jnp.sum(z**2) / jnp.exp(θ) + 512*θ) / 2\n",
    "    \n",
    "    def logPrior(self, θ):\n",
    "        return -θ**2 / (2*3**2)"
   ]
  },
  {
   "cell_type": "code",
   "execution_count": 14,
   "id": "87f02409",
   "metadata": {
    "execution": {
     "iopub.execute_input": "2022-01-22T09:08:08.260355Z",
     "iopub.status.busy": "2022-01-22T09:08:08.259694Z",
     "iopub.status.idle": "2022-01-22T09:08:08.852169Z",
     "shell.execute_reply": "2022-01-22T09:08:08.851689Z"
    }
   },
   "outputs": [
    {
     "name": "stderr",
     "output_type": "stream",
     "text": [
      "WARNING:absl:No GPU/TPU found, falling back to CPU. (Set TF_CPP_MIN_LOG_LEVEL=0 and rerun for more info.)\n"
     ]
    }
   ],
   "source": [
    "prob = JaxFunnelMuseProblem(512)\n",
    "key = jax.random.PRNGKey(0)\n",
    "(x, z) = prob.sample_x_z(key, θ_true)\n",
    "prob.x = x"
   ]
  },
  {
   "cell_type": "code",
   "execution_count": 15,
   "id": "6b57fba5",
   "metadata": {
    "execution": {
     "iopub.execute_input": "2022-01-22T09:08:08.856996Z",
     "iopub.status.busy": "2022-01-22T09:08:08.856425Z",
     "iopub.status.idle": "2022-01-22T09:08:19.152198Z",
     "shell.execute_reply": "2022-01-22T09:08:19.152699Z"
    }
   },
   "outputs": [
    {
     "name": "stderr",
     "output_type": "stream",
     "text": [
      "\r",
      "  0%|          | 0/1010 [00:00<?, ?it/s]"
     ]
    },
    {
     "name": "stderr",
     "output_type": "stream",
     "text": [
      "\r",
      "  0%|          | 1/1010 [00:02<39:59,  2.38s/it]"
     ]
    },
    {
     "name": "stderr",
     "output_type": "stream",
     "text": [
      "\r",
      " 10%|█         | 102/1010 [00:05<00:42, 21.40it/s]"
     ]
    },
    {
     "name": "stderr",
     "output_type": "stream",
     "text": [
      "\r",
      " 20%|██        | 203/1010 [00:06<00:18, 43.69it/s]"
     ]
    },
    {
     "name": "stderr",
     "output_type": "stream",
     "text": [
      "\r",
      " 30%|███       | 304/1010 [00:06<00:10, 70.57it/s]"
     ]
    },
    {
     "name": "stderr",
     "output_type": "stream",
     "text": [
      "\r",
      " 40%|████      | 405/1010 [00:06<00:06, 99.06it/s]"
     ]
    },
    {
     "name": "stderr",
     "output_type": "stream",
     "text": [
      "\r",
      " 50%|█████     | 506/1010 [00:07<00:03, 128.13it/s]"
     ]
    },
    {
     "name": "stderr",
     "output_type": "stream",
     "text": [
      "\r",
      " 60%|██████    | 607/1010 [00:07<00:02, 155.57it/s]"
     ]
    },
    {
     "name": "stderr",
     "output_type": "stream",
     "text": [
      "\r",
      " 70%|███████   | 708/1010 [00:08<00:01, 177.70it/s]"
     ]
    },
    {
     "name": "stderr",
     "output_type": "stream",
     "text": [
      "\r",
      " 80%|████████  | 809/1010 [00:08<00:01, 195.63it/s]"
     ]
    },
    {
     "name": "stderr",
     "output_type": "stream",
     "text": [
      "\r",
      "100%|██████████| 1010/1010 [00:08<00:00, 277.60it/s]"
     ]
    },
    {
     "name": "stderr",
     "output_type": "stream",
     "text": [
      "\r",
      "100%|██████████| 1010/1010 [00:08<00:00, 114.75it/s]"
     ]
    },
    {
     "name": "stderr",
     "output_type": "stream",
     "text": [
      "\n"
     ]
    }
   ],
   "source": [
    "result = prob.solve(0., α=0.7, rng=jax.random.PRNGKey(1), gradz_logLike_atol=1e-4, progress=True, maxsteps=10);"
   ]
  },
  {
   "cell_type": "code",
   "execution_count": 16,
   "id": "1f4580b6",
   "metadata": {
    "execution": {
     "iopub.execute_input": "2022-01-22T09:08:19.158855Z",
     "iopub.status.busy": "2022-01-22T09:08:19.157676Z",
     "iopub.status.idle": "2022-01-22T09:08:19.432270Z",
     "shell.execute_reply": "2022-01-22T09:08:19.433422Z"
    }
   },
   "outputs": [
    {
     "data": {
      "image/png": "[encoded data removed]",
      "text/plain": [
       "<Figure size 432x288 with 1 Axes>"
      ]
     },
     "metadata": {
      "needs_background": "light"
     },
     "output_type": "display_data"
    }
   ],
   "source": [
    "plt.plot([h[\"θ\"] for h in result.history], \".-\")\n",
    "plt.xlabel(\"step\")\n",
    "plt.ylabel(\"θ\");"
   ]
  },
  {
   "cell_type": "markdown",
   "id": "cce01ebd",
   "metadata": {},
   "source": [
    "### Tuple"
   ]
  },
  {
   "cell_type": "code",
   "execution_count": 17,
   "id": "83bef9d8",
   "metadata": {
    "execution": {
     "iopub.execute_input": "2022-01-22T09:08:19.439851Z",
     "iopub.status.busy": "2022-01-22T09:08:19.439226Z",
     "iopub.status.idle": "2022-01-22T09:08:19.464069Z",
     "shell.execute_reply": "2022-01-22T09:08:19.464508Z"
    }
   },
   "outputs": [],
   "source": [
    "class JaxFunnelMuseProblem(muse_inference.jax.JittedJaxMuseProblem):\n",
    "    \n",
    "    def __init__(self, N):\n",
    "        super().__init__()\n",
    "        self.N = N\n",
    "\n",
    "    def sample_x_z(self, key, θ):\n",
    "        (θ1, θ2) = (θ[\"θ1\"], θ[\"θ2\"])\n",
    "        keys = jax.random.split(key, 4)\n",
    "        z1 = jax.random.normal(keys[0], (self.N,)) * np.exp(θ1/2)\n",
    "        z2 = jax.random.normal(keys[1], (self.N,)) * np.exp(θ2/2)        \n",
    "        x1 = z1 + jax.random.normal(keys[2], (self.N,))\n",
    "        x2 = z2 + jax.random.normal(keys[3], (self.N,))        \n",
    "        return ({\"x1\":x1, \"x2\":x2}, {\"z1\":z1, \"z2\":z2})\n",
    "\n",
    "    def logLike(self, x, z, θ):\n",
    "        return (\n",
    "            -(jnp.sum((x[\"x1\"] - z[\"z1\"])**2) + jnp.sum(z[\"z1\"]**2) / jnp.exp(θ[\"θ1\"]) + 512*θ[\"θ1\"]) / 2\n",
    "            -(jnp.sum((x[\"x2\"] - z[\"z2\"])**2) + jnp.sum(z[\"z2\"]**2) / jnp.exp(θ[\"θ2\"]) + 512*θ[\"θ2\"]) / 2\n",
    "        )\n",
    "    \n",
    "    def logPrior(self, θ):\n",
    "        return -θ[\"θ1\"]**2 / (2*3**2) - θ[\"θ2\"]**2 / (2*3**2)"
   ]
  },
  {
   "cell_type": "code",
   "execution_count": 18,
   "id": "08ee8bfe",
   "metadata": {
    "execution": {
     "iopub.execute_input": "2022-01-22T09:08:19.469722Z",
     "iopub.status.busy": "2022-01-22T09:08:19.469020Z",
     "iopub.status.idle": "2022-01-22T09:08:19.709245Z",
     "shell.execute_reply": "2022-01-22T09:08:19.708564Z"
    }
   },
   "outputs": [],
   "source": [
    "prob = JaxFunnelMuseProblem(512)\n",
    "key = jax.random.PRNGKey(0)\n",
    "(x, z) = prob.sample_x_z(key, {\"θ1\":θ1_true, \"θ2\":θ2_true})\n",
    "prob.x = x"
   ]
  },
  {
   "cell_type": "code",
   "execution_count": 19,
   "id": "c70427e7",
   "metadata": {
    "execution": {
     "iopub.execute_input": "2022-01-22T09:08:19.715117Z",
     "iopub.status.busy": "2022-01-22T09:08:19.714007Z",
     "iopub.status.idle": "2022-01-22T09:08:33.946276Z",
     "shell.execute_reply": "2022-01-22T09:08:33.946733Z"
    }
   },
   "outputs": [
    {
     "name": "stderr",
     "output_type": "stream",
     "text": [
      "\r",
      "  0%|          | 0/1010 [00:00<?, ?it/s]"
     ]
    },
    {
     "name": "stderr",
     "output_type": "stream",
     "text": [
      "\r",
      "  0%|          | 1/1010 [00:02<49:13,  2.93s/it]"
     ]
    },
    {
     "name": "stderr",
     "output_type": "stream",
     "text": [
      "\r",
      " 10%|█         | 102/1010 [00:07<00:56, 16.11it/s]"
     ]
    },
    {
     "name": "stderr",
     "output_type": "stream",
     "text": [
      "\r",
      " 20%|██        | 203/1010 [00:08<00:25, 31.20it/s]"
     ]
    },
    {
     "name": "stderr",
     "output_type": "stream",
     "text": [
      "\r",
      " 30%|███       | 304/1010 [00:09<00:14, 47.95it/s]"
     ]
    },
    {
     "name": "stderr",
     "output_type": "stream",
     "text": [
      "\r",
      " 40%|████      | 405/1010 [00:09<00:09, 64.25it/s]"
     ]
    },
    {
     "name": "stderr",
     "output_type": "stream",
     "text": [
      "\r",
      " 50%|█████     | 506/1010 [00:10<00:06, 80.09it/s]"
     ]
    },
    {
     "name": "stderr",
     "output_type": "stream",
     "text": [
      "\r",
      " 60%|██████    | 607/1010 [00:11<00:04, 93.12it/s]"
     ]
    },
    {
     "name": "stderr",
     "output_type": "stream",
     "text": [
      "\r",
      " 70%|███████   | 708/1010 [00:11<00:02, 104.27it/s]"
     ]
    },
    {
     "name": "stderr",
     "output_type": "stream",
     "text": [
      "\r",
      " 80%|████████  | 809/1010 [00:12<00:01, 112.67it/s]"
     ]
    },
    {
     "name": "stderr",
     "output_type": "stream",
     "text": [
      "\r",
      " 90%|█████████ | 910/1010 [00:13<00:00, 119.51it/s]"
     ]
    },
    {
     "name": "stderr",
     "output_type": "stream",
     "text": [
      "\r",
      "100%|██████████| 1010/1010 [00:13<00:00, 74.53it/s]"
     ]
    },
    {
     "name": "stderr",
     "output_type": "stream",
     "text": [
      "\n"
     ]
    }
   ],
   "source": [
    "result = prob.solve(θ_start={\"θ1\":0., \"θ2\":0.}, rng=jax.random.PRNGKey(0), gradz_logLike_atol=1e-4, progress=True, maxsteps=10);"
   ]
  },
  {
   "cell_type": "code",
   "execution_count": 20,
   "id": "6ec1549c",
   "metadata": {
    "execution": {
     "iopub.execute_input": "2022-01-22T09:08:33.953106Z",
     "iopub.status.busy": "2022-01-22T09:08:33.951680Z",
     "iopub.status.idle": "2022-01-22T09:08:34.151361Z",
     "shell.execute_reply": "2022-01-22T09:08:34.151841Z"
    }
   },
   "outputs": [
    {
     "data": {
      "image/png": "[encoded data removed]",
      "text/plain": [
       "<Figure size 432x288 with 1 Axes>"
      ]
     },
     "metadata": {
      "needs_background": "light"
     },
     "output_type": "display_data"
    }
   ],
   "source": [
    "plt.plot([h[\"θ\"][\"θ1\"] for h in result.history], \".-\")\n",
    "plt.plot([h[\"θ\"][\"θ2\"] for h in result.history], \".-\")\n",
    "\n",
    "plt.xlabel(\"step\")\n",
    "plt.ylabel(\"θ\");"
   ]
  },
  {
   "cell_type": "markdown",
   "id": "2810cdf4",
   "metadata": {},
   "source": [
    "## With PyMC"
   ]
  },
  {
   "cell_type": "code",
   "execution_count": 21,
   "id": "0918e081",
   "metadata": {
    "execution": {
     "iopub.execute_input": "2022-01-22T09:08:34.156602Z",
     "iopub.status.busy": "2022-01-22T09:08:34.155458Z",
     "iopub.status.idle": "2022-01-22T09:08:35.482285Z",
     "shell.execute_reply": "2022-01-22T09:08:35.482815Z"
    }
   },
   "outputs": [],
   "source": [
    "import sys\n",
    "import pymc as pm\n",
    "from muse_inference.pymc import PyMCMuseProblem"
   ]
  },
  {
   "cell_type": "markdown",
   "id": "079f7bfb",
   "metadata": {
    "incorrectly_encoded_metadata": "jp-MarkdownHeadingCollapsed=true",
    "tags": []
   },
   "source": [
    "### Scalar"
   ]
  },
  {
   "cell_type": "code",
   "execution_count": 22,
   "id": "3dc8d4c5",
   "metadata": {
    "execution": {
     "iopub.execute_input": "2022-01-22T09:08:35.489632Z",
     "iopub.status.busy": "2022-01-22T09:08:35.488648Z",
     "iopub.status.idle": "2022-01-22T09:09:24.034542Z",
     "shell.execute_reply": "2022-01-22T09:09:24.033624Z"
    }
   },
   "outputs": [],
   "source": [
    "# define \n",
    "def gen_funnel(x=None, θ=None, rng=None):\n",
    "    with pm.Model(rng_seeder=rng) as funnel:\n",
    "        θ = θ if θ else pm.Normal(\"θ\", 0, 3)\n",
    "        z = pm.Normal(\"z\", 0, np.exp(θ / 2), size=512)\n",
    "        x = pm.Normal(\"x\", z, 1, observed=x)\n",
    "    return funnel\n",
    "        \n",
    "# generated simulated data\n",
    "rng = np.random.RandomState(0)\n",
    "x_obs = pm.sample_prior_predictive(1, model=gen_funnel(θ=θ_true, rng=rng)).prior.x[0,0]\n",
    "\n",
    "# set up problem\n",
    "funnel = gen_funnel(x_obs)\n",
    "prob = PyMCMuseProblem(funnel)"
   ]
  },
  {
   "cell_type": "code",
   "execution_count": 23,
   "id": "4c610058",
   "metadata": {
    "execution": {
     "iopub.execute_input": "2022-01-22T09:09:24.040180Z",
     "iopub.status.busy": "2022-01-22T09:09:24.037899Z",
     "iopub.status.idle": "2022-01-22T09:09:26.227103Z",
     "shell.execute_reply": "2022-01-22T09:09:26.226257Z"
    }
   },
   "outputs": [
    {
     "name": "stderr",
     "output_type": "stream",
     "text": [
      "\r",
      "  0%|          | 0/1010 [00:00<?, ?it/s]"
     ]
    },
    {
     "name": "stderr",
     "output_type": "stream",
     "text": [
      "\r",
      "  6%|▌         | 57/1010 [00:00<00:01, 566.63it/s]"
     ]
    },
    {
     "name": "stderr",
     "output_type": "stream",
     "text": [
      "\r",
      " 11%|█▏        | 114/1010 [00:00<00:03, 287.43it/s]"
     ]
    },
    {
     "name": "stderr",
     "output_type": "stream",
     "text": [
      "\r",
      " 17%|█▋        | 174/1010 [00:00<00:02, 380.09it/s]"
     ]
    },
    {
     "name": "stderr",
     "output_type": "stream",
     "text": [
      "\r",
      " 22%|██▏       | 221/1010 [00:00<00:02, 277.53it/s]"
     ]
    },
    {
     "name": "stderr",
     "output_type": "stream",
     "text": [
      "\r",
      " 29%|██▊       | 288/1010 [00:00<00:01, 365.62it/s]"
     ]
    },
    {
     "name": "stderr",
     "output_type": "stream",
     "text": [
      "\r",
      " 33%|███▎      | 335/1010 [00:01<00:02, 290.51it/s]"
     ]
    },
    {
     "name": "stderr",
     "output_type": "stream",
     "text": [
      "\r",
      " 40%|███▉      | 403/1010 [00:01<00:01, 369.43it/s]"
     ]
    },
    {
     "name": "stderr",
     "output_type": "stream",
     "text": [
      "\r",
      " 45%|████▍     | 451/1010 [00:01<00:01, 300.79it/s]"
     ]
    },
    {
     "name": "stderr",
     "output_type": "stream",
     "text": [
      "\r",
      " 50%|█████     | 506/1010 [00:01<00:01, 267.02it/s]"
     ]
    },
    {
     "name": "stderr",
     "output_type": "stream",
     "text": [
      "\r",
      " 57%|█████▋    | 574/1010 [00:01<00:01, 339.85it/s]"
     ]
    },
    {
     "name": "stderr",
     "output_type": "stream",
     "text": [
      "\r",
      "100%|██████████| 1010/1010 [00:01<00:00, 940.18it/s]"
     ]
    },
    {
     "name": "stderr",
     "output_type": "stream",
     "text": [
      "\r",
      "100%|██████████| 1010/1010 [00:01<00:00, 511.23it/s]"
     ]
    },
    {
     "name": "stderr",
     "output_type": "stream",
     "text": [
      "\n"
     ]
    }
   ],
   "source": [
    "result = prob.solve(0., rng=np.random.SeedSequence(0), gradz_logLike_atol=1e-4, progress=True, maxsteps=10);"
   ]
  },
  {
   "cell_type": "code",
   "execution_count": 24,
   "id": "e3b6a1ce",
   "metadata": {
    "execution": {
     "iopub.execute_input": "2022-01-22T09:09:26.231618Z",
     "iopub.status.busy": "2022-01-22T09:09:26.230779Z",
     "iopub.status.idle": "2022-01-22T09:09:26.447970Z",
     "shell.execute_reply": "2022-01-22T09:09:26.446902Z"
    }
   },
   "outputs": [
    {
     "name": "stderr",
     "output_type": "stream",
     "text": [
      "/home/runner/.cache/pypoetry/virtualenvs/muse-inference-8TQ0v75b-py3.9/lib/python3.9/site-packages/numpy/core/shape_base.py:65: VisibleDeprecationWarning: Creating an ndarray from ragged nested sequences (which is a list-or-tuple of lists-or-tuples-or ndarrays with different lengths or shapes) is deprecated. If you meant to do this, you must specify 'dtype=object' when creating the ndarray.\n",
      "  ary = asanyarray(ary)\n"
     ]
    },
    {
     "data": {
      "image/png": "[encoded data removed]",
      "text/plain": [
       "<Figure size 432x288 with 1 Axes>"
      ]
     },
     "metadata": {
      "needs_background": "light"
     },
     "output_type": "display_data"
    }
   ],
   "source": [
    "plt.plot([h[\"θ\"] for h in result.history], \".-\")\n",
    "plt.xlabel(\"step\")\n",
    "plt.ylabel(\"θ\");"
   ]
  },
  {
   "cell_type": "markdown",
   "id": "8af6d74a",
   "metadata": {},
   "source": [
    "### Tuple"
   ]
  },
  {
   "cell_type": "code",
   "execution_count": 25,
   "id": "478acdb8",
   "metadata": {
    "execution": {
     "iopub.execute_input": "2022-01-22T09:09:26.455543Z",
     "iopub.status.busy": "2022-01-22T09:09:26.454881Z",
     "iopub.status.idle": "2022-01-22T09:09:26.573727Z",
     "shell.execute_reply": "2022-01-22T09:09:26.573170Z"
    }
   },
   "outputs": [],
   "source": [
    "# define \n",
    "def gen_funnel(x=(None,None), θ=(None,None), rng_seeder=None, N=3):\n",
    "    (θ1, θ2) = θ\n",
    "    with pm.Model(rng_seeder=rng_seeder) as funnel:\n",
    "        θ1 = pm.Normal(\"θ1\", 0, 3) if θ1 is None else θ1\n",
    "        θ2 = pm.Normal(\"θ2\", 0, 3) if θ2 is None else θ2\n",
    "        z1 = pm.Normal(\"z1\", 0, np.exp(θ1 / 2), size=N)\n",
    "        z2 = pm.Normal(\"z2\", 0, np.exp(θ2 / 2), size=N)\n",
    "        x1 = pm.Normal(\"x1\", z1, 1, observed=x[0])\n",
    "        x2 = pm.Normal(\"x2\", z2, 1, observed=x[1])\n",
    "    return funnel\n",
    "        \n",
    "# generated simulated data\n",
    "rng = np.random.RandomState(0)\n",
    "prior = pm.sample_prior_predictive(1, model=gen_funnel(θ=(θ1_true,θ2_true), rng_seeder=rng)).prior\n",
    "x_obs = (prior.x1, prior.x2)"
   ]
  },
  {
   "cell_type": "code",
   "execution_count": 26,
   "id": "824faa1f",
   "metadata": {
    "execution": {
     "iopub.execute_input": "2022-01-22T09:09:26.578156Z",
     "iopub.status.busy": "2022-01-22T09:09:26.577530Z",
     "iopub.status.idle": "2022-01-22T09:09:40.730559Z",
     "shell.execute_reply": "2022-01-22T09:09:40.731059Z"
    }
   },
   "outputs": [],
   "source": [
    "# set up problem\n",
    "funnel = gen_funnel(x_obs)\n",
    "prob = PyMCMuseProblem(funnel)"
   ]
  },
  {
   "cell_type": "code",
   "execution_count": 27,
   "id": "a05e713f",
   "metadata": {
    "execution": {
     "iopub.execute_input": "2022-01-22T09:09:40.736777Z",
     "iopub.status.busy": "2022-01-22T09:09:40.735810Z",
     "iopub.status.idle": "2022-01-22T09:09:45.886585Z",
     "shell.execute_reply": "2022-01-22T09:09:45.887102Z"
    }
   },
   "outputs": [
    {
     "name": "stderr",
     "output_type": "stream",
     "text": [
      "\r",
      "  0%|          | 0/1010 [00:00<?, ?it/s]"
     ]
    },
    {
     "name": "stderr",
     "output_type": "stream",
     "text": [
      "\r",
      "  9%|▉         | 90/1010 [00:00<00:01, 894.84it/s]"
     ]
    },
    {
     "name": "stderr",
     "output_type": "stream",
     "text": [
      "\r",
      " 18%|█▊        | 180/1010 [00:00<00:03, 251.13it/s]"
     ]
    },
    {
     "name": "stderr",
     "output_type": "stream",
     "text": [
      "\r",
      " 22%|██▏       | 227/1010 [00:01<00:04, 172.94it/s]"
     ]
    },
    {
     "name": "stderr",
     "output_type": "stream",
     "text": [
      "\r",
      " 30%|███       | 304/1010 [00:01<00:04, 166.37it/s]"
     ]
    },
    {
     "name": "stderr",
     "output_type": "stream",
     "text": [
      "\r",
      " 39%|███▉      | 393/1010 [00:01<00:02, 248.60it/s]"
     ]
    },
    {
     "name": "stderr",
     "output_type": "stream",
     "text": [
      "\r",
      " 44%|████▎     | 441/1010 [00:02<00:02, 191.09it/s]"
     ]
    },
    {
     "name": "stderr",
     "output_type": "stream",
     "text": [
      "\r",
      " 50%|█████     | 506/1010 [00:02<00:02, 172.58it/s]"
     ]
    },
    {
     "name": "stderr",
     "output_type": "stream",
     "text": [
      "\r",
      " 59%|█████▉    | 595/1010 [00:02<00:01, 249.29it/s]"
     ]
    },
    {
     "name": "stderr",
     "output_type": "stream",
     "text": [
      "\r",
      " 64%|██████▎   | 643/1010 [00:03<00:01, 190.88it/s]"
     ]
    },
    {
     "name": "stderr",
     "output_type": "stream",
     "text": [
      "\r",
      " 70%|███████   | 708/1010 [00:03<00:01, 172.04it/s]"
     ]
    },
    {
     "name": "stderr",
     "output_type": "stream",
     "text": [
      "\r",
      " 79%|███████▉  | 797/1010 [00:03<00:00, 246.35it/s]"
     ]
    },
    {
     "name": "stderr",
     "output_type": "stream",
     "text": [
      "\r",
      " 84%|████████▎ | 845/1010 [00:04<00:00, 192.28it/s]"
     ]
    },
    {
     "name": "stderr",
     "output_type": "stream",
     "text": [
      "\r",
      " 90%|█████████ | 910/1010 [00:04<00:00, 175.34it/s]"
     ]
    },
    {
     "name": "stderr",
     "output_type": "stream",
     "text": [
      "\r",
      " 99%|█████████▉| 1001/1010 [00:04<00:00, 251.80it/s]"
     ]
    },
    {
     "name": "stderr",
     "output_type": "stream",
     "text": [
      "\r",
      "100%|██████████| 1010/1010 [00:04<00:00, 215.00it/s]"
     ]
    },
    {
     "name": "stderr",
     "output_type": "stream",
     "text": [
      "\n"
     ]
    }
   ],
   "source": [
    "result = prob.solve((0,0), α=0.3, rng=np.random.SeedSequence(0), gradz_logLike_atol=1e-4, progress=True, maxsteps=10);"
   ]
  },
  {
   "cell_type": "code",
   "execution_count": 28,
   "id": "98015a07",
   "metadata": {
    "execution": {
     "iopub.execute_input": "2022-01-22T09:09:45.892423Z",
     "iopub.status.busy": "2022-01-22T09:09:45.891755Z",
     "iopub.status.idle": "2022-01-22T09:09:46.092526Z",
     "shell.execute_reply": "2022-01-22T09:09:46.093244Z"
    }
   },
   "outputs": [
    {
     "data": {
      "image/png": "[encoded data removed]",
      "text/plain": [
       "<Figure size 432x288 with 1 Axes>"
      ]
     },
     "metadata": {
      "needs_background": "light"
     },
     "output_type": "display_data"
    }
   ],
   "source": [
    "plt.plot([h[\"θ\"][0] for h in result.history], \".-\")\n",
    "plt.plot([h[\"θ\"][1] for h in result.history], \".-\")\n",
    "\n",
    "plt.xlabel(\"step\")\n",
    "plt.ylabel(\"θ\");"
   ]
  }
 ],
 "metadata": {
  "jupytext": {
   "formats": "md,ipynb",
   "text_representation": {
    "extension": ".md",
    "format_name": "markdown",
    "format_version": "1.3",
    "jupytext_version": "1.13.6"
   }
  },
  "kernelspec": {
   "display_name": "Python 3",
   "language": "python",
   "name": "python3"
  },
  "language_info": {
   "codemirror_mode": {
    "name": "ipython",
    "version": 3
   },
   "file_extension": ".py",
   "mimetype": "text/x-python",
   "name": "python",
   "nbconvert_exporter": "python",
   "pygments_lexer": "ipython3",
   "version": "3.9.9"
  }
 },
 "nbformat": 4,
 "nbformat_minor": 5
}
