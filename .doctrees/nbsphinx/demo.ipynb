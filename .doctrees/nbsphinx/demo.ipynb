{
 "cells": [
  {
   "cell_type": "markdown",
   "id": "877fcad7",
   "metadata": {},
   "source": [
    "# Demo"
   ]
  },
  {
   "cell_type": "code",
   "execution_count": 1,
   "id": "3b5d6577",
   "metadata": {
    "execution": {
     "iopub.execute_input": "2022-01-21T04:47:39.235216Z",
     "iopub.status.busy": "2022-01-21T04:47:39.234602Z",
     "iopub.status.idle": "2022-01-21T04:47:40.468414Z",
     "shell.execute_reply": "2022-01-21T04:47:40.467415Z"
    },
    "nbsphinx": "hidden",
    "tags": []
   },
   "outputs": [],
   "source": [
    "%matplotlib inline\n",
    "import matplotlib as mpl\n",
    "mpl.rcParams['figure.dpi'] = 110\n",
    "%load_ext autoreload\n",
    "%autoreload 2\n",
    "import sys\n",
    "sys.path.append(\"..\")"
   ]
  },
  {
   "cell_type": "markdown",
   "id": "dfbd74fd",
   "metadata": {},
   "source": [
    "Sample text. $\\mathcal{P}(x\\,|\\,\\theta)$"
   ]
  },
  {
   "cell_type": "code",
   "execution_count": 2,
   "id": "e0fa08d9",
   "metadata": {
    "execution": {
     "iopub.execute_input": "2022-01-21T04:47:40.472967Z",
     "iopub.status.busy": "2022-01-21T04:47:40.471955Z",
     "iopub.status.idle": "2022-01-21T04:47:40.626178Z",
     "shell.execute_reply": "2022-01-21T04:47:40.626576Z"
    }
   },
   "outputs": [],
   "source": [
    "import matplotlib.pyplot as plt\n",
    "import muse_inference\n",
    "from muse_inference import MuseProblem\n",
    "import numpy as np"
   ]
  },
  {
   "cell_type": "code",
   "execution_count": 3,
   "id": "ab87544a",
   "metadata": {
    "execution": {
     "iopub.execute_input": "2022-01-21T04:47:40.634147Z",
     "iopub.status.busy": "2022-01-21T04:47:40.633248Z",
     "iopub.status.idle": "2022-01-21T04:47:40.643176Z",
     "shell.execute_reply": "2022-01-21T04:47:40.643546Z"
    }
   },
   "outputs": [],
   "source": [
    "θ_true = 1."
   ]
  },
  {
   "cell_type": "markdown",
   "id": "ca603286",
   "metadata": {
    "incorrectly_encoded_metadata": "jp-MarkdownHeadingCollapsed=true tags=[] jp-MarkdownHeadingCollapsed=true jp-MarkdownHeadingCollapsed=true tags=[] jp-MarkdownHeadingCollapsed=true",
    "tags": []
   },
   "source": [
    "## With numpy"
   ]
  },
  {
   "cell_type": "markdown",
   "id": "fb92906b",
   "metadata": {
    "incorrectly_encoded_metadata": "jp-MarkdownHeadingCollapsed=true",
    "tags": []
   },
   "source": [
    "### Scalar"
   ]
  },
  {
   "cell_type": "code",
   "execution_count": 4,
   "id": "6190a00f",
   "metadata": {
    "execution": {
     "iopub.execute_input": "2022-01-21T04:47:40.650503Z",
     "iopub.status.busy": "2022-01-21T04:47:40.649556Z",
     "iopub.status.idle": "2022-01-21T04:47:40.662490Z",
     "shell.execute_reply": "2022-01-21T04:47:40.662081Z"
    }
   },
   "outputs": [],
   "source": [
    "class NumpyFunnelMuseProblem(MuseProblem):\n",
    "    \n",
    "    def __init__(self, N):\n",
    "        super().__init__()\n",
    "        self.N = N\n",
    "    \n",
    "    def sample_x_z(self, rng, θ):\n",
    "        z = rng.randn(self.N) * np.exp(θ/2)\n",
    "        x = z + rng.randn(self.N)\n",
    "        return (x, z)\n",
    "    \n",
    "    def gradθ_logLike(self, x, z, θ):\n",
    "        return np.sum(z**2)/(2*np.exp(θ)) - self.N/2\n",
    "    \n",
    "    def logLike_and_gradz_logLike(self, x, z, θ):\n",
    "        logLike = -(np.sum((x - z)**2) + np.sum(z**2) / np.exp(θ) + 512*θ) / 2\n",
    "        gradz_logLike = x - z * (1 + np.exp(-θ))\n",
    "        return (logLike, gradz_logLike)\n",
    "    \n",
    "    def grad_hess_θ_logPrior(self, θ):\n",
    "        return (-θ/(3**2), -1/3**2)\n",
    "    "
   ]
  },
  {
   "cell_type": "code",
   "execution_count": 5,
   "id": "1f9739a7",
   "metadata": {
    "execution": {
     "iopub.execute_input": "2022-01-21T04:47:40.665694Z",
     "iopub.status.busy": "2022-01-21T04:47:40.664723Z",
     "iopub.status.idle": "2022-01-21T04:47:40.678882Z",
     "shell.execute_reply": "2022-01-21T04:47:40.678352Z"
    }
   },
   "outputs": [],
   "source": [
    "prob = NumpyFunnelMuseProblem(512)\n",
    "rng = np.random.RandomState(0)\n",
    "(x, z) = prob.sample_x_z(rng, θ_true)\n",
    "prob.x = x"
   ]
  },
  {
   "cell_type": "code",
   "execution_count": 6,
   "id": "2cc770ea",
   "metadata": {
    "execution": {
     "iopub.execute_input": "2022-01-21T04:47:40.684921Z",
     "iopub.status.busy": "2022-01-21T04:47:40.683408Z",
     "iopub.status.idle": "2022-01-21T04:47:41.695417Z",
     "shell.execute_reply": "2022-01-21T04:47:41.694987Z"
    }
   },
   "outputs": [
    {
     "name": "stderr",
     "output_type": "stream",
     "text": [
      "\r",
      "  0%|          | 0/1010 [00:00<?, ?it/s]"
     ]
    },
    {
     "name": "stderr",
     "output_type": "stream",
     "text": [
      "\r",
      "  9%|▉         | 90/1010 [00:00<00:01, 897.79it/s]"
     ]
    },
    {
     "name": "stderr",
     "output_type": "stream",
     "text": [
      "\r",
      " 18%|█▊        | 180/1010 [00:00<00:00, 869.24it/s]"
     ]
    },
    {
     "name": "stderr",
     "output_type": "stream",
     "text": [
      "\r",
      " 27%|██▋       | 271/1010 [00:00<00:00, 885.38it/s]"
     ]
    },
    {
     "name": "stderr",
     "output_type": "stream",
     "text": [
      "\r",
      " 36%|███▌      | 365/1010 [00:00<00:00, 905.20it/s]"
     ]
    },
    {
     "name": "stderr",
     "output_type": "stream",
     "text": [
      "\r",
      " 46%|████▌     | 460/1010 [00:00<00:00, 918.01it/s]"
     ]
    },
    {
     "name": "stderr",
     "output_type": "stream",
     "text": [
      "\r",
      " 55%|█████▌    | 556/1010 [00:00<00:00, 929.71it/s]"
     ]
    },
    {
     "name": "stderr",
     "output_type": "stream",
     "text": [
      "\r",
      " 65%|██████▍   | 653/1010 [00:00<00:00, 940.78it/s]"
     ]
    },
    {
     "name": "stderr",
     "output_type": "stream",
     "text": [
      "\r",
      " 74%|███████▍  | 748/1010 [00:00<00:00, 943.55it/s]"
     ]
    },
    {
     "name": "stderr",
     "output_type": "stream",
     "text": [
      "\r",
      " 83%|████████▎ | 843/1010 [00:00<00:00, 945.40it/s]"
     ]
    },
    {
     "name": "stderr",
     "output_type": "stream",
     "text": [
      "\r",
      "100%|██████████| 1010/1010 [00:00<00:00, 1030.82it/s]"
     ]
    },
    {
     "name": "stderr",
     "output_type": "stream",
     "text": [
      "\n"
     ]
    }
   ],
   "source": [
    "result = prob.solve(0, α=0.7, rng=np.random.RandomState(3), gradz_logLike_atol=1e-4, progress=True, maxsteps=10);"
   ]
  },
  {
   "cell_type": "code",
   "execution_count": 7,
   "id": "6652d529",
   "metadata": {
    "execution": {
     "iopub.execute_input": "2022-01-21T04:47:41.699557Z",
     "iopub.status.busy": "2022-01-21T04:47:41.699096Z",
     "iopub.status.idle": "2022-01-21T04:47:41.865051Z",
     "shell.execute_reply": "2022-01-21T04:47:41.864634Z"
    }
   },
   "outputs": [
    {
     "data": {
      "image/png": "[encoded data removed]",
      "text/plain": [
       "<Figure size 660x440 with 1 Axes>"
      ]
     },
     "metadata": {
      "needs_background": "light"
     },
     "output_type": "display_data"
    }
   ],
   "source": [
    "plt.plot([h[\"θ\"] for h in result.history], \".-\")\n",
    "plt.xlabel(\"step\")\n",
    "plt.ylabel(\"θ\");"
   ]
  },
  {
   "cell_type": "markdown",
   "id": "14640902",
   "metadata": {},
   "source": [
    "### Tuple"
   ]
  },
  {
   "cell_type": "code",
   "execution_count": 8,
   "id": "961435f8",
   "metadata": {
    "execution": {
     "iopub.execute_input": "2022-01-21T04:47:41.873003Z",
     "iopub.status.busy": "2022-01-21T04:47:41.872503Z",
     "iopub.status.idle": "2022-01-21T04:47:41.887346Z",
     "shell.execute_reply": "2022-01-21T04:47:41.886937Z"
    }
   },
   "outputs": [],
   "source": [
    "class NumpyFunnelMuseProblem(MuseProblem):\n",
    "    \n",
    "    def __init__(self, N):\n",
    "        super().__init__()\n",
    "        self.N = N\n",
    "    \n",
    "    def sample_x_z(self, rng, θ):\n",
    "        (θ1, θ2) = θ\n",
    "        z1 = rng.randn(self.N) * np.exp(θ1/2)\n",
    "        z2 = rng.randn(self.N) * np.exp(θ2/2)        \n",
    "        x1 = z1 + rng.randn(self.N)\n",
    "        x2 = z2 + rng.randn(self.N)        \n",
    "        return ((x1,x2), (z1,z2))\n",
    "    \n",
    "    def gradθ_logLike(self, x, z, θ):\n",
    "        (θ1, θ2) = θ\n",
    "        (x1, x2) = x\n",
    "        (z1, z2) = z\n",
    "        return (np.sum(z1**2)/(2*np.exp(θ1)) - self.N/2, np.sum(z2**2)/(2*np.exp(θ2)) - self.N/2)\n",
    "    \n",
    "    def logLike_and_gradz_logLike(self, x, z, θ):\n",
    "        (θ1, θ2) = θ\n",
    "        (x1, x2) = x\n",
    "        (z1, z2) = z\n",
    "        logLike = -(np.sum((x1 - z1)**2) + np.sum(z1**2) / np.exp(θ1) + 512*θ1) / 2 -(np.sum((x2 - z2)**2) + np.sum(z2**2) / np.exp(θ2) + 512*θ2) / 2\n",
    "        gradz_logLike = (x1 - z1 * (1 + np.exp(-θ1)), x2 - z2 * (1 + np.exp(-θ2)))\n",
    "        return (logLike, gradz_logLike)\n",
    "    \n",
    "    def gradθ_and_hessθ_logPrior(self, θ):\n",
    "        (θ1, θ2) = θ\n",
    "        g = (-θ1/(3**2), -θ2/(3**2))\n",
    "        H = ((-1/3**2, 0),\n",
    "              (0,      -1/3**2))\n",
    "        return g, H"
   ]
  },
  {
   "cell_type": "code",
   "execution_count": 9,
   "id": "503edef4",
   "metadata": {
    "execution": {
     "iopub.execute_input": "2022-01-21T04:47:41.891123Z",
     "iopub.status.busy": "2022-01-21T04:47:41.890660Z",
     "iopub.status.idle": "2022-01-21T04:47:41.903921Z",
     "shell.execute_reply": "2022-01-21T04:47:41.903497Z"
    }
   },
   "outputs": [],
   "source": [
    "prob = NumpyFunnelMuseProblem(2048)\n",
    "θ = (-1., 5.)\n",
    "x, z = prob.sample_x_z(np.random.RandomState(0), θ)\n",
    "prob.x = x"
   ]
  },
  {
   "cell_type": "code",
   "execution_count": 10,
   "id": "756a680f",
   "metadata": {
    "execution": {
     "iopub.execute_input": "2022-01-21T04:47:41.907708Z",
     "iopub.status.busy": "2022-01-21T04:47:41.907237Z",
     "iopub.status.idle": "2022-01-21T04:47:48.666039Z",
     "shell.execute_reply": "2022-01-21T04:47:48.666451Z"
    }
   },
   "outputs": [
    {
     "name": "stderr",
     "output_type": "stream",
     "text": [
      "\r",
      "  0%|          | 0/1010 [00:00<?, ?it/s]"
     ]
    },
    {
     "name": "stderr",
     "output_type": "stream",
     "text": [
      "\r",
      "  1%|          | 9/1010 [00:00<00:11, 85.77it/s]"
     ]
    },
    {
     "name": "stderr",
     "output_type": "stream",
     "text": [
      "\r",
      "  3%|▎         | 26/1010 [00:00<00:07, 131.00it/s]"
     ]
    },
    {
     "name": "stderr",
     "output_type": "stream",
     "text": [
      "\r",
      "  4%|▍         | 42/1010 [00:00<00:06, 143.49it/s]"
     ]
    },
    {
     "name": "stderr",
     "output_type": "stream",
     "text": [
      "\r",
      "  6%|▌         | 58/1010 [00:00<00:06, 149.40it/s]"
     ]
    },
    {
     "name": "stderr",
     "output_type": "stream",
     "text": [
      "\r",
      "  7%|▋         | 73/1010 [00:00<00:07, 130.33it/s]"
     ]
    },
    {
     "name": "stderr",
     "output_type": "stream",
     "text": [
      "\r",
      "  9%|▉         | 89/1010 [00:00<00:06, 138.85it/s]"
     ]
    },
    {
     "name": "stderr",
     "output_type": "stream",
     "text": [
      "\r",
      " 10%|█         | 104/1010 [00:00<00:06, 133.11it/s]"
     ]
    },
    {
     "name": "stderr",
     "output_type": "stream",
     "text": [
      "\r",
      " 12%|█▏        | 122/1010 [00:00<00:06, 144.89it/s]"
     ]
    },
    {
     "name": "stderr",
     "output_type": "stream",
     "text": [
      "\r",
      " 14%|█▎        | 137/1010 [00:01<00:06, 133.35it/s]"
     ]
    },
    {
     "name": "stderr",
     "output_type": "stream",
     "text": [
      "\r",
      " 15%|█▌        | 155/1010 [00:01<00:05, 144.49it/s]"
     ]
    },
    {
     "name": "stderr",
     "output_type": "stream",
     "text": [
      "\r",
      " 17%|█▋        | 170/1010 [00:01<00:06, 132.77it/s]"
     ]
    },
    {
     "name": "stderr",
     "output_type": "stream",
     "text": [
      "\r",
      " 19%|█▊        | 188/1010 [00:01<00:05, 143.89it/s]"
     ]
    },
    {
     "name": "stderr",
     "output_type": "stream",
     "text": [
      "\r",
      " 20%|██        | 203/1010 [00:01<00:05, 140.19it/s]"
     ]
    },
    {
     "name": "stderr",
     "output_type": "stream",
     "text": [
      "\r",
      " 22%|██▏       | 218/1010 [00:01<00:05, 133.01it/s]"
     ]
    },
    {
     "name": "stderr",
     "output_type": "stream",
     "text": [
      "\r",
      " 23%|██▎       | 232/1010 [00:01<00:06, 126.73it/s]"
     ]
    },
    {
     "name": "stderr",
     "output_type": "stream",
     "text": [
      "\r",
      " 25%|██▍       | 251/1010 [00:01<00:05, 143.21it/s]"
     ]
    },
    {
     "name": "stderr",
     "output_type": "stream",
     "text": [
      "\r",
      " 27%|██▋       | 270/1010 [00:01<00:04, 155.45it/s]"
     ]
    },
    {
     "name": "stderr",
     "output_type": "stream",
     "text": [
      "\r",
      " 29%|██▊       | 290/1010 [00:02<00:04, 165.80it/s]"
     ]
    },
    {
     "name": "stderr",
     "output_type": "stream",
     "text": [
      "\r",
      " 30%|███       | 307/1010 [00:02<00:05, 140.25it/s]"
     ]
    },
    {
     "name": "stderr",
     "output_type": "stream",
     "text": [
      "\r",
      " 32%|███▏      | 327/1010 [00:02<00:04, 153.89it/s]"
     ]
    },
    {
     "name": "stderr",
     "output_type": "stream",
     "text": [
      "\r",
      " 34%|███▍      | 344/1010 [00:02<00:04, 144.35it/s]"
     ]
    },
    {
     "name": "stderr",
     "output_type": "stream",
     "text": [
      "\r",
      " 36%|███▌      | 364/1010 [00:02<00:04, 156.94it/s]"
     ]
    },
    {
     "name": "stderr",
     "output_type": "stream",
     "text": [
      "\r",
      " 38%|███▊      | 381/1010 [00:02<00:04, 146.30it/s]"
     ]
    },
    {
     "name": "stderr",
     "output_type": "stream",
     "text": [
      "\r",
      " 40%|███▉      | 399/1010 [00:02<00:04, 140.26it/s]"
     ]
    },
    {
     "name": "stderr",
     "output_type": "stream",
     "text": [
      "\r",
      " 41%|████      | 414/1010 [00:02<00:04, 139.87it/s]"
     ]
    },
    {
     "name": "stderr",
     "output_type": "stream",
     "text": [
      "\r",
      " 43%|████▎     | 433/1010 [00:03<00:03, 152.46it/s]"
     ]
    },
    {
     "name": "stderr",
     "output_type": "stream",
     "text": [
      "\r",
      " 45%|████▍     | 453/1010 [00:03<00:03, 163.33it/s]"
     ]
    },
    {
     "name": "stderr",
     "output_type": "stream",
     "text": [
      "\r",
      " 47%|████▋     | 470/1010 [00:03<00:03, 147.91it/s]"
     ]
    },
    {
     "name": "stderr",
     "output_type": "stream",
     "text": [
      "\r",
      " 49%|████▊     | 490/1010 [00:03<00:03, 159.42it/s]"
     ]
    },
    {
     "name": "stderr",
     "output_type": "stream",
     "text": [
      "\r",
      " 50%|█████     | 507/1010 [00:03<00:03, 155.52it/s]"
     ]
    },
    {
     "name": "stderr",
     "output_type": "stream",
     "text": [
      "\r",
      " 52%|█████▏    | 523/1010 [00:03<00:03, 144.85it/s]"
     ]
    },
    {
     "name": "stderr",
     "output_type": "stream",
     "text": [
      "\r",
      " 54%|█████▍    | 543/1010 [00:03<00:02, 158.06it/s]"
     ]
    },
    {
     "name": "stderr",
     "output_type": "stream",
     "text": [
      "\r",
      " 55%|█████▌    | 560/1010 [00:03<00:03, 146.69it/s]"
     ]
    },
    {
     "name": "stderr",
     "output_type": "stream",
     "text": [
      "\r",
      " 57%|█████▋    | 576/1010 [00:03<00:03, 138.51it/s]"
     ]
    },
    {
     "name": "stderr",
     "output_type": "stream",
     "text": [
      "\r",
      " 59%|█████▉    | 596/1010 [00:04<00:02, 153.00it/s]"
     ]
    },
    {
     "name": "stderr",
     "output_type": "stream",
     "text": [
      "\r",
      " 61%|██████    | 612/1010 [00:04<00:02, 150.48it/s]"
     ]
    },
    {
     "name": "stderr",
     "output_type": "stream",
     "text": [
      "\r",
      " 63%|██████▎   | 633/1010 [00:04<00:02, 146.27it/s]"
     ]
    },
    {
     "name": "stderr",
     "output_type": "stream",
     "text": [
      "\r",
      " 65%|██████▍   | 653/1010 [00:04<00:02, 159.67it/s]"
     ]
    },
    {
     "name": "stderr",
     "output_type": "stream",
     "text": [
      "\r",
      " 67%|██████▋   | 673/1010 [00:04<00:01, 169.61it/s]"
     ]
    },
    {
     "name": "stderr",
     "output_type": "stream",
     "text": [
      "\r",
      " 68%|██████▊   | 691/1010 [00:04<00:02, 154.44it/s]"
     ]
    },
    {
     "name": "stderr",
     "output_type": "stream",
     "text": [
      "\r",
      " 70%|███████   | 708/1010 [00:04<00:01, 152.59it/s]"
     ]
    },
    {
     "name": "stderr",
     "output_type": "stream",
     "text": [
      "\r",
      " 72%|███████▏  | 724/1010 [00:04<00:01, 143.51it/s]"
     ]
    },
    {
     "name": "stderr",
     "output_type": "stream",
     "text": [
      "\r",
      " 73%|███████▎  | 739/1010 [00:05<00:01, 136.83it/s]"
     ]
    },
    {
     "name": "stderr",
     "output_type": "stream",
     "text": [
      "\r",
      " 75%|███████▌  | 760/1010 [00:05<00:01, 154.27it/s]"
     ]
    },
    {
     "name": "stderr",
     "output_type": "stream",
     "text": [
      "\r",
      " 77%|███████▋  | 781/1010 [00:05<00:01, 167.11it/s]"
     ]
    },
    {
     "name": "stderr",
     "output_type": "stream",
     "text": [
      "\r",
      " 79%|███████▉  | 802/1010 [00:05<00:01, 177.29it/s]"
     ]
    },
    {
     "name": "stderr",
     "output_type": "stream",
     "text": [
      "\r",
      " 81%|████████▏ | 821/1010 [00:05<00:01, 150.77it/s]"
     ]
    },
    {
     "name": "stderr",
     "output_type": "stream",
     "text": [
      "\r",
      " 83%|████████▎ | 842/1010 [00:05<00:01, 164.42it/s]"
     ]
    },
    {
     "name": "stderr",
     "output_type": "stream",
     "text": [
      "\r",
      " 85%|████████▌ | 860/1010 [00:05<00:00, 153.24it/s]"
     ]
    },
    {
     "name": "stderr",
     "output_type": "stream",
     "text": [
      "\r",
      " 87%|████████▋ | 881/1010 [00:05<00:00, 165.60it/s]"
     ]
    },
    {
     "name": "stderr",
     "output_type": "stream",
     "text": [
      "\r",
      " 89%|████████▉ | 899/1010 [00:06<00:00, 154.37it/s]"
     ]
    },
    {
     "name": "stderr",
     "output_type": "stream",
     "text": [
      "\r",
      " 91%|█████████ | 916/1010 [00:06<00:00, 136.67it/s]"
     ]
    },
    {
     "name": "stderr",
     "output_type": "stream",
     "text": [
      "\r",
      " 93%|█████████▎| 937/1010 [00:06<00:00, 153.31it/s]"
     ]
    },
    {
     "name": "stderr",
     "output_type": "stream",
     "text": [
      "\r",
      " 95%|█████████▍| 958/1010 [00:06<00:00, 166.35it/s]"
     ]
    },
    {
     "name": "stderr",
     "output_type": "stream",
     "text": [
      "\r",
      " 97%|█████████▋| 976/1010 [00:06<00:00, 155.45it/s]"
     ]
    },
    {
     "name": "stderr",
     "output_type": "stream",
     "text": [
      "\r",
      " 99%|█████████▊| 997/1010 [00:06<00:00, 168.41it/s]"
     ]
    },
    {
     "name": "stderr",
     "output_type": "stream",
     "text": [
      "\r",
      "100%|██████████| 1010/1010 [00:06<00:00, 150.46it/s]"
     ]
    },
    {
     "name": "stderr",
     "output_type": "stream",
     "text": [
      "\n"
     ]
    }
   ],
   "source": [
    "result = prob.solve(θ, α=0.7, rng=np.random.RandomState(3), gradz_logLike_atol=1e-4, progress=True, maxsteps=10);"
   ]
  },
  {
   "cell_type": "code",
   "execution_count": 11,
   "id": "d6da40d6",
   "metadata": {
    "execution": {
     "iopub.execute_input": "2022-01-21T04:47:48.670319Z",
     "iopub.status.busy": "2022-01-21T04:47:48.669567Z",
     "iopub.status.idle": "2022-01-21T04:47:48.684391Z",
     "shell.execute_reply": "2022-01-21T04:47:48.684779Z"
    }
   },
   "outputs": [
    {
     "data": {
      "text/plain": [
       "(-1.0629377565878193, 4.9796990924522655)"
      ]
     },
     "execution_count": 11,
     "metadata": {},
     "output_type": "execute_result"
    }
   ],
   "source": [
    "result.history[-1][\"θ\"]"
   ]
  },
  {
   "cell_type": "markdown",
   "id": "ba24d92d",
   "metadata": {
    "incorrectly_encoded_metadata": "jp-MarkdownHeadingCollapsed=true",
    "tags": []
   },
   "source": [
    "## With Jax"
   ]
  },
  {
   "cell_type": "code",
   "execution_count": 12,
   "id": "7111e9f9",
   "metadata": {
    "execution": {
     "iopub.execute_input": "2022-01-21T04:47:48.693559Z",
     "iopub.status.busy": "2022-01-21T04:47:48.689959Z",
     "iopub.status.idle": "2022-01-21T04:47:49.153050Z",
     "shell.execute_reply": "2022-01-21T04:47:49.152570Z"
    }
   },
   "outputs": [],
   "source": [
    "import jax\n",
    "import jax.numpy as jnp\n",
    "from muse_inference.jax import JittedJaxMuseProblem, JaxMuseProblem"
   ]
  },
  {
   "cell_type": "markdown",
   "id": "1730a6f0",
   "metadata": {
    "incorrectly_encoded_metadata": "tags=[] jp-MarkdownHeadingCollapsed=true jp-MarkdownHeadingCollapsed=true",
    "tags": []
   },
   "source": [
    "### Scalar"
   ]
  },
  {
   "cell_type": "code",
   "execution_count": 13,
   "id": "2e43a96d",
   "metadata": {
    "execution": {
     "iopub.execute_input": "2022-01-21T04:47:49.159430Z",
     "iopub.status.busy": "2022-01-21T04:47:49.158925Z",
     "iopub.status.idle": "2022-01-21T04:47:49.175084Z",
     "shell.execute_reply": "2022-01-21T04:47:49.175495Z"
    }
   },
   "outputs": [],
   "source": [
    "class JaxFunnelMuseProblem(JittedJaxMuseProblem):\n",
    "    \n",
    "    def __init__(self, N):\n",
    "        super().__init__()\n",
    "        self.N = N\n",
    "\n",
    "    def sample_x_z(self, rng, θ):\n",
    "        z = rng.randn(self.N) * np.exp(θ/2)\n",
    "        x = z + rng.randn(self.N)\n",
    "        return (jnp.array(x), jnp.array(z))\n",
    "\n",
    "    def logLike(self, x, z, θ):\n",
    "        return -(jnp.sum((x - z)**2) + jnp.sum(z**2) / jnp.exp(θ) + 512*θ) / 2\n",
    "    \n",
    "    def logPrior(self, θ):\n",
    "        return -θ**2 / (2*3**2)"
   ]
  },
  {
   "cell_type": "code",
   "execution_count": 14,
   "id": "f81d1425",
   "metadata": {
    "execution": {
     "iopub.execute_input": "2022-01-21T04:47:49.179910Z",
     "iopub.status.busy": "2022-01-21T04:47:49.179164Z",
     "iopub.status.idle": "2022-01-21T04:47:49.203823Z",
     "shell.execute_reply": "2022-01-21T04:47:49.203392Z"
    }
   },
   "outputs": [
    {
     "name": "stderr",
     "output_type": "stream",
     "text": [
      "WARNING:absl:No GPU/TPU found, falling back to CPU. (Set TF_CPP_MIN_LOG_LEVEL=0 and rerun for more info.)\n"
     ]
    }
   ],
   "source": [
    "prob = JaxFunnelMuseProblem(512)\n",
    "rng = np.random.RandomState(0)\n",
    "(x, z) = prob.sample_x_z(rng, θ_true)\n",
    "prob.x = x"
   ]
  },
  {
   "cell_type": "code",
   "execution_count": 15,
   "id": "25e2f486",
   "metadata": {
    "execution": {
     "iopub.execute_input": "2022-01-21T04:47:49.208187Z",
     "iopub.status.busy": "2022-01-21T04:47:49.207389Z",
     "iopub.status.idle": "2022-01-21T04:47:54.301349Z",
     "shell.execute_reply": "2022-01-21T04:47:54.301715Z"
    }
   },
   "outputs": [
    {
     "name": "stderr",
     "output_type": "stream",
     "text": [
      "\r",
      "  0%|          | 0/1010 [00:00<?, ?it/s]"
     ]
    },
    {
     "name": "stderr",
     "output_type": "stream",
     "text": [
      "\r",
      "  0%|          | 1/1010 [00:01<33:08,  1.97s/it]"
     ]
    },
    {
     "name": "stderr",
     "output_type": "stream",
     "text": [
      "\r",
      " 10%|█         | 102/1010 [00:04<00:31, 28.41it/s]"
     ]
    },
    {
     "name": "stderr",
     "output_type": "stream",
     "text": [
      "\r",
      " 20%|██        | 203/1010 [00:04<00:13, 61.38it/s]"
     ]
    },
    {
     "name": "stderr",
     "output_type": "stream",
     "text": [
      "\r",
      " 40%|████      | 405/1010 [00:04<00:03, 152.11it/s]"
     ]
    },
    {
     "name": "stderr",
     "output_type": "stream",
     "text": [
      "\r",
      " 60%|██████    | 607/1010 [00:04<00:01, 260.62it/s]"
     ]
    },
    {
     "name": "stderr",
     "output_type": "stream",
     "text": [
      "\r",
      " 80%|████████  | 809/1010 [00:04<00:00, 384.22it/s]"
     ]
    },
    {
     "name": "stderr",
     "output_type": "stream",
     "text": [
      "\r",
      "100%|██████████| 1010/1010 [00:05<00:00, 201.23it/s]"
     ]
    },
    {
     "name": "stderr",
     "output_type": "stream",
     "text": [
      "\n"
     ]
    }
   ],
   "source": [
    "result = prob.solve(0., α=0.7, rng=np.random.RandomState(3), gradz_logLike_atol=1e-4, progress=True, maxsteps=10);"
   ]
  },
  {
   "cell_type": "code",
   "execution_count": 16,
   "id": "67fe1945",
   "metadata": {
    "execution": {
     "iopub.execute_input": "2022-01-21T04:47:54.306004Z",
     "iopub.status.busy": "2022-01-21T04:47:54.305193Z",
     "iopub.status.idle": "2022-01-21T04:47:54.323540Z",
     "shell.execute_reply": "2022-01-21T04:47:54.323901Z"
    }
   },
   "outputs": [
    {
     "data": {
      "text/plain": [
       "[0.0,\n",
       " DeviceArray(1.2127963, dtype=float32),\n",
       " DeviceArray(1.0396036, dtype=float32),\n",
       " DeviceArray(0.97261435, dtype=float32),\n",
       " DeviceArray(0.952539, dtype=float32),\n",
       " DeviceArray(0.94721234, dtype=float32),\n",
       " DeviceArray(0.94585395, dtype=float32),\n",
       " DeviceArray(0.94551116, dtype=float32),\n",
       " DeviceArray(0.94543195, dtype=float32)]"
      ]
     },
     "execution_count": 16,
     "metadata": {},
     "output_type": "execute_result"
    }
   ],
   "source": [
    "[h[\"θ\"] for h in result.history]"
   ]
  },
  {
   "cell_type": "code",
   "execution_count": 17,
   "id": "f53651dc",
   "metadata": {
    "execution": {
     "iopub.execute_input": "2022-01-21T04:47:54.327535Z",
     "iopub.status.busy": "2022-01-21T04:47:54.327064Z",
     "iopub.status.idle": "2022-01-21T04:47:54.485244Z",
     "shell.execute_reply": "2022-01-21T04:47:54.484817Z"
    }
   },
   "outputs": [
    {
     "data": {
      "image/png": "[encoded data removed]",
      "text/plain": [
       "<Figure size 660x440 with 1 Axes>"
      ]
     },
     "metadata": {
      "needs_background": "light"
     },
     "output_type": "display_data"
    }
   ],
   "source": [
    "plt.plot([h[\"θ\"] for h in result.history], \".-\")\n",
    "plt.xlabel(\"step\")\n",
    "plt.ylabel(\"θ\");"
   ]
  },
  {
   "cell_type": "markdown",
   "id": "92fe764b",
   "metadata": {},
   "source": [
    "### Tuple"
   ]
  },
  {
   "cell_type": "code",
   "execution_count": 18,
   "id": "958e580d",
   "metadata": {
    "execution": {
     "iopub.execute_input": "2022-01-21T04:47:54.492723Z",
     "iopub.status.busy": "2022-01-21T04:47:54.492228Z",
     "iopub.status.idle": "2022-01-21T04:47:54.507870Z",
     "shell.execute_reply": "2022-01-21T04:47:54.508266Z"
    }
   },
   "outputs": [],
   "source": [
    "class JaxFunnelMuseProblem(muse_inference.jax.JittedJaxMuseProblem):\n",
    "    \n",
    "    def __init__(self, N):\n",
    "        super().__init__()\n",
    "        self.N = N\n",
    "\n",
    "    def sample_x_z(self, rng, θ):\n",
    "        (θ1, θ2) = (θ[\"θ1\"], θ[\"θ2\"])\n",
    "        z1 = rng.randn(self.N) * np.exp(θ1/2)\n",
    "        z2 = rng.randn(self.N) * np.exp(θ2/2)        \n",
    "        x1 = z1 + rng.randn(self.N)\n",
    "        x2 = z2 + rng.randn(self.N)        \n",
    "        return ({\"x1\":x1, \"x2\":x2}, {\"z1\":z1, \"z2\":z2})\n",
    "\n",
    "    def logLike(self, x, z, θ):\n",
    "        return (\n",
    "            -(jnp.sum((x[\"x1\"] - z[\"z1\"])**2) + jnp.sum(z[\"z1\"]**2) / jnp.exp(θ[\"θ1\"]) + 512*θ[\"θ1\"]) / 2\n",
    "            -(jnp.sum((x[\"x2\"] - z[\"z2\"])**2) + jnp.sum(z[\"z2\"]**2) / jnp.exp(θ[\"θ2\"]) + 512*θ[\"θ2\"]) / 2\n",
    "        )\n",
    "    \n",
    "    def logPrior(self, θ):\n",
    "        return -θ[\"θ1\"]**2 / (2*3**2) - θ[\"θ2\"]**2 / (2*3**2)"
   ]
  },
  {
   "cell_type": "code",
   "execution_count": 19,
   "id": "456ffd66",
   "metadata": {
    "execution": {
     "iopub.execute_input": "2022-01-21T04:47:54.512084Z",
     "iopub.status.busy": "2022-01-21T04:47:54.511612Z",
     "iopub.status.idle": "2022-01-21T04:47:54.528045Z",
     "shell.execute_reply": "2022-01-21T04:47:54.528514Z"
    }
   },
   "outputs": [],
   "source": [
    "prob = JaxFunnelMuseProblem(512)\n",
    "θ = {\"θ1\":1., \"θ2\":2.}\n",
    "x, z = prob.sample_x_z(np.random.RandomState(0), θ)\n",
    "prob.x = x"
   ]
  },
  {
   "cell_type": "code",
   "execution_count": 20,
   "id": "cec2c3f5",
   "metadata": {
    "execution": {
     "iopub.execute_input": "2022-01-21T04:47:54.532530Z",
     "iopub.status.busy": "2022-01-21T04:47:54.531951Z",
     "iopub.status.idle": "2022-01-21T04:48:00.792277Z",
     "shell.execute_reply": "2022-01-21T04:48:00.791419Z"
    }
   },
   "outputs": [
    {
     "name": "stderr",
     "output_type": "stream",
     "text": [
      "\r",
      "  0%|          | 0/1010 [00:00<?, ?it/s]"
     ]
    },
    {
     "name": "stderr",
     "output_type": "stream",
     "text": [
      "\r",
      "  0%|          | 1/1010 [00:02<40:42,  2.42s/it]"
     ]
    },
    {
     "name": "stderr",
     "output_type": "stream",
     "text": [
      "\r",
      " 10%|█         | 102/1010 [00:05<00:40, 22.32it/s]"
     ]
    },
    {
     "name": "stderr",
     "output_type": "stream",
     "text": [
      "\r",
      " 20%|██        | 203/1010 [00:05<00:16, 48.44it/s]"
     ]
    },
    {
     "name": "stderr",
     "output_type": "stream",
     "text": [
      "\r",
      " 34%|███▍      | 343/1010 [00:05<00:06, 100.65it/s]"
     ]
    },
    {
     "name": "stderr",
     "output_type": "stream",
     "text": [
      "\r",
      " 48%|████▊     | 485/1010 [00:05<00:03, 169.66it/s]"
     ]
    },
    {
     "name": "stderr",
     "output_type": "stream",
     "text": [
      "\r",
      " 60%|██████    | 607/1010 [00:05<00:01, 237.61it/s]"
     ]
    },
    {
     "name": "stderr",
     "output_type": "stream",
     "text": [
      "\r",
      " 75%|███████▌  | 759/1010 [00:06<00:00, 351.19it/s]"
     ]
    },
    {
     "name": "stderr",
     "output_type": "stream",
     "text": [
      "\r",
      "100%|██████████| 1010/1010 [00:06<00:00, 570.64it/s]"
     ]
    },
    {
     "name": "stderr",
     "output_type": "stream",
     "text": [
      "\r",
      "100%|██████████| 1010/1010 [00:06<00:00, 162.49it/s]"
     ]
    },
    {
     "name": "stderr",
     "output_type": "stream",
     "text": [
      "\n"
     ]
    }
   ],
   "source": [
    "result = prob.solve(θ, rng=rng, gradz_logLike_atol=1e-4, progress=True, maxsteps=10);"
   ]
  },
  {
   "cell_type": "code",
   "execution_count": 21,
   "id": "d7138774",
   "metadata": {
    "execution": {
     "iopub.execute_input": "2022-01-21T04:48:00.795884Z",
     "iopub.status.busy": "2022-01-21T04:48:00.795424Z",
     "iopub.status.idle": "2022-01-21T04:48:00.815481Z",
     "shell.execute_reply": "2022-01-21T04:48:00.814425Z"
    }
   },
   "outputs": [
    {
     "data": {
      "text/plain": [
       "{'θ1': DeviceArray(1.0922006, dtype=float32),\n",
       " 'θ2': DeviceArray(1.9329985, dtype=float32)}"
      ]
     },
     "execution_count": 21,
     "metadata": {},
     "output_type": "execute_result"
    }
   ],
   "source": [
    "result.θ"
   ]
  },
  {
   "cell_type": "code",
   "execution_count": 22,
   "id": "54dcd6cf",
   "metadata": {
    "execution": {
     "iopub.execute_input": "2022-01-21T04:48:00.821837Z",
     "iopub.status.busy": "2022-01-21T04:48:00.821043Z",
     "iopub.status.idle": "2022-01-21T04:48:00.973954Z",
     "shell.execute_reply": "2022-01-21T04:48:00.973085Z"
    }
   },
   "outputs": [
    {
     "data": {
      "image/png": "[encoded data removed]",
      "text/plain": [
       "<Figure size 660x440 with 1 Axes>"
      ]
     },
     "metadata": {
      "needs_background": "light"
     },
     "output_type": "display_data"
    }
   ],
   "source": [
    "plt.plot([h[\"θ\"][\"θ1\"] for h in result.history], \".-\")\n",
    "plt.plot([h[\"θ\"][\"θ2\"] for h in result.history], \".-\")\n",
    "\n",
    "plt.xlabel(\"step\")\n",
    "plt.ylabel(\"θ\");"
   ]
  },
  {
   "cell_type": "markdown",
   "id": "ed84559a",
   "metadata": {},
   "source": [
    "## With PyMC"
   ]
  },
  {
   "cell_type": "code",
   "execution_count": 23,
   "id": "dbc21d40",
   "metadata": {
    "execution": {
     "iopub.execute_input": "2022-01-21T04:48:00.978290Z",
     "iopub.status.busy": "2022-01-21T04:48:00.977475Z",
     "iopub.status.idle": "2022-01-21T04:48:02.244687Z",
     "shell.execute_reply": "2022-01-21T04:48:02.245121Z"
    }
   },
   "outputs": [],
   "source": [
    "import sys\n",
    "import pymc as pm\n",
    "from muse_inference.pymc import PyMCMuseProblem"
   ]
  },
  {
   "cell_type": "markdown",
   "id": "9c327d67",
   "metadata": {
    "incorrectly_encoded_metadata": "jp-MarkdownHeadingCollapsed=true",
    "tags": []
   },
   "source": [
    "### Scalar"
   ]
  },
  {
   "cell_type": "code",
   "execution_count": 24,
   "id": "f0498f35",
   "metadata": {
    "execution": {
     "iopub.execute_input": "2022-01-21T04:48:02.252062Z",
     "iopub.status.busy": "2022-01-21T04:48:02.250990Z",
     "iopub.status.idle": "2022-01-21T04:48:43.005158Z",
     "shell.execute_reply": "2022-01-21T04:48:43.005909Z"
    }
   },
   "outputs": [],
   "source": [
    "# define \n",
    "def gen_funnel(x=None, θ=None, rng_seeder=None):\n",
    "    with pm.Model(rng_seeder=rng_seeder) as funnel:\n",
    "        θ = θ if θ else pm.Normal(\"θ\", 0, 3)\n",
    "        z = pm.Normal(\"z\", 0, np.exp(θ / 2), size=512)\n",
    "        x = pm.Normal(\"x\", z, 1, observed=x)\n",
    "    return funnel\n",
    "        \n",
    "# generated simulated data\n",
    "rng = np.random.RandomState(0)\n",
    "x_obs = pm.sample_prior_predictive(1, model=gen_funnel(θ=θ_true, rng_seeder=rng)).prior.x[0,0]\n",
    "\n",
    "# set up problem\n",
    "funnel = gen_funnel(x_obs)\n",
    "prob = PyMCMuseProblem(funnel)"
   ]
  },
  {
   "cell_type": "code",
   "execution_count": 25,
   "id": "b7e8ae86",
   "metadata": {
    "execution": {
     "iopub.execute_input": "2022-01-21T04:48:43.009820Z",
     "iopub.status.busy": "2022-01-21T04:48:43.008815Z",
     "iopub.status.idle": "2022-01-21T04:48:45.504524Z",
     "shell.execute_reply": "2022-01-21T04:48:45.504082Z"
    }
   },
   "outputs": [
    {
     "name": "stderr",
     "output_type": "stream",
     "text": [
      "\r",
      "  0%|          | 0/1010 [00:00<?, ?it/s]"
     ]
    },
    {
     "name": "stderr",
     "output_type": "stream",
     "text": [
      "\r",
      "  8%|▊         | 77/1010 [00:00<00:01, 762.01it/s]"
     ]
    },
    {
     "name": "stderr",
     "output_type": "stream",
     "text": [
      "\r",
      " 15%|█▌        | 154/1010 [00:00<00:01, 462.32it/s]"
     ]
    },
    {
     "name": "stderr",
     "output_type": "stream",
     "text": [
      "\r",
      " 20%|██        | 207/1010 [00:00<00:02, 269.06it/s]"
     ]
    },
    {
     "name": "stderr",
     "output_type": "stream",
     "text": [
      "\r",
      " 30%|██▉       | 299/1010 [00:00<00:01, 404.97it/s]"
     ]
    },
    {
     "name": "stderr",
     "output_type": "stream",
     "text": [
      "\r",
      " 35%|███▌      | 357/1010 [00:00<00:01, 375.82it/s]"
     ]
    },
    {
     "name": "stderr",
     "output_type": "stream",
     "text": [
      "\r",
      " 40%|████      | 406/1010 [00:01<00:01, 347.99it/s]"
     ]
    },
    {
     "name": "stderr",
     "output_type": "stream",
     "text": [
      "\r",
      " 50%|████▉     | 500/1010 [00:01<00:01, 473.12it/s]"
     ]
    },
    {
     "name": "stderr",
     "output_type": "stream",
     "text": [
      "\r",
      " 55%|█████▌    | 559/1010 [00:01<00:01, 421.18it/s]"
     ]
    },
    {
     "name": "stderr",
     "output_type": "stream",
     "text": [
      "\r",
      " 60%|██████    | 610/1010 [00:01<00:01, 381.23it/s]"
     ]
    },
    {
     "name": "stderr",
     "output_type": "stream",
     "text": [
      "\r",
      " 70%|██████▉   | 703/1010 [00:01<00:00, 497.55it/s]"
     ]
    },
    {
     "name": "stderr",
     "output_type": "stream",
     "text": [
      "\r",
      " 75%|███████▌  | 762/1010 [00:01<00:00, 437.97it/s]"
     ]
    },
    {
     "name": "stderr",
     "output_type": "stream",
     "text": [
      "\r",
      " 80%|████████  | 813/1010 [00:02<00:00, 392.34it/s]"
     ]
    },
    {
     "name": "stderr",
     "output_type": "stream",
     "text": [
      "\r",
      " 90%|████████▉ | 907/1010 [00:02<00:00, 508.12it/s]"
     ]
    },
    {
     "name": "stderr",
     "output_type": "stream",
     "text": [
      "\r",
      " 96%|█████████▌| 967/1010 [00:02<00:00, 445.22it/s]"
     ]
    },
    {
     "name": "stderr",
     "output_type": "stream",
     "text": [
      "\r",
      "100%|██████████| 1010/1010 [00:02<00:00, 431.68it/s]"
     ]
    },
    {
     "name": "stderr",
     "output_type": "stream",
     "text": [
      "\n"
     ]
    }
   ],
   "source": [
    "result = prob.solve(0., rng=rng, gradz_logLike_atol=1e-4, progress=True, maxsteps=10);"
   ]
  },
  {
   "cell_type": "code",
   "execution_count": 26,
   "id": "e28f545b",
   "metadata": {
    "execution": {
     "iopub.execute_input": "2022-01-21T04:48:45.508580Z",
     "iopub.status.busy": "2022-01-21T04:48:45.507703Z",
     "iopub.status.idle": "2022-01-21T04:48:45.532731Z",
     "shell.execute_reply": "2022-01-21T04:48:45.532304Z"
    }
   },
   "outputs": [
    {
     "data": {
      "text/plain": [
       "[0.0,\n",
       " array([1.30363499]),\n",
       " array([1.14695937]),\n",
       " array([1.07392309]),\n",
       " array([1.02450847]),\n",
       " array([1.02850517]),\n",
       " array([1.02980893]),\n",
       " array([1.03023694]),\n",
       " array([1.03037775]),\n",
       " array([1.0304241])]"
      ]
     },
     "execution_count": 26,
     "metadata": {},
     "output_type": "execute_result"
    }
   ],
   "source": [
    "[h[\"θ\"] for h in result.history]"
   ]
  },
  {
   "cell_type": "code",
   "execution_count": 27,
   "id": "8d959727",
   "metadata": {
    "execution": {
     "iopub.execute_input": "2022-01-21T04:48:45.536683Z",
     "iopub.status.busy": "2022-01-21T04:48:45.536216Z",
     "iopub.status.idle": "2022-01-21T04:48:45.690463Z",
     "shell.execute_reply": "2022-01-21T04:48:45.690011Z"
    }
   },
   "outputs": [
    {
     "name": "stderr",
     "output_type": "stream",
     "text": [
      "/home/runner/.cache/pypoetry/virtualenvs/muse-inference-8TQ0v75b-py3.9/lib/python3.9/site-packages/numpy/core/shape_base.py:65: VisibleDeprecationWarning: Creating an ndarray from ragged nested sequences (which is a list-or-tuple of lists-or-tuples-or ndarrays with different lengths or shapes) is deprecated. If you meant to do this, you must specify 'dtype=object' when creating the ndarray.\n",
      "  ary = asanyarray(ary)\n"
     ]
    },
    {
     "data": {
      "image/png": "[encoded data removed]",
      "text/plain": [
       "<Figure size 660x440 with 1 Axes>"
      ]
     },
     "metadata": {
      "needs_background": "light"
     },
     "output_type": "display_data"
    }
   ],
   "source": [
    "plt.plot([h[\"θ\"] for h in result.history], \".-\")\n",
    "plt.xlabel(\"step\")\n",
    "plt.ylabel(\"θ\");"
   ]
  },
  {
   "cell_type": "markdown",
   "id": "e51c8f5b",
   "metadata": {},
   "source": [
    "### Tuple"
   ]
  },
  {
   "cell_type": "code",
   "execution_count": 28,
   "id": "caa16d7a",
   "metadata": {
    "execution": {
     "iopub.execute_input": "2022-01-21T04:48:45.698963Z",
     "iopub.status.busy": "2022-01-21T04:48:45.696981Z",
     "iopub.status.idle": "2022-01-21T04:48:45.799934Z",
     "shell.execute_reply": "2022-01-21T04:48:45.799036Z"
    }
   },
   "outputs": [],
   "source": [
    "# define \n",
    "def gen_funnel(x=(None,None), θ=(None,None), rng_seeder=None, N=3):\n",
    "    (α, β) = θ\n",
    "    with pm.Model(rng_seeder=rng_seeder) as funnel:\n",
    "        α = pm.Normal(\"α\", 0, 3) if α is None else α\n",
    "        β = pm.Normal(\"β\", 0, 3) if β is None else β\n",
    "        z1 = pm.Normal(\"z1\", 0, np.exp(α / 2), size=N)\n",
    "        z2 = pm.Normal(\"z2\", 0, np.exp(β / 2), size=N)\n",
    "        x1 = pm.Normal(\"x1\", z1, 1, observed=x[0])\n",
    "        x2 = pm.Normal(\"x2\", z2, 1, observed=x[1])\n",
    "    return funnel\n",
    "        \n",
    "# generated simulated data\n",
    "rng = np.random.RandomState(0)\n",
    "θ = (-1, 3)\n",
    "prior = pm.sample_prior_predictive(1, model=gen_funnel(θ=θ, rng_seeder=rng)).prior\n",
    "x_obs = (prior.x1, prior.x2)"
   ]
  },
  {
   "cell_type": "code",
   "execution_count": 29,
   "id": "755d7a5e",
   "metadata": {
    "execution": {
     "iopub.execute_input": "2022-01-21T04:48:45.804294Z",
     "iopub.status.busy": "2022-01-21T04:48:45.803728Z",
     "iopub.status.idle": "2022-01-21T04:48:57.343441Z",
     "shell.execute_reply": "2022-01-21T04:48:57.343905Z"
    }
   },
   "outputs": [],
   "source": [
    "# set up problem\n",
    "funnel = gen_funnel(x_obs)\n",
    "prob = PyMCMuseProblem(funnel)"
   ]
  },
  {
   "cell_type": "code",
   "execution_count": 30,
   "id": "2dd353bb",
   "metadata": {
    "execution": {
     "iopub.execute_input": "2022-01-21T04:48:57.349934Z",
     "iopub.status.busy": "2022-01-21T04:48:57.348863Z",
     "iopub.status.idle": "2022-01-21T04:49:01.018384Z",
     "shell.execute_reply": "2022-01-21T04:49:01.018801Z"
    }
   },
   "outputs": [
    {
     "name": "stderr",
     "output_type": "stream",
     "text": [
      "\r",
      "  0%|          | 0/1010 [00:00<?, ?it/s]"
     ]
    },
    {
     "name": "stderr",
     "output_type": "stream",
     "text": [
      "\r",
      " 10%|█         | 102/1010 [00:00<00:03, 279.40it/s]"
     ]
    },
    {
     "name": "stderr",
     "output_type": "stream",
     "text": [
      "\r",
      " 20%|██        | 203/1010 [00:00<00:02, 271.14it/s]"
     ]
    },
    {
     "name": "stderr",
     "output_type": "stream",
     "text": [
      "\r",
      " 30%|███       | 304/1010 [00:01<00:02, 271.54it/s]"
     ]
    },
    {
     "name": "stderr",
     "output_type": "stream",
     "text": [
      "\r",
      " 40%|████      | 405/1010 [00:01<00:02, 272.89it/s]"
     ]
    },
    {
     "name": "stderr",
     "output_type": "stream",
     "text": [
      "\r",
      " 50%|█████     | 506/1010 [00:01<00:01, 273.56it/s]"
     ]
    },
    {
     "name": "stderr",
     "output_type": "stream",
     "text": [
      "\r",
      " 60%|██████    | 607/1010 [00:02<00:01, 273.68it/s]"
     ]
    },
    {
     "name": "stderr",
     "output_type": "stream",
     "text": [
      "\r",
      " 70%|███████   | 708/1010 [00:02<00:01, 278.10it/s]"
     ]
    },
    {
     "name": "stderr",
     "output_type": "stream",
     "text": [
      "\r",
      " 80%|████████  | 809/1010 [00:02<00:00, 279.45it/s]"
     ]
    },
    {
     "name": "stderr",
     "output_type": "stream",
     "text": [
      "\r",
      " 90%|█████████ | 910/1010 [00:03<00:00, 280.95it/s]"
     ]
    },
    {
     "name": "stderr",
     "output_type": "stream",
     "text": [
      "\r",
      "100%|██████████| 1010/1010 [00:03<00:00, 301.00it/s]"
     ]
    },
    {
     "name": "stderr",
     "output_type": "stream",
     "text": [
      "\n"
     ]
    }
   ],
   "source": [
    "result = prob.solve((0,0), α=0.3, rng=rng, gradz_logLike_atol=1e-4, progress=True, maxsteps=10);"
   ]
  },
  {
   "cell_type": "code",
   "execution_count": 31,
   "id": "54d7c884",
   "metadata": {
    "execution": {
     "iopub.execute_input": "2022-01-21T04:49:01.022991Z",
     "iopub.status.busy": "2022-01-21T04:49:01.022529Z",
     "iopub.status.idle": "2022-01-21T04:49:01.046248Z",
     "shell.execute_reply": "2022-01-21T04:49:01.046647Z"
    }
   },
   "outputs": [
    {
     "data": {
      "text/plain": [
       "[(0, 0),\n",
       " (-0.2815542650152186, 6.477243065481232),\n",
       " (-0.5141747017993881, 6.117638105986346),\n",
       " (-0.6918288059307816, 5.771206936941405),\n",
       " (-0.8177009896792248, 5.439946228160347),\n",
       " (-0.9018400316593392, 5.126349650147274),\n",
       " (-0.9572251933169915, 4.833422582078036),\n",
       " (-0.9973477714739579, 4.564419027380707),\n",
       " (-1.0313059723290432, 4.322361248178538),\n",
       " (-1.0403874945099805, 4.1095482019757394)]"
      ]
     },
     "execution_count": 31,
     "metadata": {},
     "output_type": "execute_result"
    }
   ],
   "source": [
    "[h[\"θ\"] for h in result.history]"
   ]
  },
  {
   "cell_type": "code",
   "execution_count": 32,
   "id": "8f27ceae",
   "metadata": {
    "execution": {
     "iopub.execute_input": "2022-01-21T04:49:01.051763Z",
     "iopub.status.busy": "2022-01-21T04:49:01.050374Z",
     "iopub.status.idle": "2022-01-21T04:49:01.208209Z",
     "shell.execute_reply": "2022-01-21T04:49:01.208687Z"
    }
   },
   "outputs": [
    {
     "data": {
      "image/png": "[encoded data removed]",
      "text/plain": [
       "<Figure size 660x440 with 1 Axes>"
      ]
     },
     "metadata": {
      "needs_background": "light"
     },
     "output_type": "display_data"
    }
   ],
   "source": [
    "plt.plot([h[\"θ\"][0] for h in result.history], \".-\")\n",
    "plt.plot([h[\"θ\"][1] for h in result.history], \".-\")\n",
    "\n",
    "plt.xlabel(\"step\")\n",
    "plt.ylabel(\"θ\");"
   ]
  }
 ],
 "metadata": {
  "jupytext": {
   "formats": "md,ipynb",
   "text_representation": {
    "extension": ".md",
    "format_name": "markdown",
    "format_version": "1.3",
    "jupytext_version": "1.13.6"
   }
  },
  "kernelspec": {
   "display_name": "Python 3",
   "language": "python",
   "name": "python3"
  },
  "language_info": {
   "codemirror_mode": {
    "name": "ipython",
    "version": 3
   },
   "file_extension": ".py",
   "mimetype": "text/x-python",
   "name": "python",
   "nbconvert_exporter": "python",
   "pygments_lexer": "ipython3",
   "version": "3.9.9"
  }
 },
 "nbformat": 4,
 "nbformat_minor": 5
}
