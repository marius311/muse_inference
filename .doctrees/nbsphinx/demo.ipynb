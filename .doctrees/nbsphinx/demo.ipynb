{
 "cells": [
  {
   "cell_type": "markdown",
   "id": "3bef776b",
   "metadata": {},
   "source": [
    "# Demo"
   ]
  },
  {
   "cell_type": "code",
   "execution_count": 1,
   "id": "5d2813f4",
   "metadata": {
    "execution": {
     "iopub.execute_input": "2022-01-21T09:47:34.638585Z",
     "iopub.status.busy": "2022-01-21T09:47:34.635561Z",
     "iopub.status.idle": "2022-01-21T09:47:36.028607Z",
     "shell.execute_reply": "2022-01-21T09:47:36.029068Z"
    },
    "nbsphinx": "hidden",
    "tags": []
   },
   "outputs": [],
   "source": [
    "%matplotlib inline\n",
    "%config InlineBackend.print_figure_kwargs = {'bbox_inches': 'tight', 'dpi': 110}\n",
    "%load_ext autoreload\n",
    "%autoreload 2"
   ]
  },
  {
   "cell_type": "markdown",
   "id": "d9e19b1b",
   "metadata": {},
   "source": [
    "Sample text. $\\mathcal{P}(x\\,|\\,\\theta)$"
   ]
  },
  {
   "cell_type": "code",
   "execution_count": 2,
   "id": "0801334b",
   "metadata": {
    "execution": {
     "iopub.execute_input": "2022-01-21T09:47:36.034212Z",
     "iopub.status.busy": "2022-01-21T09:47:36.033068Z",
     "iopub.status.idle": "2022-01-21T09:47:36.204638Z",
     "shell.execute_reply": "2022-01-21T09:47:36.203788Z"
    }
   },
   "outputs": [],
   "source": [
    "import matplotlib.pyplot as plt\n",
    "import muse_inference\n",
    "from muse_inference import MuseProblem\n",
    "import numpy as np"
   ]
  },
  {
   "cell_type": "code",
   "execution_count": 3,
   "id": "5cc7616a",
   "metadata": {
    "execution": {
     "iopub.execute_input": "2022-01-21T09:47:36.210338Z",
     "iopub.status.busy": "2022-01-21T09:47:36.209004Z",
     "iopub.status.idle": "2022-01-21T09:47:36.222638Z",
     "shell.execute_reply": "2022-01-21T09:47:36.223064Z"
    }
   },
   "outputs": [],
   "source": [
    "θ_true = 1."
   ]
  },
  {
   "cell_type": "markdown",
   "id": "199756d8",
   "metadata": {
    "incorrectly_encoded_metadata": "jp-MarkdownHeadingCollapsed=true tags=[] jp-MarkdownHeadingCollapsed=true jp-MarkdownHeadingCollapsed=true tags=[] jp-MarkdownHeadingCollapsed=true",
    "tags": []
   },
   "source": [
    "## With numpy"
   ]
  },
  {
   "cell_type": "markdown",
   "id": "8149bb65",
   "metadata": {
    "incorrectly_encoded_metadata": "jp-MarkdownHeadingCollapsed=true",
    "tags": []
   },
   "source": [
    "### Scalar"
   ]
  },
  {
   "cell_type": "code",
   "execution_count": 4,
   "id": "85742d45",
   "metadata": {
    "execution": {
     "iopub.execute_input": "2022-01-21T09:47:36.231245Z",
     "iopub.status.busy": "2022-01-21T09:47:36.230318Z",
     "iopub.status.idle": "2022-01-21T09:47:36.243488Z",
     "shell.execute_reply": "2022-01-21T09:47:36.243030Z"
    }
   },
   "outputs": [],
   "source": [
    "class NumpyFunnelMuseProblem(MuseProblem):\n",
    "    \n",
    "    def __init__(self, N):\n",
    "        super().__init__()\n",
    "        self.N = N\n",
    "    \n",
    "    def sample_x_z(self, rng, θ):\n",
    "        z = rng.randn(self.N) * np.exp(θ/2)\n",
    "        x = z + rng.randn(self.N)\n",
    "        return (x, z)\n",
    "    \n",
    "    def gradθ_logLike(self, x, z, θ):\n",
    "        return np.sum(z**2)/(2*np.exp(θ)) - self.N/2\n",
    "    \n",
    "    def logLike_and_gradz_logLike(self, x, z, θ):\n",
    "        logLike = -(np.sum((x - z)**2) + np.sum(z**2) / np.exp(θ) + 512*θ) / 2\n",
    "        gradz_logLike = x - z * (1 + np.exp(-θ))\n",
    "        return (logLike, gradz_logLike)\n",
    "    \n",
    "    def grad_hess_θ_logPrior(self, θ):\n",
    "        return (-θ/(3**2), -1/3**2)\n",
    "    "
   ]
  },
  {
   "cell_type": "code",
   "execution_count": 5,
   "id": "7e24e9cd",
   "metadata": {
    "execution": {
     "iopub.execute_input": "2022-01-21T09:47:36.248044Z",
     "iopub.status.busy": "2022-01-21T09:47:36.246752Z",
     "iopub.status.idle": "2022-01-21T09:47:36.260203Z",
     "shell.execute_reply": "2022-01-21T09:47:36.260738Z"
    }
   },
   "outputs": [],
   "source": [
    "prob = NumpyFunnelMuseProblem(512)\n",
    "rng = np.random.RandomState(0)\n",
    "(x, z) = prob.sample_x_z(rng, θ_true)\n",
    "prob.x = x"
   ]
  },
  {
   "cell_type": "code",
   "execution_count": 6,
   "id": "bf5e29cf",
   "metadata": {
    "execution": {
     "iopub.execute_input": "2022-01-21T09:47:36.268124Z",
     "iopub.status.busy": "2022-01-21T09:47:36.267016Z",
     "iopub.status.idle": "2022-01-21T09:47:37.491726Z",
     "shell.execute_reply": "2022-01-21T09:47:37.492171Z"
    }
   },
   "outputs": [
    {
     "name": "stderr",
     "output_type": "stream",
     "text": [
      "\r",
      "  0%|          | 0/1010 [00:00<?, ?it/s]"
     ]
    },
    {
     "name": "stderr",
     "output_type": "stream",
     "text": [
      "\r",
      "  8%|▊         | 77/1010 [00:00<00:01, 761.95it/s]"
     ]
    },
    {
     "name": "stderr",
     "output_type": "stream",
     "text": [
      "\r",
      " 15%|█▌        | 154/1010 [00:00<00:01, 676.43it/s]"
     ]
    },
    {
     "name": "stderr",
     "output_type": "stream",
     "text": [
      "\r",
      " 22%|██▏       | 226/1010 [00:00<00:01, 694.73it/s]"
     ]
    },
    {
     "name": "stderr",
     "output_type": "stream",
     "text": [
      "\r",
      " 30%|███       | 308/1010 [00:00<00:00, 739.27it/s]"
     ]
    },
    {
     "name": "stderr",
     "output_type": "stream",
     "text": [
      "\r",
      " 39%|███▉      | 392/1010 [00:00<00:00, 773.75it/s]"
     ]
    },
    {
     "name": "stderr",
     "output_type": "stream",
     "text": [
      "\r",
      " 47%|████▋     | 476/1010 [00:00<00:00, 794.98it/s]"
     ]
    },
    {
     "name": "stderr",
     "output_type": "stream",
     "text": [
      "\r",
      " 55%|█████▌    | 557/1010 [00:00<00:00, 797.54it/s]"
     ]
    },
    {
     "name": "stderr",
     "output_type": "stream",
     "text": [
      "\r",
      " 63%|██████▎   | 637/1010 [00:00<00:00, 779.40it/s]"
     ]
    },
    {
     "name": "stderr",
     "output_type": "stream",
     "text": [
      "\r",
      " 71%|███████▏  | 722/1010 [00:00<00:00, 798.99it/s]"
     ]
    },
    {
     "name": "stderr",
     "output_type": "stream",
     "text": [
      "\r",
      " 80%|████████  | 809/1010 [00:01<00:00, 809.86it/s]"
     ]
    },
    {
     "name": "stderr",
     "output_type": "stream",
     "text": [
      "\r",
      " 89%|████████▊ | 896/1010 [00:01<00:00, 825.86it/s]"
     ]
    },
    {
     "name": "stderr",
     "output_type": "stream",
     "text": [
      "\r",
      "100%|██████████| 1010/1010 [00:01<00:00, 868.40it/s]"
     ]
    },
    {
     "name": "stderr",
     "output_type": "stream",
     "text": [
      "\n"
     ]
    }
   ],
   "source": [
    "result = prob.solve(0, α=0.7, rng=np.random.RandomState(3), gradz_logLike_atol=1e-4, progress=True, maxsteps=10);"
   ]
  },
  {
   "cell_type": "code",
   "execution_count": 7,
   "id": "cb6c90ec",
   "metadata": {
    "execution": {
     "iopub.execute_input": "2022-01-21T09:47:37.496674Z",
     "iopub.status.busy": "2022-01-21T09:47:37.496078Z",
     "iopub.status.idle": "2022-01-21T09:47:37.725550Z",
     "shell.execute_reply": "2022-01-21T09:47:37.726030Z"
    }
   },
   "outputs": [
    {
     "data": {
      "image/png": "[encoded data removed]",
      "text/plain": [
       "<Figure size 432x288 with 1 Axes>"
      ]
     },
     "metadata": {
      "needs_background": "light"
     },
     "output_type": "display_data"
    }
   ],
   "source": [
    "plt.plot([h[\"θ\"] for h in result.history], \".-\")\n",
    "plt.xlabel(\"step\")\n",
    "plt.ylabel(\"θ\");"
   ]
  },
  {
   "cell_type": "markdown",
   "id": "cd171bea",
   "metadata": {},
   "source": [
    "### Tuple"
   ]
  },
  {
   "cell_type": "code",
   "execution_count": 8,
   "id": "e2ccfddb",
   "metadata": {
    "execution": {
     "iopub.execute_input": "2022-01-21T09:47:37.737195Z",
     "iopub.status.busy": "2022-01-21T09:47:37.736574Z",
     "iopub.status.idle": "2022-01-21T09:47:37.752070Z",
     "shell.execute_reply": "2022-01-21T09:47:37.751532Z"
    }
   },
   "outputs": [],
   "source": [
    "class NumpyFunnelMuseProblem(MuseProblem):\n",
    "    \n",
    "    def __init__(self, N):\n",
    "        super().__init__()\n",
    "        self.N = N\n",
    "    \n",
    "    def sample_x_z(self, rng, θ):\n",
    "        (θ1, θ2) = θ\n",
    "        z1 = rng.randn(self.N) * np.exp(θ1/2)\n",
    "        z2 = rng.randn(self.N) * np.exp(θ2/2)        \n",
    "        x1 = z1 + rng.randn(self.N)\n",
    "        x2 = z2 + rng.randn(self.N)        \n",
    "        return ((x1,x2), (z1,z2))\n",
    "    \n",
    "    def gradθ_logLike(self, x, z, θ):\n",
    "        (θ1, θ2) = θ\n",
    "        (x1, x2) = x\n",
    "        (z1, z2) = z\n",
    "        return (np.sum(z1**2)/(2*np.exp(θ1)) - self.N/2, np.sum(z2**2)/(2*np.exp(θ2)) - self.N/2)\n",
    "    \n",
    "    def logLike_and_gradz_logLike(self, x, z, θ):\n",
    "        (θ1, θ2) = θ\n",
    "        (x1, x2) = x\n",
    "        (z1, z2) = z\n",
    "        logLike = -(np.sum((x1 - z1)**2) + np.sum(z1**2) / np.exp(θ1) + 512*θ1) / 2 -(np.sum((x2 - z2)**2) + np.sum(z2**2) / np.exp(θ2) + 512*θ2) / 2\n",
    "        gradz_logLike = (x1 - z1 * (1 + np.exp(-θ1)), x2 - z2 * (1 + np.exp(-θ2)))\n",
    "        return (logLike, gradz_logLike)\n",
    "    \n",
    "    def gradθ_and_hessθ_logPrior(self, θ):\n",
    "        (θ1, θ2) = θ\n",
    "        g = (-θ1/(3**2), -θ2/(3**2))\n",
    "        H = ((-1/3**2, 0),\n",
    "              (0,      -1/3**2))\n",
    "        return g, H"
   ]
  },
  {
   "cell_type": "code",
   "execution_count": 9,
   "id": "b6d8b99b",
   "metadata": {
    "execution": {
     "iopub.execute_input": "2022-01-21T09:47:37.758352Z",
     "iopub.status.busy": "2022-01-21T09:47:37.757740Z",
     "iopub.status.idle": "2022-01-21T09:47:37.770995Z",
     "shell.execute_reply": "2022-01-21T09:47:37.770303Z"
    }
   },
   "outputs": [],
   "source": [
    "prob = NumpyFunnelMuseProblem(2048)\n",
    "θ = (-1., 5.)\n",
    "x, z = prob.sample_x_z(np.random.RandomState(0), θ)\n",
    "prob.x = x"
   ]
  },
  {
   "cell_type": "code",
   "execution_count": 10,
   "id": "913ab5de",
   "metadata": {
    "execution": {
     "iopub.execute_input": "2022-01-21T09:47:37.776341Z",
     "iopub.status.busy": "2022-01-21T09:47:37.775775Z",
     "iopub.status.idle": "2022-01-21T09:47:45.536591Z",
     "shell.execute_reply": "2022-01-21T09:47:45.537127Z"
    }
   },
   "outputs": [
    {
     "name": "stderr",
     "output_type": "stream",
     "text": [
      "\r",
      "  0%|          | 0/1010 [00:00<?, ?it/s]"
     ]
    },
    {
     "name": "stderr",
     "output_type": "stream",
     "text": [
      "\r",
      "  1%|          | 9/1010 [00:00<00:11, 85.03it/s]"
     ]
    },
    {
     "name": "stderr",
     "output_type": "stream",
     "text": [
      "\r",
      "  2%|▏         | 22/1010 [00:00<00:08, 110.58it/s]"
     ]
    },
    {
     "name": "stderr",
     "output_type": "stream",
     "text": [
      "\r",
      "  3%|▎         | 35/1010 [00:00<00:08, 116.51it/s]"
     ]
    },
    {
     "name": "stderr",
     "output_type": "stream",
     "text": [
      "\r",
      "  5%|▍         | 47/1010 [00:00<00:08, 117.30it/s]"
     ]
    },
    {
     "name": "stderr",
     "output_type": "stream",
     "text": [
      "\r",
      "  6%|▌         | 61/1010 [00:00<00:07, 122.67it/s]"
     ]
    },
    {
     "name": "stderr",
     "output_type": "stream",
     "text": [
      "\r",
      "  7%|▋         | 74/1010 [00:00<00:08, 110.52it/s]"
     ]
    },
    {
     "name": "stderr",
     "output_type": "stream",
     "text": [
      "\r",
      "  9%|▊         | 87/1010 [00:00<00:08, 115.23it/s]"
     ]
    },
    {
     "name": "stderr",
     "output_type": "stream",
     "text": [
      "\r",
      " 10%|▉         | 100/1010 [00:00<00:07, 118.94it/s]"
     ]
    },
    {
     "name": "stderr",
     "output_type": "stream",
     "text": [
      "\r",
      " 11%|█         | 113/1010 [00:00<00:08, 111.52it/s]"
     ]
    },
    {
     "name": "stderr",
     "output_type": "stream",
     "text": [
      "\r",
      " 12%|█▏        | 125/1010 [00:01<00:08, 104.93it/s]"
     ]
    },
    {
     "name": "stderr",
     "output_type": "stream",
     "text": [
      "\r",
      " 14%|█▎        | 137/1010 [00:01<00:08, 108.16it/s]"
     ]
    },
    {
     "name": "stderr",
     "output_type": "stream",
     "text": [
      "\r",
      " 15%|█▍        | 149/1010 [00:01<00:07, 109.72it/s]"
     ]
    },
    {
     "name": "stderr",
     "output_type": "stream",
     "text": [
      "\r",
      " 16%|█▌        | 163/1010 [00:01<00:07, 117.87it/s]"
     ]
    },
    {
     "name": "stderr",
     "output_type": "stream",
     "text": [
      "\r",
      " 17%|█▋        | 175/1010 [00:01<00:07, 110.00it/s]"
     ]
    },
    {
     "name": "stderr",
     "output_type": "stream",
     "text": [
      "\r",
      " 19%|█▉        | 190/1010 [00:01<00:06, 119.44it/s]"
     ]
    },
    {
     "name": "stderr",
     "output_type": "stream",
     "text": [
      "\r",
      " 20%|██        | 203/1010 [00:01<00:07, 114.90it/s]"
     ]
    },
    {
     "name": "stderr",
     "output_type": "stream",
     "text": [
      "\r",
      " 21%|██▏       | 215/1010 [00:01<00:07, 111.42it/s]"
     ]
    },
    {
     "name": "stderr",
     "output_type": "stream",
     "text": [
      "\r",
      " 23%|██▎       | 229/1010 [00:02<00:07, 111.37it/s]"
     ]
    },
    {
     "name": "stderr",
     "output_type": "stream",
     "text": [
      "\r",
      " 24%|██▍       | 245/1010 [00:02<00:06, 123.78it/s]"
     ]
    },
    {
     "name": "stderr",
     "output_type": "stream",
     "text": [
      "\r",
      " 26%|██▌       | 261/1010 [00:02<00:05, 131.53it/s]"
     ]
    },
    {
     "name": "stderr",
     "output_type": "stream",
     "text": [
      "\r",
      " 27%|██▋       | 277/1010 [00:02<00:05, 137.82it/s]"
     ]
    },
    {
     "name": "stderr",
     "output_type": "stream",
     "text": [
      "\r",
      " 29%|██▉       | 293/1010 [00:02<00:05, 125.58it/s]"
     ]
    },
    {
     "name": "stderr",
     "output_type": "stream",
     "text": [
      "\r",
      " 30%|███       | 306/1010 [00:02<00:05, 120.23it/s]"
     ]
    },
    {
     "name": "stderr",
     "output_type": "stream",
     "text": [
      "\r",
      " 32%|███▏      | 323/1010 [00:02<00:05, 131.02it/s]"
     ]
    },
    {
     "name": "stderr",
     "output_type": "stream",
     "text": [
      "\r",
      " 33%|███▎      | 338/1010 [00:02<00:05, 123.68it/s]"
     ]
    },
    {
     "name": "stderr",
     "output_type": "stream",
     "text": [
      "\r",
      " 35%|███▌      | 355/1010 [00:02<00:04, 134.28it/s]"
     ]
    },
    {
     "name": "stderr",
     "output_type": "stream",
     "text": [
      "\r",
      " 37%|███▋      | 372/1010 [00:03<00:04, 141.90it/s]"
     ]
    },
    {
     "name": "stderr",
     "output_type": "stream",
     "text": [
      "\r",
      " 38%|███▊      | 387/1010 [00:03<00:04, 132.65it/s]"
     ]
    },
    {
     "name": "stderr",
     "output_type": "stream",
     "text": [
      "\r",
      " 40%|███▉      | 401/1010 [00:03<00:04, 123.95it/s]"
     ]
    },
    {
     "name": "stderr",
     "output_type": "stream",
     "text": [
      "\r",
      " 41%|████      | 414/1010 [00:03<00:04, 123.14it/s]"
     ]
    },
    {
     "name": "stderr",
     "output_type": "stream",
     "text": [
      "\r",
      " 43%|████▎     | 431/1010 [00:03<00:04, 135.18it/s]"
     ]
    },
    {
     "name": "stderr",
     "output_type": "stream",
     "text": [
      "\r",
      " 44%|████▍     | 448/1010 [00:03<00:03, 144.33it/s]"
     ]
    },
    {
     "name": "stderr",
     "output_type": "stream",
     "text": [
      "\r",
      " 46%|████▌     | 463/1010 [00:03<00:04, 135.36it/s]"
     ]
    },
    {
     "name": "stderr",
     "output_type": "stream",
     "text": [
      "\r",
      " 48%|████▊     | 480/1010 [00:03<00:03, 142.95it/s]"
     ]
    },
    {
     "name": "stderr",
     "output_type": "stream",
     "text": [
      "\r",
      " 49%|████▉     | 497/1010 [00:03<00:03, 149.42it/s]"
     ]
    },
    {
     "name": "stderr",
     "output_type": "stream",
     "text": [
      "\r",
      " 51%|█████     | 513/1010 [00:04<00:03, 130.37it/s]"
     ]
    },
    {
     "name": "stderr",
     "output_type": "stream",
     "text": [
      "\r",
      " 52%|█████▏    | 530/1010 [00:04<00:03, 139.98it/s]"
     ]
    },
    {
     "name": "stderr",
     "output_type": "stream",
     "text": [
      "\r",
      " 54%|█████▍    | 545/1010 [00:04<00:03, 130.77it/s]"
     ]
    },
    {
     "name": "stderr",
     "output_type": "stream",
     "text": [
      "\r",
      " 56%|█████▌    | 562/1010 [00:04<00:03, 139.48it/s]"
     ]
    },
    {
     "name": "stderr",
     "output_type": "stream",
     "text": [
      "\r",
      " 57%|█████▋    | 577/1010 [00:04<00:03, 129.18it/s]"
     ]
    },
    {
     "name": "stderr",
     "output_type": "stream",
     "text": [
      "\r",
      " 59%|█████▉    | 594/1010 [00:04<00:03, 137.91it/s]"
     ]
    },
    {
     "name": "stderr",
     "output_type": "stream",
     "text": [
      "\r",
      " 60%|██████    | 609/1010 [00:04<00:03, 132.54it/s]"
     ]
    },
    {
     "name": "stderr",
     "output_type": "stream",
     "text": [
      "\r",
      " 62%|██████▏   | 626/1010 [00:04<00:02, 141.52it/s]"
     ]
    },
    {
     "name": "stderr",
     "output_type": "stream",
     "text": [
      "\r",
      " 63%|██████▎   | 641/1010 [00:05<00:02, 134.37it/s]"
     ]
    },
    {
     "name": "stderr",
     "output_type": "stream",
     "text": [
      "\r",
      " 65%|██████▌   | 658/1010 [00:05<00:02, 143.48it/s]"
     ]
    },
    {
     "name": "stderr",
     "output_type": "stream",
     "text": [
      "\r",
      " 67%|██████▋   | 676/1010 [00:05<00:02, 152.01it/s]"
     ]
    },
    {
     "name": "stderr",
     "output_type": "stream",
     "text": [
      "\r",
      " 69%|██████▊   | 692/1010 [00:05<00:02, 140.65it/s]"
     ]
    },
    {
     "name": "stderr",
     "output_type": "stream",
     "text": [
      "\r",
      " 70%|███████   | 708/1010 [00:05<00:02, 137.32it/s]"
     ]
    },
    {
     "name": "stderr",
     "output_type": "stream",
     "text": [
      "\r",
      " 71%|███████▏  | 722/1010 [00:05<00:02, 130.35it/s]"
     ]
    },
    {
     "name": "stderr",
     "output_type": "stream",
     "text": [
      "\r",
      " 73%|███████▎  | 739/1010 [00:05<00:02, 124.58it/s]"
     ]
    },
    {
     "name": "stderr",
     "output_type": "stream",
     "text": [
      "\r",
      " 75%|███████▍  | 757/1010 [00:05<00:01, 136.81it/s]"
     ]
    },
    {
     "name": "stderr",
     "output_type": "stream",
     "text": [
      "\r",
      " 77%|███████▋  | 775/1010 [00:06<00:01, 146.81it/s]"
     ]
    },
    {
     "name": "stderr",
     "output_type": "stream",
     "text": [
      "\r",
      " 79%|███████▊  | 793/1010 [00:06<00:01, 153.87it/s]"
     ]
    },
    {
     "name": "stderr",
     "output_type": "stream",
     "text": [
      "\r",
      " 80%|████████  | 809/1010 [00:06<00:01, 128.01it/s]"
     ]
    },
    {
     "name": "stderr",
     "output_type": "stream",
     "text": [
      "\r",
      " 82%|████████▏ | 826/1010 [00:06<00:01, 136.49it/s]"
     ]
    },
    {
     "name": "stderr",
     "output_type": "stream",
     "text": [
      "\r",
      " 83%|████████▎ | 843/1010 [00:06<00:01, 144.51it/s]"
     ]
    },
    {
     "name": "stderr",
     "output_type": "stream",
     "text": [
      "\r",
      " 85%|████████▌ | 859/1010 [00:06<00:01, 134.04it/s]"
     ]
    },
    {
     "name": "stderr",
     "output_type": "stream",
     "text": [
      "\r",
      " 87%|████████▋ | 876/1010 [00:06<00:00, 142.19it/s]"
     ]
    },
    {
     "name": "stderr",
     "output_type": "stream",
     "text": [
      "\r",
      " 88%|████████▊ | 891/1010 [00:06<00:00, 134.33it/s]"
     ]
    },
    {
     "name": "stderr",
     "output_type": "stream",
     "text": [
      "\r",
      " 90%|████████▉ | 908/1010 [00:06<00:00, 142.67it/s]"
     ]
    },
    {
     "name": "stderr",
     "output_type": "stream",
     "text": [
      "\r",
      " 91%|█████████▏| 923/1010 [00:07<00:00, 123.28it/s]"
     ]
    },
    {
     "name": "stderr",
     "output_type": "stream",
     "text": [
      "\r",
      " 93%|█████████▎| 940/1010 [00:07<00:00, 134.85it/s]"
     ]
    },
    {
     "name": "stderr",
     "output_type": "stream",
     "text": [
      "\r",
      " 95%|█████████▍| 957/1010 [00:07<00:00, 143.20it/s]"
     ]
    },
    {
     "name": "stderr",
     "output_type": "stream",
     "text": [
      "\r",
      " 96%|█████████▋| 973/1010 [00:07<00:00, 133.42it/s]"
     ]
    },
    {
     "name": "stderr",
     "output_type": "stream",
     "text": [
      "\r",
      " 98%|█████████▊| 989/1010 [00:07<00:00, 139.83it/s]"
     ]
    },
    {
     "name": "stderr",
     "output_type": "stream",
     "text": [
      "\r",
      "100%|█████████▉| 1006/1010 [00:07<00:00, 147.03it/s]"
     ]
    },
    {
     "name": "stderr",
     "output_type": "stream",
     "text": [
      "\r",
      "100%|██████████| 1010/1010 [00:07<00:00, 130.86it/s]"
     ]
    },
    {
     "name": "stderr",
     "output_type": "stream",
     "text": [
      "\n"
     ]
    }
   ],
   "source": [
    "result = prob.solve(θ, α=0.7, rng=np.random.RandomState(3), gradz_logLike_atol=1e-4, progress=True, maxsteps=10);"
   ]
  },
  {
   "cell_type": "code",
   "execution_count": 11,
   "id": "6dbb1af6",
   "metadata": {
    "execution": {
     "iopub.execute_input": "2022-01-21T09:47:45.540938Z",
     "iopub.status.busy": "2022-01-21T09:47:45.540338Z",
     "iopub.status.idle": "2022-01-21T09:47:45.556580Z",
     "shell.execute_reply": "2022-01-21T09:47:45.557068Z"
    }
   },
   "outputs": [
    {
     "data": {
      "text/plain": [
       "(-1.062943491137549, 4.979763958528233)"
      ]
     },
     "execution_count": 11,
     "metadata": {},
     "output_type": "execute_result"
    }
   ],
   "source": [
    "result.history[-1][\"θ\"]"
   ]
  },
  {
   "cell_type": "markdown",
   "id": "e669798d",
   "metadata": {
    "incorrectly_encoded_metadata": "jp-MarkdownHeadingCollapsed=true",
    "tags": []
   },
   "source": [
    "## With Jax"
   ]
  },
  {
   "cell_type": "code",
   "execution_count": 12,
   "id": "e996fe0e",
   "metadata": {
    "execution": {
     "iopub.execute_input": "2022-01-21T09:47:45.560471Z",
     "iopub.status.busy": "2022-01-21T09:47:45.559426Z",
     "iopub.status.idle": "2022-01-21T09:47:46.081595Z",
     "shell.execute_reply": "2022-01-21T09:47:46.080459Z"
    }
   },
   "outputs": [],
   "source": [
    "import jax\n",
    "import jax.numpy as jnp\n",
    "from muse_inference.jax import JittedJaxMuseProblem, JaxMuseProblem"
   ]
  },
  {
   "cell_type": "markdown",
   "id": "cc63dd0d",
   "metadata": {
    "incorrectly_encoded_metadata": "tags=[] jp-MarkdownHeadingCollapsed=true jp-MarkdownHeadingCollapsed=true",
    "tags": []
   },
   "source": [
    "### Scalar"
   ]
  },
  {
   "cell_type": "code",
   "execution_count": 13,
   "id": "4edaa823",
   "metadata": {
    "execution": {
     "iopub.execute_input": "2022-01-21T09:47:46.089421Z",
     "iopub.status.busy": "2022-01-21T09:47:46.084090Z",
     "iopub.status.idle": "2022-01-21T09:47:46.107396Z",
     "shell.execute_reply": "2022-01-21T09:47:46.108085Z"
    }
   },
   "outputs": [],
   "source": [
    "class JaxFunnelMuseProblem(JittedJaxMuseProblem):\n",
    "    \n",
    "    def __init__(self, N):\n",
    "        super().__init__()\n",
    "        self.N = N\n",
    "\n",
    "    def sample_x_z(self, rng, θ):\n",
    "        z = rng.randn(self.N) * np.exp(θ/2)\n",
    "        x = z + rng.randn(self.N)\n",
    "        return (jnp.array(x), jnp.array(z))\n",
    "\n",
    "    def logLike(self, x, z, θ):\n",
    "        return -(jnp.sum((x - z)**2) + jnp.sum(z**2) / jnp.exp(θ) + 512*θ) / 2\n",
    "    \n",
    "    def logPrior(self, θ):\n",
    "        return -θ**2 / (2*3**2)"
   ]
  },
  {
   "cell_type": "code",
   "execution_count": 14,
   "id": "bb8011a5",
   "metadata": {
    "execution": {
     "iopub.execute_input": "2022-01-21T09:47:46.112146Z",
     "iopub.status.busy": "2022-01-21T09:47:46.111617Z",
     "iopub.status.idle": "2022-01-21T09:47:46.134185Z",
     "shell.execute_reply": "2022-01-21T09:47:46.135247Z"
    }
   },
   "outputs": [
    {
     "name": "stderr",
     "output_type": "stream",
     "text": [
      "WARNING:absl:No GPU/TPU found, falling back to CPU. (Set TF_CPP_MIN_LOG_LEVEL=0 and rerun for more info.)\n"
     ]
    }
   ],
   "source": [
    "prob = JaxFunnelMuseProblem(512)\n",
    "rng = np.random.RandomState(0)\n",
    "(x, z) = prob.sample_x_z(rng, θ_true)\n",
    "prob.x = x"
   ]
  },
  {
   "cell_type": "code",
   "execution_count": 15,
   "id": "400622fd",
   "metadata": {
    "execution": {
     "iopub.execute_input": "2022-01-21T09:47:46.140375Z",
     "iopub.status.busy": "2022-01-21T09:47:46.139506Z",
     "iopub.status.idle": "2022-01-21T09:47:52.491908Z",
     "shell.execute_reply": "2022-01-21T09:47:52.491083Z"
    }
   },
   "outputs": [
    {
     "name": "stderr",
     "output_type": "stream",
     "text": [
      "\r",
      "  0%|          | 0/1010 [00:00<?, ?it/s]"
     ]
    },
    {
     "name": "stderr",
     "output_type": "stream",
     "text": [
      "\r",
      "  0%|          | 1/1010 [00:02<40:00,  2.38s/it]"
     ]
    },
    {
     "name": "stderr",
     "output_type": "stream",
     "text": [
      "\r",
      " 10%|█         | 102/1010 [00:05<00:39, 23.25it/s]"
     ]
    },
    {
     "name": "stderr",
     "output_type": "stream",
     "text": [
      "\r",
      " 20%|██        | 203/1010 [00:05<00:16, 50.29it/s]"
     ]
    },
    {
     "name": "stderr",
     "output_type": "stream",
     "text": [
      "\r",
      " 30%|███       | 304/1010 [00:05<00:08, 88.08it/s]"
     ]
    },
    {
     "name": "stderr",
     "output_type": "stream",
     "text": [
      "\r",
      " 40%|████      | 405/1010 [00:05<00:04, 136.64it/s]"
     ]
    },
    {
     "name": "stderr",
     "output_type": "stream",
     "text": [
      "\r",
      " 50%|█████     | 506/1010 [00:05<00:02, 196.29it/s]"
     ]
    },
    {
     "name": "stderr",
     "output_type": "stream",
     "text": [
      "\r",
      " 60%|██████    | 607/1010 [00:05<00:01, 263.14it/s]"
     ]
    },
    {
     "name": "stderr",
     "output_type": "stream",
     "text": [
      "\r",
      " 70%|███████   | 708/1010 [00:06<00:00, 342.78it/s]"
     ]
    },
    {
     "name": "stderr",
     "output_type": "stream",
     "text": [
      "\r",
      " 80%|████████  | 809/1010 [00:06<00:00, 426.48it/s]"
     ]
    },
    {
     "name": "stderr",
     "output_type": "stream",
     "text": [
      "\r",
      "100%|██████████| 1010/1010 [00:06<00:00, 671.06it/s]"
     ]
    },
    {
     "name": "stderr",
     "output_type": "stream",
     "text": [
      "\r",
      "100%|██████████| 1010/1010 [00:06<00:00, 161.28it/s]"
     ]
    },
    {
     "name": "stderr",
     "output_type": "stream",
     "text": [
      "\n"
     ]
    }
   ],
   "source": [
    "result = prob.solve(0., α=0.7, rng=np.random.RandomState(3), gradz_logLike_atol=1e-4, progress=True, maxsteps=10);"
   ]
  },
  {
   "cell_type": "code",
   "execution_count": 16,
   "id": "e0082a71",
   "metadata": {
    "execution": {
     "iopub.execute_input": "2022-01-21T09:47:52.502290Z",
     "iopub.status.busy": "2022-01-21T09:47:52.501535Z",
     "iopub.status.idle": "2022-01-21T09:47:52.523641Z",
     "shell.execute_reply": "2022-01-21T09:47:52.524119Z"
    }
   },
   "outputs": [
    {
     "data": {
      "text/plain": [
       "[0.0,\n",
       " DeviceArray(1.2127963, dtype=float32),\n",
       " DeviceArray(1.0396036, dtype=float32),\n",
       " DeviceArray(0.97261435, dtype=float32),\n",
       " DeviceArray(0.952539, dtype=float32),\n",
       " DeviceArray(0.94721234, dtype=float32),\n",
       " DeviceArray(0.94585395, dtype=float32),\n",
       " DeviceArray(0.94551116, dtype=float32),\n",
       " DeviceArray(0.94543195, dtype=float32)]"
      ]
     },
     "execution_count": 16,
     "metadata": {},
     "output_type": "execute_result"
    }
   ],
   "source": [
    "[h[\"θ\"] for h in result.history]"
   ]
  },
  {
   "cell_type": "code",
   "execution_count": 17,
   "id": "89edd15f",
   "metadata": {
    "execution": {
     "iopub.execute_input": "2022-01-21T09:47:52.530918Z",
     "iopub.status.busy": "2022-01-21T09:47:52.530340Z",
     "iopub.status.idle": "2022-01-21T09:47:52.744756Z",
     "shell.execute_reply": "2022-01-21T09:47:52.744149Z"
    }
   },
   "outputs": [
    {
     "data": {
      "image/png": "[encoded data removed]",
      "text/plain": [
       "<Figure size 432x288 with 1 Axes>"
      ]
     },
     "metadata": {
      "needs_background": "light"
     },
     "output_type": "display_data"
    }
   ],
   "source": [
    "plt.plot([h[\"θ\"] for h in result.history], \".-\")\n",
    "plt.xlabel(\"step\")\n",
    "plt.ylabel(\"θ\");"
   ]
  },
  {
   "cell_type": "markdown",
   "id": "1abdd2d4",
   "metadata": {},
   "source": [
    "### Tuple"
   ]
  },
  {
   "cell_type": "code",
   "execution_count": 18,
   "id": "4c6d1687",
   "metadata": {
    "execution": {
     "iopub.execute_input": "2022-01-21T09:47:52.754039Z",
     "iopub.status.busy": "2022-01-21T09:47:52.753423Z",
     "iopub.status.idle": "2022-01-21T09:47:52.771054Z",
     "shell.execute_reply": "2022-01-21T09:47:52.771589Z"
    }
   },
   "outputs": [],
   "source": [
    "class JaxFunnelMuseProblem(muse_inference.jax.JittedJaxMuseProblem):\n",
    "    \n",
    "    def __init__(self, N):\n",
    "        super().__init__()\n",
    "        self.N = N\n",
    "\n",
    "    def sample_x_z(self, rng, θ):\n",
    "        (θ1, θ2) = (θ[\"θ1\"], θ[\"θ2\"])\n",
    "        z1 = rng.randn(self.N) * np.exp(θ1/2)\n",
    "        z2 = rng.randn(self.N) * np.exp(θ2/2)        \n",
    "        x1 = z1 + rng.randn(self.N)\n",
    "        x2 = z2 + rng.randn(self.N)        \n",
    "        return ({\"x1\":x1, \"x2\":x2}, {\"z1\":z1, \"z2\":z2})\n",
    "\n",
    "    def logLike(self, x, z, θ):\n",
    "        return (\n",
    "            -(jnp.sum((x[\"x1\"] - z[\"z1\"])**2) + jnp.sum(z[\"z1\"]**2) / jnp.exp(θ[\"θ1\"]) + 512*θ[\"θ1\"]) / 2\n",
    "            -(jnp.sum((x[\"x2\"] - z[\"z2\"])**2) + jnp.sum(z[\"z2\"]**2) / jnp.exp(θ[\"θ2\"]) + 512*θ[\"θ2\"]) / 2\n",
    "        )\n",
    "    \n",
    "    def logPrior(self, θ):\n",
    "        return -θ[\"θ1\"]**2 / (2*3**2) - θ[\"θ2\"]**2 / (2*3**2)"
   ]
  },
  {
   "cell_type": "code",
   "execution_count": 19,
   "id": "1c5c95a7",
   "metadata": {
    "execution": {
     "iopub.execute_input": "2022-01-21T09:47:52.776757Z",
     "iopub.status.busy": "2022-01-21T09:47:52.776120Z",
     "iopub.status.idle": "2022-01-21T09:47:52.794078Z",
     "shell.execute_reply": "2022-01-21T09:47:52.793499Z"
    }
   },
   "outputs": [],
   "source": [
    "prob = JaxFunnelMuseProblem(512)\n",
    "θ = {\"θ1\":1., \"θ2\":2.}\n",
    "x, z = prob.sample_x_z(np.random.RandomState(0), θ)\n",
    "prob.x = x"
   ]
  },
  {
   "cell_type": "code",
   "execution_count": 20,
   "id": "5939f637",
   "metadata": {
    "execution": {
     "iopub.execute_input": "2022-01-21T09:47:52.798405Z",
     "iopub.status.busy": "2022-01-21T09:47:52.797848Z",
     "iopub.status.idle": "2022-01-21T09:48:00.451899Z",
     "shell.execute_reply": "2022-01-21T09:48:00.452351Z"
    }
   },
   "outputs": [
    {
     "name": "stderr",
     "output_type": "stream",
     "text": [
      "\r",
      "  0%|          | 0/1010 [00:00<?, ?it/s]"
     ]
    },
    {
     "name": "stderr",
     "output_type": "stream",
     "text": [
      "\r",
      "  0%|          | 1/1010 [00:02<49:52,  2.97s/it]"
     ]
    },
    {
     "name": "stderr",
     "output_type": "stream",
     "text": [
      "\r",
      " 10%|█         | 102/1010 [00:06<00:49, 18.27it/s]"
     ]
    },
    {
     "name": "stderr",
     "output_type": "stream",
     "text": [
      "\r",
      " 20%|██        | 203/1010 [00:06<00:20, 39.50it/s]"
     ]
    },
    {
     "name": "stderr",
     "output_type": "stream",
     "text": [
      "\r",
      " 30%|███       | 304/1010 [00:07<00:10, 69.93it/s]"
     ]
    },
    {
     "name": "stderr",
     "output_type": "stream",
     "text": [
      "\r",
      " 40%|████      | 405/1010 [00:07<00:05, 109.93it/s]"
     ]
    },
    {
     "name": "stderr",
     "output_type": "stream",
     "text": [
      "\r",
      " 50%|█████     | 506/1010 [00:07<00:03, 160.62it/s]"
     ]
    },
    {
     "name": "stderr",
     "output_type": "stream",
     "text": [
      "\r",
      " 60%|██████    | 607/1010 [00:07<00:01, 221.24it/s]"
     ]
    },
    {
     "name": "stderr",
     "output_type": "stream",
     "text": [
      "\r",
      " 70%|███████   | 708/1010 [00:07<00:01, 292.62it/s]"
     ]
    },
    {
     "name": "stderr",
     "output_type": "stream",
     "text": [
      "\r",
      "100%|██████████| 1010/1010 [00:07<00:00, 612.50it/s]"
     ]
    },
    {
     "name": "stderr",
     "output_type": "stream",
     "text": [
      "\r",
      "100%|██████████| 1010/1010 [00:07<00:00, 132.77it/s]"
     ]
    },
    {
     "name": "stderr",
     "output_type": "stream",
     "text": [
      "\n"
     ]
    }
   ],
   "source": [
    "result = prob.solve(θ, rng=rng, gradz_logLike_atol=1e-4, progress=True, maxsteps=10);"
   ]
  },
  {
   "cell_type": "code",
   "execution_count": 21,
   "id": "05e227ad",
   "metadata": {
    "execution": {
     "iopub.execute_input": "2022-01-21T09:48:00.457786Z",
     "iopub.status.busy": "2022-01-21T09:48:00.456698Z",
     "iopub.status.idle": "2022-01-21T09:48:00.477770Z",
     "shell.execute_reply": "2022-01-21T09:48:00.477238Z"
    }
   },
   "outputs": [
    {
     "data": {
      "text/plain": [
       "{'θ1': DeviceArray(1.0921693, dtype=float32),\n",
       " 'θ2': DeviceArray(1.9329984, dtype=float32)}"
      ]
     },
     "execution_count": 21,
     "metadata": {},
     "output_type": "execute_result"
    }
   ],
   "source": [
    "result.θ"
   ]
  },
  {
   "cell_type": "code",
   "execution_count": 22,
   "id": "2b03796b",
   "metadata": {
    "execution": {
     "iopub.execute_input": "2022-01-21T09:48:00.482789Z",
     "iopub.status.busy": "2022-01-21T09:48:00.482148Z",
     "iopub.status.idle": "2022-01-21T09:48:00.686487Z",
     "shell.execute_reply": "2022-01-21T09:48:00.686970Z"
    }
   },
   "outputs": [
    {
     "data": {
      "image/png": "[encoded data removed]",
      "text/plain": [
       "<Figure size 432x288 with 1 Axes>"
      ]
     },
     "metadata": {
      "needs_background": "light"
     },
     "output_type": "display_data"
    }
   ],
   "source": [
    "plt.plot([h[\"θ\"][\"θ1\"] for h in result.history], \".-\")\n",
    "plt.plot([h[\"θ\"][\"θ2\"] for h in result.history], \".-\")\n",
    "\n",
    "plt.xlabel(\"step\")\n",
    "plt.ylabel(\"θ\");"
   ]
  },
  {
   "cell_type": "markdown",
   "id": "ad5dcca0",
   "metadata": {},
   "source": [
    "## With PyMC"
   ]
  },
  {
   "cell_type": "code",
   "execution_count": 23,
   "id": "aae58437",
   "metadata": {
    "execution": {
     "iopub.execute_input": "2022-01-21T09:48:00.692015Z",
     "iopub.status.busy": "2022-01-21T09:48:00.691440Z",
     "iopub.status.idle": "2022-01-21T09:48:02.196094Z",
     "shell.execute_reply": "2022-01-21T09:48:02.196577Z"
    }
   },
   "outputs": [],
   "source": [
    "import sys\n",
    "import pymc as pm\n",
    "from muse_inference.pymc import PyMCMuseProblem"
   ]
  },
  {
   "cell_type": "markdown",
   "id": "ea8ac145",
   "metadata": {
    "incorrectly_encoded_metadata": "jp-MarkdownHeadingCollapsed=true",
    "tags": []
   },
   "source": [
    "### Scalar"
   ]
  },
  {
   "cell_type": "code",
   "execution_count": 24,
   "id": "6dd2915d",
   "metadata": {
    "execution": {
     "iopub.execute_input": "2022-01-21T09:48:02.204156Z",
     "iopub.status.busy": "2022-01-21T09:48:02.202866Z",
     "iopub.status.idle": "2022-01-21T09:48:50.296332Z",
     "shell.execute_reply": "2022-01-21T09:48:50.295734Z"
    }
   },
   "outputs": [],
   "source": [
    "# define \n",
    "def gen_funnel(x=None, θ=None, rng_seeder=None):\n",
    "    with pm.Model(rng_seeder=rng_seeder) as funnel:\n",
    "        θ = θ if θ else pm.Normal(\"θ\", 0, 3)\n",
    "        z = pm.Normal(\"z\", 0, np.exp(θ / 2), size=512)\n",
    "        x = pm.Normal(\"x\", z, 1, observed=x)\n",
    "    return funnel\n",
    "        \n",
    "# generated simulated data\n",
    "rng = np.random.RandomState(0)\n",
    "x_obs = pm.sample_prior_predictive(1, model=gen_funnel(θ=θ_true, rng_seeder=rng)).prior.x[0,0]\n",
    "\n",
    "# set up problem\n",
    "funnel = gen_funnel(x_obs)\n",
    "prob = PyMCMuseProblem(funnel)"
   ]
  },
  {
   "cell_type": "code",
   "execution_count": 25,
   "id": "69b48bb3",
   "metadata": {
    "execution": {
     "iopub.execute_input": "2022-01-21T09:48:50.303216Z",
     "iopub.status.busy": "2022-01-21T09:48:50.301757Z",
     "iopub.status.idle": "2022-01-21T09:48:53.521648Z",
     "shell.execute_reply": "2022-01-21T09:48:53.522122Z"
    }
   },
   "outputs": [
    {
     "name": "stderr",
     "output_type": "stream",
     "text": [
      "\r",
      "  0%|          | 0/1010 [00:00<?, ?it/s]"
     ]
    },
    {
     "name": "stderr",
     "output_type": "stream",
     "text": [
      "\r",
      "  6%|▌         | 61/1010 [00:00<00:01, 606.55it/s]"
     ]
    },
    {
     "name": "stderr",
     "output_type": "stream",
     "text": [
      "\r",
      " 12%|█▏        | 122/1010 [00:00<00:02, 318.22it/s]"
     ]
    },
    {
     "name": "stderr",
     "output_type": "stream",
     "text": [
      "\r",
      " 17%|█▋        | 175/1010 [00:00<00:03, 263.65it/s]"
     ]
    },
    {
     "name": "stderr",
     "output_type": "stream",
     "text": [
      "\r",
      " 20%|██        | 206/1010 [00:00<00:03, 224.40it/s]"
     ]
    },
    {
     "name": "stderr",
     "output_type": "stream",
     "text": [
      "\r",
      " 27%|██▋       | 273/1010 [00:00<00:02, 318.87it/s]"
     ]
    },
    {
     "name": "stderr",
     "output_type": "stream",
     "text": [
      "\r",
      " 31%|███       | 314/1010 [00:01<00:02, 260.96it/s]"
     ]
    },
    {
     "name": "stderr",
     "output_type": "stream",
     "text": [
      "\r",
      " 38%|███▊      | 387/1010 [00:01<00:01, 355.43it/s]"
     ]
    },
    {
     "name": "stderr",
     "output_type": "stream",
     "text": [
      "\r",
      " 43%|████▎     | 433/1010 [00:01<00:01, 297.89it/s]"
     ]
    },
    {
     "name": "stderr",
     "output_type": "stream",
     "text": [
      "\r",
      " 50%|█████     | 506/1010 [00:01<00:01, 287.10it/s]"
     ]
    },
    {
     "name": "stderr",
     "output_type": "stream",
     "text": [
      "\r",
      " 57%|█████▋    | 574/1010 [00:01<00:01, 356.00it/s]"
     ]
    },
    {
     "name": "stderr",
     "output_type": "stream",
     "text": [
      "\r",
      " 61%|██████▏   | 619/1010 [00:02<00:01, 303.74it/s]"
     ]
    },
    {
     "name": "stderr",
     "output_type": "stream",
     "text": [
      "\r",
      " 68%|██████▊   | 690/1010 [00:02<00:00, 380.03it/s]"
     ]
    },
    {
     "name": "stderr",
     "output_type": "stream",
     "text": [
      "\r",
      " 73%|███████▎  | 738/1010 [00:02<00:00, 322.91it/s]"
     ]
    },
    {
     "name": "stderr",
     "output_type": "stream",
     "text": [
      "\r",
      " 80%|████████  | 809/1010 [00:02<00:00, 311.14it/s]"
     ]
    },
    {
     "name": "stderr",
     "output_type": "stream",
     "text": [
      "\r",
      " 87%|████████▋ | 883/1010 [00:02<00:00, 388.03it/s]"
     ]
    },
    {
     "name": "stderr",
     "output_type": "stream",
     "text": [
      "\r",
      " 92%|█████████▏| 931/1010 [00:02<00:00, 330.70it/s]"
     ]
    },
    {
     "name": "stderr",
     "output_type": "stream",
     "text": [
      "\r",
      " 99%|█████████▉| 1004/1010 [00:03<00:00, 406.29it/s]"
     ]
    },
    {
     "name": "stderr",
     "output_type": "stream",
     "text": [
      "\r",
      "100%|██████████| 1010/1010 [00:03<00:00, 334.09it/s]"
     ]
    },
    {
     "name": "stderr",
     "output_type": "stream",
     "text": [
      "\n"
     ]
    }
   ],
   "source": [
    "result = prob.solve(0., rng=rng, gradz_logLike_atol=1e-4, progress=True, maxsteps=10);"
   ]
  },
  {
   "cell_type": "code",
   "execution_count": 26,
   "id": "794f5372",
   "metadata": {
    "execution": {
     "iopub.execute_input": "2022-01-21T09:48:53.526736Z",
     "iopub.status.busy": "2022-01-21T09:48:53.524634Z",
     "iopub.status.idle": "2022-01-21T09:48:53.553583Z",
     "shell.execute_reply": "2022-01-21T09:48:53.554045Z"
    }
   },
   "outputs": [
    {
     "data": {
      "text/plain": [
       "[0.0,\n",
       " array([1.30363499]),\n",
       " array([1.14695937]),\n",
       " array([1.07392309]),\n",
       " array([1.04549418]),\n",
       " array([1.03549045]),\n",
       " array([1.03211772]),\n",
       " array([1.03099818]),\n",
       " array([1.03062854]),\n",
       " array([1.0305067])]"
      ]
     },
     "execution_count": 26,
     "metadata": {},
     "output_type": "execute_result"
    }
   ],
   "source": [
    "[h[\"θ\"] for h in result.history]"
   ]
  },
  {
   "cell_type": "code",
   "execution_count": 27,
   "id": "9c64941a",
   "metadata": {
    "execution": {
     "iopub.execute_input": "2022-01-21T09:48:53.558728Z",
     "iopub.status.busy": "2022-01-21T09:48:53.558125Z",
     "iopub.status.idle": "2022-01-21T09:48:53.776994Z",
     "shell.execute_reply": "2022-01-21T09:48:53.775962Z"
    }
   },
   "outputs": [
    {
     "name": "stderr",
     "output_type": "stream",
     "text": [
      "/home/runner/.cache/pypoetry/virtualenvs/muse-inference-8TQ0v75b-py3.9/lib/python3.9/site-packages/numpy/core/shape_base.py:65: VisibleDeprecationWarning: Creating an ndarray from ragged nested sequences (which is a list-or-tuple of lists-or-tuples-or ndarrays with different lengths or shapes) is deprecated. If you meant to do this, you must specify 'dtype=object' when creating the ndarray.\n",
      "  ary = asanyarray(ary)\n"
     ]
    },
    {
     "data": {
      "image/png": "[encoded data removed]",
      "text/plain": [
       "<Figure size 432x288 with 1 Axes>"
      ]
     },
     "metadata": {
      "needs_background": "light"
     },
     "output_type": "display_data"
    }
   ],
   "source": [
    "plt.plot([h[\"θ\"] for h in result.history], \".-\")\n",
    "plt.xlabel(\"step\")\n",
    "plt.ylabel(\"θ\");"
   ]
  },
  {
   "cell_type": "markdown",
   "id": "4d0191a5",
   "metadata": {},
   "source": [
    "### Tuple"
   ]
  },
  {
   "cell_type": "code",
   "execution_count": 28,
   "id": "9824f4d8",
   "metadata": {
    "execution": {
     "iopub.execute_input": "2022-01-21T09:48:53.785285Z",
     "iopub.status.busy": "2022-01-21T09:48:53.784184Z",
     "iopub.status.idle": "2022-01-21T09:48:53.908121Z",
     "shell.execute_reply": "2022-01-21T09:48:53.906819Z"
    }
   },
   "outputs": [],
   "source": [
    "# define \n",
    "def gen_funnel(x=(None,None), θ=(None,None), rng_seeder=None, N=3):\n",
    "    (α, β) = θ\n",
    "    with pm.Model(rng_seeder=rng_seeder) as funnel:\n",
    "        α = pm.Normal(\"α\", 0, 3) if α is None else α\n",
    "        β = pm.Normal(\"β\", 0, 3) if β is None else β\n",
    "        z1 = pm.Normal(\"z1\", 0, np.exp(α / 2), size=N)\n",
    "        z2 = pm.Normal(\"z2\", 0, np.exp(β / 2), size=N)\n",
    "        x1 = pm.Normal(\"x1\", z1, 1, observed=x[0])\n",
    "        x2 = pm.Normal(\"x2\", z2, 1, observed=x[1])\n",
    "    return funnel\n",
    "        \n",
    "# generated simulated data\n",
    "rng = np.random.RandomState(0)\n",
    "θ = (-1, 3)\n",
    "prior = pm.sample_prior_predictive(1, model=gen_funnel(θ=θ, rng_seeder=rng)).prior\n",
    "x_obs = (prior.x1, prior.x2)"
   ]
  },
  {
   "cell_type": "code",
   "execution_count": 29,
   "id": "07992917",
   "metadata": {
    "execution": {
     "iopub.execute_input": "2022-01-21T09:48:53.912363Z",
     "iopub.status.busy": "2022-01-21T09:48:53.911797Z",
     "iopub.status.idle": "2022-01-21T09:49:07.894635Z",
     "shell.execute_reply": "2022-01-21T09:49:07.895410Z"
    }
   },
   "outputs": [],
   "source": [
    "# set up problem\n",
    "funnel = gen_funnel(x_obs)\n",
    "prob = PyMCMuseProblem(funnel)"
   ]
  },
  {
   "cell_type": "code",
   "execution_count": 30,
   "id": "2e100c65",
   "metadata": {
    "execution": {
     "iopub.execute_input": "2022-01-21T09:49:07.902458Z",
     "iopub.status.busy": "2022-01-21T09:49:07.899542Z",
     "iopub.status.idle": "2022-01-21T09:49:13.065211Z",
     "shell.execute_reply": "2022-01-21T09:49:13.065743Z"
    }
   },
   "outputs": [
    {
     "name": "stderr",
     "output_type": "stream",
     "text": [
      "\r",
      "  0%|          | 0/1010 [00:00<?, ?it/s]"
     ]
    },
    {
     "name": "stderr",
     "output_type": "stream",
     "text": [
      "\r",
      "  9%|▊         | 88/1010 [00:00<00:01, 874.69it/s]"
     ]
    },
    {
     "name": "stderr",
     "output_type": "stream",
     "text": [
      "\r",
      " 17%|█▋        | 176/1010 [00:00<00:03, 266.45it/s]"
     ]
    },
    {
     "name": "stderr",
     "output_type": "stream",
     "text": [
      "\r",
      " 22%|██▏       | 223/1010 [00:01<00:04, 177.87it/s]"
     ]
    },
    {
     "name": "stderr",
     "output_type": "stream",
     "text": [
      "\r",
      " 29%|██▉       | 296/1010 [00:01<00:02, 256.92it/s]"
     ]
    },
    {
     "name": "stderr",
     "output_type": "stream",
     "text": [
      "\r",
      " 34%|███▍      | 343/1010 [00:01<00:03, 182.38it/s]"
     ]
    },
    {
     "name": "stderr",
     "output_type": "stream",
     "text": [
      "\r",
      " 40%|████      | 405/1010 [00:02<00:03, 165.94it/s]"
     ]
    },
    {
     "name": "stderr",
     "output_type": "stream",
     "text": [
      "\r",
      " 47%|████▋     | 472/1010 [00:02<00:02, 223.57it/s]"
     ]
    },
    {
     "name": "stderr",
     "output_type": "stream",
     "text": [
      "\r",
      " 51%|█████     | 512/1010 [00:02<00:03, 165.39it/s]"
     ]
    },
    {
     "name": "stderr",
     "output_type": "stream",
     "text": [
      "\r",
      " 58%|█████▊    | 588/1010 [00:02<00:01, 235.30it/s]"
     ]
    },
    {
     "name": "stderr",
     "output_type": "stream",
     "text": [
      "\r",
      " 63%|██████▎   | 633/1010 [00:03<00:02, 178.83it/s]"
     ]
    },
    {
     "name": "stderr",
     "output_type": "stream",
     "text": [
      "\r",
      " 70%|███████   | 708/1010 [00:03<00:01, 170.91it/s]"
     ]
    },
    {
     "name": "stderr",
     "output_type": "stream",
     "text": [
      "\r",
      " 78%|███████▊  | 785/1010 [00:03<00:00, 234.75it/s]"
     ]
    },
    {
     "name": "stderr",
     "output_type": "stream",
     "text": [
      "\r",
      " 82%|████████▏ | 828/1010 [00:04<00:00, 182.22it/s]"
     ]
    },
    {
     "name": "stderr",
     "output_type": "stream",
     "text": [
      "\r",
      " 90%|████████▉ | 904/1010 [00:04<00:00, 249.58it/s]"
     ]
    },
    {
     "name": "stderr",
     "output_type": "stream",
     "text": [
      "\r",
      " 94%|█████████▍| 950/1010 [00:04<00:00, 188.94it/s]"
     ]
    },
    {
     "name": "stderr",
     "output_type": "stream",
     "text": [
      "\r",
      "100%|██████████| 1010/1010 [00:04<00:00, 212.05it/s]"
     ]
    },
    {
     "name": "stderr",
     "output_type": "stream",
     "text": [
      "\n"
     ]
    }
   ],
   "source": [
    "result = prob.solve((0,0), α=0.3, rng=rng, gradz_logLike_atol=1e-4, progress=True, maxsteps=10);"
   ]
  },
  {
   "cell_type": "code",
   "execution_count": 31,
   "id": "de2647d0",
   "metadata": {
    "execution": {
     "iopub.execute_input": "2022-01-21T09:49:13.070182Z",
     "iopub.status.busy": "2022-01-21T09:49:13.069622Z",
     "iopub.status.idle": "2022-01-21T09:49:13.095005Z",
     "shell.execute_reply": "2022-01-21T09:49:13.095656Z"
    }
   },
   "outputs": [
    {
     "data": {
      "text/plain": [
       "[(0, 0),\n",
       " (-0.2815542650152184, 6.477243065481221),\n",
       " (-0.5141747017993878, 6.1176381059863365),\n",
       " (-0.6917951612370189, 5.771196322918962),\n",
       " (-0.8175113874843709, 5.439906062050519),\n",
       " (-0.9011717981771641, 5.126246152343354),\n",
       " (-0.9544622867693776, 4.8331441865861136),\n",
       " (-0.9874536523919939, 4.563815442367337),\n",
       " (-1.0075234814108809, 4.321445452207079),\n",
       " (-1.0196022165166123, 4.10871901590075)]"
      ]
     },
     "execution_count": 31,
     "metadata": {},
     "output_type": "execute_result"
    }
   ],
   "source": [
    "[h[\"θ\"] for h in result.history]"
   ]
  },
  {
   "cell_type": "code",
   "execution_count": 32,
   "id": "8e01297c",
   "metadata": {
    "execution": {
     "iopub.execute_input": "2022-01-21T09:49:13.099108Z",
     "iopub.status.busy": "2022-01-21T09:49:13.098282Z",
     "iopub.status.idle": "2022-01-21T09:49:13.311991Z",
     "shell.execute_reply": "2022-01-21T09:49:13.312723Z"
    }
   },
   "outputs": [
    {
     "data": {
      "image/png": "[encoded data removed]",
      "text/plain": [
       "<Figure size 432x288 with 1 Axes>"
      ]
     },
     "metadata": {
      "needs_background": "light"
     },
     "output_type": "display_data"
    }
   ],
   "source": [
    "plt.plot([h[\"θ\"][0] for h in result.history], \".-\")\n",
    "plt.plot([h[\"θ\"][1] for h in result.history], \".-\")\n",
    "\n",
    "plt.xlabel(\"step\")\n",
    "plt.ylabel(\"θ\");"
   ]
  }
 ],
 "metadata": {
  "jupytext": {
   "formats": "md,ipynb",
   "text_representation": {
    "extension": ".md",
    "format_name": "markdown",
    "format_version": "1.3",
    "jupytext_version": "1.13.6"
   }
  },
  "kernelspec": {
   "display_name": "Python 3",
   "language": "python",
   "name": "python3"
  },
  "language_info": {
   "codemirror_mode": {
    "name": "ipython",
    "version": 3
   },
   "file_extension": ".py",
   "mimetype": "text/x-python",
   "name": "python",
   "nbconvert_exporter": "python",
   "pygments_lexer": "ipython3",
   "version": "3.9.9"
  }
 },
 "nbformat": 4,
 "nbformat_minor": 5
}
