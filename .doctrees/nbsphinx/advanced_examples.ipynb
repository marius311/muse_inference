{
 "cells": [
  {
   "cell_type": "markdown",
   "id": "57e52a2a",
   "metadata": {},
   "source": [
    "# Advanced Examples"
   ]
  },
  {
   "cell_type": "code",
   "execution_count": 1,
   "id": "fe6c3381",
   "metadata": {
    "execution": {
     "iopub.execute_input": "2022-08-12T22:33:48.408926Z",
     "iopub.status.busy": "2022-08-12T22:33:48.408404Z",
     "iopub.status.idle": "2022-08-12T22:33:48.437809Z",
     "shell.execute_reply": "2022-08-12T22:33:48.437093Z"
    },
    "nbsphinx": "hidden",
    "tags": []
   },
   "outputs": [],
   "source": [
    "%config InlineBackend.print_figure_kwargs = {'bbox_inches': 'tight', 'dpi': 110}\n",
    "%load_ext autoreload\n",
    "%autoreload 2\n",
    "import logging, warnings\n",
    "logging.getLogger(\"pymc\").setLevel(logging.FATAL)\n",
    "warnings.filterwarnings(\"ignore\")"
   ]
  },
  {
   "cell_type": "markdown",
   "id": "fb5a501f",
   "metadata": {},
   "source": [
    "## PyMC"
   ]
  },
  {
   "cell_type": "markdown",
   "id": "a79cd740",
   "metadata": {},
   "source": [
    "The [Example](example.html) page introduces how to use *muse-inference* for a problem defined with PyMC. Here we consider a more complex problem to highlight additional features. In particular:\n",
    "\n",
    "* We can estimate any number of parameters with any shapes. Here we have a 2-dimensional array $\\mu$ and a scalar $\\theta$. Note that by default, *muse-inference* considers any variables which do not depend on others as \"parameters\" (i.e. the \"leaves\" of the probabilistic graph). However, the algorithm is not limited to such parameters, and any choice can be selected by providing a list of `params` to the `PyMCMuseProblem` constructor.\n",
    "\n",
    "* We can work with distributions with limited domain support. For example, below we use the $\\rm Beta$ distribution with support on $(0,1)$ and the $\\rm LogNormal$ distribution with support on $(0,\\infty)$. All necessary transformations are handled internally.\n",
    "\n",
    "* The data and latent space can include any number of variables, with any shapes. Below we demonstrate an $x$ and $z$ which are 2-dimensional arrays. \n",
    "\n",
    "First, load the relevant packages:"
   ]
  },
  {
   "cell_type": "code",
   "execution_count": 2,
   "id": "ebf73ca0",
   "metadata": {
    "execution": {
     "iopub.execute_input": "2022-08-12T22:33:48.442231Z",
     "iopub.status.busy": "2022-08-12T22:33:48.441762Z",
     "iopub.status.idle": "2022-08-12T22:33:51.108404Z",
     "shell.execute_reply": "2022-08-12T22:33:51.107540Z"
    }
   },
   "outputs": [
    {
     "name": "stdout",
     "output_type": "stream",
     "text": [
      "Populating the interactive namespace from numpy and matplotlib\n"
     ]
    }
   ],
   "source": [
    "%pylab inline\n",
    "import pymc as pm\n",
    "from muse_inference.pymc import PyMCMuseProblem"
   ]
  },
  {
   "cell_type": "markdown",
   "id": "16885364",
   "metadata": {},
   "source": [
    "Then define the problem,"
   ]
  },
  {
   "cell_type": "code",
   "execution_count": 3,
   "id": "e235a382",
   "metadata": {
    "execution": {
     "iopub.execute_input": "2022-08-12T22:33:51.113567Z",
     "iopub.status.busy": "2022-08-12T22:33:51.112828Z",
     "iopub.status.idle": "2022-08-12T22:33:51.136671Z",
     "shell.execute_reply": "2022-08-12T22:33:51.136005Z"
    }
   },
   "outputs": [],
   "source": [
    "def gen_funnel(x=None, σ=None, μ=None):\n",
    "    with pm.Model() as model:\n",
    "        μ = pm.Beta(\"μ\", 2, 5, size=2) if μ is None else μ\n",
    "        σ = pm.Normal(\"σ\", 0, 3) if σ is None else σ\n",
    "        z = pm.LogNormal(\"z\", μ, np.exp(σ/2), size=(100, 2))\n",
    "        x = pm.Normal(\"x\", z, 1, observed=x)\n",
    "    return model"
   ]
  },
  {
   "cell_type": "markdown",
   "id": "673c4f2b",
   "metadata": {},
   "source": [
    "generate the model and some data, given some chosen true values of parameters,"
   ]
  },
  {
   "cell_type": "code",
   "execution_count": 4,
   "id": "4103b761",
   "metadata": {
    "execution": {
     "iopub.execute_input": "2022-08-12T22:33:51.140475Z",
     "iopub.status.busy": "2022-08-12T22:33:51.139860Z",
     "iopub.status.idle": "2022-08-12T22:35:16.056160Z",
     "shell.execute_reply": "2022-08-12T22:35:16.055088Z"
    }
   },
   "outputs": [],
   "source": [
    "θ_true = dict(μ=[0.3, 0.7], σ=1)\n",
    "with gen_funnel(**θ_true):\n",
    "    x_obs = pm.sample_prior_predictive(1, random_seed=0).prior.x[0,0]\n",
    "model = gen_funnel(x=x_obs)\n",
    "prob = PyMCMuseProblem(model)"
   ]
  },
  {
   "cell_type": "markdown",
   "id": "19b24f57",
   "metadata": {},
   "source": [
    "and finally, run MUSE:"
   ]
  },
  {
   "cell_type": "code",
   "execution_count": 5,
   "id": "65866dc7",
   "metadata": {
    "execution": {
     "iopub.execute_input": "2022-08-12T22:35:16.060975Z",
     "iopub.status.busy": "2022-08-12T22:35:16.060478Z",
     "iopub.status.idle": "2022-08-12T22:35:25.359913Z",
     "shell.execute_reply": "2022-08-12T22:35:25.359284Z"
    }
   },
   "outputs": [
    {
     "name": "stderr",
     "output_type": "stream",
     "text": [
      "\r",
      "MUSE:   0%|          | 0/5050 [00:00<?, ?it/s]"
     ]
    },
    {
     "name": "stderr",
     "output_type": "stream",
     "text": [
      "\r",
      "MUSE:   0%|          | 7/5050 [00:00<01:15, 66.90it/s]"
     ]
    },
    {
     "name": "stderr",
     "output_type": "stream",
     "text": [
      "\r",
      "MUSE:   0%|          | 16/5050 [00:00<01:06, 75.70it/s]"
     ]
    },
    {
     "name": "stderr",
     "output_type": "stream",
     "text": [
      "\r",
      "MUSE:   1%|          | 27/5050 [00:00<00:57, 87.08it/s]"
     ]
    },
    {
     "name": "stderr",
     "output_type": "stream",
     "text": [
      "\r",
      "MUSE:   1%|          | 36/5050 [00:00<00:57, 87.29it/s]"
     ]
    },
    {
     "name": "stderr",
     "output_type": "stream",
     "text": [
      "\r",
      "MUSE:   1%|          | 45/5050 [00:00<00:58, 85.20it/s]"
     ]
    },
    {
     "name": "stderr",
     "output_type": "stream",
     "text": [
      "\r",
      "MUSE:   1%|          | 55/5050 [00:00<00:57, 87.02it/s]"
     ]
    },
    {
     "name": "stderr",
     "output_type": "stream",
     "text": [
      "\r",
      "MUSE:   1%|▏         | 64/5050 [00:00<00:58, 85.76it/s]"
     ]
    },
    {
     "name": "stderr",
     "output_type": "stream",
     "text": [
      "\r",
      "MUSE:   1%|▏         | 73/5050 [00:00<00:58, 85.14it/s]"
     ]
    },
    {
     "name": "stderr",
     "output_type": "stream",
     "text": [
      "\r",
      "MUSE:   2%|▏         | 82/5050 [00:00<01:02, 79.13it/s]"
     ]
    },
    {
     "name": "stderr",
     "output_type": "stream",
     "text": [
      "\r",
      "MUSE:   2%|▏         | 92/5050 [00:01<00:59, 83.05it/s]"
     ]
    },
    {
     "name": "stderr",
     "output_type": "stream",
     "text": [
      "\r",
      "MUSE:   2%|▏         | 102/5050 [00:01<01:05, 75.40it/s]"
     ]
    },
    {
     "name": "stderr",
     "output_type": "stream",
     "text": [
      "\r",
      "MUSE:   2%|▏         | 110/5050 [00:01<01:10, 70.15it/s]"
     ]
    },
    {
     "name": "stderr",
     "output_type": "stream",
     "text": [
      "\r",
      "MUSE:   2%|▏         | 118/5050 [00:01<01:12, 67.87it/s]"
     ]
    },
    {
     "name": "stderr",
     "output_type": "stream",
     "text": [
      "\r",
      "MUSE:   2%|▏         | 125/5050 [00:01<01:15, 65.33it/s]"
     ]
    },
    {
     "name": "stderr",
     "output_type": "stream",
     "text": [
      "\r",
      "MUSE:   3%|▎         | 132/5050 [00:01<01:18, 62.77it/s]"
     ]
    },
    {
     "name": "stderr",
     "output_type": "stream",
     "text": [
      "\r",
      "MUSE:   3%|▎         | 139/5050 [00:01<01:17, 63.18it/s]"
     ]
    },
    {
     "name": "stderr",
     "output_type": "stream",
     "text": [
      "\r",
      "MUSE:   3%|▎         | 146/5050 [00:02<01:21, 59.94it/s]"
     ]
    },
    {
     "name": "stderr",
     "output_type": "stream",
     "text": [
      "\r",
      "MUSE:   3%|▎         | 153/5050 [00:02<01:20, 61.12it/s]"
     ]
    },
    {
     "name": "stderr",
     "output_type": "stream",
     "text": [
      "\r",
      "MUSE:   3%|▎         | 160/5050 [00:02<01:23, 58.85it/s]"
     ]
    },
    {
     "name": "stderr",
     "output_type": "stream",
     "text": [
      "\r",
      "MUSE:   3%|▎         | 166/5050 [00:02<01:25, 57.32it/s]"
     ]
    },
    {
     "name": "stderr",
     "output_type": "stream",
     "text": [
      "\r",
      "MUSE:   3%|▎         | 172/5050 [00:02<01:24, 57.79it/s]"
     ]
    },
    {
     "name": "stderr",
     "output_type": "stream",
     "text": [
      "\r",
      "MUSE:   4%|▎         | 179/5050 [00:02<01:28, 55.22it/s]"
     ]
    },
    {
     "name": "stderr",
     "output_type": "stream",
     "text": [
      "\r",
      "MUSE:   4%|▎         | 186/5050 [00:02<01:25, 56.91it/s]"
     ]
    },
    {
     "name": "stderr",
     "output_type": "stream",
     "text": [
      "\r",
      "MUSE:   4%|▍         | 192/5050 [00:02<01:27, 55.71it/s]"
     ]
    },
    {
     "name": "stderr",
     "output_type": "stream",
     "text": [
      "\r",
      "MUSE:   4%|▍         | 198/5050 [00:02<01:25, 56.62it/s]"
     ]
    },
    {
     "name": "stderr",
     "output_type": "stream",
     "text": [
      "\r",
      "MUSE:   4%|▍         | 204/5050 [00:03<01:28, 54.87it/s]"
     ]
    },
    {
     "name": "stderr",
     "output_type": "stream",
     "text": [
      "\r",
      "MUSE:   4%|▍         | 212/5050 [00:03<01:18, 61.56it/s]"
     ]
    },
    {
     "name": "stderr",
     "output_type": "stream",
     "text": [
      "\r",
      "MUSE:   4%|▍         | 221/5050 [00:03<01:10, 68.72it/s]"
     ]
    },
    {
     "name": "stderr",
     "output_type": "stream",
     "text": [
      "\r",
      "MUSE:   5%|▍         | 230/5050 [00:03<01:05, 73.19it/s]"
     ]
    },
    {
     "name": "stderr",
     "output_type": "stream",
     "text": [
      "\r",
      "MUSE:   5%|▍         | 241/5050 [00:03<01:00, 79.71it/s]"
     ]
    },
    {
     "name": "stderr",
     "output_type": "stream",
     "text": [
      "\r",
      "MUSE:   5%|▍         | 252/5050 [00:03<00:55, 86.99it/s]"
     ]
    },
    {
     "name": "stderr",
     "output_type": "stream",
     "text": [
      "\r",
      "MUSE:   5%|▌         | 261/5050 [00:03<00:57, 83.70it/s]"
     ]
    },
    {
     "name": "stderr",
     "output_type": "stream",
     "text": [
      "\r",
      "MUSE:   5%|▌         | 270/5050 [00:03<00:58, 81.17it/s]"
     ]
    },
    {
     "name": "stderr",
     "output_type": "stream",
     "text": [
      "\r",
      "MUSE:   6%|▌         | 281/5050 [00:03<00:55, 86.27it/s]"
     ]
    },
    {
     "name": "stderr",
     "output_type": "stream",
     "text": [
      "\r",
      "MUSE:   6%|▌         | 290/5050 [00:04<00:54, 86.79it/s]"
     ]
    },
    {
     "name": "stderr",
     "output_type": "stream",
     "text": [
      "\r",
      "MUSE:   6%|▌         | 300/5050 [00:04<00:54, 86.53it/s]"
     ]
    },
    {
     "name": "stderr",
     "output_type": "stream",
     "text": [
      "\r",
      "MUSE:   6%|▌         | 309/5050 [00:04<01:00, 77.83it/s]"
     ]
    },
    {
     "name": "stderr",
     "output_type": "stream",
     "text": [
      "\r",
      "MUSE:   6%|▋         | 323/5050 [00:04<00:50, 93.57it/s]"
     ]
    },
    {
     "name": "stderr",
     "output_type": "stream",
     "text": [
      "\r",
      "MUSE:   7%|▋         | 334/5050 [00:04<00:48, 97.12it/s]"
     ]
    },
    {
     "name": "stderr",
     "output_type": "stream",
     "text": [
      "\r",
      "MUSE:   7%|▋         | 346/5050 [00:04<00:46, 101.12it/s]"
     ]
    },
    {
     "name": "stderr",
     "output_type": "stream",
     "text": [
      "\r",
      "MUSE:   7%|▋         | 357/5050 [00:04<00:45, 102.93it/s]"
     ]
    },
    {
     "name": "stderr",
     "output_type": "stream",
     "text": [
      "\r",
      "MUSE:   7%|▋         | 369/5050 [00:04<00:44, 105.04it/s]"
     ]
    },
    {
     "name": "stderr",
     "output_type": "stream",
     "text": [
      "\r",
      "MUSE:   8%|▊         | 380/5050 [00:04<00:44, 104.58it/s]"
     ]
    },
    {
     "name": "stderr",
     "output_type": "stream",
     "text": [
      "\r",
      "MUSE:   8%|▊         | 394/5050 [00:05<00:40, 114.13it/s]"
     ]
    },
    {
     "name": "stderr",
     "output_type": "stream",
     "text": [
      "\r",
      "MUSE:   8%|▊         | 406/5050 [00:05<00:45, 101.79it/s]"
     ]
    },
    {
     "name": "stderr",
     "output_type": "stream",
     "text": [
      "\r",
      "MUSE:   8%|▊         | 424/5050 [00:05<00:38, 121.07it/s]"
     ]
    },
    {
     "name": "stderr",
     "output_type": "stream",
     "text": [
      "\r",
      "MUSE:   9%|▊         | 441/5050 [00:05<00:34, 133.44it/s]"
     ]
    },
    {
     "name": "stderr",
     "output_type": "stream",
     "text": [
      "\r",
      "MUSE:   9%|▉         | 458/5050 [00:05<00:32, 140.63it/s]"
     ]
    },
    {
     "name": "stderr",
     "output_type": "stream",
     "text": [
      "\r",
      "MUSE:   9%|▉         | 474/5050 [00:05<00:31, 145.59it/s]"
     ]
    },
    {
     "name": "stderr",
     "output_type": "stream",
     "text": [
      "\r",
      "MUSE:  10%|▉         | 489/5050 [00:05<00:33, 135.66it/s]"
     ]
    },
    {
     "name": "stderr",
     "output_type": "stream",
     "text": [
      "\r",
      "MUSE:  10%|▉         | 503/5050 [00:05<00:33, 136.70it/s]"
     ]
    },
    {
     "name": "stderr",
     "output_type": "stream",
     "text": [
      "\r",
      "MUSE:  10%|█         | 517/5050 [00:05<00:34, 130.38it/s]"
     ]
    },
    {
     "name": "stderr",
     "output_type": "stream",
     "text": [
      "\r",
      "MUSE:  11%|█         | 534/5050 [00:06<00:32, 138.72it/s]"
     ]
    },
    {
     "name": "stderr",
     "output_type": "stream",
     "text": [
      "\r",
      "MUSE:  11%|█         | 550/5050 [00:06<00:31, 144.11it/s]"
     ]
    },
    {
     "name": "stderr",
     "output_type": "stream",
     "text": [
      "\r",
      "MUSE:  11%|█▏        | 570/5050 [00:06<00:28, 157.73it/s]"
     ]
    },
    {
     "name": "stderr",
     "output_type": "stream",
     "text": [
      "\r",
      "MUSE:  12%|█▏        | 592/5050 [00:06<00:25, 174.43it/s]"
     ]
    },
    {
     "name": "stderr",
     "output_type": "stream",
     "text": [
      "\r",
      "MUSE:  12%|█▏        | 610/5050 [00:06<00:29, 149.66it/s]"
     ]
    },
    {
     "name": "stderr",
     "output_type": "stream",
     "text": [
      "\r",
      "MUSE:  12%|█▏        | 629/5050 [00:06<00:28, 155.20it/s]"
     ]
    },
    {
     "name": "stderr",
     "output_type": "stream",
     "text": [
      "\r",
      "MUSE:  13%|█▎        | 650/5050 [00:06<00:25, 169.39it/s]"
     ]
    },
    {
     "name": "stderr",
     "output_type": "stream",
     "text": [
      "\r",
      "MUSE:  13%|█▎        | 668/5050 [00:06<00:26, 162.80it/s]"
     ]
    },
    {
     "name": "stderr",
     "output_type": "stream",
     "text": [
      "\r",
      "MUSE:  14%|█▎        | 693/5050 [00:06<00:23, 183.12it/s]"
     ]
    },
    {
     "name": "stderr",
     "output_type": "stream",
     "text": [
      "\r",
      "MUSE:  14%|█▍        | 712/5050 [00:07<00:26, 162.41it/s]"
     ]
    },
    {
     "name": "stderr",
     "output_type": "stream",
     "text": [
      "\r",
      "MUSE:  15%|█▍        | 742/5050 [00:07<00:21, 197.30it/s]"
     ]
    },
    {
     "name": "stderr",
     "output_type": "stream",
     "text": [
      "\r",
      "MUSE:  15%|█▌        | 766/5050 [00:07<00:20, 208.04it/s]"
     ]
    },
    {
     "name": "stderr",
     "output_type": "stream",
     "text": [
      "\r",
      "MUSE:  16%|█▌        | 789/5050 [00:07<00:19, 213.88it/s]"
     ]
    },
    {
     "name": "stderr",
     "output_type": "stream",
     "text": [
      "\r",
      "MUSE:  16%|█▌        | 812/5050 [00:07<00:21, 198.79it/s]"
     ]
    },
    {
     "name": "stderr",
     "output_type": "stream",
     "text": [
      "\r",
      "MUSE:  17%|█▋        | 836/5050 [00:07<00:20, 208.94it/s]"
     ]
    },
    {
     "name": "stderr",
     "output_type": "stream",
     "text": [
      "\r",
      "MUSE:  17%|█▋        | 860/5050 [00:07<00:19, 215.58it/s]"
     ]
    },
    {
     "name": "stderr",
     "output_type": "stream",
     "text": [
      "\r",
      "MUSE:  18%|█▊        | 889/5050 [00:07<00:17, 232.70it/s]"
     ]
    },
    {
     "name": "stderr",
     "output_type": "stream",
     "text": [
      "\r",
      "MUSE:  18%|█▊        | 913/5050 [00:07<00:19, 209.37it/s]"
     ]
    },
    {
     "name": "stderr",
     "output_type": "stream",
     "text": [
      "\r",
      "MUSE:  19%|█▊        | 945/5050 [00:08<00:17, 238.62it/s]"
     ]
    },
    {
     "name": "stderr",
     "output_type": "stream",
     "text": [
      "\r",
      "MUSE:  19%|█▉        | 978/5050 [00:08<00:15, 261.90it/s]"
     ]
    },
    {
     "name": "stderr",
     "output_type": "stream",
     "text": [
      "\r",
      "MUSE: 100%|██████████| 5050/5050 [00:08<00:00, 10708.62it/s]"
     ]
    },
    {
     "name": "stderr",
     "output_type": "stream",
     "text": [
      "\r",
      "MUSE: 100%|██████████| 5050/5050 [00:08<00:00, 606.01it/s]  "
     ]
    },
    {
     "name": "stderr",
     "output_type": "stream",
     "text": [
      "\n"
     ]
    },
    {
     "name": "stderr",
     "output_type": "stream",
     "text": [
      "\r",
      "get_H:   0%|          | 0/10 [00:00<?, ?it/s]"
     ]
    },
    {
     "name": "stderr",
     "output_type": "stream",
     "text": [
      "\r",
      "get_H:  20%|██        | 2/10 [00:00<00:00,  8.85it/s]"
     ]
    },
    {
     "name": "stderr",
     "output_type": "stream",
     "text": [
      "\r",
      "get_H:  40%|████      | 4/10 [00:00<00:00, 12.42it/s]"
     ]
    },
    {
     "name": "stderr",
     "output_type": "stream",
     "text": [
      "\r",
      "get_H:  60%|██████    | 6/10 [00:00<00:00, 14.94it/s]"
     ]
    },
    {
     "name": "stderr",
     "output_type": "stream",
     "text": [
      "\r",
      "get_H:  80%|████████  | 8/10 [00:00<00:00, 15.02it/s]"
     ]
    },
    {
     "name": "stderr",
     "output_type": "stream",
     "text": [
      "\r",
      "get_H: 100%|██████████| 10/10 [00:00<00:00, 10.49it/s]"
     ]
    },
    {
     "name": "stderr",
     "output_type": "stream",
     "text": [
      "\r",
      "get_H: 100%|██████████| 10/10 [00:00<00:00, 11.51it/s]"
     ]
    },
    {
     "name": "stderr",
     "output_type": "stream",
     "text": [
      "\n"
     ]
    }
   ],
   "source": [
    "θ_start = dict(μ=[0.5, 0.5], σ=0)\n",
    "result = prob.solve(θ_start=θ_start, progress=True)"
   ]
  },
  {
   "cell_type": "markdown",
   "id": "5e81cc2b",
   "metadata": {},
   "source": [
    "When there are multiple parameters, the starting guess should be specified as as a dictionary, as above.\n",
    "\n",
    "The parameter estimate is returned as a dictionary,"
   ]
  },
  {
   "cell_type": "code",
   "execution_count": 6,
   "id": "83af4d3b",
   "metadata": {
    "execution": {
     "iopub.execute_input": "2022-08-12T22:35:25.363471Z",
     "iopub.status.busy": "2022-08-12T22:35:25.362967Z",
     "iopub.status.idle": "2022-08-12T22:35:25.389089Z",
     "shell.execute_reply": "2022-08-12T22:35:25.388409Z"
    }
   },
   "outputs": [
    {
     "data": {
      "text/plain": [
       "{'μ': array([0.40489074, 0.42095688]), 'σ': array(0.91969963)}"
      ]
     },
     "execution_count": 6,
     "metadata": {},
     "output_type": "execute_result"
    }
   ],
   "source": [
    "result.θ"
   ]
  },
  {
   "cell_type": "markdown",
   "id": "7b8ab3e9",
   "metadata": {},
   "source": [
    " and the covariance as matrix, with parameters concatenated in the order they appear in the model (or in the order specified in `params`, if that was used):"
   ]
  },
  {
   "cell_type": "code",
   "execution_count": 7,
   "id": "4679e107",
   "metadata": {
    "execution": {
     "iopub.execute_input": "2022-08-12T22:35:25.392580Z",
     "iopub.status.busy": "2022-08-12T22:35:25.392160Z",
     "iopub.status.idle": "2022-08-12T22:35:25.415122Z",
     "shell.execute_reply": "2022-08-12T22:35:25.414559Z"
    }
   },
   "outputs": [
    {
     "data": {
      "text/plain": [
       "array([[ 1.86115895e-02, -8.11185411e-05, -5.68335978e-03],\n",
       "       [-8.11185411e-05,  3.68882367e-02, -1.71506153e-02],\n",
       "       [-5.68335978e-03, -1.71506153e-02,  2.19031887e-02]])"
      ]
     },
     "execution_count": 7,
     "metadata": {},
     "output_type": "execute_result"
    }
   ],
   "source": [
    "result.Σ"
   ]
  },
  {
   "cell_type": "markdown",
   "id": "8e05bfd6",
   "metadata": {},
   "source": [
    "The `result.ravel` and `result.unravel` functions can be used to convert between dictionary and vector representations of the parameters. For example, to compute the standard deviation for each parameter (the square root of the diagonal of the covariance):"
   ]
  },
  {
   "cell_type": "code",
   "execution_count": 8,
   "id": "ecee4cb8",
   "metadata": {
    "execution": {
     "iopub.execute_input": "2022-08-12T22:35:25.418921Z",
     "iopub.status.busy": "2022-08-12T22:35:25.418523Z",
     "iopub.status.idle": "2022-08-12T22:35:25.441934Z",
     "shell.execute_reply": "2022-08-12T22:35:25.441357Z"
    }
   },
   "outputs": [
    {
     "data": {
      "text/plain": [
       "{'μ': array([0.1364243 , 0.19206311]), 'σ': array(0.14799726)}"
      ]
     },
     "execution_count": 8,
     "metadata": {},
     "output_type": "execute_result"
    }
   ],
   "source": [
    "result.unravel(np.sqrt(np.diag(result.Σ)))"
   ]
  },
  {
   "cell_type": "markdown",
   "id": "7715e857",
   "metadata": {},
   "source": [
    "or to convert the mean parameters to a vector:"
   ]
  },
  {
   "cell_type": "code",
   "execution_count": 9,
   "id": "8a50322b",
   "metadata": {
    "execution": {
     "iopub.execute_input": "2022-08-12T22:35:25.446474Z",
     "iopub.status.busy": "2022-08-12T22:35:25.445340Z",
     "iopub.status.idle": "2022-08-12T22:35:25.471016Z",
     "shell.execute_reply": "2022-08-12T22:35:25.470360Z"
    }
   },
   "outputs": [
    {
     "data": {
      "text/plain": [
       "array([0.40489074, 0.42095688, 0.91969963])"
      ]
     },
     "execution_count": 9,
     "metadata": {},
     "output_type": "execute_result"
    }
   ],
   "source": [
    "result.ravel(result.θ)"
   ]
  },
  {
   "cell_type": "markdown",
   "id": "a093e8c2",
   "metadata": {},
   "source": [
    "## Jax"
   ]
  },
  {
   "cell_type": "markdown",
   "id": "433b1535",
   "metadata": {},
   "source": [
    "We can also use [Jax](https://jax.readthedocs.io/) to define the problem. In this case we will write out function to generate forward samples and to compute the posterior, and Jax will provide necessary gradients for free. To use Jax, load the necessary packages:"
   ]
  },
  {
   "cell_type": "code",
   "execution_count": 10,
   "id": "429f4b53",
   "metadata": {
    "execution": {
     "iopub.execute_input": "2022-08-12T22:35:25.474419Z",
     "iopub.status.busy": "2022-08-12T22:35:25.474166Z",
     "iopub.status.idle": "2022-08-12T22:35:25.773381Z",
     "shell.execute_reply": "2022-08-12T22:35:25.772574Z"
    }
   },
   "outputs": [],
   "source": [
    "from functools import partial\n",
    "import jax\n",
    "import jax.numpy as jnp\n",
    "from muse_inference.jax import JaxMuseProblem"
   ]
  },
  {
   "cell_type": "markdown",
   "id": "40f6fe9e",
   "metadata": {},
   "source": [
    "Let's implement the noisy funnel problem from the [Example](example.html) page. To do so, extend `JaxMuseProblem` and define `sample_x_z`, `logLike`, and `logPrior`. "
   ]
  },
  {
   "cell_type": "code",
   "execution_count": 11,
   "id": "59fc4c4d",
   "metadata": {
    "execution": {
     "iopub.execute_input": "2022-08-12T22:35:25.778298Z",
     "iopub.status.busy": "2022-08-12T22:35:25.777113Z",
     "iopub.status.idle": "2022-08-12T22:35:25.805960Z",
     "shell.execute_reply": "2022-08-12T22:35:25.805233Z"
    }
   },
   "outputs": [],
   "source": [
    "class JaxFunnelMuseProblem(JaxMuseProblem):\n",
    "\n",
    "    def __init__(self, N, **kwargs):\n",
    "        super().__init__(**kwargs)\n",
    "        self.N = N\n",
    "\n",
    "    def sample_x_z(self, key, θ):\n",
    "        keys = jax.random.split(key, 2)\n",
    "        z = jax.random.normal(keys[0], (self.N,)) * jnp.exp(θ/2)\n",
    "        x = z + jax.random.normal(keys[1], (self.N,))\n",
    "        return (x, z)\n",
    "\n",
    "    def logLike(self, x, z, θ):\n",
    "        return -(jnp.sum((x - z)**2) + jnp.sum(z**2) / jnp.exp(θ) + 512*θ) / 2\n",
    "\n",
    "    def logPrior(self, θ):\n",
    "        return -θ**2 / (2*3**2)"
   ]
  },
  {
   "cell_type": "markdown",
   "id": "616ed4b6",
   "metadata": {},
   "source": [
    "Note that the super-class `JaxMuseProblem` will automatically take care of JIT compiling these functions, so you do *not* need to manually decorate them with `@jit`. However, if your functions contain code which cannot be JIT compiled, you should pass `super().__init__(jit=False)` to the super constructor in your `__init__` function.\n",
    "\n",
    "The JAX MUSE interface also contains an option to use implicit differentation to compute the $H$ matrix (paper in prep). This is more numerically stable and faster than the default, which uses finite differences, although requires 2nd order automatic differentiation to work through your posterior. It's enabled by default, but can be disabled with `super().__init__(implicit_diff=False)`."
   ]
  },
  {
   "cell_type": "markdown",
   "id": "849a43db",
   "metadata": {},
   "source": [
    "With the problem defined, we now generate some simulated data and save it to the problem with `set_x`. Note also the use of `PRNGKey` (rather than `RandomState` for PyMC/Numpy) for random number generation. "
   ]
  },
  {
   "cell_type": "code",
   "execution_count": 12,
   "id": "84bef7f5",
   "metadata": {
    "execution": {
     "iopub.execute_input": "2022-08-12T22:35:25.810203Z",
     "iopub.status.busy": "2022-08-12T22:35:25.809709Z",
     "iopub.status.idle": "2022-08-12T22:35:26.307156Z",
     "shell.execute_reply": "2022-08-12T22:35:26.306344Z"
    }
   },
   "outputs": [
    {
     "name": "stderr",
     "output_type": "stream",
     "text": [
      "WARNING:absl:No GPU/TPU found, falling back to CPU. (Set TF_CPP_MIN_LOG_LEVEL=0 and rerun for more info.)\n"
     ]
    }
   ],
   "source": [
    "prob = JaxFunnelMuseProblem(10000, implicit_diff=True)\n",
    "key = jax.random.PRNGKey(0)\n",
    "(x, z) = prob.sample_x_z(key, 0)\n",
    "prob.set_x(x)"
   ]
  },
  {
   "cell_type": "markdown",
   "id": "c395bf94",
   "metadata": {},
   "source": [
    "And finally, run MUSE:"
   ]
  },
  {
   "cell_type": "code",
   "execution_count": 13,
   "id": "a337e4ee",
   "metadata": {
    "execution": {
     "iopub.execute_input": "2022-08-12T22:35:26.311308Z",
     "iopub.status.busy": "2022-08-12T22:35:26.310758Z",
     "iopub.status.idle": "2022-08-12T22:35:36.344487Z",
     "shell.execute_reply": "2022-08-12T22:35:36.343188Z"
    },
    "nbsphinx": "hidden",
    "tags": []
   },
   "outputs": [
    {
     "data": {
      "text/plain": [
       "MuseResult(-0.00396±0.0271)"
      ]
     },
     "execution_count": 13,
     "metadata": {},
     "output_type": "execute_result"
    }
   ],
   "source": [
    "prob.solve(θ_start=0., rng=jax.random.PRNGKey(1)) # warmup"
   ]
  },
  {
   "cell_type": "code",
   "execution_count": 14,
   "id": "75447036",
   "metadata": {
    "execution": {
     "iopub.execute_input": "2022-08-12T22:35:36.348292Z",
     "iopub.status.busy": "2022-08-12T22:35:36.347863Z",
     "iopub.status.idle": "2022-08-12T22:35:37.079606Z",
     "shell.execute_reply": "2022-08-12T22:35:37.078145Z"
    }
   },
   "outputs": [
    {
     "name": "stderr",
     "output_type": "stream",
     "text": [
      "\r",
      "MUSE:   0%|          | 0/5050 [00:00<?, ?it/s]"
     ]
    },
    {
     "name": "stderr",
     "output_type": "stream",
     "text": [
      "\r",
      "MUSE:   2%|▏         | 102/5050 [00:00<00:05, 863.26it/s]"
     ]
    },
    {
     "name": "stderr",
     "output_type": "stream",
     "text": [
      "\r",
      "MUSE:   4%|▍         | 203/5050 [00:00<00:06, 720.12it/s]"
     ]
    },
    {
     "name": "stderr",
     "output_type": "stream",
     "text": [
      "\r",
      "MUSE:   6%|▌         | 304/5050 [00:00<00:06, 749.23it/s]"
     ]
    },
    {
     "name": "stderr",
     "output_type": "stream",
     "text": [
      "\r",
      "MUSE:   8%|▊         | 397/5050 [00:00<00:05, 806.43it/s]"
     ]
    },
    {
     "name": "stderr",
     "output_type": "stream",
     "text": [
      "\r",
      "MUSE: 100%|██████████| 5050/5050 [00:00<00:00, 8374.80it/s]"
     ]
    },
    {
     "name": "stderr",
     "output_type": "stream",
     "text": [
      "\n"
     ]
    },
    {
     "name": "stderr",
     "output_type": "stream",
     "text": [
      "\r",
      "get_H:   0%|          | 0/10 [00:00<?, ?it/s]"
     ]
    },
    {
     "name": "stderr",
     "output_type": "stream",
     "text": [
      "\r",
      "get_H: 100%|██████████| 10/10 [00:00<00:00, 684.37it/s]"
     ]
    },
    {
     "name": "stderr",
     "output_type": "stream",
     "text": [
      "\n"
     ]
    }
   ],
   "source": [
    "result = prob.solve(θ_start=0., rng=jax.random.PRNGKey(1), progress=True)"
   ]
  },
  {
   "cell_type": "markdown",
   "id": "cbbe6c84",
   "metadata": {},
   "source": [
    "Note that the solution here is obtained around 10X faster that the PyMC version of this in the [Example](example.html) page (the cloud machines which build these docs don't always achieve the 10X, but you see this if you run these examples locally). The Jax interface has much lower overhead, which will be noticeable for very fast posteriors like the one above. "
   ]
  },
  {
   "cell_type": "markdown",
   "id": "87f3c972",
   "metadata": {},
   "source": [
    "One convenient aspect of using Jax is that the parameters, `θ`, and latent space, `z`, can be any [pytree](https://jax.readthedocs.io/en/latest/pytrees.html), ie tuples, dictionaries, nested combinations of them, etc... (there is no requirement on the data format of the `x` variable). To demonstrate, consider a problem which is just two copies of the noisy funnel problem:"
   ]
  },
  {
   "cell_type": "code",
   "execution_count": 15,
   "id": "6a55be68",
   "metadata": {
    "execution": {
     "iopub.execute_input": "2022-08-12T22:35:37.083819Z",
     "iopub.status.busy": "2022-08-12T22:35:37.083205Z",
     "iopub.status.idle": "2022-08-12T22:35:37.115147Z",
     "shell.execute_reply": "2022-08-12T22:35:37.114318Z"
    }
   },
   "outputs": [],
   "source": [
    "class JaxPyTreeFunnelMuseProblem(JaxMuseProblem):\n",
    "\n",
    "    def __init__(self, N):\n",
    "        super().__init__()\n",
    "        self.N = N\n",
    "\n",
    "    def sample_x_z(self, key, θ):\n",
    "        (θ1, θ2) = (θ[\"θ1\"], θ[\"θ2\"])\n",
    "        keys = jax.random.split(key, 4)\n",
    "        z1 = jax.random.normal(keys[0], (self.N,)) * jnp.exp(θ1/2)\n",
    "        z2 = jax.random.normal(keys[1], (self.N,)) * jnp.exp(θ2/2)        \n",
    "        x1 = z1 + jax.random.normal(keys[2], (self.N,))\n",
    "        x2 = z2 + jax.random.normal(keys[3], (self.N,))        \n",
    "        return ({\"x1\":x1, \"x2\":x2}, {\"z1\":z1, \"z2\":z2})\n",
    "\n",
    "    def logLike(self, x, z, θ):\n",
    "        return (\n",
    "            -(jnp.sum((x[\"x1\"] - z[\"z1\"])**2) + jnp.sum(z[\"z1\"]**2) / jnp.exp(θ[\"θ1\"]) + 512*θ[\"θ1\"]) / 2\n",
    "            -(jnp.sum((x[\"x2\"] - z[\"z2\"])**2) + jnp.sum(z[\"z2\"]**2) / jnp.exp(θ[\"θ2\"]) + 512*θ[\"θ2\"]) / 2\n",
    "        )\n",
    "\n",
    "    def logPrior(self, θ):\n",
    "        return - θ[\"θ1\"]**2 / (2*3**2) - θ[\"θ2\"]**2 / (2*3**2)"
   ]
  },
  {
   "cell_type": "markdown",
   "id": "501d7161",
   "metadata": {},
   "source": [
    "Here, `x`, `θ`, and `z` are all dictionaries. We generate the problem as usual, passing in parameters as dictionaries,"
   ]
  },
  {
   "cell_type": "code",
   "execution_count": 16,
   "id": "c80475bb",
   "metadata": {
    "execution": {
     "iopub.execute_input": "2022-08-12T22:35:37.119896Z",
     "iopub.status.busy": "2022-08-12T22:35:37.119318Z",
     "iopub.status.idle": "2022-08-12T22:35:37.144812Z",
     "shell.execute_reply": "2022-08-12T22:35:37.144041Z"
    }
   },
   "outputs": [],
   "source": [
    "θ_true = dict(θ1=-1., θ2=2.)\n",
    "θ_start = dict(θ1=0., θ2=0.)"
   ]
  },
  {
   "cell_type": "code",
   "execution_count": 17,
   "id": "94c411f5",
   "metadata": {
    "execution": {
     "iopub.execute_input": "2022-08-12T22:35:37.149162Z",
     "iopub.status.busy": "2022-08-12T22:35:37.148877Z",
     "iopub.status.idle": "2022-08-12T22:35:37.879729Z",
     "shell.execute_reply": "2022-08-12T22:35:37.878881Z"
    }
   },
   "outputs": [],
   "source": [
    "prob = JaxPyTreeFunnelMuseProblem(10000)\n",
    "key = jax.random.PRNGKey(0)\n",
    "(x, z) = prob.sample_x_z(key, θ_true)\n",
    "prob.set_x(x)"
   ]
  },
  {
   "cell_type": "markdown",
   "id": "95aab82a",
   "metadata": {},
   "source": [
    "and run MUSE:"
   ]
  },
  {
   "cell_type": "code",
   "execution_count": 18,
   "id": "e9124432",
   "metadata": {
    "execution": {
     "iopub.execute_input": "2022-08-12T22:35:37.883972Z",
     "iopub.status.busy": "2022-08-12T22:35:37.883482Z",
     "iopub.status.idle": "2022-08-12T22:35:58.644310Z",
     "shell.execute_reply": "2022-08-12T22:35:58.643550Z"
    },
    "nbsphinx": "hidden",
    "tags": []
   },
   "outputs": [
    {
     "data": {
      "text/plain": [
       "MuseResult({θ1=-1±0.0582, θ2=2.03±0.0156})"
      ]
     },
     "execution_count": 18,
     "metadata": {},
     "output_type": "execute_result"
    }
   ],
   "source": [
    "prob.solve(θ_start=θ_start, rng=jax.random.PRNGKey(0)) # warmup"
   ]
  },
  {
   "cell_type": "code",
   "execution_count": 19,
   "id": "c46578dc",
   "metadata": {
    "execution": {
     "iopub.execute_input": "2022-08-12T22:35:58.648183Z",
     "iopub.status.busy": "2022-08-12T22:35:58.647865Z",
     "iopub.status.idle": "2022-08-12T22:36:08.632178Z",
     "shell.execute_reply": "2022-08-12T22:36:08.631507Z"
    }
   },
   "outputs": [
    {
     "name": "stderr",
     "output_type": "stream",
     "text": [
      "\r",
      "MUSE:   0%|          | 0/5050 [00:00<?, ?it/s]"
     ]
    },
    {
     "name": "stderr",
     "output_type": "stream",
     "text": [
      "\r",
      "MUSE:   2%|▏         | 102/5050 [00:00<00:11, 432.56it/s]"
     ]
    },
    {
     "name": "stderr",
     "output_type": "stream",
     "text": [
      "\r",
      "MUSE:   3%|▎         | 149/5050 [00:00<00:11, 444.86it/s]"
     ]
    },
    {
     "name": "stderr",
     "output_type": "stream",
     "text": [
      "\r",
      "MUSE:   4%|▍         | 197/5050 [00:00<00:10, 455.81it/s]"
     ]
    },
    {
     "name": "stderr",
     "output_type": "stream",
     "text": [
      "\r",
      "MUSE:   5%|▍         | 244/5050 [00:00<00:16, 285.31it/s]"
     ]
    },
    {
     "name": "stderr",
     "output_type": "stream",
     "text": [
      "\r",
      "MUSE:   6%|▌         | 279/5050 [00:00<00:16, 293.58it/s]"
     ]
    },
    {
     "name": "stderr",
     "output_type": "stream",
     "text": [
      "\r",
      "MUSE:   6%|▌         | 313/5050 [00:01<00:21, 221.02it/s]"
     ]
    },
    {
     "name": "stderr",
     "output_type": "stream",
     "text": [
      "\r",
      "MUSE:   7%|▋         | 347/5050 [00:01<00:19, 243.57it/s]"
     ]
    },
    {
     "name": "stderr",
     "output_type": "stream",
     "text": [
      "\r",
      "MUSE:   8%|▊         | 380/5050 [00:01<00:17, 262.14it/s]"
     ]
    },
    {
     "name": "stderr",
     "output_type": "stream",
     "text": [
      "\r",
      "MUSE:   8%|▊         | 411/5050 [00:01<00:22, 202.62it/s]"
     ]
    },
    {
     "name": "stderr",
     "output_type": "stream",
     "text": [
      "\r",
      "MUSE:   9%|▉         | 444/5050 [00:01<00:20, 227.29it/s]"
     ]
    },
    {
     "name": "stderr",
     "output_type": "stream",
     "text": [
      "\r",
      "MUSE:   9%|▉         | 479/5050 [00:01<00:17, 254.59it/s]"
     ]
    },
    {
     "name": "stderr",
     "output_type": "stream",
     "text": [
      "\r",
      "MUSE:  10%|█         | 509/5050 [00:01<00:22, 200.83it/s]"
     ]
    },
    {
     "name": "stderr",
     "output_type": "stream",
     "text": [
      "\r",
      "MUSE:  11%|█         | 545/5050 [00:02<00:19, 232.81it/s]"
     ]
    },
    {
     "name": "stderr",
     "output_type": "stream",
     "text": [
      "\r",
      "MUSE:  12%|█▏        | 581/5050 [00:02<00:17, 260.35it/s]"
     ]
    },
    {
     "name": "stderr",
     "output_type": "stream",
     "text": [
      "\r",
      "MUSE:  12%|█▏        | 611/5050 [00:02<00:21, 205.19it/s]"
     ]
    },
    {
     "name": "stderr",
     "output_type": "stream",
     "text": [
      "\r",
      "MUSE:  13%|█▎        | 646/5050 [00:02<00:18, 235.09it/s]"
     ]
    },
    {
     "name": "stderr",
     "output_type": "stream",
     "text": [
      "\r",
      "MUSE:  14%|█▎        | 682/5050 [00:02<00:16, 263.05it/s]"
     ]
    },
    {
     "name": "stderr",
     "output_type": "stream",
     "text": [
      "\r",
      "MUSE:  14%|█▍        | 713/5050 [00:02<00:21, 205.13it/s]"
     ]
    },
    {
     "name": "stderr",
     "output_type": "stream",
     "text": [
      "\r",
      "MUSE:  15%|█▍        | 749/5050 [00:02<00:18, 236.70it/s]"
     ]
    },
    {
     "name": "stderr",
     "output_type": "stream",
     "text": [
      "\r",
      "MUSE:  16%|█▌        | 785/5050 [00:03<00:16, 264.33it/s]"
     ]
    },
    {
     "name": "stderr",
     "output_type": "stream",
     "text": [
      "\r",
      "MUSE:  16%|█▌        | 816/5050 [00:03<00:20, 206.68it/s]"
     ]
    },
    {
     "name": "stderr",
     "output_type": "stream",
     "text": [
      "\r",
      "MUSE:  17%|█▋        | 849/5050 [00:03<00:18, 231.95it/s]"
     ]
    },
    {
     "name": "stderr",
     "output_type": "stream",
     "text": [
      "\r",
      "MUSE:  17%|█▋        | 883/5050 [00:03<00:16, 255.10it/s]"
     ]
    },
    {
     "name": "stderr",
     "output_type": "stream",
     "text": [
      "\r",
      "MUSE:  18%|█▊        | 913/5050 [00:03<00:20, 197.23it/s]"
     ]
    },
    {
     "name": "stderr",
     "output_type": "stream",
     "text": [
      "\r",
      "MUSE:  19%|█▊        | 946/5050 [00:03<00:18, 223.78it/s]"
     ]
    },
    {
     "name": "stderr",
     "output_type": "stream",
     "text": [
      "\r",
      "MUSE:  19%|█▉        | 976/5050 [00:03<00:16, 240.64it/s]"
     ]
    },
    {
     "name": "stderr",
     "output_type": "stream",
     "text": [
      "\r",
      "MUSE:  20%|██        | 1011/5050 [00:04<00:20, 194.37it/s]"
     ]
    },
    {
     "name": "stderr",
     "output_type": "stream",
     "text": [
      "\r",
      "MUSE:  21%|██        | 1057/5050 [00:04<00:16, 248.11it/s]"
     ]
    },
    {
     "name": "stderr",
     "output_type": "stream",
     "text": [
      "\r",
      "MUSE:  22%|██▏       | 1105/5050 [00:04<00:13, 299.17it/s]"
     ]
    },
    {
     "name": "stderr",
     "output_type": "stream",
     "text": [
      "\r",
      "MUSE:  23%|██▎       | 1141/5050 [00:04<00:15, 250.50it/s]"
     ]
    },
    {
     "name": "stderr",
     "output_type": "stream",
     "text": [
      "\r",
      "MUSE:  24%|██▍       | 1203/5050 [00:04<00:11, 330.14it/s]"
     ]
    },
    {
     "name": "stderr",
     "output_type": "stream",
     "text": [
      "\r",
      "MUSE:  25%|██▍       | 1243/5050 [00:04<00:14, 270.04it/s]"
     ]
    },
    {
     "name": "stderr",
     "output_type": "stream",
     "text": [
      "\r",
      "MUSE:  26%|██▌       | 1291/5050 [00:05<00:12, 313.24it/s]"
     ]
    },
    {
     "name": "stderr",
     "output_type": "stream",
     "text": [
      "\r",
      "MUSE:  26%|██▋       | 1329/5050 [00:05<00:14, 256.59it/s]"
     ]
    },
    {
     "name": "stderr",
     "output_type": "stream",
     "text": [
      "\r",
      "MUSE:  27%|██▋       | 1380/5050 [00:05<00:11, 307.15it/s]"
     ]
    },
    {
     "name": "stderr",
     "output_type": "stream",
     "text": [
      "\r",
      "MUSE:  28%|██▊       | 1418/5050 [00:05<00:14, 258.49it/s]"
     ]
    },
    {
     "name": "stderr",
     "output_type": "stream",
     "text": [
      "\r",
      "MUSE:  29%|██▉       | 1470/5050 [00:05<00:11, 311.62it/s]"
     ]
    },
    {
     "name": "stderr",
     "output_type": "stream",
     "text": [
      "\r",
      "MUSE:  30%|███       | 1516/5050 [00:05<00:13, 260.58it/s]"
     ]
    },
    {
     "name": "stderr",
     "output_type": "stream",
     "text": [
      "\r",
      "MUSE:  31%|███       | 1568/5050 [00:05<00:11, 310.75it/s]"
     ]
    },
    {
     "name": "stderr",
     "output_type": "stream",
     "text": [
      "\r",
      "MUSE:  32%|███▏      | 1617/5050 [00:06<00:12, 271.13it/s]"
     ]
    },
    {
     "name": "stderr",
     "output_type": "stream",
     "text": [
      "\r",
      "MUSE:  33%|███▎      | 1672/5050 [00:06<00:10, 325.07it/s]"
     ]
    },
    {
     "name": "stderr",
     "output_type": "stream",
     "text": [
      "\r",
      "MUSE:  34%|███▍      | 1718/5050 [00:06<00:12, 270.06it/s]"
     ]
    },
    {
     "name": "stderr",
     "output_type": "stream",
     "text": [
      "\r",
      "MUSE:  35%|███▌      | 1773/5050 [00:06<00:10, 322.75it/s]"
     ]
    },
    {
     "name": "stderr",
     "output_type": "stream",
     "text": [
      "\r",
      "MUSE:  36%|███▌      | 1819/5050 [00:06<00:11, 272.88it/s]"
     ]
    },
    {
     "name": "stderr",
     "output_type": "stream",
     "text": [
      "\r",
      "MUSE:  37%|███▋      | 1858/5050 [00:07<00:10, 295.32it/s]"
     ]
    },
    {
     "name": "stderr",
     "output_type": "stream",
     "text": [
      "\r",
      "MUSE:  38%|███▊      | 1898/5050 [00:07<00:09, 317.15it/s]"
     ]
    },
    {
     "name": "stderr",
     "output_type": "stream",
     "text": [
      "\r",
      "MUSE:  38%|███▊      | 1935/5050 [00:07<00:12, 250.04it/s]"
     ]
    },
    {
     "name": "stderr",
     "output_type": "stream",
     "text": [
      "\r",
      "MUSE:  39%|███▉      | 1979/5050 [00:07<00:10, 288.39it/s]"
     ]
    },
    {
     "name": "stderr",
     "output_type": "stream",
     "text": [
      "\r",
      "MUSE:  40%|████      | 2020/5050 [00:07<00:09, 315.59it/s]"
     ]
    },
    {
     "name": "stderr",
     "output_type": "stream",
     "text": [
      "\r",
      "MUSE:  41%|████      | 2057/5050 [00:07<00:11, 259.16it/s]"
     ]
    },
    {
     "name": "stderr",
     "output_type": "stream",
     "text": [
      "\r",
      "MUSE:  42%|████▏     | 2121/5050 [00:07<00:08, 340.32it/s]"
     ]
    },
    {
     "name": "stderr",
     "output_type": "stream",
     "text": [
      "\r",
      "MUSE:  43%|████▎     | 2162/5050 [00:08<00:10, 277.70it/s]"
     ]
    },
    {
     "name": "stderr",
     "output_type": "stream",
     "text": [
      "\r",
      "MUSE:  44%|████▍     | 2223/5050 [00:08<00:10, 269.55it/s]"
     ]
    },
    {
     "name": "stderr",
     "output_type": "stream",
     "text": [
      "\r",
      "MUSE:  45%|████▌     | 2284/5050 [00:08<00:08, 332.55it/s]"
     ]
    },
    {
     "name": "stderr",
     "output_type": "stream",
     "text": [
      "\r",
      "MUSE:  46%|████▌     | 2325/5050 [00:08<00:09, 283.49it/s]"
     ]
    },
    {
     "name": "stderr",
     "output_type": "stream",
     "text": [
      "\r",
      "MUSE:  47%|████▋     | 2367/5050 [00:08<00:08, 309.89it/s]"
     ]
    },
    {
     "name": "stderr",
     "output_type": "stream",
     "text": [
      "\r",
      "MUSE:  48%|████▊     | 2409/5050 [00:08<00:07, 333.80it/s]"
     ]
    },
    {
     "name": "stderr",
     "output_type": "stream",
     "text": [
      "\r",
      "MUSE:  48%|████▊     | 2447/5050 [00:09<00:09, 268.19it/s]"
     ]
    },
    {
     "name": "stderr",
     "output_type": "stream",
     "text": [
      "\r",
      "MUSE:  49%|████▉     | 2490/5050 [00:09<00:08, 301.88it/s]"
     ]
    },
    {
     "name": "stderr",
     "output_type": "stream",
     "text": [
      "\r",
      "MUSE:  50%|█████     | 2526/5050 [00:09<00:10, 247.68it/s]"
     ]
    },
    {
     "name": "stderr",
     "output_type": "stream",
     "text": [
      "\r",
      "MUSE:  51%|█████     | 2567/5050 [00:09<00:08, 279.98it/s]"
     ]
    },
    {
     "name": "stderr",
     "output_type": "stream",
     "text": [
      "\r",
      "MUSE:  52%|█████▏    | 2609/5050 [00:09<00:07, 311.60it/s]"
     ]
    },
    {
     "name": "stderr",
     "output_type": "stream",
     "text": [
      "\r",
      "MUSE: 100%|██████████| 5050/5050 [00:09<00:00, 5092.82it/s]"
     ]
    },
    {
     "name": "stderr",
     "output_type": "stream",
     "text": [
      "\r",
      "MUSE: 100%|██████████| 5050/5050 [00:09<00:00, 517.37it/s] "
     ]
    },
    {
     "name": "stderr",
     "output_type": "stream",
     "text": [
      "\n"
     ]
    },
    {
     "name": "stderr",
     "output_type": "stream",
     "text": [
      "\r",
      "get_H:   0%|          | 0/10 [00:00<?, ?it/s]"
     ]
    },
    {
     "name": "stderr",
     "output_type": "stream",
     "text": [
      "\r",
      "get_H: 100%|██████████| 10/10 [00:00<00:00, 193.54it/s]"
     ]
    },
    {
     "name": "stderr",
     "output_type": "stream",
     "text": [
      "\n"
     ]
    }
   ],
   "source": [
    "result = prob.solve(θ_start=θ_start, rng=jax.random.PRNGKey(0), progress=True)"
   ]
  },
  {
   "cell_type": "markdown",
   "id": "e1bd914c",
   "metadata": {},
   "source": [
    "The result is returned as a pytree:"
   ]
  },
  {
   "cell_type": "code",
   "execution_count": 20,
   "id": "eaad264d",
   "metadata": {
    "execution": {
     "iopub.execute_input": "2022-08-12T22:36:08.635990Z",
     "iopub.status.busy": "2022-08-12T22:36:08.635560Z",
     "iopub.status.idle": "2022-08-12T22:36:08.663590Z",
     "shell.execute_reply": "2022-08-12T22:36:08.662741Z"
    }
   },
   "outputs": [
    {
     "data": {
      "text/plain": [
       "{'θ1': DeviceArray(-1.0020632, dtype=float32),\n",
       " 'θ2': DeviceArray(2.027134, dtype=float32)}"
      ]
     },
     "execution_count": 20,
     "metadata": {},
     "output_type": "execute_result"
    }
   ],
   "source": [
    "result.θ"
   ]
  },
  {
   "cell_type": "markdown",
   "id": "4fe15b86",
   "metadata": {},
   "source": [
    "and the covariance as a matrix:"
   ]
  },
  {
   "cell_type": "code",
   "execution_count": 21,
   "id": "8b16345f",
   "metadata": {
    "execution": {
     "iopub.execute_input": "2022-08-12T22:36:08.667162Z",
     "iopub.status.busy": "2022-08-12T22:36:08.666893Z",
     "iopub.status.idle": "2022-08-12T22:36:08.695511Z",
     "shell.execute_reply": "2022-08-12T22:36:08.694686Z"
    }
   },
   "outputs": [
    {
     "data": {
      "text/plain": [
       "array([[ 3.3819058e-03, -2.5075144e-05],\n",
       "       [-2.5075142e-05,  2.4444878e-04]], dtype=float32)"
      ]
     },
     "execution_count": 21,
     "metadata": {},
     "output_type": "execute_result"
    }
   ],
   "source": [
    "result.Σ"
   ]
  },
  {
   "cell_type": "markdown",
   "id": "7f0cb19a",
   "metadata": {},
   "source": [
    "The `result.ravel` and `result.unravel` functions can be used to convert between pytree and vector representations of the parameters. For example, to compute the standard deviation for each parameter (the square root of the diagonal of the covariance):"
   ]
  },
  {
   "cell_type": "code",
   "execution_count": 22,
   "id": "c2c07c74",
   "metadata": {
    "execution": {
     "iopub.execute_input": "2022-08-12T22:36:08.699127Z",
     "iopub.status.busy": "2022-08-12T22:36:08.698695Z",
     "iopub.status.idle": "2022-08-12T22:36:08.728218Z",
     "shell.execute_reply": "2022-08-12T22:36:08.727495Z"
    }
   },
   "outputs": [
    {
     "data": {
      "text/plain": [
       "{'θ1': DeviceArray(0.05815415, dtype=float32),\n",
       " 'θ2': DeviceArray(0.01563486, dtype=float32)}"
      ]
     },
     "execution_count": 22,
     "metadata": {},
     "output_type": "execute_result"
    }
   ],
   "source": [
    "result.unravel(np.sqrt(np.diag(result.Σ)))"
   ]
  },
  {
   "cell_type": "markdown",
   "id": "e3d04ae7",
   "metadata": {},
   "source": [
    "or to convert the mean parameters to a vector:"
   ]
  },
  {
   "cell_type": "code",
   "execution_count": 23,
   "id": "5ca225cc",
   "metadata": {
    "execution": {
     "iopub.execute_input": "2022-08-12T22:36:08.732202Z",
     "iopub.status.busy": "2022-08-12T22:36:08.731576Z",
     "iopub.status.idle": "2022-08-12T22:36:08.760057Z",
     "shell.execute_reply": "2022-08-12T22:36:08.759306Z"
    }
   },
   "outputs": [
    {
     "data": {
      "text/plain": [
       "DeviceArray([-1.0020632,  2.027134 ], dtype=float32)"
      ]
     },
     "execution_count": 23,
     "metadata": {},
     "output_type": "execute_result"
    }
   ],
   "source": [
    "result.ravel(result.θ)"
   ]
  }
 ],
 "metadata": {
  "jupytext": {
   "text_representation": {
    "extension": ".md",
    "format_name": "markdown",
    "format_version": "1.3",
    "jupytext_version": "1.13.8"
   }
  },
  "kernelspec": {
   "display_name": "Python 3.9.7 ('.venv': poetry)",
   "language": "python",
   "name": "python3"
  },
  "language_info": {
   "codemirror_mode": {
    "name": "ipython",
    "version": 3
   },
   "file_extension": ".py",
   "mimetype": "text/x-python",
   "name": "python",
   "nbconvert_exporter": "python",
   "pygments_lexer": "ipython3",
   "version": "3.9.13"
  }
 },
 "nbformat": 4,
 "nbformat_minor": 5
}
