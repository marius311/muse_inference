{
 "cells": [
  {
   "cell_type": "markdown",
   "id": "b465dd78",
   "metadata": {},
   "source": [
    "# Advanced Examples"
   ]
  },
  {
   "cell_type": "code",
   "execution_count": 1,
   "id": "3ccf36c0",
   "metadata": {
    "execution": {
     "iopub.execute_input": "2022-06-07T19:35:17.775901Z",
     "iopub.status.busy": "2022-06-07T19:35:17.775385Z",
     "iopub.status.idle": "2022-06-07T19:35:17.807258Z",
     "shell.execute_reply": "2022-06-07T19:35:17.806331Z"
    },
    "nbsphinx": "hidden",
    "tags": []
   },
   "outputs": [],
   "source": [
    "%config InlineBackend.print_figure_kwargs = {'bbox_inches': 'tight', 'dpi': 110}\n",
    "%load_ext autoreload\n",
    "%autoreload 2\n",
    "import logging, warnings\n",
    "logging.getLogger(\"pymc\").setLevel(logging.FATAL)\n",
    "warnings.filterwarnings(\"ignore\")"
   ]
  },
  {
   "cell_type": "markdown",
   "id": "b852329f",
   "metadata": {},
   "source": [
    "## PyMC"
   ]
  },
  {
   "cell_type": "markdown",
   "id": "f180fa77",
   "metadata": {},
   "source": [
    "The [Example](example.html) page introduces how to use *muse-inference* for a problem defined with PyMC. Here we consider a more complex problem to highlight additional features. In particular:\n",
    "\n",
    "* We can estimate any number of parameters with any shapes. Here we have a 2-dimensional array $\\mu$ and a scalar $\\theta$. Note that by default, *muse-inference* considers any variables which do not depend on others as \"parameters\" (i.e. the \"leaves\" of the probabilistic graph). However, the algorithm is not limited to such parameters, and any choice can be selected by providing a list of `params` to the `PyMCMuseProblem` constructor.\n",
    "\n",
    "* We can work with distributions with limited domain support. For example, below we use the $\\rm Beta$ distribution with support on $(0,1)$ and the $\\rm LogNormal$ distribution with support on $(0,\\infty)$. All necessary transformations are handled internally.\n",
    "\n",
    "* The data and latent space can include any number of variables, with any shapes. Below we demonstrate an $x$ and $z$ which are 2-dimensional arrays. \n",
    "\n",
    "First, load the relevant packages:"
   ]
  },
  {
   "cell_type": "code",
   "execution_count": 2,
   "id": "948776c4",
   "metadata": {
    "execution": {
     "iopub.execute_input": "2022-06-07T19:35:17.811630Z",
     "iopub.status.busy": "2022-06-07T19:35:17.811365Z",
     "iopub.status.idle": "2022-06-07T19:35:20.850344Z",
     "shell.execute_reply": "2022-06-07T19:35:20.849311Z"
    }
   },
   "outputs": [
    {
     "name": "stdout",
     "output_type": "stream",
     "text": [
      "Populating the interactive namespace from numpy and matplotlib\n"
     ]
    }
   ],
   "source": [
    "%pylab inline\n",
    "import pymc as pm\n",
    "from muse_inference.pymc import PyMCMuseProblem"
   ]
  },
  {
   "cell_type": "markdown",
   "id": "35fa0975",
   "metadata": {},
   "source": [
    "Then define the problem,"
   ]
  },
  {
   "cell_type": "code",
   "execution_count": 3,
   "id": "2c3e97ea",
   "metadata": {
    "execution": {
     "iopub.execute_input": "2022-06-07T19:35:20.855016Z",
     "iopub.status.busy": "2022-06-07T19:35:20.854323Z",
     "iopub.status.idle": "2022-06-07T19:35:20.880260Z",
     "shell.execute_reply": "2022-06-07T19:35:20.879517Z"
    }
   },
   "outputs": [],
   "source": [
    "def gen_funnel(x=None, σ=None, μ=None, rng=None):\n",
    "    with pm.Model() as model:\n",
    "        μ = pm.Beta(\"μ\", 2, 5, size=2) if μ is None else μ\n",
    "        σ = pm.Normal(\"σ\", 0, 3) if σ is None else σ\n",
    "        z = pm.LogNormal(\"z\", μ, np.exp(σ/2), size=(100, 2))\n",
    "        x = pm.Normal(\"x\", z, 1, observed=x)\n",
    "    return model"
   ]
  },
  {
   "cell_type": "markdown",
   "id": "fae7ce2b",
   "metadata": {},
   "source": [
    "generate the model and some data, given some chosen true values of parameters,"
   ]
  },
  {
   "cell_type": "code",
   "execution_count": 4,
   "id": "0b8a64c4",
   "metadata": {
    "execution": {
     "iopub.execute_input": "2022-06-07T19:35:20.884491Z",
     "iopub.status.busy": "2022-06-07T19:35:20.883699Z",
     "iopub.status.idle": "2022-06-07T19:36:53.860945Z",
     "shell.execute_reply": "2022-06-07T19:36:53.859924Z"
    }
   },
   "outputs": [],
   "source": [
    "θ_true = dict(μ=[0.3, 0.7], σ=1)\n",
    "with gen_funnel(rng=RandomState(0), **θ_true):\n",
    "    x_obs = pm.sample_prior_predictive(1, random_seed=0).prior.x[0,0]\n",
    "model = gen_funnel(x=x_obs)\n",
    "prob = PyMCMuseProblem(model)"
   ]
  },
  {
   "cell_type": "markdown",
   "id": "3489ed7a",
   "metadata": {},
   "source": [
    "and finally, run MUSE:"
   ]
  },
  {
   "cell_type": "code",
   "execution_count": 5,
   "id": "a3b6f6d6",
   "metadata": {
    "execution": {
     "iopub.execute_input": "2022-06-07T19:36:53.866095Z",
     "iopub.status.busy": "2022-06-07T19:36:53.865551Z",
     "iopub.status.idle": "2022-06-07T19:37:04.308520Z",
     "shell.execute_reply": "2022-06-07T19:37:04.307929Z"
    }
   },
   "outputs": [
    {
     "name": "stderr",
     "output_type": "stream",
     "text": [
      "\r",
      "MUSE:   0%|          | 0/5050 [00:00<?, ?it/s]"
     ]
    },
    {
     "name": "stderr",
     "output_type": "stream",
     "text": [
      "\r",
      "MUSE:   0%|          | 6/5050 [00:00<01:24, 59.47it/s]"
     ]
    },
    {
     "name": "stderr",
     "output_type": "stream",
     "text": [
      "\r",
      "MUSE:   0%|          | 14/5050 [00:00<01:17, 65.40it/s]"
     ]
    },
    {
     "name": "stderr",
     "output_type": "stream",
     "text": [
      "\r",
      "MUSE:   0%|          | 21/5050 [00:00<01:16, 66.03it/s]"
     ]
    },
    {
     "name": "stderr",
     "output_type": "stream",
     "text": [
      "\r",
      "MUSE:   1%|          | 29/5050 [00:00<01:12, 69.18it/s]"
     ]
    },
    {
     "name": "stderr",
     "output_type": "stream",
     "text": [
      "\r",
      "MUSE:   1%|          | 37/5050 [00:00<01:10, 71.47it/s]"
     ]
    },
    {
     "name": "stderr",
     "output_type": "stream",
     "text": [
      "\r",
      "MUSE:   1%|          | 45/5050 [00:00<01:11, 70.20it/s]"
     ]
    },
    {
     "name": "stderr",
     "output_type": "stream",
     "text": [
      "\r",
      "MUSE:   1%|          | 53/5050 [00:00<01:08, 73.06it/s]"
     ]
    },
    {
     "name": "stderr",
     "output_type": "stream",
     "text": [
      "\r",
      "MUSE:   1%|          | 61/5050 [00:00<01:07, 74.29it/s]"
     ]
    },
    {
     "name": "stderr",
     "output_type": "stream",
     "text": [
      "\r",
      "MUSE:   1%|▏         | 69/5050 [00:00<01:06, 74.87it/s]"
     ]
    },
    {
     "name": "stderr",
     "output_type": "stream",
     "text": [
      "\r",
      "MUSE:   2%|▏         | 77/5050 [00:01<01:05, 76.22it/s]"
     ]
    },
    {
     "name": "stderr",
     "output_type": "stream",
     "text": [
      "\r",
      "MUSE:   2%|▏         | 87/5050 [00:01<01:01, 80.28it/s]"
     ]
    },
    {
     "name": "stderr",
     "output_type": "stream",
     "text": [
      "\r",
      "MUSE:   2%|▏         | 96/5050 [00:01<01:05, 75.68it/s]"
     ]
    },
    {
     "name": "stderr",
     "output_type": "stream",
     "text": [
      "\r",
      "MUSE:   2%|▏         | 104/5050 [00:01<01:15, 65.10it/s]"
     ]
    },
    {
     "name": "stderr",
     "output_type": "stream",
     "text": [
      "\r",
      "MUSE:   2%|▏         | 111/5050 [00:01<01:20, 61.45it/s]"
     ]
    },
    {
     "name": "stderr",
     "output_type": "stream",
     "text": [
      "\r",
      "MUSE:   2%|▏         | 118/5050 [00:01<01:23, 59.22it/s]"
     ]
    },
    {
     "name": "stderr",
     "output_type": "stream",
     "text": [
      "\r",
      "MUSE:   2%|▏         | 125/5050 [00:01<01:28, 55.49it/s]"
     ]
    },
    {
     "name": "stderr",
     "output_type": "stream",
     "text": [
      "\r",
      "MUSE:   3%|▎         | 131/5050 [00:01<01:29, 54.80it/s]"
     ]
    },
    {
     "name": "stderr",
     "output_type": "stream",
     "text": [
      "\r",
      "MUSE:   3%|▎         | 137/5050 [00:02<01:33, 52.42it/s]"
     ]
    },
    {
     "name": "stderr",
     "output_type": "stream",
     "text": [
      "\r",
      "MUSE:   3%|▎         | 144/5050 [00:02<01:28, 55.25it/s]"
     ]
    },
    {
     "name": "stderr",
     "output_type": "stream",
     "text": [
      "\r",
      "MUSE:   3%|▎         | 151/5050 [00:02<01:24, 58.27it/s]"
     ]
    },
    {
     "name": "stderr",
     "output_type": "stream",
     "text": [
      "\r",
      "MUSE:   3%|▎         | 157/5050 [00:02<01:28, 55.12it/s]"
     ]
    },
    {
     "name": "stderr",
     "output_type": "stream",
     "text": [
      "\r",
      "MUSE:   3%|▎         | 163/5050 [00:02<01:28, 54.96it/s]"
     ]
    },
    {
     "name": "stderr",
     "output_type": "stream",
     "text": [
      "\r",
      "MUSE:   3%|▎         | 169/5050 [00:02<01:31, 53.19it/s]"
     ]
    },
    {
     "name": "stderr",
     "output_type": "stream",
     "text": [
      "\r",
      "MUSE:   3%|▎         | 175/5050 [00:02<01:36, 50.67it/s]"
     ]
    },
    {
     "name": "stderr",
     "output_type": "stream",
     "text": [
      "\r",
      "MUSE:   4%|▎         | 181/5050 [00:02<01:33, 52.22it/s]"
     ]
    },
    {
     "name": "stderr",
     "output_type": "stream",
     "text": [
      "\r",
      "MUSE:   4%|▎         | 187/5050 [00:03<01:36, 50.44it/s]"
     ]
    },
    {
     "name": "stderr",
     "output_type": "stream",
     "text": [
      "\r",
      "MUSE:   4%|▍         | 193/5050 [00:03<01:42, 47.25it/s]"
     ]
    },
    {
     "name": "stderr",
     "output_type": "stream",
     "text": [
      "\r",
      "MUSE:   4%|▍         | 198/5050 [00:03<01:43, 47.00it/s]"
     ]
    },
    {
     "name": "stderr",
     "output_type": "stream",
     "text": [
      "\r",
      "MUSE:   4%|▍         | 203/5050 [00:03<01:53, 42.70it/s]"
     ]
    },
    {
     "name": "stderr",
     "output_type": "stream",
     "text": [
      "\r",
      "MUSE:   4%|▍         | 211/5050 [00:03<01:34, 51.20it/s]"
     ]
    },
    {
     "name": "stderr",
     "output_type": "stream",
     "text": [
      "\r",
      "MUSE:   4%|▍         | 217/5050 [00:03<01:32, 52.31it/s]"
     ]
    },
    {
     "name": "stderr",
     "output_type": "stream",
     "text": [
      "\r",
      "MUSE:   4%|▍         | 225/5050 [00:03<01:23, 57.95it/s]"
     ]
    },
    {
     "name": "stderr",
     "output_type": "stream",
     "text": [
      "\r",
      "MUSE:   5%|▍         | 231/5050 [00:03<01:22, 58.30it/s]"
     ]
    },
    {
     "name": "stderr",
     "output_type": "stream",
     "text": [
      "\r",
      "MUSE:   5%|▍         | 238/5050 [00:03<01:18, 61.07it/s]"
     ]
    },
    {
     "name": "stderr",
     "output_type": "stream",
     "text": [
      "\r",
      "MUSE:   5%|▍         | 246/5050 [00:04<01:13, 65.30it/s]"
     ]
    },
    {
     "name": "stderr",
     "output_type": "stream",
     "text": [
      "\r",
      "MUSE:   5%|▌         | 253/5050 [00:04<01:13, 65.51it/s]"
     ]
    },
    {
     "name": "stderr",
     "output_type": "stream",
     "text": [
      "\r",
      "MUSE:   5%|▌         | 260/5050 [00:04<01:13, 64.80it/s]"
     ]
    },
    {
     "name": "stderr",
     "output_type": "stream",
     "text": [
      "\r",
      "MUSE:   5%|▌         | 267/5050 [00:04<01:13, 64.90it/s]"
     ]
    },
    {
     "name": "stderr",
     "output_type": "stream",
     "text": [
      "\r",
      "MUSE:   5%|▌         | 275/5050 [00:04<01:12, 66.11it/s]"
     ]
    },
    {
     "name": "stderr",
     "output_type": "stream",
     "text": [
      "\r",
      "MUSE:   6%|▌         | 284/5050 [00:04<01:06, 71.40it/s]"
     ]
    },
    {
     "name": "stderr",
     "output_type": "stream",
     "text": [
      "\r",
      "MUSE:   6%|▌         | 292/5050 [00:04<01:09, 68.62it/s]"
     ]
    },
    {
     "name": "stderr",
     "output_type": "stream",
     "text": [
      "\r",
      "MUSE:   6%|▌         | 299/5050 [00:04<01:09, 67.89it/s]"
     ]
    },
    {
     "name": "stderr",
     "output_type": "stream",
     "text": [
      "\r",
      "MUSE:   6%|▌         | 306/5050 [00:05<01:14, 63.94it/s]"
     ]
    },
    {
     "name": "stderr",
     "output_type": "stream",
     "text": [
      "\r",
      "MUSE:   6%|▋         | 321/5050 [00:05<00:54, 86.87it/s]"
     ]
    },
    {
     "name": "stderr",
     "output_type": "stream",
     "text": [
      "\r",
      "MUSE:   7%|▋         | 330/5050 [00:05<00:54, 86.13it/s]"
     ]
    },
    {
     "name": "stderr",
     "output_type": "stream",
     "text": [
      "\r",
      "MUSE:   7%|▋         | 345/5050 [00:05<00:45, 103.24it/s]"
     ]
    },
    {
     "name": "stderr",
     "output_type": "stream",
     "text": [
      "\r",
      "MUSE:   7%|▋         | 359/5050 [00:05<00:42, 111.03it/s]"
     ]
    },
    {
     "name": "stderr",
     "output_type": "stream",
     "text": [
      "\r",
      "MUSE:   8%|▊         | 379/5050 [00:05<00:34, 134.22it/s]"
     ]
    },
    {
     "name": "stderr",
     "output_type": "stream",
     "text": [
      "\r",
      "MUSE:   8%|▊         | 396/5050 [00:05<00:32, 144.01it/s]"
     ]
    },
    {
     "name": "stderr",
     "output_type": "stream",
     "text": [
      "\r",
      "MUSE:   8%|▊         | 411/5050 [00:05<00:42, 109.22it/s]"
     ]
    },
    {
     "name": "stderr",
     "output_type": "stream",
     "text": [
      "\r",
      "MUSE:   8%|▊         | 424/5050 [00:05<00:40, 114.06it/s]"
     ]
    },
    {
     "name": "stderr",
     "output_type": "stream",
     "text": [
      "\r",
      "MUSE:   9%|▊         | 439/5050 [00:06<00:37, 122.34it/s]"
     ]
    },
    {
     "name": "stderr",
     "output_type": "stream",
     "text": [
      "\r",
      "MUSE:   9%|▉         | 453/5050 [00:06<00:36, 125.42it/s]"
     ]
    },
    {
     "name": "stderr",
     "output_type": "stream",
     "text": [
      "\r",
      "MUSE:   9%|▉         | 467/5050 [00:06<00:36, 124.71it/s]"
     ]
    },
    {
     "name": "stderr",
     "output_type": "stream",
     "text": [
      "\r",
      "MUSE:  10%|▉         | 480/5050 [00:06<00:38, 119.72it/s]"
     ]
    },
    {
     "name": "stderr",
     "output_type": "stream",
     "text": [
      "\r",
      "MUSE:  10%|▉         | 494/5050 [00:06<00:36, 124.24it/s]"
     ]
    },
    {
     "name": "stderr",
     "output_type": "stream",
     "text": [
      "\r",
      "MUSE:  10%|█         | 507/5050 [00:06<00:40, 113.53it/s]"
     ]
    },
    {
     "name": "stderr",
     "output_type": "stream",
     "text": [
      "\r",
      "MUSE:  10%|█         | 525/5050 [00:06<00:34, 130.10it/s]"
     ]
    },
    {
     "name": "stderr",
     "output_type": "stream",
     "text": [
      "\r",
      "MUSE:  11%|█         | 543/5050 [00:06<00:33, 136.28it/s]"
     ]
    },
    {
     "name": "stderr",
     "output_type": "stream",
     "text": [
      "\r",
      "MUSE:  11%|█         | 559/5050 [00:06<00:32, 138.46it/s]"
     ]
    },
    {
     "name": "stderr",
     "output_type": "stream",
     "text": [
      "\r",
      "MUSE:  11%|█▏        | 577/5050 [00:07<00:29, 149.11it/s]"
     ]
    },
    {
     "name": "stderr",
     "output_type": "stream",
     "text": [
      "\r",
      "MUSE:  12%|█▏        | 593/5050 [00:07<00:30, 144.57it/s]"
     ]
    },
    {
     "name": "stderr",
     "output_type": "stream",
     "text": [
      "\r",
      "MUSE:  12%|█▏        | 608/5050 [00:07<00:32, 136.71it/s]"
     ]
    },
    {
     "name": "stderr",
     "output_type": "stream",
     "text": [
      "\r",
      "MUSE:  12%|█▏        | 622/5050 [00:07<00:32, 136.88it/s]"
     ]
    },
    {
     "name": "stderr",
     "output_type": "stream",
     "text": [
      "\r",
      "MUSE:  13%|█▎        | 638/5050 [00:07<00:30, 143.22it/s]"
     ]
    },
    {
     "name": "stderr",
     "output_type": "stream",
     "text": [
      "\r",
      "MUSE:  13%|█▎        | 653/5050 [00:07<00:30, 143.37it/s]"
     ]
    },
    {
     "name": "stderr",
     "output_type": "stream",
     "text": [
      "\r",
      "MUSE:  13%|█▎        | 668/5050 [00:07<00:30, 145.12it/s]"
     ]
    },
    {
     "name": "stderr",
     "output_type": "stream",
     "text": [
      "\r",
      "MUSE:  14%|█▎        | 690/5050 [00:07<00:26, 165.56it/s]"
     ]
    },
    {
     "name": "stderr",
     "output_type": "stream",
     "text": [
      "\r",
      "MUSE:  14%|█▍        | 707/5050 [00:07<00:26, 166.82it/s]"
     ]
    },
    {
     "name": "stderr",
     "output_type": "stream",
     "text": [
      "\r",
      "MUSE:  14%|█▍        | 724/5050 [00:08<00:29, 146.53it/s]"
     ]
    },
    {
     "name": "stderr",
     "output_type": "stream",
     "text": [
      "\r",
      "MUSE:  15%|█▍        | 741/5050 [00:08<00:28, 150.40it/s]"
     ]
    },
    {
     "name": "stderr",
     "output_type": "stream",
     "text": [
      "\r",
      "MUSE:  15%|█▌        | 760/5050 [00:08<00:26, 160.97it/s]"
     ]
    },
    {
     "name": "stderr",
     "output_type": "stream",
     "text": [
      "\r",
      "MUSE:  15%|█▌        | 777/5050 [00:08<00:26, 163.27it/s]"
     ]
    },
    {
     "name": "stderr",
     "output_type": "stream",
     "text": [
      "\r",
      "MUSE:  16%|█▌        | 799/5050 [00:08<00:24, 175.89it/s]"
     ]
    },
    {
     "name": "stderr",
     "output_type": "stream",
     "text": [
      "\r",
      "MUSE:  16%|█▌        | 817/5050 [00:08<00:26, 161.52it/s]"
     ]
    },
    {
     "name": "stderr",
     "output_type": "stream",
     "text": [
      "\r",
      "MUSE:  17%|█▋        | 840/5050 [00:08<00:23, 179.82it/s]"
     ]
    },
    {
     "name": "stderr",
     "output_type": "stream",
     "text": [
      "\r",
      "MUSE:  17%|█▋        | 862/5050 [00:08<00:22, 188.24it/s]"
     ]
    },
    {
     "name": "stderr",
     "output_type": "stream",
     "text": [
      "\r",
      "MUSE:  18%|█▊        | 885/5050 [00:08<00:20, 198.63it/s]"
     ]
    },
    {
     "name": "stderr",
     "output_type": "stream",
     "text": [
      "\r",
      "MUSE:  18%|█▊        | 906/5050 [00:09<00:21, 195.71it/s]"
     ]
    },
    {
     "name": "stderr",
     "output_type": "stream",
     "text": [
      "\r",
      "MUSE:  18%|█▊        | 930/5050 [00:09<00:19, 208.04it/s]"
     ]
    },
    {
     "name": "stderr",
     "output_type": "stream",
     "text": [
      "\r",
      "MUSE:  19%|█▉        | 975/5050 [00:09<00:14, 277.71it/s]"
     ]
    },
    {
     "name": "stderr",
     "output_type": "stream",
     "text": [
      "\r",
      "MUSE: 100%|██████████| 5050/5050 [00:09<00:00, 11514.60it/s]"
     ]
    },
    {
     "name": "stderr",
     "output_type": "stream",
     "text": [
      "\r",
      "MUSE: 100%|██████████| 5050/5050 [00:09<00:00, 539.79it/s]  "
     ]
    },
    {
     "name": "stderr",
     "output_type": "stream",
     "text": [
      "\n"
     ]
    },
    {
     "name": "stderr",
     "output_type": "stream",
     "text": [
      "\r",
      "get_H:   0%|          | 0/70 [00:00<?, ?it/s]"
     ]
    },
    {
     "name": "stderr",
     "output_type": "stream",
     "text": [
      "\r",
      "get_H:  13%|█▎        | 9/70 [00:00<00:00, 69.53it/s]"
     ]
    },
    {
     "name": "stderr",
     "output_type": "stream",
     "text": [
      "\r",
      "get_H:  23%|██▎       | 16/70 [00:00<00:01, 42.85it/s]"
     ]
    },
    {
     "name": "stderr",
     "output_type": "stream",
     "text": [
      "\r",
      "get_H:  41%|████▏     | 29/70 [00:00<00:00, 63.97it/s]"
     ]
    },
    {
     "name": "stderr",
     "output_type": "stream",
     "text": [
      "\r",
      "get_H:  53%|█████▎    | 37/70 [00:00<00:00, 67.86it/s]"
     ]
    },
    {
     "name": "stderr",
     "output_type": "stream",
     "text": [
      "\r",
      "get_H:  64%|██████▍   | 45/70 [00:00<00:00, 71.13it/s]"
     ]
    },
    {
     "name": "stderr",
     "output_type": "stream",
     "text": [
      "\r",
      "get_H:  79%|███████▊  | 55/70 [00:00<00:00, 76.93it/s]"
     ]
    },
    {
     "name": "stderr",
     "output_type": "stream",
     "text": [
      "\r",
      "get_H:  91%|█████████▏| 64/70 [00:00<00:00, 69.76it/s]"
     ]
    },
    {
     "name": "stderr",
     "output_type": "stream",
     "text": [
      "\r",
      "get_H: 100%|██████████| 70/70 [00:00<00:00, 70.64it/s]"
     ]
    },
    {
     "name": "stderr",
     "output_type": "stream",
     "text": [
      "\n"
     ]
    }
   ],
   "source": [
    "θ_start = dict(μ=[0.5, 0.5], σ=0)\n",
    "result = prob.solve(θ_start=θ_start, progress=True)"
   ]
  },
  {
   "cell_type": "markdown",
   "id": "3a70bf7a",
   "metadata": {},
   "source": [
    "When there are multiple parameters, the starting guess should be specified as as a dictionary, as above.\n",
    "\n",
    "The parameter estimate is returned as a dictionary,"
   ]
  },
  {
   "cell_type": "code",
   "execution_count": 6,
   "id": "62917fc2",
   "metadata": {
    "execution": {
     "iopub.execute_input": "2022-06-07T19:37:04.312243Z",
     "iopub.status.busy": "2022-06-07T19:37:04.311445Z",
     "iopub.status.idle": "2022-06-07T19:37:04.358958Z",
     "shell.execute_reply": "2022-06-07T19:37:04.358365Z"
    }
   },
   "outputs": [
    {
     "data": {
      "text/plain": [
       "{'μ': array([0.40205548, 0.38608271]), 'σ': array(0.94459269)}"
      ]
     },
     "execution_count": 6,
     "metadata": {},
     "output_type": "execute_result"
    }
   ],
   "source": [
    "result.θ"
   ]
  },
  {
   "cell_type": "markdown",
   "id": "cf359124",
   "metadata": {},
   "source": [
    " and the covariance as matrix, with parameters concatenated in the order they appear in the model (or in the order specified in `params`, if that was used):"
   ]
  },
  {
   "cell_type": "code",
   "execution_count": 7,
   "id": "5f2b3e82",
   "metadata": {
    "execution": {
     "iopub.execute_input": "2022-06-07T19:37:04.362573Z",
     "iopub.status.busy": "2022-06-07T19:37:04.361864Z",
     "iopub.status.idle": "2022-06-07T19:37:04.408478Z",
     "shell.execute_reply": "2022-06-07T19:37:04.407752Z"
    }
   },
   "outputs": [
    {
     "data": {
      "text/plain": [
       "array([[ 0.02853583,  0.00510861, -0.00817584],\n",
       "       [ 0.00510861,  0.02903142, -0.00493029],\n",
       "       [-0.00817584, -0.00493029,  0.0140522 ]])"
      ]
     },
     "execution_count": 7,
     "metadata": {},
     "output_type": "execute_result"
    }
   ],
   "source": [
    "result.Σ"
   ]
  },
  {
   "cell_type": "markdown",
   "id": "47a8eda6",
   "metadata": {},
   "source": [
    "The `result.ravel` and `result.unravel` functions can be used to convert between dictionary and vector representations of the parameters. For example, to compute the standard deviation for each parameter (the square root of the diagonal of the covariance):"
   ]
  },
  {
   "cell_type": "code",
   "execution_count": 8,
   "id": "64260703",
   "metadata": {
    "execution": {
     "iopub.execute_input": "2022-06-07T19:37:04.412076Z",
     "iopub.status.busy": "2022-06-07T19:37:04.411806Z",
     "iopub.status.idle": "2022-06-07T19:37:04.442300Z",
     "shell.execute_reply": "2022-06-07T19:37:04.441666Z"
    }
   },
   "outputs": [
    {
     "data": {
      "text/plain": [
       "{'μ': array([0.16892551, 0.1703861 ]), 'σ': array(0.11854197)}"
      ]
     },
     "execution_count": 8,
     "metadata": {},
     "output_type": "execute_result"
    }
   ],
   "source": [
    "result.unravel(np.sqrt(np.diag(result.Σ)))"
   ]
  },
  {
   "cell_type": "markdown",
   "id": "f90e155f",
   "metadata": {},
   "source": [
    "or to convert the mean parameters to a vector:"
   ]
  },
  {
   "cell_type": "code",
   "execution_count": 9,
   "id": "d907e956",
   "metadata": {
    "execution": {
     "iopub.execute_input": "2022-06-07T19:37:04.445505Z",
     "iopub.status.busy": "2022-06-07T19:37:04.445237Z",
     "iopub.status.idle": "2022-06-07T19:37:04.467831Z",
     "shell.execute_reply": "2022-06-07T19:37:04.467329Z"
    }
   },
   "outputs": [
    {
     "data": {
      "text/plain": [
       "array([0.40205548, 0.38608271, 0.94459269])"
      ]
     },
     "execution_count": 9,
     "metadata": {},
     "output_type": "execute_result"
    }
   ],
   "source": [
    "result.ravel(result.θ)"
   ]
  },
  {
   "cell_type": "markdown",
   "id": "d56f2d03",
   "metadata": {},
   "source": [
    "## Jax"
   ]
  },
  {
   "cell_type": "markdown",
   "id": "8368c518",
   "metadata": {},
   "source": [
    "We can also use [Jax](https://jax.readthedocs.io/) to define the problem. In this case we will write out function to generate forward samples and to compute the posterior, and Jax will provide necessary gradients for free. To use Jax, load the necessary packages:"
   ]
  },
  {
   "cell_type": "code",
   "execution_count": 10,
   "id": "8686c545",
   "metadata": {
    "execution": {
     "iopub.execute_input": "2022-06-07T19:37:04.472235Z",
     "iopub.status.busy": "2022-06-07T19:37:04.471761Z",
     "iopub.status.idle": "2022-06-07T19:37:04.783639Z",
     "shell.execute_reply": "2022-06-07T19:37:04.782486Z"
    }
   },
   "outputs": [],
   "source": [
    "from functools import partial\n",
    "import jax\n",
    "import jax.numpy as jnp\n",
    "from muse_inference.jax import JittableJaxMuseProblem, JaxMuseProblem"
   ]
  },
  {
   "cell_type": "markdown",
   "id": "cee4ed21",
   "metadata": {},
   "source": [
    "Let's implement the noisy funnel problem from the [Example](example.html) page. To do so, extend either `JaxMuseProblem`, or, if your code is able to be JIT compiled by Jax, extend `JittableJaxMuseProblem` and decorate the functions with `jax.jit`:"
   ]
  },
  {
   "cell_type": "code",
   "execution_count": 11,
   "id": "a6a6a7bf",
   "metadata": {
    "execution": {
     "iopub.execute_input": "2022-06-07T19:37:04.790282Z",
     "iopub.status.busy": "2022-06-07T19:37:04.789108Z",
     "iopub.status.idle": "2022-06-07T19:37:04.819809Z",
     "shell.execute_reply": "2022-06-07T19:37:04.818904Z"
    }
   },
   "outputs": [],
   "source": [
    "class JaxFunnelMuseProblem(JittableJaxMuseProblem):\n",
    "\n",
    "    def __init__(self, N):\n",
    "        super().__init__()\n",
    "        self.N = N\n",
    "\n",
    "    @partial(jax.jit, static_argnums=0)\n",
    "    def sample_x_z(self, key, θ):\n",
    "        keys = jax.random.split(key, 2)\n",
    "        z = jax.random.normal(keys[0], (self.N,)) * jnp.exp(θ/2)\n",
    "        x = z + jax.random.normal(keys[1], (self.N,))\n",
    "        return (x, z)\n",
    "\n",
    "    @partial(jax.jit, static_argnums=0)\n",
    "    def logLike(self, x, z, θ):\n",
    "        return -(jnp.sum((x - z)**2) + jnp.sum(z**2) / jnp.exp(θ) + 512*θ) / 2\n",
    "\n",
    "    @partial(jax.jit, static_argnums=0)\n",
    "    def logPrior(self, θ):\n",
    "        return -θ**2 / (2*3**2)"
   ]
  },
  {
   "cell_type": "markdown",
   "id": "91eb1031",
   "metadata": {},
   "source": [
    "Now generate some simulated data, which we set into `prob.x`. Note also the use of `PRNGKey` (rather than `RandomState` for PyMC/Numpy) for random number generation. "
   ]
  },
  {
   "cell_type": "code",
   "execution_count": 12,
   "id": "37c435f9",
   "metadata": {
    "execution": {
     "iopub.execute_input": "2022-06-07T19:37:04.823832Z",
     "iopub.status.busy": "2022-06-07T19:37:04.823202Z",
     "iopub.status.idle": "2022-06-07T19:37:05.353626Z",
     "shell.execute_reply": "2022-06-07T19:37:05.352252Z"
    }
   },
   "outputs": [
    {
     "name": "stderr",
     "output_type": "stream",
     "text": [
      "WARNING:absl:No GPU/TPU found, falling back to CPU. (Set TF_CPP_MIN_LOG_LEVEL=0 and rerun for more info.)\n"
     ]
    }
   ],
   "source": [
    "prob = JaxFunnelMuseProblem(10000)\n",
    "key = jax.random.PRNGKey(0)\n",
    "(x, z) = prob.sample_x_z(key, 0)\n",
    "prob.x = x"
   ]
  },
  {
   "cell_type": "markdown",
   "id": "10d3ca8d",
   "metadata": {},
   "source": [
    "And finally, run MUSE:"
   ]
  },
  {
   "cell_type": "code",
   "execution_count": 13,
   "id": "e7595628",
   "metadata": {
    "execution": {
     "iopub.execute_input": "2022-06-07T19:37:05.359801Z",
     "iopub.status.busy": "2022-06-07T19:37:05.359492Z",
     "iopub.status.idle": "2022-06-07T19:37:12.566369Z",
     "shell.execute_reply": "2022-06-07T19:37:12.565099Z"
    },
    "nbsphinx": "hidden",
    "tags": []
   },
   "outputs": [
    {
     "data": {
      "text/plain": [
       "<muse_inference.muse_inference.MuseResult at 0x7f97f5bcaac0>"
      ]
     },
     "execution_count": 13,
     "metadata": {},
     "output_type": "execute_result"
    }
   ],
   "source": [
    "prob.solve(θ_start=0., rng=jax.random.PRNGKey(1)) # warmup"
   ]
  },
  {
   "cell_type": "code",
   "execution_count": 14,
   "id": "cd0063dd",
   "metadata": {
    "execution": {
     "iopub.execute_input": "2022-06-07T19:37:12.570905Z",
     "iopub.status.busy": "2022-06-07T19:37:12.570167Z",
     "iopub.status.idle": "2022-06-07T19:37:13.448088Z",
     "shell.execute_reply": "2022-06-07T19:37:13.447436Z"
    }
   },
   "outputs": [
    {
     "name": "stderr",
     "output_type": "stream",
     "text": [
      "\r",
      "MUSE:   0%|          | 0/5050 [00:00<?, ?it/s]"
     ]
    },
    {
     "name": "stderr",
     "output_type": "stream",
     "text": [
      "\r",
      "MUSE:   2%|▏         | 102/5050 [00:00<00:06, 797.11it/s]"
     ]
    },
    {
     "name": "stderr",
     "output_type": "stream",
     "text": [
      "\r",
      "MUSE:   4%|▍         | 203/5050 [00:00<00:07, 636.47it/s]"
     ]
    },
    {
     "name": "stderr",
     "output_type": "stream",
     "text": [
      "\r",
      "MUSE:   6%|▌         | 304/5050 [00:00<00:07, 663.82it/s]"
     ]
    },
    {
     "name": "stderr",
     "output_type": "stream",
     "text": [
      "\r",
      "MUSE:   8%|▊         | 390/5050 [00:00<00:06, 719.77it/s]"
     ]
    },
    {
     "name": "stderr",
     "output_type": "stream",
     "text": [
      "\r",
      "MUSE: 100%|██████████| 5050/5050 [00:00<00:00, 13842.70it/s]"
     ]
    },
    {
     "name": "stderr",
     "output_type": "stream",
     "text": [
      "\r",
      "MUSE: 100%|██████████| 5050/5050 [00:00<00:00, 7532.64it/s] "
     ]
    },
    {
     "name": "stderr",
     "output_type": "stream",
     "text": [
      "\n"
     ]
    },
    {
     "name": "stderr",
     "output_type": "stream",
     "text": [
      "\r",
      "get_H:   0%|          | 0/30 [00:00<?, ?it/s]"
     ]
    },
    {
     "name": "stderr",
     "output_type": "stream",
     "text": [
      "\r",
      "get_H: 100%|██████████| 30/30 [00:00<00:00, 347.15it/s]"
     ]
    },
    {
     "name": "stderr",
     "output_type": "stream",
     "text": [
      "\n"
     ]
    }
   ],
   "source": [
    "result = prob.solve(θ_start=0., rng=jax.random.PRNGKey(1), progress=True)"
   ]
  },
  {
   "cell_type": "markdown",
   "id": "6f3d1bf3",
   "metadata": {},
   "source": [
    "Note that the solution here is obtained around 10X faster that the PyMC version of this in the [Example](example.html) page (the cloud machines which build these docs don't always achieve the 10X, but you see this if you run these examples locally). The Jax interface has much lower overhead, which will be noticeable for very fast posteriors like the one above. "
   ]
  },
  {
   "cell_type": "markdown",
   "id": "cf56f020",
   "metadata": {},
   "source": [
    "One convenient aspect of using Jax is that the parameters, `θ`, and latent space, `z`, can be any [pytree](https://jax.readthedocs.io/en/latest/pytrees.html), ie tuples, dictionaries, nested combinations of them, etc... (there is no requirement on the data format of the `x` variable). To demonstrate, consider a problem which is just two copies of the noisy funnel problem:"
   ]
  },
  {
   "cell_type": "code",
   "execution_count": 15,
   "id": "cb8ac723",
   "metadata": {
    "execution": {
     "iopub.execute_input": "2022-06-07T19:37:13.452395Z",
     "iopub.status.busy": "2022-06-07T19:37:13.451603Z",
     "iopub.status.idle": "2022-06-07T19:37:13.486576Z",
     "shell.execute_reply": "2022-06-07T19:37:13.485762Z"
    }
   },
   "outputs": [],
   "source": [
    "class JaxPyTreeFunnelMuseProblem(JittableJaxMuseProblem):\n",
    "\n",
    "    def __init__(self, N):\n",
    "        super().__init__()\n",
    "        self.N = N\n",
    "\n",
    "    @partial(jax.jit, static_argnums=0)\n",
    "    def sample_x_z(self, key, θ):\n",
    "        (θ1, θ2) = (θ[\"θ1\"], θ[\"θ2\"])\n",
    "        keys = jax.random.split(key, 4)\n",
    "        z1 = jax.random.normal(keys[0], (self.N,)) * jnp.exp(θ1/2)\n",
    "        z2 = jax.random.normal(keys[1], (self.N,)) * jnp.exp(θ2/2)        \n",
    "        x1 = z1 + jax.random.normal(keys[2], (self.N,))\n",
    "        x2 = z2 + jax.random.normal(keys[3], (self.N,))        \n",
    "        return ({\"x1\":x1, \"x2\":x2}, {\"z1\":z1, \"z2\":z2})\n",
    "\n",
    "    @partial(jax.jit, static_argnums=0)\n",
    "    def logLike(self, x, z, θ):\n",
    "        return (\n",
    "            -(jnp.sum((x[\"x1\"] - z[\"z1\"])**2) + jnp.sum(z[\"z1\"]**2) / jnp.exp(θ[\"θ1\"]) + 512*θ[\"θ1\"]) / 2\n",
    "            -(jnp.sum((x[\"x2\"] - z[\"z2\"])**2) + jnp.sum(z[\"z2\"]**2) / jnp.exp(θ[\"θ2\"]) + 512*θ[\"θ2\"]) / 2\n",
    "        )\n",
    "\n",
    "    @partial(jax.jit, static_argnums=0)\n",
    "    def logPrior(self, θ):\n",
    "        return - θ[\"θ1\"]**2 / (2*3**2) - θ[\"θ2\"]**2 / (2*3**2)"
   ]
  },
  {
   "cell_type": "markdown",
   "id": "867df6dc",
   "metadata": {},
   "source": [
    "Here, `x`, `θ`, and `z` are all dictionaries. We generate the problem as usual, passing in parameters as dictionaries,"
   ]
  },
  {
   "cell_type": "code",
   "execution_count": 16,
   "id": "758ff69e",
   "metadata": {
    "execution": {
     "iopub.execute_input": "2022-06-07T19:37:13.491307Z",
     "iopub.status.busy": "2022-06-07T19:37:13.490730Z",
     "iopub.status.idle": "2022-06-07T19:37:13.516817Z",
     "shell.execute_reply": "2022-06-07T19:37:13.516105Z"
    }
   },
   "outputs": [],
   "source": [
    "θ_true = dict(θ1=-1., θ2=2.)\n",
    "θ_start = dict(θ1=0., θ2=0.)"
   ]
  },
  {
   "cell_type": "code",
   "execution_count": 17,
   "id": "27fc55c9",
   "metadata": {
    "execution": {
     "iopub.execute_input": "2022-06-07T19:37:13.520571Z",
     "iopub.status.busy": "2022-06-07T19:37:13.520021Z",
     "iopub.status.idle": "2022-06-07T19:37:14.284114Z",
     "shell.execute_reply": "2022-06-07T19:37:14.283401Z"
    }
   },
   "outputs": [],
   "source": [
    "prob = JaxPyTreeFunnelMuseProblem(10000)\n",
    "key = jax.random.PRNGKey(0)\n",
    "(x, z) = prob.sample_x_z(key, θ_true)\n",
    "prob.x = x"
   ]
  },
  {
   "cell_type": "markdown",
   "id": "0f70a259",
   "metadata": {},
   "source": [
    "and run MUSE:"
   ]
  },
  {
   "cell_type": "code",
   "execution_count": 18,
   "id": "c5cdfa72",
   "metadata": {
    "execution": {
     "iopub.execute_input": "2022-06-07T19:37:14.288526Z",
     "iopub.status.busy": "2022-06-07T19:37:14.288044Z",
     "iopub.status.idle": "2022-06-07T19:37:32.719902Z",
     "shell.execute_reply": "2022-06-07T19:37:32.719187Z"
    },
    "nbsphinx": "hidden",
    "tags": []
   },
   "outputs": [
    {
     "data": {
      "text/plain": [
       "<muse_inference.muse_inference.MuseResult at 0x7f97f3ed8a90>"
      ]
     },
     "execution_count": 18,
     "metadata": {},
     "output_type": "execute_result"
    }
   ],
   "source": [
    "prob.solve(θ_start=θ_start, rng=jax.random.PRNGKey(0)) # warmup"
   ]
  },
  {
   "cell_type": "code",
   "execution_count": 19,
   "id": "981216a7",
   "metadata": {
    "execution": {
     "iopub.execute_input": "2022-06-07T19:37:32.723826Z",
     "iopub.status.busy": "2022-06-07T19:37:32.723390Z",
     "iopub.status.idle": "2022-06-07T19:37:44.089301Z",
     "shell.execute_reply": "2022-06-07T19:37:44.088112Z"
    }
   },
   "outputs": [
    {
     "name": "stderr",
     "output_type": "stream",
     "text": [
      "\r",
      "MUSE:   0%|          | 0/5050 [00:00<?, ?it/s]"
     ]
    },
    {
     "name": "stderr",
     "output_type": "stream",
     "text": [
      "\r",
      "MUSE:   2%|▏         | 102/5050 [00:00<00:12, 406.19it/s]"
     ]
    },
    {
     "name": "stderr",
     "output_type": "stream",
     "text": [
      "\r",
      "MUSE:   3%|▎         | 146/5050 [00:00<00:11, 415.33it/s]"
     ]
    },
    {
     "name": "stderr",
     "output_type": "stream",
     "text": [
      "\r",
      "MUSE:   4%|▍         | 190/5050 [00:00<00:11, 421.00it/s]"
     ]
    },
    {
     "name": "stderr",
     "output_type": "stream",
     "text": [
      "\r",
      "MUSE:   5%|▍         | 233/5050 [00:00<00:18, 265.07it/s]"
     ]
    },
    {
     "name": "stderr",
     "output_type": "stream",
     "text": [
      "\r",
      "MUSE:   5%|▌         | 265/5050 [00:00<00:17, 269.91it/s]"
     ]
    },
    {
     "name": "stderr",
     "output_type": "stream",
     "text": [
      "\r",
      "MUSE:   6%|▌         | 296/5050 [00:00<00:17, 273.57it/s]"
     ]
    },
    {
     "name": "stderr",
     "output_type": "stream",
     "text": [
      "\r",
      "MUSE:   6%|▋         | 326/5050 [00:01<00:23, 200.10it/s]"
     ]
    },
    {
     "name": "stderr",
     "output_type": "stream",
     "text": [
      "\r",
      "MUSE:   7%|▋         | 356/5050 [00:01<00:21, 218.84it/s]"
     ]
    },
    {
     "name": "stderr",
     "output_type": "stream",
     "text": [
      "\r",
      "MUSE:   8%|▊         | 387/5050 [00:01<00:19, 238.78it/s]"
     ]
    },
    {
     "name": "stderr",
     "output_type": "stream",
     "text": [
      "\r",
      "MUSE:   8%|▊         | 415/5050 [00:01<00:25, 181.74it/s]"
     ]
    },
    {
     "name": "stderr",
     "output_type": "stream",
     "text": [
      "\r",
      "MUSE:   9%|▉         | 445/5050 [00:01<00:22, 204.13it/s]"
     ]
    },
    {
     "name": "stderr",
     "output_type": "stream",
     "text": [
      "\r",
      "MUSE:   9%|▉         | 477/5050 [00:01<00:20, 228.57it/s]"
     ]
    },
    {
     "name": "stderr",
     "output_type": "stream",
     "text": [
      "\r",
      "MUSE:  10%|█         | 506/5050 [00:02<00:25, 176.98it/s]"
     ]
    },
    {
     "name": "stderr",
     "output_type": "stream",
     "text": [
      "\r",
      "MUSE:  11%|█         | 538/5050 [00:02<00:21, 205.14it/s]"
     ]
    },
    {
     "name": "stderr",
     "output_type": "stream",
     "text": [
      "\r",
      "MUSE:  11%|█▏        | 569/5050 [00:02<00:19, 228.28it/s]"
     ]
    },
    {
     "name": "stderr",
     "output_type": "stream",
     "text": [
      "\r",
      "MUSE:  12%|█▏        | 600/5050 [00:02<00:17, 247.61it/s]"
     ]
    },
    {
     "name": "stderr",
     "output_type": "stream",
     "text": [
      "\r",
      "MUSE:  12%|█▏        | 628/5050 [00:02<00:24, 183.33it/s]"
     ]
    },
    {
     "name": "stderr",
     "output_type": "stream",
     "text": [
      "\r",
      "MUSE:  13%|█▎        | 660/5050 [00:02<00:20, 211.21it/s]"
     ]
    },
    {
     "name": "stderr",
     "output_type": "stream",
     "text": [
      "\r",
      "MUSE:  14%|█▎        | 693/5050 [00:02<00:18, 237.26it/s]"
     ]
    },
    {
     "name": "stderr",
     "output_type": "stream",
     "text": [
      "\r",
      "MUSE:  14%|█▍        | 721/5050 [00:03<00:23, 180.98it/s]"
     ]
    },
    {
     "name": "stderr",
     "output_type": "stream",
     "text": [
      "\r",
      "MUSE:  15%|█▍        | 753/5050 [00:03<00:20, 208.87it/s]"
     ]
    },
    {
     "name": "stderr",
     "output_type": "stream",
     "text": [
      "\r",
      "MUSE:  16%|█▌        | 786/5050 [00:03<00:18, 234.51it/s]"
     ]
    },
    {
     "name": "stderr",
     "output_type": "stream",
     "text": [
      "\r",
      "MUSE:  16%|█▌        | 814/5050 [00:03<00:23, 182.37it/s]"
     ]
    },
    {
     "name": "stderr",
     "output_type": "stream",
     "text": [
      "\r",
      "MUSE:  17%|█▋        | 843/5050 [00:03<00:20, 204.29it/s]"
     ]
    },
    {
     "name": "stderr",
     "output_type": "stream",
     "text": [
      "\r",
      "MUSE:  17%|█▋        | 873/5050 [00:03<00:18, 225.67it/s]"
     ]
    },
    {
     "name": "stderr",
     "output_type": "stream",
     "text": [
      "\r",
      "MUSE:  18%|█▊        | 900/5050 [00:03<00:17, 235.17it/s]"
     ]
    },
    {
     "name": "stderr",
     "output_type": "stream",
     "text": [
      "\r",
      "MUSE:  18%|█▊        | 927/5050 [00:04<00:23, 172.71it/s]"
     ]
    },
    {
     "name": "stderr",
     "output_type": "stream",
     "text": [
      "\r",
      "MUSE:  19%|█▉        | 956/5050 [00:04<00:20, 194.99it/s]"
     ]
    },
    {
     "name": "stderr",
     "output_type": "stream",
     "text": [
      "\r",
      "MUSE:  20%|█▉        | 985/5050 [00:04<00:18, 215.95it/s]"
     ]
    },
    {
     "name": "stderr",
     "output_type": "stream",
     "text": [
      "\r",
      "MUSE:  20%|██        | 1011/5050 [00:04<00:23, 169.49it/s]"
     ]
    },
    {
     "name": "stderr",
     "output_type": "stream",
     "text": [
      "\r",
      "MUSE:  21%|██        | 1055/5050 [00:04<00:17, 224.84it/s]"
     ]
    },
    {
     "name": "stderr",
     "output_type": "stream",
     "text": [
      "\r",
      "MUSE:  22%|██▏       | 1100/5050 [00:04<00:14, 274.79it/s]"
     ]
    },
    {
     "name": "stderr",
     "output_type": "stream",
     "text": [
      "\r",
      "MUSE:  22%|██▏       | 1133/5050 [00:05<00:17, 220.94it/s]"
     ]
    },
    {
     "name": "stderr",
     "output_type": "stream",
     "text": [
      "\r",
      "MUSE:  24%|██▎       | 1189/5050 [00:05<00:13, 291.70it/s]"
     ]
    },
    {
     "name": "stderr",
     "output_type": "stream",
     "text": [
      "\r",
      "MUSE:  24%|██▍       | 1225/5050 [00:05<00:16, 238.41it/s]"
     ]
    },
    {
     "name": "stderr",
     "output_type": "stream",
     "text": [
      "\r",
      "MUSE:  25%|██▌       | 1273/5050 [00:05<00:13, 287.07it/s]"
     ]
    },
    {
     "name": "stderr",
     "output_type": "stream",
     "text": [
      "\r",
      "MUSE:  26%|██▌       | 1314/5050 [00:05<00:15, 235.57it/s]"
     ]
    },
    {
     "name": "stderr",
     "output_type": "stream",
     "text": [
      "\r",
      "MUSE:  27%|██▋       | 1365/5050 [00:05<00:12, 288.58it/s]"
     ]
    },
    {
     "name": "stderr",
     "output_type": "stream",
     "text": [
      "\r",
      "MUSE:  28%|██▊       | 1412/5050 [00:05<00:11, 327.61it/s]"
     ]
    },
    {
     "name": "stderr",
     "output_type": "stream",
     "text": [
      "\r",
      "MUSE:  29%|██▉       | 1452/5050 [00:06<00:13, 260.29it/s]"
     ]
    },
    {
     "name": "stderr",
     "output_type": "stream",
     "text": [
      "\r",
      "MUSE:  30%|██▉       | 1495/5050 [00:06<00:12, 294.52it/s]"
     ]
    },
    {
     "name": "stderr",
     "output_type": "stream",
     "text": [
      "\r",
      "MUSE:  30%|███       | 1531/5050 [00:06<00:14, 236.65it/s]"
     ]
    },
    {
     "name": "stderr",
     "output_type": "stream",
     "text": [
      "\r",
      "MUSE:  31%|███▏      | 1580/5050 [00:06<00:12, 286.42it/s]"
     ]
    },
    {
     "name": "stderr",
     "output_type": "stream",
     "text": [
      "\r",
      "MUSE:  32%|███▏      | 1617/5050 [00:06<00:14, 235.85it/s]"
     ]
    },
    {
     "name": "stderr",
     "output_type": "stream",
     "text": [
      "\r",
      "MUSE:  33%|███▎      | 1667/5050 [00:06<00:11, 287.29it/s]"
     ]
    },
    {
     "name": "stderr",
     "output_type": "stream",
     "text": [
      "\r",
      "MUSE:  34%|███▍      | 1712/5050 [00:07<00:10, 322.60it/s]"
     ]
    },
    {
     "name": "stderr",
     "output_type": "stream",
     "text": [
      "\r",
      "MUSE:  35%|███▍      | 1751/5050 [00:07<00:12, 256.94it/s]"
     ]
    },
    {
     "name": "stderr",
     "output_type": "stream",
     "text": [
      "\r",
      "MUSE:  36%|███▌      | 1800/5050 [00:07<00:10, 302.66it/s]"
     ]
    },
    {
     "name": "stderr",
     "output_type": "stream",
     "text": [
      "\r",
      "MUSE:  36%|███▋      | 1837/5050 [00:07<00:13, 237.57it/s]"
     ]
    },
    {
     "name": "stderr",
     "output_type": "stream",
     "text": [
      "\r",
      "MUSE:  37%|███▋      | 1873/5050 [00:07<00:12, 260.30it/s]"
     ]
    },
    {
     "name": "stderr",
     "output_type": "stream",
     "text": [
      "\r",
      "MUSE:  38%|███▊      | 1909/5050 [00:07<00:11, 281.35it/s]"
     ]
    },
    {
     "name": "stderr",
     "output_type": "stream",
     "text": [
      "\r",
      "MUSE:  38%|███▊      | 1942/5050 [00:08<00:14, 214.42it/s]"
     ]
    },
    {
     "name": "stderr",
     "output_type": "stream",
     "text": [
      "\r",
      "MUSE:  39%|███▉      | 1980/5050 [00:08<00:12, 246.76it/s]"
     ]
    },
    {
     "name": "stderr",
     "output_type": "stream",
     "text": [
      "\r",
      "MUSE:  40%|███▉      | 2017/5050 [00:08<00:11, 273.63it/s]"
     ]
    },
    {
     "name": "stderr",
     "output_type": "stream",
     "text": [
      "\r",
      "MUSE:  41%|████      | 2050/5050 [00:08<00:13, 219.45it/s]"
     ]
    },
    {
     "name": "stderr",
     "output_type": "stream",
     "text": [
      "\r",
      "MUSE:  42%|████▏     | 2106/5050 [00:08<00:10, 289.73it/s]"
     ]
    },
    {
     "name": "stderr",
     "output_type": "stream",
     "text": [
      "\r",
      "MUSE:  42%|████▏     | 2142/5050 [00:08<00:12, 234.90it/s]"
     ]
    },
    {
     "name": "stderr",
     "output_type": "stream",
     "text": [
      "\r",
      "MUSE:  44%|████▎     | 2203/5050 [00:08<00:09, 309.63it/s]"
     ]
    },
    {
     "name": "stderr",
     "output_type": "stream",
     "text": [
      "\r",
      "MUSE:  44%|████▍     | 2242/5050 [00:09<00:11, 247.70it/s]"
     ]
    },
    {
     "name": "stderr",
     "output_type": "stream",
     "text": [
      "\r",
      "MUSE:  45%|████▌     | 2292/5050 [00:09<00:09, 296.08it/s]"
     ]
    },
    {
     "name": "stderr",
     "output_type": "stream",
     "text": [
      "\r",
      "MUSE:  46%|████▌     | 2330/5050 [00:09<00:11, 239.07it/s]"
     ]
    },
    {
     "name": "stderr",
     "output_type": "stream",
     "text": [
      "\r",
      "MUSE:  47%|████▋     | 2368/5050 [00:09<00:10, 265.70it/s]"
     ]
    },
    {
     "name": "stderr",
     "output_type": "stream",
     "text": [
      "\r",
      "MUSE:  48%|████▊     | 2404/5050 [00:09<00:09, 284.17it/s]"
     ]
    },
    {
     "name": "stderr",
     "output_type": "stream",
     "text": [
      "\r",
      "MUSE:  48%|████▊     | 2438/5050 [00:09<00:11, 220.27it/s]"
     ]
    },
    {
     "name": "stderr",
     "output_type": "stream",
     "text": [
      "\r",
      "MUSE:  49%|████▉     | 2475/5050 [00:10<00:10, 249.36it/s]"
     ]
    },
    {
     "name": "stderr",
     "output_type": "stream",
     "text": [
      "\r",
      "MUSE:  50%|████▉     | 2513/5050 [00:10<00:09, 276.91it/s]"
     ]
    },
    {
     "name": "stderr",
     "output_type": "stream",
     "text": [
      "\r",
      "MUSE:  50%|█████     | 2546/5050 [00:10<00:11, 213.34it/s]"
     ]
    },
    {
     "name": "stderr",
     "output_type": "stream",
     "text": [
      "\r",
      "MUSE:  51%|█████     | 2582/5050 [00:10<00:10, 242.18it/s]"
     ]
    },
    {
     "name": "stderr",
     "output_type": "stream",
     "text": [
      "\r",
      "MUSE:  52%|█████▏    | 2618/5050 [00:10<00:09, 266.85it/s]"
     ]
    },
    {
     "name": "stderr",
     "output_type": "stream",
     "text": [
      "\r",
      "MUSE: 100%|██████████| 5050/5050 [00:10<00:00, 4954.05it/s]"
     ]
    },
    {
     "name": "stderr",
     "output_type": "stream",
     "text": [
      "\r",
      "MUSE: 100%|██████████| 5050/5050 [00:10<00:00, 466.69it/s] "
     ]
    },
    {
     "name": "stderr",
     "output_type": "stream",
     "text": [
      "\n"
     ]
    },
    {
     "name": "stderr",
     "output_type": "stream",
     "text": [
      "\r",
      "get_H:   0%|          | 0/50 [00:00<?, ?it/s]"
     ]
    },
    {
     "name": "stderr",
     "output_type": "stream",
     "text": [
      "\r",
      "get_H:  32%|███▏      | 16/50 [00:00<00:00, 150.77it/s]"
     ]
    },
    {
     "name": "stderr",
     "output_type": "stream",
     "text": [
      "\r",
      "get_H:  68%|██████▊   | 34/50 [00:00<00:00, 167.47it/s]"
     ]
    },
    {
     "name": "stderr",
     "output_type": "stream",
     "text": [
      "\r",
      "get_H: 100%|██████████| 50/50 [00:00<00:00, 157.05it/s]"
     ]
    },
    {
     "name": "stderr",
     "output_type": "stream",
     "text": [
      "\n"
     ]
    }
   ],
   "source": [
    "result = prob.solve(θ_start=θ_start, rng=jax.random.PRNGKey(0), progress=True)"
   ]
  },
  {
   "cell_type": "markdown",
   "id": "c0bd29ba",
   "metadata": {},
   "source": [
    "The result is returned as a pytree:"
   ]
  },
  {
   "cell_type": "code",
   "execution_count": 20,
   "id": "6c4dd74d",
   "metadata": {
    "execution": {
     "iopub.execute_input": "2022-06-07T19:37:44.093171Z",
     "iopub.status.busy": "2022-06-07T19:37:44.092880Z",
     "iopub.status.idle": "2022-06-07T19:37:44.122451Z",
     "shell.execute_reply": "2022-06-07T19:37:44.121672Z"
    }
   },
   "outputs": [
    {
     "data": {
      "text/plain": [
       "{'θ1': DeviceArray(-1.0020632, dtype=float32),\n",
       " 'θ2': DeviceArray(2.027134, dtype=float32)}"
      ]
     },
     "execution_count": 20,
     "metadata": {},
     "output_type": "execute_result"
    }
   ],
   "source": [
    "result.θ"
   ]
  },
  {
   "cell_type": "markdown",
   "id": "fa5f2aea",
   "metadata": {},
   "source": [
    "and the covariance as a matrix:"
   ]
  },
  {
   "cell_type": "code",
   "execution_count": 21,
   "id": "0c04a77c",
   "metadata": {
    "execution": {
     "iopub.execute_input": "2022-06-07T19:37:44.126150Z",
     "iopub.status.busy": "2022-06-07T19:37:44.125869Z",
     "iopub.status.idle": "2022-06-07T19:37:44.154845Z",
     "shell.execute_reply": "2022-06-07T19:37:44.154144Z"
    }
   },
   "outputs": [
    {
     "data": {
      "text/plain": [
       "array([[ 3.3823610e-03, -4.6946143e-06],\n",
       "       [-4.6946157e-06,  2.4767642e-04]], dtype=float32)"
      ]
     },
     "execution_count": 21,
     "metadata": {},
     "output_type": "execute_result"
    }
   ],
   "source": [
    "result.Σ"
   ]
  },
  {
   "cell_type": "markdown",
   "id": "c2cbd063",
   "metadata": {},
   "source": [
    "The `result.ravel` and `result.unravel` functions can be used to convert between pytree and vector representations of the parameters. For example, to compute the standard deviation for each parameter (the square root of the diagonal of the covariance):"
   ]
  },
  {
   "cell_type": "code",
   "execution_count": 22,
   "id": "a6ec7854",
   "metadata": {
    "execution": {
     "iopub.execute_input": "2022-06-07T19:37:44.159289Z",
     "iopub.status.busy": "2022-06-07T19:37:44.158748Z",
     "iopub.status.idle": "2022-06-07T19:37:44.191948Z",
     "shell.execute_reply": "2022-06-07T19:37:44.191263Z"
    }
   },
   "outputs": [
    {
     "data": {
      "text/plain": [
       "{'θ1': DeviceArray(0.05815807, dtype=float32),\n",
       " 'θ2': DeviceArray(0.01573774, dtype=float32)}"
      ]
     },
     "execution_count": 22,
     "metadata": {},
     "output_type": "execute_result"
    }
   ],
   "source": [
    "result.unravel(np.sqrt(np.diag(result.Σ)))"
   ]
  },
  {
   "cell_type": "markdown",
   "id": "e7c0fb76",
   "metadata": {},
   "source": [
    "or to convert the mean parameters to a vector:"
   ]
  },
  {
   "cell_type": "code",
   "execution_count": 23,
   "id": "73fb51fd",
   "metadata": {
    "execution": {
     "iopub.execute_input": "2022-06-07T19:37:44.197458Z",
     "iopub.status.busy": "2022-06-07T19:37:44.195924Z",
     "iopub.status.idle": "2022-06-07T19:37:44.231131Z",
     "shell.execute_reply": "2022-06-07T19:37:44.230258Z"
    }
   },
   "outputs": [
    {
     "data": {
      "text/plain": [
       "DeviceArray([-1.0020632,  2.027134 ], dtype=float32)"
      ]
     },
     "execution_count": 23,
     "metadata": {},
     "output_type": "execute_result"
    }
   ],
   "source": [
    "result.ravel(result.θ)"
   ]
  }
 ],
 "metadata": {
  "jupytext": {
   "text_representation": {
    "extension": ".md",
    "format_name": "markdown",
    "format_version": "1.3",
    "jupytext_version": "1.13.8"
   }
  },
  "kernelspec": {
   "display_name": "Python 3.9.7 ('.venv': poetry)",
   "language": "python",
   "name": "python3"
  },
  "language_info": {
   "codemirror_mode": {
    "name": "ipython",
    "version": 3
   },
   "file_extension": ".py",
   "mimetype": "text/x-python",
   "name": "python",
   "nbconvert_exporter": "python",
   "pygments_lexer": "ipython3",
   "version": "3.9.13"
  }
 },
 "nbformat": 4,
 "nbformat_minor": 5
}
