{
 "cells": [
  {
   "cell_type": "markdown",
   "id": "57f0d2ab",
   "metadata": {},
   "source": [
    "# Example"
   ]
  },
  {
   "cell_type": "markdown",
   "id": "e62505a4",
   "metadata": {},
   "source": [
    "This package allows defining your inference problem with:\n",
    "\n",
    "* the [PyMC](https://docs.pymc.io/) probabilistic programming language\n",
    "* by coding up the posterior by-hand and using [Jax](https://jax.readthedocs.io/) to automatically compute the necessary posterior gradients\n",
    "* by specifying the posterior and its gradients completely by-hand\n",
    "\n",
    "We'll start with PyMC, since it is the easiest. First, load up the relevant packages:"
   ]
  },
  {
   "cell_type": "code",
   "execution_count": 1,
   "id": "94025d96",
   "metadata": {
    "execution": {
     "iopub.execute_input": "2022-06-05T08:43:50.247389Z",
     "iopub.status.busy": "2022-06-05T08:43:50.247127Z",
     "iopub.status.idle": "2022-06-05T08:43:55.688685Z",
     "shell.execute_reply": "2022-06-05T08:43:55.687976Z"
    }
   },
   "outputs": [
    {
     "name": "stdout",
     "output_type": "stream",
     "text": [
      "Populating the interactive namespace from numpy and matplotlib\n"
     ]
    }
   ],
   "source": [
    "%pylab inline\n",
    "from scipy import stats\n",
    "import pymc as pm\n",
    "from ttictoc import tic, toc\n",
    "from muse_inference.pymc import PyMCMuseProblem"
   ]
  },
  {
   "cell_type": "code",
   "execution_count": 2,
   "id": "fde5528a",
   "metadata": {
    "execution": {
     "iopub.execute_input": "2022-06-05T08:43:55.693406Z",
     "iopub.status.busy": "2022-06-05T08:43:55.692161Z",
     "iopub.status.idle": "2022-06-05T08:43:55.737273Z",
     "shell.execute_reply": "2022-06-05T08:43:55.736659Z"
    },
    "nbsphinx": "hidden",
    "tags": []
   },
   "outputs": [],
   "source": [
    "%config InlineBackend.print_figure_kwargs = {'bbox_inches': 'tight', 'dpi': 110}\n",
    "%load_ext autoreload\n",
    "%autoreload 2\n",
    "import logging, warnings\n",
    "logging.getLogger(\"pymc\").setLevel(logging.FATAL)\n",
    "warnings.filterwarnings(\"ignore\")"
   ]
  },
  {
   "cell_type": "markdown",
   "id": "f597397d",
   "metadata": {},
   "source": [
    "As an example, consider the following hierarchical problem, which has the classic [Neal's Funnel](https://mc-stan.org/docs/2_18/stan-users-guide/reparameterization-section.html) problem embedded in it. Neal's funnel is a standard example of a non-Gaussian latent space which HMC struggles to sample efficiently without extra tricks. Specifically, we consider the model defined by:\n",
    "\n",
    "$$\n",
    "\\begin{aligned}\n",
    "\\theta &\\sim {\\rm Normal(0,3)} \\\\ \n",
    "z_i &\\sim {\\rm Normal}(0,\\exp(\\theta/2)) \\\\ \n",
    "x_i &\\sim {\\rm Normal}(z_i, 1)\n",
    "\\end{aligned}\n",
    "$$\n",
    "\n",
    "for $i=1..10000$. This problem can be described by the following PyMC model:"
   ]
  },
  {
   "cell_type": "code",
   "execution_count": 3,
   "id": "f869c410",
   "metadata": {
    "execution": {
     "iopub.execute_input": "2022-06-05T08:43:55.740457Z",
     "iopub.status.busy": "2022-06-05T08:43:55.739875Z",
     "iopub.status.idle": "2022-06-05T08:43:55.758807Z",
     "shell.execute_reply": "2022-06-05T08:43:55.758246Z"
    }
   },
   "outputs": [],
   "source": [
    "def gen_funnel(x=None, θ=None, rng=None):\n",
    "    with pm.Model(rng_seeder=rng) as funnel:\n",
    "        θ = pm.Normal(\"θ\", mu=0, sigma=3) if θ is None else θ\n",
    "        z = pm.Normal(\"z\", mu=0, sigma=np.exp(θ/2), size=10000)\n",
    "        x = pm.Normal(\"x\", mu=z, sigma=1, observed=x)\n",
    "    return funnel"
   ]
  },
  {
   "cell_type": "markdown",
   "id": "68f77ed6",
   "metadata": {},
   "source": [
    "Next, lets choose a true value of $\\theta=0$ and generate some simulated data, $x$, which we'll use as \"observations\":"
   ]
  },
  {
   "cell_type": "code",
   "execution_count": 4,
   "id": "76eacd57",
   "metadata": {
    "execution": {
     "iopub.execute_input": "2022-06-05T08:43:55.761768Z",
     "iopub.status.busy": "2022-06-05T08:43:55.761428Z",
     "iopub.status.idle": "2022-06-05T08:43:58.981208Z",
     "shell.execute_reply": "2022-06-05T08:43:58.980427Z"
    }
   },
   "outputs": [],
   "source": [
    "rng = np.random.RandomState(0)\n",
    "x_obs = pm.sample_prior_predictive(1, model=gen_funnel(θ=0, rng=rng)).prior.x[0,0]\n",
    "model = gen_funnel(x=x_obs, rng=rng)"
   ]
  },
  {
   "cell_type": "code",
   "execution_count": 5,
   "id": "df6d2273",
   "metadata": {
    "execution": {
     "iopub.execute_input": "2022-06-05T08:43:58.985014Z",
     "iopub.status.busy": "2022-06-05T08:43:58.984545Z",
     "iopub.status.idle": "2022-06-05T08:45:40.555133Z",
     "shell.execute_reply": "2022-06-05T08:45:40.554400Z"
    },
    "nbsphinx": "hidden",
    "tags": []
   },
   "outputs": [],
   "source": [
    "# warmup so timing results are more fair\n",
    "with model:\n",
    "    pm.sample(10, tune=10, cores=1, chains=1, discard_tuned_samples=False, random_seed=0, progressbar=False)\n",
    "    pm.fit(10, method=\"advi\", obj_n_mc=10, tf_n_mc=10, progressbar=False)\n",
    "prob = PyMCMuseProblem(model)\n",
    "result = prob.solve(θ_start=0, nsims=10, maxsteps=2)"
   ]
  },
  {
   "cell_type": "markdown",
   "id": "fef14064",
   "metadata": {},
   "source": [
    "We can run HMC on the problem to compute the \"true\" answer to compare against:"
   ]
  },
  {
   "cell_type": "code",
   "execution_count": 6,
   "id": "027edd1f",
   "metadata": {
    "execution": {
     "iopub.execute_input": "2022-06-05T08:45:40.559013Z",
     "iopub.status.busy": "2022-06-05T08:45:40.558759Z",
     "iopub.status.idle": "2022-06-05T08:45:58.986170Z",
     "shell.execute_reply": "2022-06-05T08:45:58.985525Z"
    }
   },
   "outputs": [
    {
     "data": {
      "text/html": [
       "\n",
       "<style>\n",
       "    /* Turns off some styling */\n",
       "    progress {\n",
       "        /* gets rid of default border in Firefox and Opera. */\n",
       "        border: none;\n",
       "        /* Needs to be in here for Safari polyfill so background images work as expected. */\n",
       "        background-size: auto;\n",
       "    }\n",
       "    .progress-bar-interrupted, .progress-bar-interrupted::-webkit-progress-bar {\n",
       "        background: #F44336;\n",
       "    }\n",
       "</style>\n"
      ],
      "text/plain": [
       "<IPython.core.display.HTML object>"
      ]
     },
     "metadata": {},
     "output_type": "display_data"
    },
    {
     "data": {
      "text/html": [
       "\n",
       "    <div>\n",
       "      <progress value='1000' class='' max='1000' style='width:300px; height:20px; vertical-align: middle;'></progress>\n",
       "      100.00% [1000/1000 00:17<00:00 Sampling chain 0, 0 divergences]\n",
       "    </div>\n",
       "    "
      ],
      "text/plain": [
       "<IPython.core.display.HTML object>"
      ]
     },
     "metadata": {},
     "output_type": "display_data"
    }
   ],
   "source": [
    "with model:\n",
    "    tic()\n",
    "    np.random.seed(1)\n",
    "    chain = pm.sample(500, tune=500, chains=1, discard_tuned_samples=False)\n",
    "    t_hmc = toc()"
   ]
  },
  {
   "cell_type": "markdown",
   "id": "b46ecb3c",
   "metadata": {},
   "source": [
    "We next compute the MUSE estimate for the same problem. To reach the same Monte Carlo error as HMC, the number of MUSE simulations should be the same as the effective sample size of the chain we just ran. This is:"
   ]
  },
  {
   "cell_type": "code",
   "execution_count": 7,
   "id": "7e38945c",
   "metadata": {
    "execution": {
     "iopub.execute_input": "2022-06-05T08:45:58.990114Z",
     "iopub.status.busy": "2022-06-05T08:45:58.989740Z",
     "iopub.status.idle": "2022-06-05T08:46:03.322003Z",
     "shell.execute_reply": "2022-06-05T08:46:03.321391Z"
    }
   },
   "outputs": [
    {
     "data": {
      "text/plain": [
       "59"
      ]
     },
     "execution_count": 7,
     "metadata": {},
     "output_type": "execute_result"
    }
   ],
   "source": [
    "nsims = int(pm.ess(chain)[\"θ\"])\n",
    "nsims"
   ]
  },
  {
   "cell_type": "markdown",
   "id": "00d29da1",
   "metadata": {},
   "source": [
    "Running the MUSE estimate, "
   ]
  },
  {
   "cell_type": "code",
   "execution_count": 8,
   "id": "9b62745d",
   "metadata": {
    "execution": {
     "iopub.execute_input": "2022-06-05T08:46:03.325026Z",
     "iopub.status.busy": "2022-06-05T08:46:03.324793Z",
     "iopub.status.idle": "2022-06-05T08:46:15.047981Z",
     "shell.execute_reply": "2022-06-05T08:46:15.047344Z"
    }
   },
   "outputs": [
    {
     "name": "stderr",
     "output_type": "stream",
     "text": [
      "\r",
      "MUSE:   0%|          | 0/3000 [00:00<?, ?it/s]"
     ]
    },
    {
     "name": "stderr",
     "output_type": "stream",
     "text": [
      "\r",
      "MUSE:   0%|          | 6/3000 [00:00<01:33, 31.99it/s]"
     ]
    },
    {
     "name": "stderr",
     "output_type": "stream",
     "text": [
      "\r",
      "MUSE:   0%|          | 14/3000 [00:00<00:56, 52.42it/s]"
     ]
    },
    {
     "name": "stderr",
     "output_type": "stream",
     "text": [
      "\r",
      "MUSE:   1%|          | 22/3000 [00:00<00:47, 62.37it/s]"
     ]
    },
    {
     "name": "stderr",
     "output_type": "stream",
     "text": [
      "\r",
      "MUSE:   1%|          | 29/3000 [00:00<01:00, 49.15it/s]"
     ]
    },
    {
     "name": "stderr",
     "output_type": "stream",
     "text": [
      "\r",
      "MUSE:   1%|▏         | 38/3000 [00:00<00:50, 58.49it/s]"
     ]
    },
    {
     "name": "stderr",
     "output_type": "stream",
     "text": [
      "\r",
      "MUSE:   2%|▏         | 45/3000 [00:00<01:00, 48.97it/s]"
     ]
    },
    {
     "name": "stderr",
     "output_type": "stream",
     "text": [
      "\r",
      "MUSE:   2%|▏         | 54/3000 [00:00<00:51, 57.41it/s]"
     ]
    },
    {
     "name": "stderr",
     "output_type": "stream",
     "text": [
      "\r",
      "MUSE:   2%|▏         | 61/3000 [00:01<01:18, 37.51it/s]"
     ]
    },
    {
     "name": "stderr",
     "output_type": "stream",
     "text": [
      "\r",
      "MUSE:   2%|▏         | 70/3000 [00:01<01:03, 46.45it/s]"
     ]
    },
    {
     "name": "stderr",
     "output_type": "stream",
     "text": [
      "\r",
      "MUSE:   3%|▎         | 77/3000 [00:01<01:07, 43.15it/s]"
     ]
    },
    {
     "name": "stderr",
     "output_type": "stream",
     "text": [
      "\r",
      "MUSE:   3%|▎         | 86/3000 [00:01<00:56, 51.67it/s]"
     ]
    },
    {
     "name": "stderr",
     "output_type": "stream",
     "text": [
      "\r",
      "MUSE:   3%|▎         | 94/3000 [00:01<01:01, 47.23it/s]"
     ]
    },
    {
     "name": "stderr",
     "output_type": "stream",
     "text": [
      "\r",
      "MUSE:   3%|▎         | 103/3000 [00:02<00:52, 55.09it/s]"
     ]
    },
    {
     "name": "stderr",
     "output_type": "stream",
     "text": [
      "\r",
      "MUSE:   4%|▎         | 111/3000 [00:02<00:58, 49.61it/s]"
     ]
    },
    {
     "name": "stderr",
     "output_type": "stream",
     "text": [
      "\r",
      "MUSE:   4%|▍         | 120/3000 [00:02<00:50, 56.71it/s]"
     ]
    },
    {
     "name": "stderr",
     "output_type": "stream",
     "text": [
      "\r",
      "MUSE:   4%|▍         | 127/3000 [00:02<01:01, 46.96it/s]"
     ]
    },
    {
     "name": "stderr",
     "output_type": "stream",
     "text": [
      "\r",
      "MUSE:   4%|▍         | 133/3000 [00:02<01:07, 42.50it/s]"
     ]
    },
    {
     "name": "stderr",
     "output_type": "stream",
     "text": [
      "\r",
      "MUSE:   5%|▍         | 142/3000 [00:02<00:55, 51.10it/s]"
     ]
    },
    {
     "name": "stderr",
     "output_type": "stream",
     "text": [
      "\r",
      "MUSE:   5%|▍         | 148/3000 [00:03<01:03, 45.00it/s]"
     ]
    },
    {
     "name": "stderr",
     "output_type": "stream",
     "text": [
      "\r",
      "MUSE:   5%|▌         | 157/3000 [00:03<00:53, 53.58it/s]"
     ]
    },
    {
     "name": "stderr",
     "output_type": "stream",
     "text": [
      "\r",
      "MUSE:   6%|▌         | 166/3000 [00:03<00:46, 60.90it/s]"
     ]
    },
    {
     "name": "stderr",
     "output_type": "stream",
     "text": [
      "\r",
      "MUSE:   6%|▌         | 173/3000 [00:03<00:54, 51.72it/s]"
     ]
    },
    {
     "name": "stderr",
     "output_type": "stream",
     "text": [
      "\r",
      "MUSE:   6%|▌         | 181/3000 [00:03<01:02, 44.94it/s]"
     ]
    },
    {
     "name": "stderr",
     "output_type": "stream",
     "text": [
      "\r",
      "MUSE:   6%|▌         | 187/3000 [00:03<01:08, 41.01it/s]"
     ]
    },
    {
     "name": "stderr",
     "output_type": "stream",
     "text": [
      "\r",
      "MUSE:   7%|▋         | 196/3000 [00:03<00:56, 50.03it/s]"
     ]
    },
    {
     "name": "stderr",
     "output_type": "stream",
     "text": [
      "\r",
      "MUSE:   7%|▋         | 202/3000 [00:04<01:03, 44.40it/s]"
     ]
    },
    {
     "name": "stderr",
     "output_type": "stream",
     "text": [
      "\r",
      "MUSE:   7%|▋         | 211/3000 [00:04<00:52, 53.22it/s]"
     ]
    },
    {
     "name": "stderr",
     "output_type": "stream",
     "text": [
      "\r",
      "MUSE:   7%|▋         | 219/3000 [00:04<00:58, 47.66it/s]"
     ]
    },
    {
     "name": "stderr",
     "output_type": "stream",
     "text": [
      "\r",
      "MUSE:   8%|▊         | 228/3000 [00:04<00:49, 55.80it/s]"
     ]
    },
    {
     "name": "stderr",
     "output_type": "stream",
     "text": [
      "\r",
      "MUSE:   8%|▊         | 236/3000 [00:04<00:55, 49.83it/s]"
     ]
    },
    {
     "name": "stderr",
     "output_type": "stream",
     "text": [
      "\r",
      "MUSE:   8%|▊         | 242/3000 [00:05<01:05, 42.35it/s]"
     ]
    },
    {
     "name": "stderr",
     "output_type": "stream",
     "text": [
      "\r",
      "MUSE:   8%|▊         | 251/3000 [00:05<00:53, 51.34it/s]"
     ]
    },
    {
     "name": "stderr",
     "output_type": "stream",
     "text": [
      "\r",
      "MUSE:   9%|▊         | 257/3000 [00:05<01:03, 43.20it/s]"
     ]
    },
    {
     "name": "stderr",
     "output_type": "stream",
     "text": [
      "\r",
      "MUSE:   9%|▉         | 266/3000 [00:05<00:52, 52.11it/s]"
     ]
    },
    {
     "name": "stderr",
     "output_type": "stream",
     "text": [
      "\r",
      "MUSE:   9%|▉         | 273/3000 [00:05<00:59, 45.96it/s]"
     ]
    },
    {
     "name": "stderr",
     "output_type": "stream",
     "text": [
      "\r",
      "MUSE:   9%|▉         | 282/3000 [00:05<00:50, 53.97it/s]"
     ]
    },
    {
     "name": "stderr",
     "output_type": "stream",
     "text": [
      "\r",
      "MUSE:  10%|▉         | 291/3000 [00:05<00:44, 60.90it/s]"
     ]
    },
    {
     "name": "stderr",
     "output_type": "stream",
     "text": [
      "\r",
      "MUSE:  10%|▉         | 298/3000 [00:06<00:52, 51.46it/s]"
     ]
    },
    {
     "name": "stderr",
     "output_type": "stream",
     "text": [
      "\r",
      "MUSE:  10%|█         | 304/3000 [00:06<01:02, 43.20it/s]"
     ]
    },
    {
     "name": "stderr",
     "output_type": "stream",
     "text": [
      "\r",
      "MUSE:  10%|█         | 309/3000 [00:06<01:10, 38.44it/s]"
     ]
    },
    {
     "name": "stderr",
     "output_type": "stream",
     "text": [
      "\r",
      "MUSE:  11%|█         | 318/3000 [00:06<00:55, 48.32it/s]"
     ]
    },
    {
     "name": "stderr",
     "output_type": "stream",
     "text": [
      "\r",
      "MUSE:  11%|█         | 325/3000 [00:06<01:00, 43.96it/s]"
     ]
    },
    {
     "name": "stderr",
     "output_type": "stream",
     "text": [
      "\r",
      "MUSE:  11%|█         | 334/3000 [00:06<00:50, 52.93it/s]"
     ]
    },
    {
     "name": "stderr",
     "output_type": "stream",
     "text": [
      "\r",
      "MUSE:  11%|█▏        | 343/3000 [00:06<00:43, 60.75it/s]"
     ]
    },
    {
     "name": "stderr",
     "output_type": "stream",
     "text": [
      "\r",
      "MUSE:  12%|█▏        | 350/3000 [00:07<00:51, 51.58it/s]"
     ]
    },
    {
     "name": "stderr",
     "output_type": "stream",
     "text": [
      "\r",
      "MUSE:  12%|█▏        | 359/3000 [00:07<00:44, 59.48it/s]"
     ]
    },
    {
     "name": "stderr",
     "output_type": "stream",
     "text": [
      "\r",
      "MUSE:  12%|█▏        | 366/3000 [00:07<01:06, 39.90it/s]"
     ]
    },
    {
     "name": "stderr",
     "output_type": "stream",
     "text": [
      "\r",
      "MUSE:  12%|█▎        | 375/3000 [00:07<00:54, 48.54it/s]"
     ]
    },
    {
     "name": "stderr",
     "output_type": "stream",
     "text": [
      "\r",
      "MUSE:  13%|█▎        | 382/3000 [00:07<00:58, 44.56it/s]"
     ]
    },
    {
     "name": "stderr",
     "output_type": "stream",
     "text": [
      "\r",
      "MUSE:  13%|█▎        | 391/3000 [00:07<00:49, 52.80it/s]"
     ]
    },
    {
     "name": "stderr",
     "output_type": "stream",
     "text": [
      "\r",
      "MUSE:  13%|█▎        | 398/3000 [00:08<00:55, 47.25it/s]"
     ]
    },
    {
     "name": "stderr",
     "output_type": "stream",
     "text": [
      "\r",
      "MUSE:  14%|█▎        | 407/3000 [00:08<00:46, 55.54it/s]"
     ]
    },
    {
     "name": "stderr",
     "output_type": "stream",
     "text": [
      "\r",
      "MUSE:  14%|█▍        | 416/3000 [00:08<00:41, 62.61it/s]"
     ]
    },
    {
     "name": "stderr",
     "output_type": "stream",
     "text": [
      "\r",
      "MUSE:  14%|█▍        | 424/3000 [00:08<01:00, 42.41it/s]"
     ]
    },
    {
     "name": "stderr",
     "output_type": "stream",
     "text": [
      "\r",
      "MUSE:  14%|█▍        | 433/3000 [00:08<01:00, 42.20it/s]"
     ]
    },
    {
     "name": "stderr",
     "output_type": "stream",
     "text": [
      "\r",
      "MUSE:  15%|█▍        | 442/3000 [00:09<00:51, 50.12it/s]"
     ]
    },
    {
     "name": "stderr",
     "output_type": "stream",
     "text": [
      "\r",
      "MUSE:  15%|█▌        | 451/3000 [00:09<00:44, 57.48it/s]"
     ]
    },
    {
     "name": "stderr",
     "output_type": "stream",
     "text": [
      "\r",
      "MUSE:  15%|█▌        | 458/3000 [00:09<00:50, 50.10it/s]"
     ]
    },
    {
     "name": "stderr",
     "output_type": "stream",
     "text": [
      "\r",
      "MUSE:  16%|█▌        | 467/3000 [00:09<00:43, 57.90it/s]"
     ]
    },
    {
     "name": "stderr",
     "output_type": "stream",
     "text": [
      "\r",
      "MUSE:  16%|█▌        | 474/3000 [00:09<00:49, 50.57it/s]"
     ]
    },
    {
     "name": "stderr",
     "output_type": "stream",
     "text": [
      "\r",
      "MUSE: 100%|██████████| 3000/3000 [00:09<00:00, 4420.22it/s]"
     ]
    },
    {
     "name": "stderr",
     "output_type": "stream",
     "text": [
      "\r",
      "MUSE: 100%|██████████| 3000/3000 [00:09<00:00, 305.86it/s] "
     ]
    },
    {
     "name": "stderr",
     "output_type": "stream",
     "text": [
      "\n"
     ]
    },
    {
     "name": "stderr",
     "output_type": "stream",
     "text": [
      "\r",
      "get_H:   0%|          | 0/15 [00:00<?, ?it/s]"
     ]
    },
    {
     "name": "stderr",
     "output_type": "stream",
     "text": [
      "\r",
      "get_H:  47%|████▋     | 7/15 [00:00<00:00, 33.42it/s]"
     ]
    },
    {
     "name": "stderr",
     "output_type": "stream",
     "text": [
      "\r",
      "get_H:  93%|█████████▎| 14/15 [00:00<00:00, 48.00it/s]"
     ]
    },
    {
     "name": "stderr",
     "output_type": "stream",
     "text": [
      "\r",
      "get_H: 100%|██████████| 15/15 [00:00<00:00, 45.66it/s]"
     ]
    },
    {
     "name": "stderr",
     "output_type": "stream",
     "text": [
      "\n"
     ]
    }
   ],
   "source": [
    "prob = PyMCMuseProblem(model)\n",
    "rng = np.random.SeedSequence(1)\n",
    "tic()\n",
    "result = prob.solve(θ_start=0, nsims=nsims, rng=rng, progress=True, save_MAP_history=True)\n",
    "t_muse = toc()"
   ]
  },
  {
   "cell_type": "markdown",
   "id": "825df59d",
   "metadata": {},
   "source": [
    "Lets also try mean-field variational inference (MFVI) to compare to another approximate method."
   ]
  },
  {
   "cell_type": "code",
   "execution_count": 9,
   "id": "36d3cc44",
   "metadata": {
    "execution": {
     "iopub.execute_input": "2022-06-05T08:46:15.052170Z",
     "iopub.status.busy": "2022-06-05T08:46:15.050592Z",
     "iopub.status.idle": "2022-06-05T08:47:34.519294Z",
     "shell.execute_reply": "2022-06-05T08:47:34.518647Z"
    }
   },
   "outputs": [
    {
     "data": {
      "text/html": [
       "\n",
       "<style>\n",
       "    /* Turns off some styling */\n",
       "    progress {\n",
       "        /* gets rid of default border in Firefox and Opera. */\n",
       "        border: none;\n",
       "        /* Needs to be in here for Safari polyfill so background images work as expected. */\n",
       "        background-size: auto;\n",
       "    }\n",
       "    .progress-bar-interrupted, .progress-bar-interrupted::-webkit-progress-bar {\n",
       "        background: #F44336;\n",
       "    }\n",
       "</style>\n"
      ],
      "text/plain": [
       "<IPython.core.display.HTML object>"
      ]
     },
     "metadata": {},
     "output_type": "display_data"
    },
    {
     "data": {
      "text/html": [
       "\n",
       "    <div>\n",
       "      <progress value='10000' class='' max='10000' style='width:300px; height:20px; vertical-align: middle;'></progress>\n",
       "      100.00% [10000/10000 01:17<00:00 Average Loss = 17,851]\n",
       "    </div>\n",
       "    "
      ],
      "text/plain": [
       "<IPython.core.display.HTML object>"
      ]
     },
     "metadata": {},
     "output_type": "display_data"
    }
   ],
   "source": [
    "with model:\n",
    "    tic()\n",
    "    mfvi = pm.fit(10000, method=\"advi\", obj_n_mc=10, tf_n_mc=10)\n",
    "    t_mfvi = toc()"
   ]
  },
  {
   "cell_type": "markdown",
   "id": "d8b97683",
   "metadata": {},
   "source": [
    "Now lets plot the different estimates. In this case, MUSE gives a nearly perfect answer using only a fraction posterior gradient calls. MFVI struggles in both speed and accuracy by comparison."
   ]
  },
  {
   "cell_type": "code",
   "execution_count": 10,
   "id": "c9a1087d",
   "metadata": {
    "execution": {
     "iopub.execute_input": "2022-06-05T08:47:34.522439Z",
     "iopub.status.busy": "2022-06-05T08:47:34.522200Z",
     "iopub.status.idle": "2022-06-05T08:47:44.130802Z",
     "shell.execute_reply": "2022-06-05T08:47:44.130084Z"
    }
   },
   "outputs": [
    {
     "data": {
      "image/png": "[encoded data removed]",
      "text/plain": [
       "<Figure size 432x360 with 1 Axes>"
      ]
     },
     "metadata": {
      "needs_background": "light"
     },
     "output_type": "display_data"
    }
   ],
   "source": [
    "figure(figsize=(6,5))\n",
    "axvline(0, c=\"k\", ls=\"--\", alpha=0.5)\n",
    "ncalls_hmc = sum(chain.sample_stats[\"n_steps\"]) + sum(chain.warmup_sample_stats[\"n_steps\"])\n",
    "hist(\n",
    "    chain[\"posterior\"][\"θ\"].to_series(), \n",
    "    bins=30, density=True, alpha=0.5, color=\"C0\",\n",
    "    label=\"HMC (%.2fs, %i ∇logP calls)\"%(t_hmc, ncalls_hmc)\n",
    ")\n",
    "θs = linspace(*xlim())\n",
    "ncalls_muse = sum(\n",
    "    [s.nfev for h in result.history for s in [h[\"MAP_history_dat\"]]+h[\"MAP_history_sims\"]]\n",
    ")\n",
    "plot(\n",
    "    θs, stats.norm(result.θ[\"θ\"], sqrt(result.Σ[0,0])).pdf(θs), \n",
    "    color=\"C1\", label=\"MUSE (%.2fs,  %i ∇logP calls)\"%(t_muse, ncalls_muse)\n",
    ")\n",
    "hist(\n",
    "    mfvi.sample(1000)[\"posterior\"][\"θ\"].to_series(), \n",
    "    bins=30, density=True, alpha=0.5, color=\"C2\",\n",
    "    label=\"MFVI (%.2fs)\"%t_mfvi\n",
    ")\n",
    "ylim(0, ylim()[1]*1.2)\n",
    "legend(frameon=True)\n",
    "xlabel(r\"$\\theta$\")\n",
    "ylabel(r\"$\\mathcal{P}(\\theta\\,|\\,x)$\")\n",
    "title(\"10000-dimensional noisy funnel\");"
   ]
  },
  {
   "cell_type": "markdown",
   "id": "ad83b309",
   "metadata": {},
   "source": [
    "Note that due to PyMC overhead, the timing difference between HMC and MUSE is less drastic than the number of gradient calls would imply. For more realistic and expensive posterior functions, this overhead becomes negligible and you can see speedups of 10-100X or more (depending on problem and latent space dimensoinality). If you are working with small problems and need less overhead, the Jax or Numpy interfaces will be faster (or even consider using the Julia package [MuseInference.jl](https://cosmicmar.com/MuseInference.jl) which is the fastest of all options)."
   ]
  }
 ],
 "metadata": {
  "jupytext": {
   "formats": "md,ipynb",
   "text_representation": {
    "extension": ".md",
    "format_name": "markdown",
    "format_version": "1.3",
    "jupytext_version": "1.13.8"
   }
  },
  "kernelspec": {
   "display_name": "Python 3.9.7 ('.venv': poetry)",
   "language": "python",
   "name": "python3"
  },
  "language_info": {
   "codemirror_mode": {
    "name": "ipython",
    "version": 3
   },
   "file_extension": ".py",
   "mimetype": "text/x-python",
   "name": "python",
   "nbconvert_exporter": "python",
   "pygments_lexer": "ipython3",
   "version": "3.9.13"
  }
 },
 "nbformat": 4,
 "nbformat_minor": 5
}
