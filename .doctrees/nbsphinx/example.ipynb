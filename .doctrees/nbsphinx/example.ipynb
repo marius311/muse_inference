{
 "cells": [
  {
   "cell_type": "markdown",
   "id": "d0e94e3b",
   "metadata": {},
   "source": [
    "# Example"
   ]
  },
  {
   "cell_type": "markdown",
   "id": "06c2aef1",
   "metadata": {},
   "source": [
    "This package allows defining your inference problem with:\n",
    "\n",
    "* the [PyMC](https://docs.pymc.io/) probabilistic programming language\n",
    "* by coding up the posterior by-hand and using [Jax](https://jax.readthedocs.io/) to automatically compute the necessary posterior gradients\n",
    "* by specifying the posterior and its gradients completely by-hand\n",
    "\n",
    "We'll start withPyMC, since it is the easiest. First, load up the relevant packages:"
   ]
  },
  {
   "cell_type": "code",
   "execution_count": 1,
   "id": "1c74d15c",
   "metadata": {
    "execution": {
     "iopub.execute_input": "2022-06-03T05:55:49.260062Z",
     "iopub.status.busy": "2022-06-03T05:55:49.259515Z",
     "iopub.status.idle": "2022-06-03T05:55:51.531308Z",
     "shell.execute_reply": "2022-06-03T05:55:51.530595Z"
    }
   },
   "outputs": [
    {
     "name": "stdout",
     "output_type": "stream",
     "text": [
      "Populating the interactive namespace from numpy and matplotlib\n"
     ]
    }
   ],
   "source": [
    "%pylab inline\n",
    "from scipy import stats\n",
    "import pymc as pm\n",
    "from ttictoc import tic, toc\n",
    "from muse_inference.pymc import PyMCMuseProblem"
   ]
  },
  {
   "cell_type": "code",
   "execution_count": 2,
   "id": "3a550ff8",
   "metadata": {
    "execution": {
     "iopub.execute_input": "2022-06-03T05:55:51.534851Z",
     "iopub.status.busy": "2022-06-03T05:55:51.534466Z",
     "iopub.status.idle": "2022-06-03T05:55:51.567823Z",
     "shell.execute_reply": "2022-06-03T05:55:51.567185Z"
    },
    "nbsphinx": "hidden",
    "tags": []
   },
   "outputs": [],
   "source": [
    "%config InlineBackend.print_figure_kwargs = {'bbox_inches': 'tight', 'dpi': 110}\n",
    "%load_ext autoreload\n",
    "%autoreload 2"
   ]
  },
  {
   "cell_type": "markdown",
   "id": "95996e65",
   "metadata": {},
   "source": [
    "As an example, consider the following hierarchical problem, which has the classic [Neal's Funnel](https://mc-stan.org/docs/2_18/stan-users-guide/reparameterization-section.html) problem embedded in it. Neal's funnel is a standard example of a non-Gaussian latent space which HMC struggles to sample efficiently without extra tricks. Specifically, we consider the model defined by:\n",
    "\n",
    "$$\n",
    "\\begin{aligned}\n",
    "\\theta &\\sim {\\rm Normal(0,3)} \\\\ \n",
    "z_i &\\sim {\\rm Normal}(0,\\exp(\\theta/2)) \\\\ \n",
    "x_i &\\sim {\\rm Normal}(z_i, 1)\n",
    "\\end{aligned}\n",
    "$$\n",
    "\n",
    "for $i=1...2048$. This problem can be described by the following PyMC model:"
   ]
  },
  {
   "cell_type": "code",
   "execution_count": 3,
   "id": "53ef8c4a",
   "metadata": {
    "execution": {
     "iopub.execute_input": "2022-06-03T05:55:51.570991Z",
     "iopub.status.busy": "2022-06-03T05:55:51.570761Z",
     "iopub.status.idle": "2022-06-03T05:55:51.590791Z",
     "shell.execute_reply": "2022-06-03T05:55:51.590207Z"
    }
   },
   "outputs": [],
   "source": [
    "def gen_funnel(x=None, θ=None, rng_seeder=None):\n",
    "    with pm.Model(rng_seeder=rng_seeder) as funnel:\n",
    "        θ = pm.Normal(\"θ\", mu=0, sigma=3) if θ is None else θ\n",
    "        z = pm.Normal(\"z\", mu=0, sigma=np.exp(θ/2), size=10000)\n",
    "        x = pm.Normal(\"x\", mu=z, sigma=1, observed=x)\n",
    "    return funnel"
   ]
  },
  {
   "cell_type": "markdown",
   "id": "f21a3b45",
   "metadata": {},
   "source": [
    "Next, lets choose a true value of $\\theta=0$ and generate some simulated data, $x$, which we'll use as \"observations\":"
   ]
  },
  {
   "cell_type": "code",
   "execution_count": 4,
   "id": "4508d7a3",
   "metadata": {
    "execution": {
     "iopub.execute_input": "2022-06-03T05:55:51.593939Z",
     "iopub.status.busy": "2022-06-03T05:55:51.593719Z",
     "iopub.status.idle": "2022-06-03T05:55:54.146483Z",
     "shell.execute_reply": "2022-06-03T05:55:54.145703Z"
    }
   },
   "outputs": [],
   "source": [
    "rng = np.random.RandomState(0)\n",
    "x_obs = pm.sample_prior_predictive(1, model=gen_funnel(θ=0, rng_seeder=rng)).prior.x[0,0]\n",
    "model = gen_funnel(x=x_obs, rng_seeder=rng)"
   ]
  },
  {
   "cell_type": "markdown",
   "id": "990fbbe8",
   "metadata": {},
   "source": [
    "We can run HMC on the problem to compute the \"true\" answer to compare against:"
   ]
  },
  {
   "cell_type": "code",
   "execution_count": 5,
   "id": "d1a1775e",
   "metadata": {
    "execution": {
     "iopub.execute_input": "2022-06-03T05:55:54.150122Z",
     "iopub.status.busy": "2022-06-03T05:55:54.149732Z",
     "iopub.status.idle": "2022-06-03T05:56:30.946634Z",
     "shell.execute_reply": "2022-06-03T05:56:30.945973Z"
    }
   },
   "outputs": [
    {
     "name": "stderr",
     "output_type": "stream",
     "text": [
      "Auto-assigning NUTS sampler...\n"
     ]
    },
    {
     "name": "stderr",
     "output_type": "stream",
     "text": [
      "Initializing NUTS using jitter+adapt_diag...\n"
     ]
    },
    {
     "name": "stderr",
     "output_type": "stream",
     "text": [
      "Sequential sampling (1 chains in 1 job)\n"
     ]
    },
    {
     "name": "stderr",
     "output_type": "stream",
     "text": [
      "NUTS: [θ, z]\n"
     ]
    },
    {
     "data": {
      "text/html": [
       "\n",
       "<style>\n",
       "    /* Turns off some styling */\n",
       "    progress {\n",
       "        /* gets rid of default border in Firefox and Opera. */\n",
       "        border: none;\n",
       "        /* Needs to be in here for Safari polyfill so background images work as expected. */\n",
       "        background-size: auto;\n",
       "    }\n",
       "    .progress-bar-interrupted, .progress-bar-interrupted::-webkit-progress-bar {\n",
       "        background: #F44336;\n",
       "    }\n",
       "</style>\n"
      ],
      "text/plain": [
       "<IPython.core.display.HTML object>"
      ]
     },
     "metadata": {},
     "output_type": "display_data"
    },
    {
     "data": {
      "text/html": [
       "\n",
       "    <div>\n",
       "      <progress value='1000' class='' max='1000' style='width:300px; height:20px; vertical-align: middle;'></progress>\n",
       "      100.00% [1000/1000 00:16<00:00 Sampling chain 0, 0 divergences]\n",
       "    </div>\n",
       "    "
      ],
      "text/plain": [
       "<IPython.core.display.HTML object>"
      ]
     },
     "metadata": {},
     "output_type": "display_data"
    },
    {
     "name": "stderr",
     "output_type": "stream",
     "text": [
      "Sampling 1 chain for 500 tune and 500 draw iterations (500 + 500 draws total) took 17 seconds.\n"
     ]
    },
    {
     "name": "stderr",
     "output_type": "stream",
     "text": [
      "Only one chain was sampled, this makes it impossible to run some convergence checks\n"
     ]
    }
   ],
   "source": [
    "tic()\n",
    "with model:\n",
    "    chain = pm.sample(500, tune=500, cores=1, chains=1, discard_tuned_samples=False)\n",
    "t_hmc = toc()"
   ]
  },
  {
   "cell_type": "markdown",
   "id": "a20a8a52",
   "metadata": {},
   "source": [
    "We next compute the MUSE estimate for the same problem. To reach the same Monte Carlo error as HMC, the number of MUSE simulations should be the same as the effective sample size of the chain we just ran. This is:"
   ]
  },
  {
   "cell_type": "code",
   "execution_count": 6,
   "id": "82d89e5f",
   "metadata": {
    "execution": {
     "iopub.execute_input": "2022-06-03T05:56:30.950222Z",
     "iopub.status.busy": "2022-06-03T05:56:30.949599Z",
     "iopub.status.idle": "2022-06-03T05:56:35.414307Z",
     "shell.execute_reply": "2022-06-03T05:56:35.413660Z"
    }
   },
   "outputs": [
    {
     "data": {
      "text/plain": [
       "83"
      ]
     },
     "execution_count": 6,
     "metadata": {},
     "output_type": "execute_result"
    }
   ],
   "source": [
    "nsims = int(pm.ess(chain)[\"θ\"])\n",
    "nsims"
   ]
  },
  {
   "cell_type": "markdown",
   "id": "7d4ca8e0",
   "metadata": {},
   "source": [
    "Running the MUSE estimate, "
   ]
  },
  {
   "cell_type": "code",
   "execution_count": 7,
   "id": "f0177a7d",
   "metadata": {
    "execution": {
     "iopub.execute_input": "2022-06-03T05:56:35.418009Z",
     "iopub.status.busy": "2022-06-03T05:56:35.417463Z",
     "iopub.status.idle": "2022-06-03T05:57:15.669098Z",
     "shell.execute_reply": "2022-06-03T05:57:15.668377Z"
    }
   },
   "outputs": [
    {
     "name": "stderr",
     "output_type": "stream",
     "text": [
      "\r",
      "MUSE:   0%|          | 0/5050 [00:00<?, ?it/s]"
     ]
    },
    {
     "name": "stderr",
     "output_type": "stream",
     "text": [
      "\r",
      "MUSE:   0%|          | 5/5050 [00:00<02:48, 30.00it/s]"
     ]
    },
    {
     "name": "stderr",
     "output_type": "stream",
     "text": [
      "\r",
      "MUSE:   0%|          | 14/5050 [00:00<01:30, 55.72it/s]"
     ]
    },
    {
     "name": "stderr",
     "output_type": "stream",
     "text": [
      "\r",
      "MUSE:   0%|          | 21/5050 [00:00<01:43, 48.80it/s]"
     ]
    },
    {
     "name": "stderr",
     "output_type": "stream",
     "text": [
      "\r",
      "MUSE:   1%|          | 30/5050 [00:00<01:23, 59.88it/s]"
     ]
    },
    {
     "name": "stderr",
     "output_type": "stream",
     "text": [
      "\r",
      "MUSE:   1%|          | 37/5050 [00:00<01:37, 51.66it/s]"
     ]
    },
    {
     "name": "stderr",
     "output_type": "stream",
     "text": [
      "\r",
      "MUSE:   1%|          | 46/5050 [00:00<01:23, 59.94it/s]"
     ]
    },
    {
     "name": "stderr",
     "output_type": "stream",
     "text": [
      "\r",
      "MUSE:   1%|          | 53/5050 [00:01<01:35, 52.48it/s]"
     ]
    },
    {
     "name": "stderr",
     "output_type": "stream",
     "text": [
      "\r",
      "MUSE:   1%|          | 62/5050 [00:01<01:22, 60.39it/s]"
     ]
    },
    {
     "name": "stderr",
     "output_type": "stream",
     "text": [
      "\r",
      "MUSE:   1%|▏         | 69/5050 [00:01<01:33, 53.16it/s]"
     ]
    },
    {
     "name": "stderr",
     "output_type": "stream",
     "text": [
      "\r",
      "MUSE:   2%|▏         | 78/5050 [00:01<01:22, 60.48it/s]"
     ]
    },
    {
     "name": "stderr",
     "output_type": "stream",
     "text": [
      "\r",
      "MUSE:   2%|▏         | 85/5050 [00:01<01:32, 53.51it/s]"
     ]
    },
    {
     "name": "stderr",
     "output_type": "stream",
     "text": [
      "\r",
      "MUSE:   2%|▏         | 94/5050 [00:01<01:37, 51.08it/s]"
     ]
    },
    {
     "name": "stderr",
     "output_type": "stream",
     "text": [
      "\r",
      "MUSE:   2%|▏         | 102/5050 [00:02<02:21, 35.05it/s]"
     ]
    },
    {
     "name": "stderr",
     "output_type": "stream",
     "text": [
      "\r",
      "MUSE:   2%|▏         | 108/5050 [00:02<02:16, 36.13it/s]"
     ]
    },
    {
     "name": "stderr",
     "output_type": "stream",
     "text": [
      "\r",
      "MUSE:   2%|▏         | 117/5050 [00:02<01:49, 45.24it/s]"
     ]
    },
    {
     "name": "stderr",
     "output_type": "stream",
     "text": [
      "\r",
      "MUSE:   2%|▏         | 123/5050 [00:02<01:53, 43.51it/s]"
     ]
    },
    {
     "name": "stderr",
     "output_type": "stream",
     "text": [
      "\r",
      "MUSE:   3%|▎         | 132/5050 [00:02<01:33, 52.53it/s]"
     ]
    },
    {
     "name": "stderr",
     "output_type": "stream",
     "text": [
      "\r",
      "MUSE:   3%|▎         | 139/5050 [00:02<01:41, 48.56it/s]"
     ]
    },
    {
     "name": "stderr",
     "output_type": "stream",
     "text": [
      "\r",
      "MUSE:   3%|▎         | 148/5050 [00:02<01:26, 56.89it/s]"
     ]
    },
    {
     "name": "stderr",
     "output_type": "stream",
     "text": [
      "\r",
      "MUSE:   3%|▎         | 155/5050 [00:03<01:33, 52.18it/s]"
     ]
    },
    {
     "name": "stderr",
     "output_type": "stream",
     "text": [
      "\r",
      "MUSE:   3%|▎         | 164/5050 [00:03<01:21, 60.03it/s]"
     ]
    },
    {
     "name": "stderr",
     "output_type": "stream",
     "text": [
      "\r",
      "MUSE:   3%|▎         | 171/5050 [00:03<01:31, 53.39it/s]"
     ]
    },
    {
     "name": "stderr",
     "output_type": "stream",
     "text": [
      "\r",
      "MUSE:   4%|▎         | 180/5050 [00:03<01:19, 61.17it/s]"
     ]
    },
    {
     "name": "stderr",
     "output_type": "stream",
     "text": [
      "\r",
      "MUSE:   4%|▎         | 187/5050 [00:03<01:29, 54.20it/s]"
     ]
    },
    {
     "name": "stderr",
     "output_type": "stream",
     "text": [
      "\r",
      "MUSE:   4%|▍         | 196/5050 [00:03<01:18, 62.02it/s]"
     ]
    },
    {
     "name": "stderr",
     "output_type": "stream",
     "text": [
      "\r",
      "MUSE:   4%|▍         | 203/5050 [00:04<02:24, 33.46it/s]"
     ]
    },
    {
     "name": "stderr",
     "output_type": "stream",
     "text": [
      "\r",
      "MUSE:   4%|▍         | 211/5050 [00:04<02:14, 36.10it/s]"
     ]
    },
    {
     "name": "stderr",
     "output_type": "stream",
     "text": [
      "\r",
      "MUSE:   4%|▍         | 220/5050 [00:04<01:48, 44.62it/s]"
     ]
    },
    {
     "name": "stderr",
     "output_type": "stream",
     "text": [
      "\r",
      "MUSE:   4%|▍         | 227/5050 [00:04<01:49, 43.96it/s]"
     ]
    },
    {
     "name": "stderr",
     "output_type": "stream",
     "text": [
      "\r",
      "MUSE:   5%|▍         | 236/5050 [00:04<01:32, 52.20it/s]"
     ]
    },
    {
     "name": "stderr",
     "output_type": "stream",
     "text": [
      "\r",
      "MUSE:   5%|▍         | 243/5050 [00:04<01:39, 48.32it/s]"
     ]
    },
    {
     "name": "stderr",
     "output_type": "stream",
     "text": [
      "\r",
      "MUSE:   5%|▍         | 252/5050 [00:05<01:25, 56.09it/s]"
     ]
    },
    {
     "name": "stderr",
     "output_type": "stream",
     "text": [
      "\r",
      "MUSE:   5%|▌         | 259/5050 [00:05<01:34, 50.73it/s]"
     ]
    },
    {
     "name": "stderr",
     "output_type": "stream",
     "text": [
      "\r",
      "MUSE:   5%|▌         | 268/5050 [00:05<01:21, 58.36it/s]"
     ]
    },
    {
     "name": "stderr",
     "output_type": "stream",
     "text": [
      "\r",
      "MUSE:   5%|▌         | 275/5050 [00:05<01:32, 51.70it/s]"
     ]
    },
    {
     "name": "stderr",
     "output_type": "stream",
     "text": [
      "\r",
      "MUSE:   6%|▌         | 284/5050 [00:05<01:20, 59.09it/s]"
     ]
    },
    {
     "name": "stderr",
     "output_type": "stream",
     "text": [
      "\r",
      "MUSE:   6%|▌         | 291/5050 [00:05<01:31, 52.18it/s]"
     ]
    },
    {
     "name": "stderr",
     "output_type": "stream",
     "text": [
      "\r",
      "MUSE:   6%|▌         | 300/5050 [00:06<01:36, 49.44it/s]"
     ]
    },
    {
     "name": "stderr",
     "output_type": "stream",
     "text": [
      "\r",
      "MUSE:   6%|▌         | 306/5050 [00:06<02:24, 32.86it/s]"
     ]
    },
    {
     "name": "stderr",
     "output_type": "stream",
     "text": [
      "\r",
      "MUSE:   6%|▌         | 314/5050 [00:06<02:14, 35.30it/s]"
     ]
    },
    {
     "name": "stderr",
     "output_type": "stream",
     "text": [
      "\r",
      "MUSE:   6%|▋         | 323/5050 [00:06<01:47, 44.02it/s]"
     ]
    },
    {
     "name": "stderr",
     "output_type": "stream",
     "text": [
      "\r",
      "MUSE:   7%|▋         | 329/5050 [00:06<01:51, 42.16it/s]"
     ]
    },
    {
     "name": "stderr",
     "output_type": "stream",
     "text": [
      "\r",
      "MUSE:   7%|▋         | 338/5050 [00:06<01:32, 50.97it/s]"
     ]
    },
    {
     "name": "stderr",
     "output_type": "stream",
     "text": [
      "\r",
      "MUSE:   7%|▋         | 345/5050 [00:07<01:38, 47.81it/s]"
     ]
    },
    {
     "name": "stderr",
     "output_type": "stream",
     "text": [
      "\r",
      "MUSE:   7%|▋         | 354/5050 [00:07<01:23, 56.20it/s]"
     ]
    },
    {
     "name": "stderr",
     "output_type": "stream",
     "text": [
      "\r",
      "MUSE:   7%|▋         | 361/5050 [00:07<01:32, 50.63it/s]"
     ]
    },
    {
     "name": "stderr",
     "output_type": "stream",
     "text": [
      "\r",
      "MUSE:   7%|▋         | 370/5050 [00:07<01:19, 58.62it/s]"
     ]
    },
    {
     "name": "stderr",
     "output_type": "stream",
     "text": [
      "\r",
      "MUSE:   7%|▋         | 377/5050 [00:07<01:29, 51.98it/s]"
     ]
    },
    {
     "name": "stderr",
     "output_type": "stream",
     "text": [
      "\r",
      "MUSE:   8%|▊         | 386/5050 [00:07<01:17, 59.80it/s]"
     ]
    },
    {
     "name": "stderr",
     "output_type": "stream",
     "text": [
      "\r",
      "MUSE:   8%|▊         | 393/5050 [00:07<01:26, 53.65it/s]"
     ]
    },
    {
     "name": "stderr",
     "output_type": "stream",
     "text": [
      "\r",
      "MUSE:   8%|▊         | 402/5050 [00:08<01:30, 51.38it/s]"
     ]
    },
    {
     "name": "stderr",
     "output_type": "stream",
     "text": [
      "\r",
      "MUSE:   8%|▊         | 408/5050 [00:08<02:17, 33.72it/s]"
     ]
    },
    {
     "name": "stderr",
     "output_type": "stream",
     "text": [
      "\r",
      "MUSE:   8%|▊         | 416/5050 [00:08<02:06, 36.67it/s]"
     ]
    },
    {
     "name": "stderr",
     "output_type": "stream",
     "text": [
      "\r",
      "MUSE:   8%|▊         | 426/5050 [00:08<01:39, 46.64it/s]"
     ]
    },
    {
     "name": "stderr",
     "output_type": "stream",
     "text": [
      "\r",
      "MUSE:   9%|▊         | 432/5050 [00:08<01:42, 45.01it/s]"
     ]
    },
    {
     "name": "stderr",
     "output_type": "stream",
     "text": [
      "\r",
      "MUSE:   9%|▉         | 442/5050 [00:09<01:23, 55.08it/s]"
     ]
    },
    {
     "name": "stderr",
     "output_type": "stream",
     "text": [
      "\r",
      "MUSE:   9%|▉         | 449/5050 [00:09<01:28, 51.91it/s]"
     ]
    },
    {
     "name": "stderr",
     "output_type": "stream",
     "text": [
      "\r",
      "MUSE:   9%|▉         | 459/5050 [00:09<01:15, 61.09it/s]"
     ]
    },
    {
     "name": "stderr",
     "output_type": "stream",
     "text": [
      "\r",
      "MUSE:   9%|▉         | 466/5050 [00:09<01:23, 55.20it/s]"
     ]
    },
    {
     "name": "stderr",
     "output_type": "stream",
     "text": [
      "\r",
      "MUSE:   9%|▉         | 476/5050 [00:09<01:25, 53.69it/s]"
     ]
    },
    {
     "name": "stderr",
     "output_type": "stream",
     "text": [
      "\r",
      "MUSE:  10%|▉         | 486/5050 [00:09<01:13, 62.12it/s]"
     ]
    },
    {
     "name": "stderr",
     "output_type": "stream",
     "text": [
      "\r",
      "MUSE:  10%|▉         | 493/5050 [00:09<01:22, 55.52it/s]"
     ]
    },
    {
     "name": "stderr",
     "output_type": "stream",
     "text": [
      "\r",
      "MUSE:  10%|▉         | 503/5050 [00:10<01:11, 63.82it/s]"
     ]
    },
    {
     "name": "stderr",
     "output_type": "stream",
     "text": [
      "\r",
      "MUSE:  10%|█         | 510/5050 [00:10<02:09, 35.00it/s]"
     ]
    },
    {
     "name": "stderr",
     "output_type": "stream",
     "text": [
      "\r",
      "MUSE:  10%|█         | 519/5050 [00:10<01:57, 38.47it/s]"
     ]
    },
    {
     "name": "stderr",
     "output_type": "stream",
     "text": [
      "\r",
      "MUSE:  10%|█         | 529/5050 [00:10<01:34, 47.64it/s]"
     ]
    },
    {
     "name": "stderr",
     "output_type": "stream",
     "text": [
      "\r",
      "MUSE:  11%|█         | 536/5050 [00:10<01:37, 46.13it/s]"
     ]
    },
    {
     "name": "stderr",
     "output_type": "stream",
     "text": [
      "\r",
      "MUSE:  11%|█         | 545/5050 [00:11<01:23, 54.27it/s]"
     ]
    },
    {
     "name": "stderr",
     "output_type": "stream",
     "text": [
      "\r",
      "MUSE:  11%|█         | 552/5050 [00:11<01:28, 50.79it/s]"
     ]
    },
    {
     "name": "stderr",
     "output_type": "stream",
     "text": [
      "\r",
      "MUSE:  11%|█         | 562/5050 [00:11<01:14, 59.90it/s]"
     ]
    },
    {
     "name": "stderr",
     "output_type": "stream",
     "text": [
      "\r",
      "MUSE:  11%|█▏        | 569/5050 [00:11<01:22, 54.21it/s]"
     ]
    },
    {
     "name": "stderr",
     "output_type": "stream",
     "text": [
      "\r",
      "MUSE:  11%|█▏        | 579/5050 [00:11<01:25, 52.31it/s]"
     ]
    },
    {
     "name": "stderr",
     "output_type": "stream",
     "text": [
      "\r",
      "MUSE:  12%|█▏        | 588/5050 [00:11<01:14, 59.57it/s]"
     ]
    },
    {
     "name": "stderr",
     "output_type": "stream",
     "text": [
      "\r",
      "MUSE:  12%|█▏        | 595/5050 [00:12<01:24, 52.79it/s]"
     ]
    },
    {
     "name": "stderr",
     "output_type": "stream",
     "text": [
      "\r",
      "MUSE:  12%|█▏        | 604/5050 [00:12<01:13, 60.33it/s]"
     ]
    },
    {
     "name": "stderr",
     "output_type": "stream",
     "text": [
      "\r",
      "MUSE:  12%|█▏        | 611/5050 [00:12<02:12, 33.43it/s]"
     ]
    },
    {
     "name": "stderr",
     "output_type": "stream",
     "text": [
      "\r",
      "MUSE:  12%|█▏        | 620/5050 [00:12<01:45, 41.88it/s]"
     ]
    },
    {
     "name": "stderr",
     "output_type": "stream",
     "text": [
      "\r",
      "MUSE:  12%|█▏        | 627/5050 [00:12<01:46, 41.50it/s]"
     ]
    },
    {
     "name": "stderr",
     "output_type": "stream",
     "text": [
      "\r",
      "MUSE:  13%|█▎        | 636/5050 [00:12<01:27, 50.22it/s]"
     ]
    },
    {
     "name": "stderr",
     "output_type": "stream",
     "text": [
      "\r",
      "MUSE:  13%|█▎        | 643/5050 [00:13<01:33, 47.23it/s]"
     ]
    },
    {
     "name": "stderr",
     "output_type": "stream",
     "text": [
      "\r",
      "MUSE:  13%|█▎        | 652/5050 [00:13<01:18, 55.94it/s]"
     ]
    },
    {
     "name": "stderr",
     "output_type": "stream",
     "text": [
      "\r",
      "MUSE:  13%|█▎        | 659/5050 [00:13<01:27, 50.35it/s]"
     ]
    },
    {
     "name": "stderr",
     "output_type": "stream",
     "text": [
      "\r",
      "MUSE:  13%|█▎        | 668/5050 [00:13<01:30, 48.52it/s]"
     ]
    },
    {
     "name": "stderr",
     "output_type": "stream",
     "text": [
      "\r",
      "MUSE:  13%|█▎        | 677/5050 [00:13<01:17, 56.57it/s]"
     ]
    },
    {
     "name": "stderr",
     "output_type": "stream",
     "text": [
      "\r",
      "MUSE:  14%|█▎        | 684/5050 [00:13<01:25, 51.14it/s]"
     ]
    },
    {
     "name": "stderr",
     "output_type": "stream",
     "text": [
      "\r",
      "MUSE:  14%|█▎        | 693/5050 [00:14<01:13, 59.38it/s]"
     ]
    },
    {
     "name": "stderr",
     "output_type": "stream",
     "text": [
      "\r",
      "MUSE:  14%|█▍        | 700/5050 [00:14<01:22, 53.02it/s]"
     ]
    },
    {
     "name": "stderr",
     "output_type": "stream",
     "text": [
      "\r",
      "MUSE: 100%|██████████| 5050/5050 [00:14<00:00, 5995.60it/s]"
     ]
    },
    {
     "name": "stderr",
     "output_type": "stream",
     "text": [
      "\r",
      "MUSE: 100%|██████████| 5050/5050 [00:14<00:00, 346.93it/s] "
     ]
    },
    {
     "name": "stderr",
     "output_type": "stream",
     "text": [
      "\n"
     ]
    },
    {
     "name": "stderr",
     "output_type": "stream",
     "text": [
      "\r",
      "get_H:   0%|          | 0/30 [00:00<?, ?it/s]"
     ]
    },
    {
     "name": "stderr",
     "output_type": "stream",
     "text": [
      "\r",
      "get_H:  20%|██        | 6/30 [00:00<00:00, 32.65it/s]"
     ]
    },
    {
     "name": "stderr",
     "output_type": "stream",
     "text": [
      "\r",
      "get_H:  43%|████▎     | 13/30 [00:00<00:00, 47.63it/s]"
     ]
    },
    {
     "name": "stderr",
     "output_type": "stream",
     "text": [
      "\r",
      "get_H:  67%|██████▋   | 20/30 [00:00<00:00, 54.95it/s]"
     ]
    },
    {
     "name": "stderr",
     "output_type": "stream",
     "text": [
      "\r",
      "get_H:  87%|████████▋ | 26/30 [00:00<00:00, 44.26it/s]"
     ]
    },
    {
     "name": "stderr",
     "output_type": "stream",
     "text": [
      "\r",
      "get_H: 100%|██████████| 30/30 [00:00<00:00, 46.88it/s]"
     ]
    },
    {
     "name": "stderr",
     "output_type": "stream",
     "text": [
      "\n"
     ]
    }
   ],
   "source": [
    "prob = PyMCMuseProblem(model)\n",
    "tic()\n",
    "result = prob.solve(θ_start=0, rng=np.random.SeedSequence(1), progress=True)\n",
    "t_muse = toc()"
   ]
  },
  {
   "cell_type": "markdown",
   "id": "c9ed22bc",
   "metadata": {},
   "source": [
    "Now lets plot the two estimates. In this case, MUSE gives a nearly perfect answer at a fraction of the computational cost.\n"
   ]
  },
  {
   "cell_type": "code",
   "execution_count": 8,
   "id": "7e293bed",
   "metadata": {
    "execution": {
     "iopub.execute_input": "2022-06-03T05:57:15.672338Z",
     "iopub.status.busy": "2022-06-03T05:57:15.671962Z",
     "iopub.status.idle": "2022-06-03T05:57:16.016273Z",
     "shell.execute_reply": "2022-06-03T05:57:16.015652Z"
    }
   },
   "outputs": [
    {
     "data": {
      "image/png": "[encoded data removed]",
      "text/plain": [
       "<Figure size 432x360 with 1 Axes>"
      ]
     },
     "metadata": {
      "needs_background": "light"
     },
     "output_type": "display_data"
    }
   ],
   "source": [
    "figure(figsize=(6,5))\n",
    "axvline(0, c=\"k\", ls=\"--\", alpha=0.5)\n",
    "hist(\n",
    "    chain[\"posterior\"][\"θ\"].to_series(), \n",
    "    bins=30, density=True, alpha=0.5, color=\"C0\",\n",
    "    label=\"NUTS (%.2fs)\"%t_hmc\n",
    ")\n",
    "θs = linspace(*xlim())\n",
    "plot(\n",
    "    θs, stats.norm(result.θ, sqrt(result.Σ[0,0])).pdf(θs), \n",
    "    color=\"C1\", label=\"MUSE (%.2fs)\"%t_muse\n",
    ")\n",
    "legend()\n",
    "xlabel(r\"$\\theta$\")\n",
    "ylabel(r\"$\\mathcal{P}(\\theta\\,|\\,x)$\")\n",
    "title(\"10000-dimensional noisy funnel\");"
   ]
  },
  {
   "cell_type": "markdown",
   "id": "ee2d26a9",
   "metadata": {},
   "source": [
    "The timing difference is indicative of the speedups over HMC that are possible. These get even more dramatic as we increase dimensionality, and 1-3 orders of magnitude are not atypical for high-dimensional problems.\n"
   ]
  }
 ],
 "metadata": {
  "jupytext": {
   "formats": "md,ipynb",
   "text_representation": {
    "extension": ".md",
    "format_name": "markdown",
    "format_version": "1.3",
    "jupytext_version": "1.13.8"
   }
  },
  "kernelspec": {
   "display_name": "Python 3.9.7 ('.venv': poetry)",
   "language": "python",
   "name": "python3"
  },
  "language_info": {
   "codemirror_mode": {
    "name": "ipython",
    "version": 3
   },
   "file_extension": ".py",
   "mimetype": "text/x-python",
   "name": "python",
   "nbconvert_exporter": "python",
   "pygments_lexer": "ipython3",
   "version": "3.9.13"
  }
 },
 "nbformat": 4,
 "nbformat_minor": 5
}
