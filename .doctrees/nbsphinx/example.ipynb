{
 "cells": [
  {
   "cell_type": "markdown",
   "id": "7dad4be6",
   "metadata": {},
   "source": [
    "# Example"
   ]
  },
  {
   "cell_type": "markdown",
   "id": "3cf563f2",
   "metadata": {},
   "source": [
    "This package allows defining your inference problem with:\n",
    "\n",
    "* the [PyMC](https://docs.pymc.io/) probabilistic programming language\n",
    "* by coding up the posterior by-hand and using [Jax](https://jax.readthedocs.io/) to automatically compute the necessary posterior gradients\n",
    "* by specifying the posterior and its gradients completely by-hand\n",
    "\n",
    "We'll start with PyMC, since it is the easiest. First, load up the relevant packages:"
   ]
  },
  {
   "cell_type": "code",
   "execution_count": 1,
   "id": "df40b7b3",
   "metadata": {
    "execution": {
     "iopub.execute_input": "2022-06-09T18:05:04.250351Z",
     "iopub.status.busy": "2022-06-09T18:05:04.249970Z",
     "iopub.status.idle": "2022-06-09T18:05:06.522905Z",
     "shell.execute_reply": "2022-06-09T18:05:06.521738Z"
    }
   },
   "outputs": [
    {
     "name": "stdout",
     "output_type": "stream",
     "text": [
      "Populating the interactive namespace from numpy and matplotlib\n"
     ]
    }
   ],
   "source": [
    "%pylab inline\n",
    "from scipy import stats\n",
    "import pymc as pm\n",
    "from ttictoc import tic, toc\n",
    "from muse_inference.pymc import PyMCMuseProblem"
   ]
  },
  {
   "cell_type": "code",
   "execution_count": 2,
   "id": "d89b7ec5",
   "metadata": {
    "execution": {
     "iopub.execute_input": "2022-06-09T18:05:06.527860Z",
     "iopub.status.busy": "2022-06-09T18:05:06.527250Z",
     "iopub.status.idle": "2022-06-09T18:05:06.568226Z",
     "shell.execute_reply": "2022-06-09T18:05:06.567325Z"
    },
    "nbsphinx": "hidden",
    "tags": []
   },
   "outputs": [],
   "source": [
    "%config InlineBackend.print_figure_kwargs = {'bbox_inches': 'tight', 'dpi': 110}\n",
    "%load_ext autoreload\n",
    "%autoreload 2\n",
    "import logging, warnings\n",
    "logging.getLogger(\"pymc\").setLevel(logging.FATAL)\n",
    "warnings.filterwarnings(\"ignore\")"
   ]
  },
  {
   "cell_type": "markdown",
   "id": "80709517",
   "metadata": {},
   "source": [
    "As an example, consider the following hierarchical problem, which has the classic [Neal's Funnel](https://mc-stan.org/docs/2_18/stan-users-guide/reparameterization-section.html) problem embedded in it. Neal's funnel is a standard example of a non-Gaussian latent space which HMC struggles to sample efficiently without extra tricks. Specifically, we consider the model defined by:\n",
    "\n",
    "$$\n",
    "\\begin{aligned}\n",
    "\\theta &\\sim {\\rm Normal(0,3)} \\\\ \n",
    "z_i &\\sim {\\rm Normal}(0,\\exp(\\theta/2)) \\\\ \n",
    "x_i &\\sim {\\rm Normal}(z_i, 1)\n",
    "\\end{aligned}\n",
    "$$\n",
    "\n",
    "for $i=1..10000$. This problem can be described by the following PyMC model:"
   ]
  },
  {
   "cell_type": "code",
   "execution_count": 3,
   "id": "979cbf50",
   "metadata": {
    "execution": {
     "iopub.execute_input": "2022-06-09T18:05:06.573312Z",
     "iopub.status.busy": "2022-06-09T18:05:06.573028Z",
     "iopub.status.idle": "2022-06-09T18:05:06.596807Z",
     "shell.execute_reply": "2022-06-09T18:05:06.595972Z"
    }
   },
   "outputs": [],
   "source": [
    "def gen_funnel(x=None, θ=None):\n",
    "    with pm.Model() as funnel:\n",
    "        θ = pm.Normal(\"θ\", mu=0, sigma=3) if θ is None else θ\n",
    "        z = pm.Normal(\"z\", mu=0, sigma=np.exp(θ/2), size=10000)\n",
    "        x = pm.Normal(\"x\", mu=z, sigma=1, observed=x)\n",
    "    return funnel"
   ]
  },
  {
   "cell_type": "markdown",
   "id": "63f7b90c",
   "metadata": {},
   "source": [
    "Next, lets choose a true value of $\\theta=0$ and generate some simulated data, $x$, which we'll use as \"observations\":"
   ]
  },
  {
   "cell_type": "code",
   "execution_count": 4,
   "id": "fb533a13",
   "metadata": {
    "execution": {
     "iopub.execute_input": "2022-06-09T18:05:06.601701Z",
     "iopub.status.busy": "2022-06-09T18:05:06.601421Z",
     "iopub.status.idle": "2022-06-09T18:05:07.635778Z",
     "shell.execute_reply": "2022-06-09T18:05:07.634727Z"
    }
   },
   "outputs": [],
   "source": [
    "with gen_funnel(θ=0):\n",
    "    x_obs = pm.sample_prior_predictive(1, random_seed=0).prior.x[0,0]\n",
    "model = gen_funnel(x=x_obs)"
   ]
  },
  {
   "cell_type": "code",
   "execution_count": 5,
   "id": "f09c98b1",
   "metadata": {
    "execution": {
     "iopub.execute_input": "2022-06-09T18:05:07.645957Z",
     "iopub.status.busy": "2022-06-09T18:05:07.645018Z",
     "iopub.status.idle": "2022-06-09T18:06:36.623342Z",
     "shell.execute_reply": "2022-06-09T18:06:36.622007Z"
    },
    "nbsphinx": "hidden",
    "tags": []
   },
   "outputs": [],
   "source": [
    "# warmup so timing results are more fair\n",
    "with model:\n",
    "    pm.sample(10, tune=10, cores=1, chains=1, discard_tuned_samples=False, random_seed=0, progressbar=False)\n",
    "    pm.fit(10, method=\"advi\", obj_n_mc=10, tf_n_mc=10, progressbar=False)\n",
    "prob = PyMCMuseProblem(model)\n",
    "result = prob.solve(θ_start=0, nsims=10, maxsteps=2)"
   ]
  },
  {
   "cell_type": "markdown",
   "id": "9b497c6b",
   "metadata": {},
   "source": [
    "We can run HMC on the problem to compute the \"true\" answer to compare against:"
   ]
  },
  {
   "cell_type": "code",
   "execution_count": 6,
   "id": "fe38859f",
   "metadata": {
    "execution": {
     "iopub.execute_input": "2022-06-09T18:06:36.629738Z",
     "iopub.status.busy": "2022-06-09T18:06:36.629104Z",
     "iopub.status.idle": "2022-06-09T18:07:00.327250Z",
     "shell.execute_reply": "2022-06-09T18:07:00.326425Z"
    }
   },
   "outputs": [
    {
     "data": {
      "text/html": [
       "\n",
       "<style>\n",
       "    /* Turns off some styling */\n",
       "    progress {\n",
       "        /* gets rid of default border in Firefox and Opera. */\n",
       "        border: none;\n",
       "        /* Needs to be in here for Safari polyfill so background images work as expected. */\n",
       "        background-size: auto;\n",
       "    }\n",
       "    .progress-bar-interrupted, .progress-bar-interrupted::-webkit-progress-bar {\n",
       "        background: #F44336;\n",
       "    }\n",
       "</style>\n"
      ],
      "text/plain": [
       "<IPython.core.display.HTML object>"
      ]
     },
     "metadata": {},
     "output_type": "display_data"
    },
    {
     "data": {
      "text/html": [
       "\n",
       "    <div>\n",
       "      <progress value='1000' class='' max='1000' style='width:300px; height:20px; vertical-align: middle;'></progress>\n",
       "      100.00% [1000/1000 00:21<00:00 Sampling chain 0, 0 divergences]\n",
       "    </div>\n",
       "    "
      ],
      "text/plain": [
       "<IPython.core.display.HTML object>"
      ]
     },
     "metadata": {},
     "output_type": "display_data"
    }
   ],
   "source": [
    "with model:\n",
    "    tic()\n",
    "    np.random.seed(1)\n",
    "    chain = pm.sample(500, tune=500, chains=1, discard_tuned_samples=False)\n",
    "    t_hmc = toc()"
   ]
  },
  {
   "cell_type": "markdown",
   "id": "1d5a9ae8",
   "metadata": {},
   "source": [
    "We next compute the MUSE estimate for the same problem. To reach the same Monte Carlo error as HMC, the number of MUSE simulations should be the same as the effective sample size of the chain we just ran. This is:"
   ]
  },
  {
   "cell_type": "code",
   "execution_count": 7,
   "id": "88cb7f9f",
   "metadata": {
    "execution": {
     "iopub.execute_input": "2022-06-09T18:07:00.331786Z",
     "iopub.status.busy": "2022-06-09T18:07:00.331296Z",
     "iopub.status.idle": "2022-06-09T18:07:07.560202Z",
     "shell.execute_reply": "2022-06-09T18:07:07.559350Z"
    }
   },
   "outputs": [
    {
     "data": {
      "text/plain": [
       "38"
      ]
     },
     "execution_count": 7,
     "metadata": {},
     "output_type": "execute_result"
    }
   ],
   "source": [
    "nsims = int(pm.ess(chain)[\"θ\"])\n",
    "nsims"
   ]
  },
  {
   "cell_type": "markdown",
   "id": "8259bd20",
   "metadata": {},
   "source": [
    "Running the MUSE estimate, "
   ]
  },
  {
   "cell_type": "code",
   "execution_count": 8,
   "id": "a04585de",
   "metadata": {
    "execution": {
     "iopub.execute_input": "2022-06-09T18:07:07.564800Z",
     "iopub.status.busy": "2022-06-09T18:07:07.564250Z",
     "iopub.status.idle": "2022-06-09T18:07:13.622239Z",
     "shell.execute_reply": "2022-06-09T18:07:13.621362Z"
    }
   },
   "outputs": [
    {
     "name": "stderr",
     "output_type": "stream",
     "text": [
      "\r",
      "MUSE:   0%|          | 0/1950 [00:00<?, ?it/s]"
     ]
    },
    {
     "name": "stderr",
     "output_type": "stream",
     "text": [
      "\r",
      "MUSE:   0%|          | 7/1950 [00:00<00:30, 63.63it/s]"
     ]
    },
    {
     "name": "stderr",
     "output_type": "stream",
     "text": [
      "\r",
      "MUSE:   1%|          | 14/1950 [00:00<01:00, 31.99it/s]"
     ]
    },
    {
     "name": "stderr",
     "output_type": "stream",
     "text": [
      "\r",
      "MUSE:   1%|          | 21/1950 [00:00<00:46, 41.42it/s]"
     ]
    },
    {
     "name": "stderr",
     "output_type": "stream",
     "text": [
      "\r",
      "MUSE:   1%|▏         | 28/1950 [00:00<00:39, 48.25it/s]"
     ]
    },
    {
     "name": "stderr",
     "output_type": "stream",
     "text": [
      "\r",
      "MUSE:   2%|▏         | 34/1950 [00:00<00:54, 35.42it/s]"
     ]
    },
    {
     "name": "stderr",
     "output_type": "stream",
     "text": [
      "\r",
      "MUSE:   2%|▏         | 40/1950 [00:01<00:50, 37.98it/s]"
     ]
    },
    {
     "name": "stderr",
     "output_type": "stream",
     "text": [
      "\r",
      "MUSE:   2%|▏         | 45/1950 [00:01<01:02, 30.65it/s]"
     ]
    },
    {
     "name": "stderr",
     "output_type": "stream",
     "text": [
      "\r",
      "MUSE:   3%|▎         | 52/1950 [00:01<00:49, 38.04it/s]"
     ]
    },
    {
     "name": "stderr",
     "output_type": "stream",
     "text": [
      "\r",
      "MUSE:   3%|▎         | 59/1950 [00:01<00:42, 44.52it/s]"
     ]
    },
    {
     "name": "stderr",
     "output_type": "stream",
     "text": [
      "\r",
      "MUSE:   3%|▎         | 65/1950 [00:01<00:54, 34.53it/s]"
     ]
    },
    {
     "name": "stderr",
     "output_type": "stream",
     "text": [
      "\r",
      "MUSE:   4%|▎         | 72/1950 [00:01<00:45, 40.92it/s]"
     ]
    },
    {
     "name": "stderr",
     "output_type": "stream",
     "text": [
      "\r",
      "MUSE:   4%|▍         | 79/1950 [00:01<00:43, 42.70it/s]"
     ]
    },
    {
     "name": "stderr",
     "output_type": "stream",
     "text": [
      "\r",
      "MUSE:   4%|▍         | 84/1950 [00:02<00:56, 33.25it/s]"
     ]
    },
    {
     "name": "stderr",
     "output_type": "stream",
     "text": [
      "\r",
      "MUSE:   5%|▍         | 91/1950 [00:02<00:46, 39.93it/s]"
     ]
    },
    {
     "name": "stderr",
     "output_type": "stream",
     "text": [
      "\r",
      "MUSE:   5%|▍         | 97/1950 [00:02<00:56, 32.86it/s]"
     ]
    },
    {
     "name": "stderr",
     "output_type": "stream",
     "text": [
      "\r",
      "MUSE:   5%|▌         | 104/1950 [00:02<00:46, 39.34it/s]"
     ]
    },
    {
     "name": "stderr",
     "output_type": "stream",
     "text": [
      "\r",
      "MUSE:   6%|▌         | 111/1950 [00:02<00:40, 45.28it/s]"
     ]
    },
    {
     "name": "stderr",
     "output_type": "stream",
     "text": [
      "\r",
      "MUSE:   6%|▌         | 117/1950 [00:03<00:51, 35.53it/s]"
     ]
    },
    {
     "name": "stderr",
     "output_type": "stream",
     "text": [
      "\r",
      "MUSE:   6%|▋         | 122/1950 [00:03<00:49, 37.25it/s]"
     ]
    },
    {
     "name": "stderr",
     "output_type": "stream",
     "text": [
      "\r",
      "MUSE:   7%|▋         | 129/1950 [00:03<00:41, 43.86it/s]"
     ]
    },
    {
     "name": "stderr",
     "output_type": "stream",
     "text": [
      "\r",
      "MUSE:   7%|▋         | 135/1950 [00:03<00:52, 34.56it/s]"
     ]
    },
    {
     "name": "stderr",
     "output_type": "stream",
     "text": [
      "\r",
      "MUSE:   7%|▋         | 142/1950 [00:03<00:44, 40.97it/s]"
     ]
    },
    {
     "name": "stderr",
     "output_type": "stream",
     "text": [
      "\r",
      "MUSE:   8%|▊         | 149/1950 [00:03<00:38, 46.65it/s]"
     ]
    },
    {
     "name": "stderr",
     "output_type": "stream",
     "text": [
      "\r",
      "MUSE:   8%|▊         | 155/1950 [00:04<00:49, 36.16it/s]"
     ]
    },
    {
     "name": "stderr",
     "output_type": "stream",
     "text": [
      "\r",
      "MUSE: 100%|██████████| 1950/1950 [00:04<00:00, 475.92it/s]"
     ]
    },
    {
     "name": "stderr",
     "output_type": "stream",
     "text": [
      "\n"
     ]
    },
    {
     "name": "stderr",
     "output_type": "stream",
     "text": [
      "\r",
      "get_H:   0%|          | 0/9 [00:00<?, ?it/s]"
     ]
    },
    {
     "name": "stderr",
     "output_type": "stream",
     "text": [
      "\r",
      "get_H:  67%|██████▋   | 6/9 [00:00<00:00, 59.21it/s]"
     ]
    },
    {
     "name": "stderr",
     "output_type": "stream",
     "text": [
      "\r",
      "get_H: 100%|██████████| 9/9 [00:00<00:00, 58.59it/s]"
     ]
    },
    {
     "name": "stderr",
     "output_type": "stream",
     "text": [
      "\n"
     ]
    }
   ],
   "source": [
    "prob = PyMCMuseProblem(model)\n",
    "rng = np.random.SeedSequence(1)\n",
    "tic()\n",
    "result = prob.solve(θ_start=0, nsims=nsims, rng=rng, progress=True, save_MAP_history=True)\n",
    "t_muse = toc()"
   ]
  },
  {
   "cell_type": "markdown",
   "id": "8342e96f",
   "metadata": {},
   "source": [
    "Lets also try mean-field variational inference (MFVI) to compare to another approximate method."
   ]
  },
  {
   "cell_type": "code",
   "execution_count": 9,
   "id": "ee21df74",
   "metadata": {
    "execution": {
     "iopub.execute_input": "2022-06-09T18:07:13.627056Z",
     "iopub.status.busy": "2022-06-09T18:07:13.626356Z",
     "iopub.status.idle": "2022-06-09T18:08:56.011714Z",
     "shell.execute_reply": "2022-06-09T18:08:56.010709Z"
    }
   },
   "outputs": [
    {
     "data": {
      "text/html": [
       "\n",
       "<style>\n",
       "    /* Turns off some styling */\n",
       "    progress {\n",
       "        /* gets rid of default border in Firefox and Opera. */\n",
       "        border: none;\n",
       "        /* Needs to be in here for Safari polyfill so background images work as expected. */\n",
       "        background-size: auto;\n",
       "    }\n",
       "    .progress-bar-interrupted, .progress-bar-interrupted::-webkit-progress-bar {\n",
       "        background: #F44336;\n",
       "    }\n",
       "</style>\n"
      ],
      "text/plain": [
       "<IPython.core.display.HTML object>"
      ]
     },
     "metadata": {},
     "output_type": "display_data"
    },
    {
     "data": {
      "text/html": [
       "\n",
       "    <div>\n",
       "      <progress value='10000' class='' max='10000' style='width:300px; height:20px; vertical-align: middle;'></progress>\n",
       "      100.00% [10000/10000 01:39<00:00 Average Loss = 17,685]\n",
       "    </div>\n",
       "    "
      ],
      "text/plain": [
       "<IPython.core.display.HTML object>"
      ]
     },
     "metadata": {},
     "output_type": "display_data"
    }
   ],
   "source": [
    "with model:\n",
    "    tic()\n",
    "    mfvi = pm.fit(10000, method=\"advi\", obj_n_mc=10, tf_n_mc=10)\n",
    "    t_mfvi = toc()"
   ]
  },
  {
   "cell_type": "markdown",
   "id": "9353c4c2",
   "metadata": {},
   "source": [
    "Now lets plot the different estimates. In this case, MUSE gives a nearly perfect answer using only a fraction posterior gradient calls. MFVI struggles in both speed and accuracy by comparison."
   ]
  },
  {
   "cell_type": "code",
   "execution_count": 10,
   "id": "8d7da497",
   "metadata": {
    "execution": {
     "iopub.execute_input": "2022-06-09T18:08:56.017885Z",
     "iopub.status.busy": "2022-06-09T18:08:56.017570Z",
     "iopub.status.idle": "2022-06-09T18:09:06.964419Z",
     "shell.execute_reply": "2022-06-09T18:09:06.963498Z"
    }
   },
   "outputs": [
    {
     "data": {
      "image/png": "[encoded data removed]",
      "text/plain": [
       "<Figure size 432x360 with 1 Axes>"
      ]
     },
     "metadata": {
      "needs_background": "light"
     },
     "output_type": "display_data"
    }
   ],
   "source": [
    "figure(figsize=(6,5))\n",
    "axvline(0, c=\"k\", ls=\"--\", alpha=0.5)\n",
    "ncalls_hmc = sum(chain.sample_stats[\"n_steps\"]) + sum(chain.warmup_sample_stats[\"n_steps\"])\n",
    "hist(\n",
    "    chain[\"posterior\"][\"θ\"].to_series(), \n",
    "    bins=30, density=True, alpha=0.5, color=\"C0\",\n",
    "    label=\"HMC (%.2fs, %i ∇logP calls)\"%(t_hmc, ncalls_hmc)\n",
    ")\n",
    "θs = linspace(*xlim())\n",
    "ncalls_muse = sum(\n",
    "    [s.nfev for h in result.history for s in [h[\"MAP_history_dat\"]]+h[\"MAP_history_sims\"]]\n",
    ")\n",
    "plot(\n",
    "    θs, stats.norm(result.θ[\"θ\"], sqrt(result.Σ[0,0])).pdf(θs), \n",
    "    color=\"C1\", label=\"MUSE (%.2fs,  %i ∇logP calls)\"%(t_muse, ncalls_muse)\n",
    ")\n",
    "hist(\n",
    "    mfvi.sample(1000)[\"posterior\"][\"θ\"].to_series(), \n",
    "    bins=30, density=True, alpha=0.5, color=\"C2\",\n",
    "    label=\"MFVI (%.2fs)\"%t_mfvi\n",
    ")\n",
    "ylim(0, ylim()[1]*1.2)\n",
    "legend(frameon=True)\n",
    "xlabel(r\"$\\theta$\")\n",
    "ylabel(r\"$\\mathcal{P}(\\theta\\,|\\,x)$\")\n",
    "title(\"10000-dimensional noisy funnel\");"
   ]
  },
  {
   "cell_type": "markdown",
   "id": "998b5789",
   "metadata": {},
   "source": [
    "Note that due to PyMC overhead, the timing difference between HMC and MUSE is less drastic than the number of gradient calls would imply. For more realistic and expensive posterior functions, this overhead becomes negligible and you can see speedups of 10-100X or more (depending on problem and latent space dimensoinality). If you are working with small problems and need less overhead, the Jax or Numpy interfaces will be faster (or even consider using the Julia package [MuseInference.jl](https://cosmicmar.com/MuseInference.jl) which is the fastest of all options)."
   ]
  }
 ],
 "metadata": {
  "jupytext": {
   "formats": "md,ipynb",
   "text_representation": {
    "extension": ".md",
    "format_name": "markdown",
    "format_version": "1.3",
    "jupytext_version": "1.13.6"
   }
  },
  "kernelspec": {
   "display_name": "Python 3.9.7 ('.venv': poetry)",
   "language": "python",
   "name": "python3"
  },
  "language_info": {
   "codemirror_mode": {
    "name": "ipython",
    "version": 3
   },
   "file_extension": ".py",
   "mimetype": "text/x-python",
   "name": "python",
   "nbconvert_exporter": "python",
   "pygments_lexer": "ipython3",
   "version": "3.9.13"
  }
 },
 "nbformat": 4,
 "nbformat_minor": 5
}
