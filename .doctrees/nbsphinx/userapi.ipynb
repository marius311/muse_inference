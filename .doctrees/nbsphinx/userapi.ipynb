{
 "cells": [
  {
   "cell_type": "markdown",
   "id": "baf79eb4",
   "metadata": {},
   "source": [
    "# User API"
   ]
  },
  {
   "cell_type": "code",
   "execution_count": 1,
   "id": "ebbe8475",
   "metadata": {
    "execution": {
     "iopub.execute_input": "2022-06-05T08:47:46.449101Z",
     "iopub.status.busy": "2022-06-05T08:47:46.448607Z",
     "iopub.status.idle": "2022-06-05T08:47:46.472831Z",
     "shell.execute_reply": "2022-06-05T08:47:46.472238Z"
    },
    "nbsphinx": "hidden",
    "tags": []
   },
   "outputs": [],
   "source": [
    "%config InlineBackend.print_figure_kwargs = {'bbox_inches': 'tight', 'dpi': 110}\n",
    "%load_ext autoreload\n",
    "%autoreload 2\n",
    "import logging, warnings\n",
    "logging.getLogger(\"pymc\").setLevel(logging.FATAL)\n",
    "warnings.filterwarnings(\"ignore\")"
   ]
  },
  {
   "cell_type": "markdown",
   "id": "058ca52e",
   "metadata": {},
   "source": [
    "## PyMC"
   ]
  },
  {
   "cell_type": "markdown",
   "id": "f4046d9f",
   "metadata": {},
   "source": [
    "The [Example](example.html) page introduces how to use *muse-inference* for a problem defined with PyMC. Here we consider a more complex problem to highlight additional features. In particular:\n",
    "\n",
    "* We can estimate any number of parameters with any shapes. Here we have a 2-dimensional array $\\mu$ and a scalar $\\theta$. Note that by default, *muse-inference* considers any variables which do not depend on others as \"parameters\" (i.e. the \"leaves\" of the probabilistic graph). However, the algorithm is not limited to such parameters, and any choice can be selected by providing a list of `params` to the `PyMCMuseProblem` constructor.\n",
    "\n",
    "* We can work with distributions with limited domain support. For example, below we use the $\\rm Beta$ distribution with support on $(0,1)$ and the $\\rm LogNormal$ distribution with support on $(0,\\infty)$. All necessary transformations are handled internally.\n",
    "\n",
    "* The data and latent space can include any number of variables, with any shapes. Below we demonstrate an $x$ and $z$ which are 2-dimensional arrays. \n",
    "\n",
    "First, load the relevant packages:"
   ]
  },
  {
   "cell_type": "code",
   "execution_count": 2,
   "id": "e3e203b6",
   "metadata": {
    "execution": {
     "iopub.execute_input": "2022-06-05T08:47:46.476350Z",
     "iopub.status.busy": "2022-06-05T08:47:46.475778Z",
     "iopub.status.idle": "2022-06-05T08:47:48.266716Z",
     "shell.execute_reply": "2022-06-05T08:47:48.266012Z"
    }
   },
   "outputs": [
    {
     "name": "stdout",
     "output_type": "stream",
     "text": [
      "Populating the interactive namespace from numpy and matplotlib\n"
     ]
    }
   ],
   "source": [
    "%pylab inline\n",
    "import pymc as pm\n",
    "from muse_inference.pymc import PyMCMuseProblem"
   ]
  },
  {
   "cell_type": "markdown",
   "id": "1717a2f6",
   "metadata": {},
   "source": [
    "Then define the problem,"
   ]
  },
  {
   "cell_type": "code",
   "execution_count": 3,
   "id": "a7b92835",
   "metadata": {
    "execution": {
     "iopub.execute_input": "2022-06-05T08:47:48.271178Z",
     "iopub.status.busy": "2022-06-05T08:47:48.270670Z",
     "iopub.status.idle": "2022-06-05T08:47:48.291659Z",
     "shell.execute_reply": "2022-06-05T08:47:48.291080Z"
    }
   },
   "outputs": [],
   "source": [
    "def gen_funnel(x=None, σ=None, μ=None, rng=None):\n",
    "    with pm.Model(rng_seeder=rng) as model:\n",
    "        μ = pm.Beta(\"μ\", 2, 5, size=2) if μ is None else μ\n",
    "        σ = pm.Normal(\"σ\", 0, 3) if σ is None else σ\n",
    "        z = pm.LogNormal(\"z\", μ, np.exp(σ/2), size=(100, 2))\n",
    "        x = pm.Normal(\"x\", z, 1, observed=x)\n",
    "    return model"
   ]
  },
  {
   "cell_type": "markdown",
   "id": "addb2415",
   "metadata": {},
   "source": [
    "generate the model and some data, given some chosen true values of parameters,"
   ]
  },
  {
   "cell_type": "code",
   "execution_count": 4,
   "id": "2abe683a",
   "metadata": {
    "execution": {
     "iopub.execute_input": "2022-06-05T08:47:48.294770Z",
     "iopub.status.busy": "2022-06-05T08:47:48.294153Z",
     "iopub.status.idle": "2022-06-05T08:48:36.811573Z",
     "shell.execute_reply": "2022-06-05T08:48:36.810739Z"
    }
   },
   "outputs": [],
   "source": [
    "θ_true = dict(μ=[0.3, 0.7], σ=1)\n",
    "x_obs = pm.sample_prior_predictive(1, gen_funnel(rng=RandomState(0), **θ_true)).prior.x[0,0]\n",
    "model = gen_funnel(x=x_obs)\n",
    "prob = PyMCMuseProblem(model)"
   ]
  },
  {
   "cell_type": "markdown",
   "id": "19aa5082",
   "metadata": {},
   "source": [
    "and finally, run MUSE:"
   ]
  },
  {
   "cell_type": "code",
   "execution_count": 5,
   "id": "1f2c7654",
   "metadata": {
    "execution": {
     "iopub.execute_input": "2022-06-05T08:48:36.815734Z",
     "iopub.status.busy": "2022-06-05T08:48:36.815136Z",
     "iopub.status.idle": "2022-06-05T08:48:47.691479Z",
     "shell.execute_reply": "2022-06-05T08:48:47.690950Z"
    }
   },
   "outputs": [
    {
     "name": "stderr",
     "output_type": "stream",
     "text": [
      "\r",
      "MUSE:   0%|          | 0/5050 [00:00<?, ?it/s]"
     ]
    },
    {
     "name": "stderr",
     "output_type": "stream",
     "text": [
      "\r",
      "MUSE:   0%|          | 9/5050 [00:00<00:58, 85.72it/s]"
     ]
    },
    {
     "name": "stderr",
     "output_type": "stream",
     "text": [
      "\r",
      "MUSE:   0%|          | 18/5050 [00:00<00:59, 85.26it/s]"
     ]
    },
    {
     "name": "stderr",
     "output_type": "stream",
     "text": [
      "\r",
      "MUSE:   1%|          | 28/5050 [00:00<00:56, 89.25it/s]"
     ]
    },
    {
     "name": "stderr",
     "output_type": "stream",
     "text": [
      "\r",
      "MUSE:   1%|          | 37/5050 [00:00<01:00, 83.01it/s]"
     ]
    },
    {
     "name": "stderr",
     "output_type": "stream",
     "text": [
      "\r",
      "MUSE:   1%|          | 46/5050 [00:00<00:58, 85.02it/s]"
     ]
    },
    {
     "name": "stderr",
     "output_type": "stream",
     "text": [
      "\r",
      "MUSE:   1%|          | 55/5050 [00:00<00:57, 86.24it/s]"
     ]
    },
    {
     "name": "stderr",
     "output_type": "stream",
     "text": [
      "\r",
      "MUSE:   1%|▏         | 64/5050 [00:00<00:58, 84.80it/s]"
     ]
    },
    {
     "name": "stderr",
     "output_type": "stream",
     "text": [
      "\r",
      "MUSE:   1%|▏         | 74/5050 [00:00<00:56, 87.72it/s]"
     ]
    },
    {
     "name": "stderr",
     "output_type": "stream",
     "text": [
      "\r",
      "MUSE:   2%|▏         | 84/5050 [00:00<00:54, 90.67it/s]"
     ]
    },
    {
     "name": "stderr",
     "output_type": "stream",
     "text": [
      "\r",
      "MUSE:   2%|▏         | 94/5050 [00:01<00:54, 90.67it/s]"
     ]
    },
    {
     "name": "stderr",
     "output_type": "stream",
     "text": [
      "\r",
      "MUSE:   2%|▏         | 104/5050 [00:01<01:24, 58.51it/s]"
     ]
    },
    {
     "name": "stderr",
     "output_type": "stream",
     "text": [
      "\r",
      "MUSE:   2%|▏         | 112/5050 [00:01<01:21, 60.89it/s]"
     ]
    },
    {
     "name": "stderr",
     "output_type": "stream",
     "text": [
      "\r",
      "MUSE:   2%|▏         | 120/5050 [00:01<01:17, 63.26it/s]"
     ]
    },
    {
     "name": "stderr",
     "output_type": "stream",
     "text": [
      "\r",
      "MUSE:   3%|▎         | 128/5050 [00:01<01:16, 64.29it/s]"
     ]
    },
    {
     "name": "stderr",
     "output_type": "stream",
     "text": [
      "\r",
      "MUSE:   3%|▎         | 136/5050 [00:01<01:20, 60.80it/s]"
     ]
    },
    {
     "name": "stderr",
     "output_type": "stream",
     "text": [
      "\r",
      "MUSE:   3%|▎         | 143/5050 [00:01<01:21, 59.99it/s]"
     ]
    },
    {
     "name": "stderr",
     "output_type": "stream",
     "text": [
      "\r",
      "MUSE:   3%|▎         | 151/5050 [00:02<01:18, 62.49it/s]"
     ]
    },
    {
     "name": "stderr",
     "output_type": "stream",
     "text": [
      "\r",
      "MUSE:   3%|▎         | 159/5050 [00:02<01:15, 65.00it/s]"
     ]
    },
    {
     "name": "stderr",
     "output_type": "stream",
     "text": [
      "\r",
      "MUSE:   3%|▎         | 166/5050 [00:02<01:18, 62.48it/s]"
     ]
    },
    {
     "name": "stderr",
     "output_type": "stream",
     "text": [
      "\r",
      "MUSE:   3%|▎         | 173/5050 [00:02<01:18, 61.91it/s]"
     ]
    },
    {
     "name": "stderr",
     "output_type": "stream",
     "text": [
      "\r",
      "MUSE:   4%|▎         | 182/5050 [00:02<01:13, 66.14it/s]"
     ]
    },
    {
     "name": "stderr",
     "output_type": "stream",
     "text": [
      "\r",
      "MUSE:   4%|▎         | 189/5050 [00:02<01:13, 66.42it/s]"
     ]
    },
    {
     "name": "stderr",
     "output_type": "stream",
     "text": [
      "\r",
      "MUSE:   4%|▍         | 196/5050 [00:02<01:20, 60.15it/s]"
     ]
    },
    {
     "name": "stderr",
     "output_type": "stream",
     "text": [
      "\r",
      "MUSE:   4%|▍         | 203/5050 [00:03<01:55, 41.98it/s]"
     ]
    },
    {
     "name": "stderr",
     "output_type": "stream",
     "text": [
      "\r",
      "MUSE:   4%|▍         | 212/5050 [00:03<01:34, 51.24it/s]"
     ]
    },
    {
     "name": "stderr",
     "output_type": "stream",
     "text": [
      "\r",
      "MUSE:   4%|▍         | 222/5050 [00:03<01:20, 60.29it/s]"
     ]
    },
    {
     "name": "stderr",
     "output_type": "stream",
     "text": [
      "\r",
      "MUSE:   5%|▍         | 233/5050 [00:03<01:07, 71.84it/s]"
     ]
    },
    {
     "name": "stderr",
     "output_type": "stream",
     "text": [
      "\r",
      "MUSE:   5%|▍         | 242/5050 [00:03<01:05, 73.01it/s]"
     ]
    },
    {
     "name": "stderr",
     "output_type": "stream",
     "text": [
      "\r",
      "MUSE:   5%|▍         | 251/5050 [00:03<01:03, 75.10it/s]"
     ]
    },
    {
     "name": "stderr",
     "output_type": "stream",
     "text": [
      "\r",
      "MUSE:   5%|▌         | 261/5050 [00:03<00:58, 81.48it/s]"
     ]
    },
    {
     "name": "stderr",
     "output_type": "stream",
     "text": [
      "\r",
      "MUSE:   5%|▌         | 271/5050 [00:03<00:56, 84.72it/s]"
     ]
    },
    {
     "name": "stderr",
     "output_type": "stream",
     "text": [
      "\r",
      "MUSE:   6%|▌         | 280/5050 [00:03<00:55, 85.90it/s]"
     ]
    },
    {
     "name": "stderr",
     "output_type": "stream",
     "text": [
      "\r",
      "MUSE:   6%|▌         | 289/5050 [00:04<00:56, 84.70it/s]"
     ]
    },
    {
     "name": "stderr",
     "output_type": "stream",
     "text": [
      "\r",
      "MUSE:   6%|▌         | 299/5050 [00:04<00:54, 86.64it/s]"
     ]
    },
    {
     "name": "stderr",
     "output_type": "stream",
     "text": [
      "\r",
      "MUSE:   6%|▌         | 308/5050 [00:04<01:21, 58.12it/s]"
     ]
    },
    {
     "name": "stderr",
     "output_type": "stream",
     "text": [
      "\r",
      "MUSE:   6%|▋         | 326/5050 [00:04<00:56, 83.38it/s]"
     ]
    },
    {
     "name": "stderr",
     "output_type": "stream",
     "text": [
      "\r",
      "MUSE:   7%|▋         | 341/5050 [00:04<00:47, 98.12it/s]"
     ]
    },
    {
     "name": "stderr",
     "output_type": "stream",
     "text": [
      "\r",
      "MUSE:   7%|▋         | 360/5050 [00:04<00:39, 118.71it/s]"
     ]
    },
    {
     "name": "stderr",
     "output_type": "stream",
     "text": [
      "\r",
      "MUSE:   7%|▋         | 374/5050 [00:04<00:41, 113.84it/s]"
     ]
    },
    {
     "name": "stderr",
     "output_type": "stream",
     "text": [
      "\r",
      "MUSE:   8%|▊         | 391/5050 [00:05<00:36, 127.48it/s]"
     ]
    },
    {
     "name": "stderr",
     "output_type": "stream",
     "text": [
      "\r",
      "MUSE:   8%|▊         | 405/5050 [00:05<00:52, 88.43it/s] "
     ]
    },
    {
     "name": "stderr",
     "output_type": "stream",
     "text": [
      "\r",
      "MUSE:   8%|▊         | 424/5050 [00:05<00:43, 107.47it/s]"
     ]
    },
    {
     "name": "stderr",
     "output_type": "stream",
     "text": [
      "\r",
      "MUSE:   9%|▉         | 443/5050 [00:05<00:36, 125.20it/s]"
     ]
    },
    {
     "name": "stderr",
     "output_type": "stream",
     "text": [
      "\r",
      "MUSE:   9%|▉         | 458/5050 [00:05<00:35, 128.14it/s]"
     ]
    },
    {
     "name": "stderr",
     "output_type": "stream",
     "text": [
      "\r",
      "MUSE:   9%|▉         | 477/5050 [00:05<00:31, 143.62it/s]"
     ]
    },
    {
     "name": "stderr",
     "output_type": "stream",
     "text": [
      "\r",
      "MUSE:  10%|▉         | 498/5050 [00:05<00:28, 158.88it/s]"
     ]
    },
    {
     "name": "stderr",
     "output_type": "stream",
     "text": [
      "\r",
      "MUSE:  10%|█         | 516/5050 [00:06<00:40, 112.39it/s]"
     ]
    },
    {
     "name": "stderr",
     "output_type": "stream",
     "text": [
      "\r",
      "MUSE:  11%|█         | 536/5050 [00:06<00:34, 130.39it/s]"
     ]
    },
    {
     "name": "stderr",
     "output_type": "stream",
     "text": [
      "\r",
      "MUSE:  11%|█         | 562/5050 [00:06<00:28, 156.45it/s]"
     ]
    },
    {
     "name": "stderr",
     "output_type": "stream",
     "text": [
      "\r",
      "MUSE:  12%|█▏        | 585/5050 [00:06<00:25, 171.93it/s]"
     ]
    },
    {
     "name": "stderr",
     "output_type": "stream",
     "text": [
      "\r",
      "MUSE:  12%|█▏        | 607/5050 [00:06<00:34, 127.62it/s]"
     ]
    },
    {
     "name": "stderr",
     "output_type": "stream",
     "text": [
      "\r",
      "MUSE:  12%|█▏        | 629/5050 [00:06<00:30, 144.20it/s]"
     ]
    },
    {
     "name": "stderr",
     "output_type": "stream",
     "text": [
      "\r",
      "MUSE:  13%|█▎        | 653/5050 [00:06<00:26, 163.47it/s]"
     ]
    },
    {
     "name": "stderr",
     "output_type": "stream",
     "text": [
      "\r",
      "MUSE:  13%|█▎        | 681/5050 [00:07<00:23, 189.94it/s]"
     ]
    },
    {
     "name": "stderr",
     "output_type": "stream",
     "text": [
      "\r",
      "MUSE:  14%|█▍        | 708/5050 [00:07<00:29, 145.76it/s]"
     ]
    },
    {
     "name": "stderr",
     "output_type": "stream",
     "text": [
      "\r",
      "MUSE:  15%|█▍        | 741/5050 [00:07<00:23, 181.91it/s]"
     ]
    },
    {
     "name": "stderr",
     "output_type": "stream",
     "text": [
      "\r",
      "MUSE:  15%|█▌        | 770/5050 [00:07<00:21, 203.72it/s]"
     ]
    },
    {
     "name": "stderr",
     "output_type": "stream",
     "text": [
      "\r",
      "MUSE:  16%|█▌        | 800/5050 [00:07<00:19, 222.65it/s]"
     ]
    },
    {
     "name": "stderr",
     "output_type": "stream",
     "text": [
      "\r",
      "MUSE:  16%|█▋        | 826/5050 [00:07<00:24, 170.66it/s]"
     ]
    },
    {
     "name": "stderr",
     "output_type": "stream",
     "text": [
      "\r",
      "MUSE:  18%|█▊        | 904/5050 [00:07<00:13, 297.50it/s]"
     ]
    },
    {
     "name": "stderr",
     "output_type": "stream",
     "text": [
      "\r",
      "MUSE:  19%|█▊        | 942/5050 [00:08<00:17, 239.85it/s]"
     ]
    },
    {
     "name": "stderr",
     "output_type": "stream",
     "text": [
      "\r",
      "MUSE:  20%|██        | 1011/5050 [00:08<00:16, 243.87it/s]"
     ]
    },
    {
     "name": "stderr",
     "output_type": "stream",
     "text": [
      "\r",
      "MUSE:  22%|██▏       | 1100/5050 [00:08<00:11, 355.87it/s]"
     ]
    },
    {
     "name": "stderr",
     "output_type": "stream",
     "text": [
      "\r",
      "MUSE:  23%|██▎       | 1148/5050 [00:08<00:13, 293.53it/s]"
     ]
    },
    {
     "name": "stderr",
     "output_type": "stream",
     "text": [
      "\r",
      "MUSE: 100%|██████████| 5050/5050 [00:09<00:00, 5578.41it/s]"
     ]
    },
    {
     "name": "stderr",
     "output_type": "stream",
     "text": [
      "\r",
      "MUSE: 100%|██████████| 5050/5050 [00:09<00:00, 556.60it/s] "
     ]
    },
    {
     "name": "stderr",
     "output_type": "stream",
     "text": [
      "\n"
     ]
    },
    {
     "name": "stderr",
     "output_type": "stream",
     "text": [
      "\r",
      "get_H:   0%|          | 0/70 [00:00<?, ?it/s]"
     ]
    },
    {
     "name": "stderr",
     "output_type": "stream",
     "text": [
      "\r",
      "get_H:   6%|▌         | 4/70 [00:00<00:01, 38.98it/s]"
     ]
    },
    {
     "name": "stderr",
     "output_type": "stream",
     "text": [
      "\r",
      "get_H:  11%|█▏        | 8/70 [00:00<00:01, 36.20it/s]"
     ]
    },
    {
     "name": "stderr",
     "output_type": "stream",
     "text": [
      "\r",
      "get_H:  19%|█▊        | 13/70 [00:00<00:01, 39.57it/s]"
     ]
    },
    {
     "name": "stderr",
     "output_type": "stream",
     "text": [
      "\r",
      "get_H:  24%|██▍       | 17/70 [00:00<00:01, 39.16it/s]"
     ]
    },
    {
     "name": "stderr",
     "output_type": "stream",
     "text": [
      "\r",
      "get_H:  30%|███       | 21/70 [00:00<00:01, 39.26it/s]"
     ]
    },
    {
     "name": "stderr",
     "output_type": "stream",
     "text": [
      "\r",
      "get_H:  37%|███▋      | 26/70 [00:00<00:01, 42.15it/s]"
     ]
    },
    {
     "name": "stderr",
     "output_type": "stream",
     "text": [
      "\r",
      "get_H:  44%|████▍     | 31/70 [00:00<00:00, 44.35it/s]"
     ]
    },
    {
     "name": "stderr",
     "output_type": "stream",
     "text": [
      "\r",
      "get_H:  51%|█████▏    | 36/70 [00:00<00:00, 44.61it/s]"
     ]
    },
    {
     "name": "stderr",
     "output_type": "stream",
     "text": [
      "\r",
      "get_H:  60%|██████    | 42/70 [00:00<00:00, 46.15it/s]"
     ]
    },
    {
     "name": "stderr",
     "output_type": "stream",
     "text": [
      "\r",
      "get_H:  67%|██████▋   | 47/70 [00:01<00:00, 45.96it/s]"
     ]
    },
    {
     "name": "stderr",
     "output_type": "stream",
     "text": [
      "\r",
      "get_H:  74%|███████▍  | 52/70 [00:01<00:00, 46.06it/s]"
     ]
    },
    {
     "name": "stderr",
     "output_type": "stream",
     "text": [
      "\r",
      "get_H:  83%|████████▎ | 58/70 [00:01<00:00, 49.51it/s]"
     ]
    },
    {
     "name": "stderr",
     "output_type": "stream",
     "text": [
      "\r",
      "get_H:  90%|█████████ | 63/70 [00:01<00:00, 46.95it/s]"
     ]
    },
    {
     "name": "stderr",
     "output_type": "stream",
     "text": [
      "\r",
      "get_H:  97%|█████████▋| 68/70 [00:01<00:00, 46.43it/s]"
     ]
    },
    {
     "name": "stderr",
     "output_type": "stream",
     "text": [
      "\r",
      "get_H: 100%|██████████| 70/70 [00:01<00:00, 44.36it/s]"
     ]
    },
    {
     "name": "stderr",
     "output_type": "stream",
     "text": [
      "\n"
     ]
    }
   ],
   "source": [
    "θ_start = dict(μ=[0.5, 0.5], σ=0)\n",
    "result = prob.solve(θ_start=θ_start, progress=True)"
   ]
  },
  {
   "cell_type": "markdown",
   "id": "0d5321ac",
   "metadata": {},
   "source": [
    "When there are multiple parameters, the starting guess should be specified as as a dictionary, as above.\n",
    "\n",
    "The parameter estimate is returned as a dictionary,"
   ]
  },
  {
   "cell_type": "code",
   "execution_count": 6,
   "id": "79079b8c",
   "metadata": {
    "execution": {
     "iopub.execute_input": "2022-06-05T08:48:47.694466Z",
     "iopub.status.busy": "2022-06-05T08:48:47.694052Z",
     "iopub.status.idle": "2022-06-05T08:48:47.731944Z",
     "shell.execute_reply": "2022-06-05T08:48:47.731443Z"
    }
   },
   "outputs": [
    {
     "data": {
      "text/plain": [
       "{'μ': array([0.33948043, 0.52322182]), 'σ': array(0.79285756)}"
      ]
     },
     "execution_count": 6,
     "metadata": {},
     "output_type": "execute_result"
    }
   ],
   "source": [
    "result.θ"
   ]
  },
  {
   "cell_type": "markdown",
   "id": "c94c056a",
   "metadata": {},
   "source": [
    " and the covariance as matrix, with parameters concatenated in the order they appear in the model (or in the order specified in `params`, if that was used):"
   ]
  },
  {
   "cell_type": "code",
   "execution_count": 7,
   "id": "51124ac7",
   "metadata": {
    "execution": {
     "iopub.execute_input": "2022-06-05T08:48:47.734743Z",
     "iopub.status.busy": "2022-06-05T08:48:47.734348Z",
     "iopub.status.idle": "2022-06-05T08:48:47.771109Z",
     "shell.execute_reply": "2022-06-05T08:48:47.770621Z"
    }
   },
   "outputs": [
    {
     "data": {
      "text/plain": [
       "array([[ 0.02566017,  0.00588293, -0.00267772],\n",
       "       [ 0.00588293,  0.01675884, -0.00143907],\n",
       "       [-0.00267772, -0.00143907,  0.00938469]])"
      ]
     },
     "execution_count": 7,
     "metadata": {},
     "output_type": "execute_result"
    }
   ],
   "source": [
    "result.Σ"
   ]
  },
  {
   "cell_type": "markdown",
   "id": "e0bcbfa0",
   "metadata": {},
   "source": [
    "The `result.ravel` and `result.unravel` functions can be used to convert between dictionary and vector representations of the parameters. For example, to compute the standard deviation for each parameter (the square root of the diagonal of the covariance):"
   ]
  },
  {
   "cell_type": "code",
   "execution_count": 8,
   "id": "665705d9",
   "metadata": {
    "execution": {
     "iopub.execute_input": "2022-06-05T08:48:47.773865Z",
     "iopub.status.busy": "2022-06-05T08:48:47.773456Z",
     "iopub.status.idle": "2022-06-05T08:48:47.795583Z",
     "shell.execute_reply": "2022-06-05T08:48:47.795000Z"
    }
   },
   "outputs": [
    {
     "data": {
      "text/plain": [
       "{'μ': array([0.16018792, 0.12945595]), 'σ': array(0.09687461)}"
      ]
     },
     "execution_count": 8,
     "metadata": {},
     "output_type": "execute_result"
    }
   ],
   "source": [
    "result.unravel(np.sqrt(np.diag(result.Σ)))"
   ]
  },
  {
   "cell_type": "markdown",
   "id": "8fe23f22",
   "metadata": {},
   "source": [
    "or to convert the mean parameters to a vector:"
   ]
  },
  {
   "cell_type": "code",
   "execution_count": 9,
   "id": "01c21e27",
   "metadata": {
    "execution": {
     "iopub.execute_input": "2022-06-05T08:48:47.798371Z",
     "iopub.status.busy": "2022-06-05T08:48:47.798146Z",
     "iopub.status.idle": "2022-06-05T08:48:47.816874Z",
     "shell.execute_reply": "2022-06-05T08:48:47.816273Z"
    }
   },
   "outputs": [
    {
     "data": {
      "text/plain": [
       "array([0.33948043, 0.52322182, 0.79285756])"
      ]
     },
     "execution_count": 9,
     "metadata": {},
     "output_type": "execute_result"
    }
   ],
   "source": [
    "result.ravel(result.θ)"
   ]
  },
  {
   "cell_type": "markdown",
   "id": "d9006b90",
   "metadata": {},
   "source": [
    "## Jax"
   ]
  },
  {
   "cell_type": "markdown",
   "id": "197f370d",
   "metadata": {},
   "source": [
    "We can also use [Jax](https://jax.readthedocs.io/) to define the problem. In this case we will write out function to generate forward samples and to compute the posterior, and Jax will provide necessary gradients for free. To use Jax, load the necessary packages:"
   ]
  },
  {
   "cell_type": "code",
   "execution_count": 10,
   "id": "98ea07e0",
   "metadata": {
    "execution": {
     "iopub.execute_input": "2022-06-05T08:48:47.819671Z",
     "iopub.status.busy": "2022-06-05T08:48:47.819460Z",
     "iopub.status.idle": "2022-06-05T08:48:48.076743Z",
     "shell.execute_reply": "2022-06-05T08:48:48.076096Z"
    }
   },
   "outputs": [],
   "source": [
    "from functools import partial\n",
    "import jax\n",
    "import jax.numpy as jnp\n",
    "from muse_inference.jax import JittableJaxMuseProblem, JaxMuseProblem"
   ]
  },
  {
   "cell_type": "markdown",
   "id": "970369dd",
   "metadata": {},
   "source": [
    "Let's implement the noisy funnel problem from the [Example](example.html) page. To do so, extend either `JaxMuseProblem`, or, if your code is able to be JIT compiled by Jax, extend `JittableJaxMuseProblem` and decorate the functions with `jax.jit`:"
   ]
  },
  {
   "cell_type": "code",
   "execution_count": 11,
   "id": "a224fc83",
   "metadata": {
    "execution": {
     "iopub.execute_input": "2022-06-05T08:48:48.080640Z",
     "iopub.status.busy": "2022-06-05T08:48:48.079823Z",
     "iopub.status.idle": "2022-06-05T08:48:48.105712Z",
     "shell.execute_reply": "2022-06-05T08:48:48.105143Z"
    }
   },
   "outputs": [],
   "source": [
    "class JaxFunnelMuseProblem(JittableJaxMuseProblem):\n",
    "\n",
    "    def __init__(self, N):\n",
    "        super().__init__()\n",
    "        self.N = N\n",
    "\n",
    "    @partial(jax.jit, static_argnums=0)\n",
    "    def sample_x_z(self, key, θ):\n",
    "        keys = jax.random.split(key, 2)\n",
    "        z = jax.random.normal(keys[0], (self.N,)) * jnp.exp(θ/2)\n",
    "        x = z + jax.random.normal(keys[1], (self.N,))\n",
    "        return (x, z)\n",
    "\n",
    "    @partial(jax.jit, static_argnums=0)\n",
    "    def logLike(self, x, z, θ):\n",
    "        return -(jnp.sum((x - z)**2) + jnp.sum(z**2) / jnp.exp(θ) + 512*θ) / 2\n",
    "\n",
    "    @partial(jax.jit, static_argnums=0)\n",
    "    def logPrior(self, θ):\n",
    "        return -θ**2 / (2*3**2)"
   ]
  },
  {
   "cell_type": "markdown",
   "id": "a9758c21",
   "metadata": {},
   "source": [
    "Now generate some simulated data, which we set into `prob.x`. Note also the use of `PRNGKey` (rather than `RandomState` for PyMC/Numpy) for random number generation. "
   ]
  },
  {
   "cell_type": "code",
   "execution_count": 12,
   "id": "152438a3",
   "metadata": {
    "execution": {
     "iopub.execute_input": "2022-06-05T08:48:48.109224Z",
     "iopub.status.busy": "2022-06-05T08:48:48.108703Z",
     "iopub.status.idle": "2022-06-05T08:48:48.790203Z",
     "shell.execute_reply": "2022-06-05T08:48:48.789543Z"
    }
   },
   "outputs": [
    {
     "name": "stderr",
     "output_type": "stream",
     "text": [
      "WARNING:absl:No GPU/TPU found, falling back to CPU. (Set TF_CPP_MIN_LOG_LEVEL=0 and rerun for more info.)\n"
     ]
    }
   ],
   "source": [
    "prob = JaxFunnelMuseProblem(10000)\n",
    "key = jax.random.PRNGKey(0)\n",
    "(x, z) = prob.sample_x_z(key, 0)\n",
    "prob.x = x"
   ]
  },
  {
   "cell_type": "markdown",
   "id": "b4d42946",
   "metadata": {},
   "source": [
    "And finally, run MUSE:"
   ]
  },
  {
   "cell_type": "code",
   "execution_count": 13,
   "id": "9705ad97",
   "metadata": {
    "execution": {
     "iopub.execute_input": "2022-06-05T08:48:48.794007Z",
     "iopub.status.busy": "2022-06-05T08:48:48.793755Z",
     "iopub.status.idle": "2022-06-05T08:48:59.124262Z",
     "shell.execute_reply": "2022-06-05T08:48:59.123644Z"
    },
    "nbsphinx": "hidden",
    "tags": []
   },
   "outputs": [
    {
     "data": {
      "text/plain": [
       "<muse_inference.muse_inference.MuseResult at 0x7f1df60e6070>"
      ]
     },
     "execution_count": 13,
     "metadata": {},
     "output_type": "execute_result"
    }
   ],
   "source": [
    "prob.solve(θ_start=0., rng=jax.random.PRNGKey(1)) # warmup"
   ]
  },
  {
   "cell_type": "code",
   "execution_count": 14,
   "id": "cb64acb0",
   "metadata": {
    "execution": {
     "iopub.execute_input": "2022-06-05T08:48:59.127424Z",
     "iopub.status.busy": "2022-06-05T08:48:59.126864Z",
     "iopub.status.idle": "2022-06-05T08:48:59.950806Z",
     "shell.execute_reply": "2022-06-05T08:48:59.950156Z"
    }
   },
   "outputs": [
    {
     "name": "stderr",
     "output_type": "stream",
     "text": [
      "\r",
      "MUSE:   0%|          | 0/5050 [00:00<?, ?it/s]"
     ]
    },
    {
     "name": "stderr",
     "output_type": "stream",
     "text": [
      "\r",
      "MUSE:   2%|▏         | 102/5050 [00:00<00:05, 881.90it/s]"
     ]
    },
    {
     "name": "stderr",
     "output_type": "stream",
     "text": [
      "\r",
      "MUSE:   4%|▍         | 203/5050 [00:00<00:07, 674.48it/s]"
     ]
    },
    {
     "name": "stderr",
     "output_type": "stream",
     "text": [
      "\r",
      "MUSE:   6%|▌         | 304/5050 [00:00<00:07, 658.41it/s]"
     ]
    },
    {
     "name": "stderr",
     "output_type": "stream",
     "text": [
      "\r",
      "MUSE:   8%|▊         | 384/5050 [00:00<00:06, 698.97it/s]"
     ]
    },
    {
     "name": "stderr",
     "output_type": "stream",
     "text": [
      "\r",
      "MUSE: 100%|██████████| 5050/5050 [00:00<00:00, 14307.80it/s]"
     ]
    },
    {
     "name": "stderr",
     "output_type": "stream",
     "text": [
      "\r",
      "MUSE: 100%|██████████| 5050/5050 [00:00<00:00, 7746.18it/s] "
     ]
    },
    {
     "name": "stderr",
     "output_type": "stream",
     "text": [
      "\n"
     ]
    },
    {
     "name": "stderr",
     "output_type": "stream",
     "text": [
      "\r",
      "get_H:   0%|          | 0/30 [00:00<?, ?it/s]"
     ]
    },
    {
     "name": "stderr",
     "output_type": "stream",
     "text": [
      "\r",
      "get_H: 100%|██████████| 30/30 [00:00<00:00, 407.97it/s]"
     ]
    },
    {
     "name": "stderr",
     "output_type": "stream",
     "text": [
      "\n"
     ]
    }
   ],
   "source": [
    "result = prob.solve(θ_start=0., rng=jax.random.PRNGKey(1), progress=True)"
   ]
  },
  {
   "cell_type": "markdown",
   "id": "031a8ee6",
   "metadata": {},
   "source": [
    "Note that the solution here is obtained around 10X faster that the PyMC version of this in the [Example](example.html) page (the cloud machines which build these docs don't always achieve the 10X, but you see this if you run these examples locally). The Jax interface has much lower overhead, which will be noticeable for very fast posteriors like the one above. "
   ]
  },
  {
   "cell_type": "markdown",
   "id": "7df7512d",
   "metadata": {},
   "source": [
    "One convenient aspect of using Jax is that the parameters, `θ`, and latent space, `z`, can be any [pytree](https://jax.readthedocs.io/en/latest/pytrees.html), ie tuples, dictionaries, nested combinations of them, etc... (there is no requirement on the data format of the `x` variable). To demonstrate, consider a problem which is just two copies of the noisy funnel problem:"
   ]
  },
  {
   "cell_type": "code",
   "execution_count": 15,
   "id": "8f6668fb",
   "metadata": {
    "execution": {
     "iopub.execute_input": "2022-06-05T08:48:59.954031Z",
     "iopub.status.busy": "2022-06-05T08:48:59.953797Z",
     "iopub.status.idle": "2022-06-05T08:48:59.981441Z",
     "shell.execute_reply": "2022-06-05T08:48:59.980831Z"
    }
   },
   "outputs": [],
   "source": [
    "class JaxPyTreeFunnelMuseProblem(JittableJaxMuseProblem):\n",
    "\n",
    "    def __init__(self, N):\n",
    "        super().__init__()\n",
    "        self.N = N\n",
    "\n",
    "    @partial(jax.jit, static_argnums=0)\n",
    "    def sample_x_z(self, key, θ):\n",
    "        (θ1, θ2) = (θ[\"θ1\"], θ[\"θ2\"])\n",
    "        keys = jax.random.split(key, 4)\n",
    "        z1 = jax.random.normal(keys[0], (self.N,)) * jnp.exp(θ1/2)\n",
    "        z2 = jax.random.normal(keys[1], (self.N,)) * jnp.exp(θ2/2)        \n",
    "        x1 = z1 + jax.random.normal(keys[2], (self.N,))\n",
    "        x2 = z2 + jax.random.normal(keys[3], (self.N,))        \n",
    "        return ({\"x1\":x1, \"x2\":x2}, {\"z1\":z1, \"z2\":z2})\n",
    "\n",
    "    @partial(jax.jit, static_argnums=0)\n",
    "    def logLike(self, x, z, θ):\n",
    "        return (\n",
    "            -(jnp.sum((x[\"x1\"] - z[\"z1\"])**2) + jnp.sum(z[\"z1\"]**2) / jnp.exp(θ[\"θ1\"]) + 512*θ[\"θ1\"]) / 2\n",
    "            -(jnp.sum((x[\"x2\"] - z[\"z2\"])**2) + jnp.sum(z[\"z2\"]**2) / jnp.exp(θ[\"θ2\"]) + 512*θ[\"θ2\"]) / 2\n",
    "        )\n",
    "\n",
    "    @partial(jax.jit, static_argnums=0)\n",
    "    def logPrior(self, θ):\n",
    "        return - θ[\"θ1\"]**2 / (2*3**2) - θ[\"θ2\"]**2 / (2*3**2)"
   ]
  },
  {
   "cell_type": "markdown",
   "id": "9ecab21e",
   "metadata": {},
   "source": [
    "Here, `x`, `θ`, and `z` are all dictionaries. We generate the problem as usual, passing in parameters as dictionaries,"
   ]
  },
  {
   "cell_type": "code",
   "execution_count": 16,
   "id": "d929f3c8",
   "metadata": {
    "execution": {
     "iopub.execute_input": "2022-06-05T08:48:59.984455Z",
     "iopub.status.busy": "2022-06-05T08:48:59.984235Z",
     "iopub.status.idle": "2022-06-05T08:49:00.005296Z",
     "shell.execute_reply": "2022-06-05T08:49:00.004668Z"
    }
   },
   "outputs": [],
   "source": [
    "θ_true = dict(θ1=-1., θ2=2.)\n",
    "θ_start = dict(θ1=0., θ2=0.)"
   ]
  },
  {
   "cell_type": "code",
   "execution_count": 17,
   "id": "92bbb7f3",
   "metadata": {
    "execution": {
     "iopub.execute_input": "2022-06-05T08:49:00.008294Z",
     "iopub.status.busy": "2022-06-05T08:49:00.008059Z",
     "iopub.status.idle": "2022-06-05T08:49:01.032886Z",
     "shell.execute_reply": "2022-06-05T08:49:01.032208Z"
    }
   },
   "outputs": [],
   "source": [
    "prob = JaxPyTreeFunnelMuseProblem(10000)\n",
    "key = jax.random.PRNGKey(0)\n",
    "(x, z) = prob.sample_x_z(key, θ_true)\n",
    "prob.x = x"
   ]
  },
  {
   "cell_type": "markdown",
   "id": "6c76bd77",
   "metadata": {},
   "source": [
    "and run MUSE:"
   ]
  },
  {
   "cell_type": "code",
   "execution_count": 18,
   "id": "cab5a7c9",
   "metadata": {
    "execution": {
     "iopub.execute_input": "2022-06-05T08:49:01.036958Z",
     "iopub.status.busy": "2022-06-05T08:49:01.036417Z",
     "iopub.status.idle": "2022-06-05T08:49:18.649767Z",
     "shell.execute_reply": "2022-06-05T08:49:18.649132Z"
    },
    "nbsphinx": "hidden",
    "tags": []
   },
   "outputs": [
    {
     "data": {
      "text/plain": [
       "<muse_inference.muse_inference.MuseResult at 0x7f1df5265130>"
      ]
     },
     "execution_count": 18,
     "metadata": {},
     "output_type": "execute_result"
    }
   ],
   "source": [
    "prob.solve(θ_start=θ_start, rng=jax.random.PRNGKey(0)) # warmup"
   ]
  },
  {
   "cell_type": "code",
   "execution_count": 19,
   "id": "0c7efafd",
   "metadata": {
    "execution": {
     "iopub.execute_input": "2022-06-05T08:49:18.653487Z",
     "iopub.status.busy": "2022-06-05T08:49:18.652872Z",
     "iopub.status.idle": "2022-06-05T08:49:26.582311Z",
     "shell.execute_reply": "2022-06-05T08:49:26.581363Z"
    }
   },
   "outputs": [
    {
     "name": "stderr",
     "output_type": "stream",
     "text": [
      "\r",
      "MUSE:   0%|          | 0/5050 [00:00<?, ?it/s]"
     ]
    },
    {
     "name": "stderr",
     "output_type": "stream",
     "text": [
      "\r",
      "MUSE:   2%|▏         | 102/5050 [00:00<00:10, 457.60it/s]"
     ]
    },
    {
     "name": "stderr",
     "output_type": "stream",
     "text": [
      "\r",
      "MUSE:   3%|▎         | 148/5050 [00:00<00:11, 443.19it/s]"
     ]
    },
    {
     "name": "stderr",
     "output_type": "stream",
     "text": [
      "\r",
      "MUSE:   4%|▍         | 192/5050 [00:00<00:11, 436.13it/s]"
     ]
    },
    {
     "name": "stderr",
     "output_type": "stream",
     "text": [
      "\r",
      "MUSE:   5%|▍         | 236/5050 [00:00<00:17, 281.97it/s]"
     ]
    },
    {
     "name": "stderr",
     "output_type": "stream",
     "text": [
      "\r",
      "MUSE:   5%|▌         | 269/5050 [00:00<00:16, 283.56it/s]"
     ]
    },
    {
     "name": "stderr",
     "output_type": "stream",
     "text": [
      "\r",
      "MUSE:   6%|▌         | 301/5050 [00:00<00:16, 288.17it/s]"
     ]
    },
    {
     "name": "stderr",
     "output_type": "stream",
     "text": [
      "\r",
      "MUSE:   7%|▋         | 332/5050 [00:01<00:22, 213.68it/s]"
     ]
    },
    {
     "name": "stderr",
     "output_type": "stream",
     "text": [
      "\r",
      "MUSE:   7%|▋         | 358/5050 [00:01<00:21, 222.72it/s]"
     ]
    },
    {
     "name": "stderr",
     "output_type": "stream",
     "text": [
      "\r",
      "MUSE:   8%|▊         | 387/5050 [00:01<00:19, 236.73it/s]"
     ]
    },
    {
     "name": "stderr",
     "output_type": "stream",
     "text": [
      "\r",
      "MUSE:   8%|▊         | 414/5050 [00:01<00:24, 186.28it/s]"
     ]
    },
    {
     "name": "stderr",
     "output_type": "stream",
     "text": [
      "\r",
      "MUSE:   9%|▉         | 447/5050 [00:01<00:21, 215.53it/s]"
     ]
    },
    {
     "name": "stderr",
     "output_type": "stream",
     "text": [
      "\r",
      "MUSE:   9%|▉         | 477/5050 [00:01<00:19, 234.74it/s]"
     ]
    },
    {
     "name": "stderr",
     "output_type": "stream",
     "text": [
      "\r",
      "MUSE:  10%|█         | 506/5050 [00:02<00:24, 186.43it/s]"
     ]
    },
    {
     "name": "stderr",
     "output_type": "stream",
     "text": [
      "\r",
      "MUSE:  11%|█         | 541/5050 [00:02<00:20, 220.67it/s]"
     ]
    },
    {
     "name": "stderr",
     "output_type": "stream",
     "text": [
      "\r",
      "MUSE:  11%|█▏        | 577/5050 [00:02<00:17, 251.56it/s]"
     ]
    },
    {
     "name": "stderr",
     "output_type": "stream",
     "text": [
      "\r",
      "MUSE:  12%|█▏        | 607/5050 [00:02<00:22, 200.32it/s]"
     ]
    },
    {
     "name": "stderr",
     "output_type": "stream",
     "text": [
      "\r",
      "MUSE:  13%|█▎        | 640/5050 [00:02<00:19, 226.24it/s]"
     ]
    },
    {
     "name": "stderr",
     "output_type": "stream",
     "text": [
      "\r",
      "MUSE:  13%|█▎        | 671/5050 [00:02<00:17, 244.66it/s]"
     ]
    },
    {
     "name": "stderr",
     "output_type": "stream",
     "text": [
      "\r",
      "MUSE:  14%|█▍        | 702/5050 [00:02<00:16, 260.35it/s]"
     ]
    },
    {
     "name": "stderr",
     "output_type": "stream",
     "text": [
      "\r",
      "MUSE:  14%|█▍        | 731/5050 [00:03<00:21, 198.76it/s]"
     ]
    },
    {
     "name": "stderr",
     "output_type": "stream",
     "text": [
      "\r",
      "MUSE:  15%|█▌        | 762/5050 [00:03<00:19, 222.38it/s]"
     ]
    },
    {
     "name": "stderr",
     "output_type": "stream",
     "text": [
      "\r",
      "MUSE:  16%|█▌        | 793/5050 [00:03<00:17, 242.74it/s]"
     ]
    },
    {
     "name": "stderr",
     "output_type": "stream",
     "text": [
      "\r",
      "MUSE:  16%|█▋        | 821/5050 [00:03<00:22, 189.81it/s]"
     ]
    },
    {
     "name": "stderr",
     "output_type": "stream",
     "text": [
      "\r",
      "MUSE:  17%|█▋        | 853/5050 [00:03<00:19, 217.04it/s]"
     ]
    },
    {
     "name": "stderr",
     "output_type": "stream",
     "text": [
      "\r",
      "MUSE:  17%|█▋        | 882/5050 [00:03<00:17, 232.37it/s]"
     ]
    },
    {
     "name": "stderr",
     "output_type": "stream",
     "text": [
      "\r",
      "MUSE:  18%|█▊        | 910/5050 [00:03<00:22, 183.23it/s]"
     ]
    },
    {
     "name": "stderr",
     "output_type": "stream",
     "text": [
      "\r",
      "MUSE:  19%|█▊        | 941/5050 [00:03<00:19, 209.46it/s]"
     ]
    },
    {
     "name": "stderr",
     "output_type": "stream",
     "text": [
      "\r",
      "MUSE:  19%|█▉        | 974/5050 [00:04<00:17, 236.37it/s]"
     ]
    },
    {
     "name": "stderr",
     "output_type": "stream",
     "text": [
      "\r",
      "MUSE:  20%|█▉        | 1003/5050 [00:04<00:16, 248.26it/s]"
     ]
    },
    {
     "name": "stderr",
     "output_type": "stream",
     "text": [
      "\r",
      "MUSE:  20%|██        | 1031/5050 [00:04<00:19, 204.52it/s]"
     ]
    },
    {
     "name": "stderr",
     "output_type": "stream",
     "text": [
      "\r",
      "MUSE:  21%|██▏       | 1080/5050 [00:04<00:14, 269.39it/s]"
     ]
    },
    {
     "name": "stderr",
     "output_type": "stream",
     "text": [
      "\r",
      "MUSE:  22%|██▏       | 1112/5050 [00:04<00:17, 228.19it/s]"
     ]
    },
    {
     "name": "stderr",
     "output_type": "stream",
     "text": [
      "\r",
      "MUSE:  23%|██▎       | 1162/5050 [00:04<00:13, 288.04it/s]"
     ]
    },
    {
     "name": "stderr",
     "output_type": "stream",
     "text": [
      "\r",
      "MUSE:  24%|██▍       | 1212/5050 [00:04<00:11, 338.04it/s]"
     ]
    },
    {
     "name": "stderr",
     "output_type": "stream",
     "text": [
      "\r",
      "MUSE:  25%|██▍       | 1251/5050 [00:05<00:13, 282.13it/s]"
     ]
    },
    {
     "name": "stderr",
     "output_type": "stream",
     "text": [
      "\r",
      "MUSE:  26%|██▌       | 1306/5050 [00:05<00:10, 341.18it/s]"
     ]
    },
    {
     "name": "stderr",
     "output_type": "stream",
     "text": [
      "\r",
      "MUSE:  27%|██▋       | 1346/5050 [00:05<00:13, 282.85it/s]"
     ]
    },
    {
     "name": "stderr",
     "output_type": "stream",
     "text": [
      "\r",
      "MUSE:  28%|██▊       | 1397/5050 [00:05<00:11, 329.58it/s]"
     ]
    },
    {
     "name": "stderr",
     "output_type": "stream",
     "text": [
      "\r",
      "MUSE:  28%|██▊       | 1436/5050 [00:05<00:13, 268.58it/s]"
     ]
    },
    {
     "name": "stderr",
     "output_type": "stream",
     "text": [
      "\r",
      "MUSE:  29%|██▉       | 1479/5050 [00:05<00:11, 301.46it/s]"
     ]
    },
    {
     "name": "stderr",
     "output_type": "stream",
     "text": [
      "\r",
      "MUSE:  30%|███       | 1516/5050 [00:06<00:14, 246.85it/s]"
     ]
    },
    {
     "name": "stderr",
     "output_type": "stream",
     "text": [
      "\r",
      "MUSE:  31%|███       | 1562/5050 [00:06<00:12, 289.96it/s]"
     ]
    },
    {
     "name": "stderr",
     "output_type": "stream",
     "text": [
      "\r",
      "MUSE:  32%|███▏      | 1603/5050 [00:06<00:10, 315.66it/s]"
     ]
    },
    {
     "name": "stderr",
     "output_type": "stream",
     "text": [
      "\r",
      "MUSE:  32%|███▏      | 1640/5050 [00:06<00:13, 256.17it/s]"
     ]
    },
    {
     "name": "stderr",
     "output_type": "stream",
     "text": [
      "\r",
      "MUSE:  33%|███▎      | 1686/5050 [00:06<00:11, 298.28it/s]"
     ]
    },
    {
     "name": "stderr",
     "output_type": "stream",
     "text": [
      "\r",
      "MUSE:  34%|███▍      | 1721/5050 [00:06<00:13, 243.88it/s]"
     ]
    },
    {
     "name": "stderr",
     "output_type": "stream",
     "text": [
      "\r",
      "MUSE:  35%|███▌      | 1774/5050 [00:06<00:10, 301.54it/s]"
     ]
    },
    {
     "name": "stderr",
     "output_type": "stream",
     "text": [
      "\r",
      "MUSE:  36%|███▌      | 1819/5050 [00:07<00:12, 264.26it/s]"
     ]
    },
    {
     "name": "stderr",
     "output_type": "stream",
     "text": [
      "\r",
      "MUSE:  37%|███▋      | 1856/5050 [00:07<00:11, 285.76it/s]"
     ]
    },
    {
     "name": "stderr",
     "output_type": "stream",
     "text": [
      "\r",
      "MUSE:  38%|███▊      | 1894/5050 [00:07<00:10, 305.71it/s]"
     ]
    },
    {
     "name": "stderr",
     "output_type": "stream",
     "text": [
      "\r",
      "MUSE: 100%|██████████| 5050/5050 [00:07<00:00, 6187.61it/s]"
     ]
    },
    {
     "name": "stderr",
     "output_type": "stream",
     "text": [
      "\r",
      "MUSE: 100%|██████████| 5050/5050 [00:07<00:00, 672.81it/s] "
     ]
    },
    {
     "name": "stderr",
     "output_type": "stream",
     "text": [
      "\n"
     ]
    },
    {
     "name": "stderr",
     "output_type": "stream",
     "text": [
      "\r",
      "get_H:   0%|          | 0/50 [00:00<?, ?it/s]"
     ]
    },
    {
     "name": "stderr",
     "output_type": "stream",
     "text": [
      "\r",
      "get_H:  42%|████▏     | 21/50 [00:00<00:00, 200.34it/s]"
     ]
    },
    {
     "name": "stderr",
     "output_type": "stream",
     "text": [
      "\r",
      "get_H:  84%|████████▍ | 42/50 [00:00<00:00, 194.77it/s]"
     ]
    },
    {
     "name": "stderr",
     "output_type": "stream",
     "text": [
      "\r",
      "get_H: 100%|██████████| 50/50 [00:00<00:00, 197.69it/s]"
     ]
    },
    {
     "name": "stderr",
     "output_type": "stream",
     "text": [
      "\n"
     ]
    }
   ],
   "source": [
    "result = prob.solve(θ_start=θ_start, rng=jax.random.PRNGKey(0), progress=True)"
   ]
  },
  {
   "cell_type": "markdown",
   "id": "5e3cdc7f",
   "metadata": {},
   "source": [
    "The result is returned as a pytree:"
   ]
  },
  {
   "cell_type": "code",
   "execution_count": 20,
   "id": "46c36f4f",
   "metadata": {
    "execution": {
     "iopub.execute_input": "2022-06-05T08:49:26.585397Z",
     "iopub.status.busy": "2022-06-05T08:49:26.585027Z",
     "iopub.status.idle": "2022-06-05T08:49:26.608778Z",
     "shell.execute_reply": "2022-06-05T08:49:26.608194Z"
    }
   },
   "outputs": [
    {
     "data": {
      "text/plain": [
       "{'θ1': DeviceArray(-1.0024003, dtype=float32),\n",
       " 'θ2': DeviceArray(2.0271273, dtype=float32)}"
      ]
     },
     "execution_count": 20,
     "metadata": {},
     "output_type": "execute_result"
    }
   ],
   "source": [
    "result.θ"
   ]
  },
  {
   "cell_type": "markdown",
   "id": "f64a49bb",
   "metadata": {},
   "source": [
    "and the covariance as a matrix:"
   ]
  },
  {
   "cell_type": "code",
   "execution_count": 21,
   "id": "ccce0ff5",
   "metadata": {
    "execution": {
     "iopub.execute_input": "2022-06-05T08:49:26.611727Z",
     "iopub.status.busy": "2022-06-05T08:49:26.611225Z",
     "iopub.status.idle": "2022-06-05T08:49:26.635996Z",
     "shell.execute_reply": "2022-06-05T08:49:26.635415Z"
    }
   },
   "outputs": [
    {
     "data": {
      "text/plain": [
       "array([[ 3.3699032e-03, -1.7559714e-05],\n",
       "       [-1.7559714e-05,  2.4587807e-04]], dtype=float32)"
      ]
     },
     "execution_count": 21,
     "metadata": {},
     "output_type": "execute_result"
    }
   ],
   "source": [
    "result.Σ"
   ]
  },
  {
   "cell_type": "markdown",
   "id": "62db5836",
   "metadata": {},
   "source": [
    "The `result.ravel` and `result.unravel` functions can be used to convert between pytree and vector representations of the parameters. For example, to compute the standard deviation for each parameter (the square root of the diagonal of the covariance):"
   ]
  },
  {
   "cell_type": "code",
   "execution_count": 22,
   "id": "7551939b",
   "metadata": {
    "execution": {
     "iopub.execute_input": "2022-06-05T08:49:26.638627Z",
     "iopub.status.busy": "2022-06-05T08:49:26.638411Z",
     "iopub.status.idle": "2022-06-05T08:49:26.661471Z",
     "shell.execute_reply": "2022-06-05T08:49:26.660877Z"
    }
   },
   "outputs": [
    {
     "data": {
      "text/plain": [
       "{'θ1': DeviceArray(0.05805087, dtype=float32),\n",
       " 'θ2': DeviceArray(0.0156805, dtype=float32)}"
      ]
     },
     "execution_count": 22,
     "metadata": {},
     "output_type": "execute_result"
    }
   ],
   "source": [
    "result.unravel(np.sqrt(np.diag(result.Σ)))"
   ]
  },
  {
   "cell_type": "markdown",
   "id": "8b77ac40",
   "metadata": {},
   "source": [
    "or to convert the mean parameters to a vector:"
   ]
  },
  {
   "cell_type": "code",
   "execution_count": 23,
   "id": "ada53a3e",
   "metadata": {
    "execution": {
     "iopub.execute_input": "2022-06-05T08:49:26.664244Z",
     "iopub.status.busy": "2022-06-05T08:49:26.664019Z",
     "iopub.status.idle": "2022-06-05T08:49:26.688202Z",
     "shell.execute_reply": "2022-06-05T08:49:26.687640Z"
    }
   },
   "outputs": [
    {
     "data": {
      "text/plain": [
       "DeviceArray([-1.0024003,  2.0271273], dtype=float32)"
      ]
     },
     "execution_count": 23,
     "metadata": {},
     "output_type": "execute_result"
    }
   ],
   "source": [
    "result.ravel(result.θ)"
   ]
  }
 ],
 "metadata": {
  "jupytext": {
   "text_representation": {
    "extension": ".md",
    "format_name": "markdown",
    "format_version": "1.3",
    "jupytext_version": "1.13.8"
   }
  },
  "kernelspec": {
   "display_name": "Python 3.9.7 ('.venv': poetry)",
   "language": "python",
   "name": "python3"
  },
  "language_info": {
   "codemirror_mode": {
    "name": "ipython",
    "version": 3
   },
   "file_extension": ".py",
   "mimetype": "text/x-python",
   "name": "python",
   "nbconvert_exporter": "python",
   "pygments_lexer": "ipython3",
   "version": "3.9.13"
  }
 },
 "nbformat": 4,
 "nbformat_minor": 5
}
