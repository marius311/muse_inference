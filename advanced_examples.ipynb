{
 "cells": [
  {
   "cell_type": "markdown",
   "id": "d6d5b86a",
   "metadata": {},
   "source": [
    "# Advanced Examples"
   ]
  },
  {
   "cell_type": "code",
   "execution_count": 1,
   "id": "6a871b58",
   "metadata": {
    "execution": {
     "iopub.execute_input": "2022-08-12T09:03:02.587170Z",
     "iopub.status.busy": "2022-08-12T09:03:02.586711Z",
     "iopub.status.idle": "2022-08-12T09:03:02.685664Z",
     "shell.execute_reply": "2022-08-12T09:03:02.684539Z"
    },
    "nbsphinx": "hidden",
    "tags": []
   },
   "outputs": [],
   "source": [
    "%config InlineBackend.print_figure_kwargs = {'bbox_inches': 'tight', 'dpi': 110}\n",
    "%load_ext autoreload\n",
    "%autoreload 2\n",
    "import logging, warnings\n",
    "logging.getLogger(\"pymc\").setLevel(logging.FATAL)\n",
    "warnings.filterwarnings(\"ignore\")"
   ]
  },
  {
   "cell_type": "markdown",
   "id": "a889d12f",
   "metadata": {},
   "source": [
    "## PyMC"
   ]
  },
  {
   "cell_type": "markdown",
   "id": "b56c3265",
   "metadata": {},
   "source": [
    "The [Example](example.html) page introduces how to use *muse-inference* for a problem defined with PyMC. Here we consider a more complex problem to highlight additional features. In particular:\n",
    "\n",
    "* We can estimate any number of parameters with any shapes. Here we have a 2-dimensional array $\\mu$ and a scalar $\\theta$. Note that by default, *muse-inference* considers any variables which do not depend on others as \"parameters\" (i.e. the \"leaves\" of the probabilistic graph). However, the algorithm is not limited to such parameters, and any choice can be selected by providing a list of `params` to the `PyMCMuseProblem` constructor.\n",
    "\n",
    "* We can work with distributions with limited domain support. For example, below we use the $\\rm Beta$ distribution with support on $(0,1)$ and the $\\rm LogNormal$ distribution with support on $(0,\\infty)$. All necessary transformations are handled internally.\n",
    "\n",
    "* The data and latent space can include any number of variables, with any shapes. Below we demonstrate an $x$ and $z$ which are 2-dimensional arrays. \n",
    "\n",
    "First, load the relevant packages:"
   ]
  },
  {
   "cell_type": "code",
   "execution_count": 2,
   "id": "8e6ba374",
   "metadata": {
    "execution": {
     "iopub.execute_input": "2022-08-12T09:03:02.691123Z",
     "iopub.status.busy": "2022-08-12T09:03:02.690672Z",
     "iopub.status.idle": "2022-08-12T09:03:09.913461Z",
     "shell.execute_reply": "2022-08-12T09:03:09.912091Z"
    }
   },
   "outputs": [
    {
     "name": "stdout",
     "output_type": "stream",
     "text": [
      "Populating the interactive namespace from numpy and matplotlib\n"
     ]
    }
   ],
   "source": [
    "%pylab inline\n",
    "import pymc as pm\n",
    "from muse_inference.pymc import PyMCMuseProblem"
   ]
  },
  {
   "cell_type": "markdown",
   "id": "3359f3b4",
   "metadata": {},
   "source": [
    "Then define the problem,"
   ]
  },
  {
   "cell_type": "code",
   "execution_count": 3,
   "id": "ffbea3bf",
   "metadata": {
    "execution": {
     "iopub.execute_input": "2022-08-12T09:03:09.917944Z",
     "iopub.status.busy": "2022-08-12T09:03:09.917441Z",
     "iopub.status.idle": "2022-08-12T09:03:09.941347Z",
     "shell.execute_reply": "2022-08-12T09:03:09.940465Z"
    }
   },
   "outputs": [],
   "source": [
    "def gen_funnel(x=None, σ=None, μ=None):\n",
    "    with pm.Model() as model:\n",
    "        μ = pm.Beta(\"μ\", 2, 5, size=2) if μ is None else μ\n",
    "        σ = pm.Normal(\"σ\", 0, 3) if σ is None else σ\n",
    "        z = pm.LogNormal(\"z\", μ, np.exp(σ/2), size=(100, 2))\n",
    "        x = pm.Normal(\"x\", z, 1, observed=x)\n",
    "    return model"
   ]
  },
  {
   "cell_type": "markdown",
   "id": "601ae1ef",
   "metadata": {},
   "source": [
    "generate the model and some data, given some chosen true values of parameters,"
   ]
  },
  {
   "cell_type": "code",
   "execution_count": 4,
   "id": "c482be12",
   "metadata": {
    "execution": {
     "iopub.execute_input": "2022-08-12T09:03:09.945344Z",
     "iopub.status.busy": "2022-08-12T09:03:09.945036Z",
     "iopub.status.idle": "2022-08-12T09:04:52.941159Z",
     "shell.execute_reply": "2022-08-12T09:04:52.939853Z"
    }
   },
   "outputs": [],
   "source": [
    "θ_true = dict(μ=[0.3, 0.7], σ=1)\n",
    "with gen_funnel(**θ_true):\n",
    "    x_obs = pm.sample_prior_predictive(1, random_seed=0).prior.x[0,0]\n",
    "model = gen_funnel(x=x_obs)\n",
    "prob = PyMCMuseProblem(model)"
   ]
  },
  {
   "cell_type": "markdown",
   "id": "4ef8da23",
   "metadata": {},
   "source": [
    "and finally, run MUSE:"
   ]
  },
  {
   "cell_type": "code",
   "execution_count": 5,
   "id": "ce0487f4",
   "metadata": {
    "execution": {
     "iopub.execute_input": "2022-08-12T09:04:52.946939Z",
     "iopub.status.busy": "2022-08-12T09:04:52.946222Z",
     "iopub.status.idle": "2022-08-12T09:05:09.295185Z",
     "shell.execute_reply": "2022-08-12T09:05:09.294276Z"
    }
   },
   "outputs": [
    {
     "name": "stderr",
     "output_type": "stream",
     "text": [
      "\r",
      "MUSE:   0%|          | 0/5050 [00:00<?, ?it/s]"
     ]
    },
    {
     "name": "stderr",
     "output_type": "stream",
     "text": [
      "\r",
      "MUSE:   0%|          | 4/5050 [00:00<02:14, 37.56it/s]"
     ]
    },
    {
     "name": "stderr",
     "output_type": "stream",
     "text": [
      "\r",
      "MUSE:   0%|          | 8/5050 [00:00<02:09, 38.88it/s]"
     ]
    },
    {
     "name": "stderr",
     "output_type": "stream",
     "text": [
      "\r",
      "MUSE:   0%|          | 13/5050 [00:00<01:57, 42.96it/s]"
     ]
    },
    {
     "name": "stderr",
     "output_type": "stream",
     "text": [
      "\r",
      "MUSE:   0%|          | 19/5050 [00:00<01:46, 47.02it/s]"
     ]
    },
    {
     "name": "stderr",
     "output_type": "stream",
     "text": [
      "\r",
      "MUSE:   0%|          | 24/5050 [00:00<01:53, 44.18it/s]"
     ]
    },
    {
     "name": "stderr",
     "output_type": "stream",
     "text": [
      "\r",
      "MUSE:   1%|          | 29/5050 [00:00<01:59, 42.19it/s]"
     ]
    },
    {
     "name": "stderr",
     "output_type": "stream",
     "text": [
      "\r",
      "MUSE:   1%|          | 35/5050 [00:00<01:50, 45.43it/s]"
     ]
    },
    {
     "name": "stderr",
     "output_type": "stream",
     "text": [
      "\r",
      "MUSE:   1%|          | 40/5050 [00:00<01:52, 44.50it/s]"
     ]
    },
    {
     "name": "stderr",
     "output_type": "stream",
     "text": [
      "\r",
      "MUSE:   1%|          | 45/5050 [00:01<01:51, 44.83it/s]"
     ]
    },
    {
     "name": "stderr",
     "output_type": "stream",
     "text": [
      "\r",
      "MUSE:   1%|          | 50/5050 [00:01<01:52, 44.42it/s]"
     ]
    },
    {
     "name": "stderr",
     "output_type": "stream",
     "text": [
      "\r",
      "MUSE:   1%|          | 55/5050 [00:01<01:53, 43.87it/s]"
     ]
    },
    {
     "name": "stderr",
     "output_type": "stream",
     "text": [
      "\r",
      "MUSE:   1%|          | 61/5050 [00:01<01:47, 46.60it/s]"
     ]
    },
    {
     "name": "stderr",
     "output_type": "stream",
     "text": [
      "\r",
      "MUSE:   1%|▏         | 67/5050 [00:01<01:41, 49.09it/s]"
     ]
    },
    {
     "name": "stderr",
     "output_type": "stream",
     "text": [
      "\r",
      "MUSE:   1%|▏         | 72/5050 [00:01<01:43, 47.98it/s]"
     ]
    },
    {
     "name": "stderr",
     "output_type": "stream",
     "text": [
      "\r",
      "MUSE:   2%|▏         | 78/5050 [00:01<01:46, 46.56it/s]"
     ]
    },
    {
     "name": "stderr",
     "output_type": "stream",
     "text": [
      "\r",
      "MUSE:   2%|▏         | 84/5050 [00:01<01:44, 47.72it/s]"
     ]
    },
    {
     "name": "stderr",
     "output_type": "stream",
     "text": [
      "\r",
      "MUSE:   2%|▏         | 90/5050 [00:01<01:41, 48.66it/s]"
     ]
    },
    {
     "name": "stderr",
     "output_type": "stream",
     "text": [
      "\r",
      "MUSE:   2%|▏         | 95/5050 [00:02<01:42, 48.45it/s]"
     ]
    },
    {
     "name": "stderr",
     "output_type": "stream",
     "text": [
      "\r",
      "MUSE:   2%|▏         | 100/5050 [00:02<01:43, 47.74it/s]"
     ]
    },
    {
     "name": "stderr",
     "output_type": "stream",
     "text": [
      "\r",
      "MUSE:   2%|▏         | 105/5050 [00:02<02:07, 38.75it/s]"
     ]
    },
    {
     "name": "stderr",
     "output_type": "stream",
     "text": [
      "\r",
      "MUSE:   2%|▏         | 110/5050 [00:02<02:11, 37.71it/s]"
     ]
    },
    {
     "name": "stderr",
     "output_type": "stream",
     "text": [
      "\r",
      "MUSE:   2%|▏         | 114/5050 [00:02<02:12, 37.13it/s]"
     ]
    },
    {
     "name": "stderr",
     "output_type": "stream",
     "text": [
      "\r",
      "MUSE:   2%|▏         | 118/5050 [00:02<02:21, 34.94it/s]"
     ]
    },
    {
     "name": "stderr",
     "output_type": "stream",
     "text": [
      "\r",
      "MUSE:   2%|▏         | 122/5050 [00:02<02:19, 35.31it/s]"
     ]
    },
    {
     "name": "stderr",
     "output_type": "stream",
     "text": [
      "\r",
      "MUSE:   2%|▏         | 126/5050 [00:03<02:36, 31.41it/s]"
     ]
    },
    {
     "name": "stderr",
     "output_type": "stream",
     "text": [
      "\r",
      "MUSE:   3%|▎         | 130/5050 [00:03<02:47, 29.31it/s]"
     ]
    },
    {
     "name": "stderr",
     "output_type": "stream",
     "text": [
      "\r",
      "MUSE:   3%|▎         | 135/5050 [00:03<02:33, 31.93it/s]"
     ]
    },
    {
     "name": "stderr",
     "output_type": "stream",
     "text": [
      "\r",
      "MUSE:   3%|▎         | 139/5050 [00:03<02:32, 32.20it/s]"
     ]
    },
    {
     "name": "stderr",
     "output_type": "stream",
     "text": [
      "\r",
      "MUSE:   3%|▎         | 143/5050 [00:03<02:24, 33.98it/s]"
     ]
    },
    {
     "name": "stderr",
     "output_type": "stream",
     "text": [
      "\r",
      "MUSE:   3%|▎         | 147/5050 [00:03<02:22, 34.41it/s]"
     ]
    },
    {
     "name": "stderr",
     "output_type": "stream",
     "text": [
      "\r",
      "MUSE:   3%|▎         | 151/5050 [00:03<02:26, 33.40it/s]"
     ]
    },
    {
     "name": "stderr",
     "output_type": "stream",
     "text": [
      "\r",
      "MUSE:   3%|▎         | 156/5050 [00:03<02:16, 35.85it/s]"
     ]
    },
    {
     "name": "stderr",
     "output_type": "stream",
     "text": [
      "\r",
      "MUSE:   3%|▎         | 160/5050 [00:04<02:14, 36.48it/s]"
     ]
    },
    {
     "name": "stderr",
     "output_type": "stream",
     "text": [
      "\r",
      "MUSE:   3%|▎         | 164/5050 [00:04<02:28, 33.00it/s]"
     ]
    },
    {
     "name": "stderr",
     "output_type": "stream",
     "text": [
      "\r",
      "MUSE:   3%|▎         | 168/5050 [00:04<02:34, 31.60it/s]"
     ]
    },
    {
     "name": "stderr",
     "output_type": "stream",
     "text": [
      "\r",
      "MUSE:   3%|▎         | 172/5050 [00:04<02:41, 30.15it/s]"
     ]
    },
    {
     "name": "stderr",
     "output_type": "stream",
     "text": [
      "\r",
      "MUSE:   3%|▎         | 176/5050 [00:04<02:38, 30.75it/s]"
     ]
    },
    {
     "name": "stderr",
     "output_type": "stream",
     "text": [
      "\r",
      "MUSE:   4%|▎         | 180/5050 [00:04<02:36, 31.14it/s]"
     ]
    },
    {
     "name": "stderr",
     "output_type": "stream",
     "text": [
      "\r",
      "MUSE:   4%|▎         | 184/5050 [00:04<02:36, 31.15it/s]"
     ]
    },
    {
     "name": "stderr",
     "output_type": "stream",
     "text": [
      "\r",
      "MUSE:   4%|▎         | 188/5050 [00:04<02:31, 32.09it/s]"
     ]
    },
    {
     "name": "stderr",
     "output_type": "stream",
     "text": [
      "\r",
      "MUSE:   4%|▍         | 192/5050 [00:05<02:30, 32.17it/s]"
     ]
    },
    {
     "name": "stderr",
     "output_type": "stream",
     "text": [
      "\r",
      "MUSE:   4%|▍         | 196/5050 [00:05<02:23, 33.88it/s]"
     ]
    },
    {
     "name": "stderr",
     "output_type": "stream",
     "text": [
      "\r",
      "MUSE:   4%|▍         | 200/5050 [00:05<02:20, 34.62it/s]"
     ]
    },
    {
     "name": "stderr",
     "output_type": "stream",
     "text": [
      "\r",
      "MUSE:   4%|▍         | 204/5050 [00:05<02:36, 30.87it/s]"
     ]
    },
    {
     "name": "stderr",
     "output_type": "stream",
     "text": [
      "\r",
      "MUSE:   4%|▍         | 209/5050 [00:05<02:21, 34.21it/s]"
     ]
    },
    {
     "name": "stderr",
     "output_type": "stream",
     "text": [
      "\r",
      "MUSE:   4%|▍         | 215/5050 [00:05<01:59, 40.61it/s]"
     ]
    },
    {
     "name": "stderr",
     "output_type": "stream",
     "text": [
      "\r",
      "MUSE:   4%|▍         | 222/5050 [00:05<01:45, 45.79it/s]"
     ]
    },
    {
     "name": "stderr",
     "output_type": "stream",
     "text": [
      "\r",
      "MUSE:   4%|▍         | 227/5050 [00:05<01:47, 45.06it/s]"
     ]
    },
    {
     "name": "stderr",
     "output_type": "stream",
     "text": [
      "\r",
      "MUSE:   5%|▍         | 232/5050 [00:06<01:48, 44.54it/s]"
     ]
    },
    {
     "name": "stderr",
     "output_type": "stream",
     "text": [
      "\r",
      "MUSE:   5%|▍         | 237/5050 [00:06<01:48, 44.34it/s]"
     ]
    },
    {
     "name": "stderr",
     "output_type": "stream",
     "text": [
      "\r",
      "MUSE:   5%|▍         | 242/5050 [00:06<01:52, 42.92it/s]"
     ]
    },
    {
     "name": "stderr",
     "output_type": "stream",
     "text": [
      "\r",
      "MUSE:   5%|▍         | 248/5050 [00:06<01:47, 44.82it/s]"
     ]
    },
    {
     "name": "stderr",
     "output_type": "stream",
     "text": [
      "\r",
      "MUSE:   5%|▌         | 253/5050 [00:06<01:50, 43.60it/s]"
     ]
    },
    {
     "name": "stderr",
     "output_type": "stream",
     "text": [
      "\r",
      "MUSE:   5%|▌         | 258/5050 [00:06<01:48, 44.17it/s]"
     ]
    },
    {
     "name": "stderr",
     "output_type": "stream",
     "text": [
      "\r",
      "MUSE:   5%|▌         | 263/5050 [00:06<01:50, 43.42it/s]"
     ]
    },
    {
     "name": "stderr",
     "output_type": "stream",
     "text": [
      "\r",
      "MUSE:   5%|▌         | 269/5050 [00:06<01:42, 46.64it/s]"
     ]
    },
    {
     "name": "stderr",
     "output_type": "stream",
     "text": [
      "\r",
      "MUSE:   5%|▌         | 275/5050 [00:06<01:39, 47.83it/s]"
     ]
    },
    {
     "name": "stderr",
     "output_type": "stream",
     "text": [
      "\r",
      "MUSE:   6%|▌         | 280/5050 [00:07<01:46, 44.62it/s]"
     ]
    },
    {
     "name": "stderr",
     "output_type": "stream",
     "text": [
      "\r",
      "MUSE:   6%|▌         | 286/5050 [00:07<01:39, 47.68it/s]"
     ]
    },
    {
     "name": "stderr",
     "output_type": "stream",
     "text": [
      "\r",
      "MUSE:   6%|▌         | 292/5050 [00:07<01:38, 48.29it/s]"
     ]
    },
    {
     "name": "stderr",
     "output_type": "stream",
     "text": [
      "\r",
      "MUSE:   6%|▌         | 298/5050 [00:07<01:33, 50.67it/s]"
     ]
    },
    {
     "name": "stderr",
     "output_type": "stream",
     "text": [
      "\r",
      "MUSE:   6%|▌         | 304/5050 [00:07<01:44, 45.35it/s]"
     ]
    },
    {
     "name": "stderr",
     "output_type": "stream",
     "text": [
      "\r",
      "MUSE:   6%|▌         | 313/5050 [00:07<01:23, 56.42it/s]"
     ]
    },
    {
     "name": "stderr",
     "output_type": "stream",
     "text": [
      "\r",
      "MUSE:   6%|▋         | 319/5050 [00:07<01:22, 57.35it/s]"
     ]
    },
    {
     "name": "stderr",
     "output_type": "stream",
     "text": [
      "\r",
      "MUSE:   6%|▋         | 326/5050 [00:07<01:20, 58.49it/s]"
     ]
    },
    {
     "name": "stderr",
     "output_type": "stream",
     "text": [
      "\r",
      "MUSE:   7%|▋         | 333/5050 [00:08<01:26, 54.40it/s]"
     ]
    },
    {
     "name": "stderr",
     "output_type": "stream",
     "text": [
      "\r",
      "MUSE:   7%|▋         | 342/5050 [00:08<01:14, 62.88it/s]"
     ]
    },
    {
     "name": "stderr",
     "output_type": "stream",
     "text": [
      "\r",
      "MUSE:   7%|▋         | 351/5050 [00:08<01:07, 70.04it/s]"
     ]
    },
    {
     "name": "stderr",
     "output_type": "stream",
     "text": [
      "\r",
      "MUSE:   7%|▋         | 359/5050 [00:08<01:07, 69.16it/s]"
     ]
    },
    {
     "name": "stderr",
     "output_type": "stream",
     "text": [
      "\r",
      "MUSE:   7%|▋         | 367/5050 [00:08<01:09, 67.05it/s]"
     ]
    },
    {
     "name": "stderr",
     "output_type": "stream",
     "text": [
      "\r",
      "MUSE:   7%|▋         | 374/5050 [00:08<01:12, 64.92it/s]"
     ]
    },
    {
     "name": "stderr",
     "output_type": "stream",
     "text": [
      "\r",
      "MUSE:   8%|▊         | 384/5050 [00:08<01:03, 74.00it/s]"
     ]
    },
    {
     "name": "stderr",
     "output_type": "stream",
     "text": [
      "\r",
      "MUSE:   8%|▊         | 392/5050 [00:08<01:08, 68.23it/s]"
     ]
    },
    {
     "name": "stderr",
     "output_type": "stream",
     "text": [
      "\r",
      "MUSE:   8%|▊         | 400/5050 [00:08<01:08, 68.15it/s]"
     ]
    },
    {
     "name": "stderr",
     "output_type": "stream",
     "text": [
      "\r",
      "MUSE:   8%|▊         | 407/5050 [00:09<01:19, 58.23it/s]"
     ]
    },
    {
     "name": "stderr",
     "output_type": "stream",
     "text": [
      "\r",
      "MUSE:   8%|▊         | 414/5050 [00:09<01:19, 58.15it/s]"
     ]
    },
    {
     "name": "stderr",
     "output_type": "stream",
     "text": [
      "\r",
      "MUSE:   8%|▊         | 424/5050 [00:09<01:08, 67.23it/s]"
     ]
    },
    {
     "name": "stderr",
     "output_type": "stream",
     "text": [
      "\r",
      "MUSE:   9%|▊         | 434/5050 [00:09<01:01, 74.54it/s]"
     ]
    },
    {
     "name": "stderr",
     "output_type": "stream",
     "text": [
      "\r",
      "MUSE:   9%|▉         | 442/5050 [00:09<01:02, 74.25it/s]"
     ]
    },
    {
     "name": "stderr",
     "output_type": "stream",
     "text": [
      "\r",
      "MUSE:   9%|▉         | 450/5050 [00:09<01:05, 70.24it/s]"
     ]
    },
    {
     "name": "stderr",
     "output_type": "stream",
     "text": [
      "\r",
      "MUSE:   9%|▉         | 459/5050 [00:09<01:01, 74.81it/s]"
     ]
    },
    {
     "name": "stderr",
     "output_type": "stream",
     "text": [
      "\r",
      "MUSE:   9%|▉         | 469/5050 [00:09<00:56, 81.56it/s]"
     ]
    },
    {
     "name": "stderr",
     "output_type": "stream",
     "text": [
      "\r",
      "MUSE:   9%|▉         | 478/5050 [00:10<00:54, 83.50it/s]"
     ]
    },
    {
     "name": "stderr",
     "output_type": "stream",
     "text": [
      "\r",
      "MUSE:  10%|▉         | 487/5050 [00:10<00:54, 84.07it/s]"
     ]
    },
    {
     "name": "stderr",
     "output_type": "stream",
     "text": [
      "\r",
      "MUSE:  10%|▉         | 496/5050 [00:10<00:53, 85.05it/s]"
     ]
    },
    {
     "name": "stderr",
     "output_type": "stream",
     "text": [
      "\r",
      "MUSE:  10%|█         | 505/5050 [00:10<00:57, 79.52it/s]"
     ]
    },
    {
     "name": "stderr",
     "output_type": "stream",
     "text": [
      "\r",
      "MUSE:  10%|█         | 514/5050 [00:10<01:04, 70.22it/s]"
     ]
    },
    {
     "name": "stderr",
     "output_type": "stream",
     "text": [
      "\r",
      "MUSE:  10%|█         | 525/5050 [00:10<00:56, 79.53it/s]"
     ]
    },
    {
     "name": "stderr",
     "output_type": "stream",
     "text": [
      "\r",
      "MUSE:  11%|█         | 535/5050 [00:10<00:53, 83.81it/s]"
     ]
    },
    {
     "name": "stderr",
     "output_type": "stream",
     "text": [
      "\r",
      "MUSE:  11%|█         | 544/5050 [00:10<00:55, 81.87it/s]"
     ]
    },
    {
     "name": "stderr",
     "output_type": "stream",
     "text": [
      "\r",
      "MUSE:  11%|█         | 554/5050 [00:10<00:52, 85.22it/s]"
     ]
    },
    {
     "name": "stderr",
     "output_type": "stream",
     "text": [
      "\r",
      "MUSE:  11%|█         | 563/5050 [00:11<00:52, 85.03it/s]"
     ]
    },
    {
     "name": "stderr",
     "output_type": "stream",
     "text": [
      "\r",
      "MUSE:  11%|█▏        | 572/5050 [00:11<00:52, 84.82it/s]"
     ]
    },
    {
     "name": "stderr",
     "output_type": "stream",
     "text": [
      "\r",
      "MUSE:  12%|█▏        | 581/5050 [00:11<00:55, 80.07it/s]"
     ]
    },
    {
     "name": "stderr",
     "output_type": "stream",
     "text": [
      "\r",
      "MUSE:  12%|█▏        | 592/5050 [00:11<00:51, 86.46it/s]"
     ]
    },
    {
     "name": "stderr",
     "output_type": "stream",
     "text": [
      "\r",
      "MUSE:  12%|█▏        | 602/5050 [00:11<00:49, 89.64it/s]"
     ]
    },
    {
     "name": "stderr",
     "output_type": "stream",
     "text": [
      "\r",
      "MUSE:  12%|█▏        | 612/5050 [00:11<00:57, 77.70it/s]"
     ]
    },
    {
     "name": "stderr",
     "output_type": "stream",
     "text": [
      "\r",
      "MUSE:  12%|█▏        | 625/5050 [00:11<00:50, 87.68it/s]"
     ]
    },
    {
     "name": "stderr",
     "output_type": "stream",
     "text": [
      "\r",
      "MUSE:  13%|█▎        | 639/5050 [00:11<00:43, 100.33it/s]"
     ]
    },
    {
     "name": "stderr",
     "output_type": "stream",
     "text": [
      "\r",
      "MUSE:  13%|█▎        | 650/5050 [00:11<00:43, 100.56it/s]"
     ]
    },
    {
     "name": "stderr",
     "output_type": "stream",
     "text": [
      "\r",
      "MUSE:  13%|█▎        | 663/5050 [00:12<00:41, 104.64it/s]"
     ]
    },
    {
     "name": "stderr",
     "output_type": "stream",
     "text": [
      "\r",
      "MUSE:  13%|█▎        | 677/5050 [00:12<00:38, 113.35it/s]"
     ]
    },
    {
     "name": "stderr",
     "output_type": "stream",
     "text": [
      "\r",
      "MUSE:  14%|█▎        | 690/5050 [00:12<00:37, 117.15it/s]"
     ]
    },
    {
     "name": "stderr",
     "output_type": "stream",
     "text": [
      "\r",
      "MUSE:  14%|█▍        | 702/5050 [00:12<00:38, 113.31it/s]"
     ]
    },
    {
     "name": "stderr",
     "output_type": "stream",
     "text": [
      "\r",
      "MUSE:  14%|█▍        | 714/5050 [00:12<00:46, 93.10it/s] "
     ]
    },
    {
     "name": "stderr",
     "output_type": "stream",
     "text": [
      "\r",
      "MUSE:  14%|█▍        | 726/5050 [00:12<00:43, 99.65it/s]"
     ]
    },
    {
     "name": "stderr",
     "output_type": "stream",
     "text": [
      "\r",
      "MUSE:  15%|█▍        | 744/5050 [00:12<00:36, 119.40it/s]"
     ]
    },
    {
     "name": "stderr",
     "output_type": "stream",
     "text": [
      "\r",
      "MUSE:  15%|█▌        | 760/5050 [00:12<00:33, 128.01it/s]"
     ]
    },
    {
     "name": "stderr",
     "output_type": "stream",
     "text": [
      "\r",
      "MUSE:  15%|█▌        | 778/5050 [00:13<00:30, 140.79it/s]"
     ]
    },
    {
     "name": "stderr",
     "output_type": "stream",
     "text": [
      "\r",
      "MUSE:  16%|█▌        | 796/5050 [00:13<00:28, 150.47it/s]"
     ]
    },
    {
     "name": "stderr",
     "output_type": "stream",
     "text": [
      "\r",
      "MUSE:  16%|█▌        | 812/5050 [00:13<00:34, 124.54it/s]"
     ]
    },
    {
     "name": "stderr",
     "output_type": "stream",
     "text": [
      "\r",
      "MUSE:  16%|█▋        | 827/5050 [00:13<00:32, 129.75it/s]"
     ]
    },
    {
     "name": "stderr",
     "output_type": "stream",
     "text": [
      "\r",
      "MUSE:  17%|█▋        | 843/5050 [00:13<00:30, 136.31it/s]"
     ]
    },
    {
     "name": "stderr",
     "output_type": "stream",
     "text": [
      "\r",
      "MUSE:  17%|█▋        | 862/5050 [00:13<00:27, 150.49it/s]"
     ]
    },
    {
     "name": "stderr",
     "output_type": "stream",
     "text": [
      "\r",
      "MUSE:  17%|█▋        | 878/5050 [00:13<00:29, 143.62it/s]"
     ]
    },
    {
     "name": "stderr",
     "output_type": "stream",
     "text": [
      "\r",
      "MUSE:  18%|█▊        | 894/5050 [00:13<00:28, 146.10it/s]"
     ]
    },
    {
     "name": "stderr",
     "output_type": "stream",
     "text": [
      "\r",
      "MUSE:  18%|█▊        | 910/5050 [00:14<00:32, 128.11it/s]"
     ]
    },
    {
     "name": "stderr",
     "output_type": "stream",
     "text": [
      "\r",
      "MUSE:  18%|█▊        | 925/5050 [00:14<00:30, 133.07it/s]"
     ]
    },
    {
     "name": "stderr",
     "output_type": "stream",
     "text": [
      "\r",
      "MUSE:  19%|█▊        | 941/5050 [00:14<00:30, 135.69it/s]"
     ]
    },
    {
     "name": "stderr",
     "output_type": "stream",
     "text": [
      "\r",
      "MUSE:  19%|█▉        | 955/5050 [00:14<00:30, 134.59it/s]"
     ]
    },
    {
     "name": "stderr",
     "output_type": "stream",
     "text": [
      "\r",
      "MUSE:  19%|█▉        | 971/5050 [00:14<00:29, 138.60it/s]"
     ]
    },
    {
     "name": "stderr",
     "output_type": "stream",
     "text": [
      "\r",
      "MUSE:  20%|█▉        | 989/5050 [00:14<00:27, 149.85it/s]"
     ]
    },
    {
     "name": "stderr",
     "output_type": "stream",
     "text": [
      "\r",
      "MUSE:  20%|█▉        | 1009/5050 [00:14<00:25, 160.36it/s]"
     ]
    },
    {
     "name": "stderr",
     "output_type": "stream",
     "text": [
      "\r",
      "MUSE: 100%|██████████| 5050/5050 [00:14<00:00, 342.96it/s]"
     ]
    },
    {
     "name": "stderr",
     "output_type": "stream",
     "text": [
      "\n"
     ]
    },
    {
     "name": "stderr",
     "output_type": "stream",
     "text": [
      "\r",
      "get_H:   0%|          | 0/10 [00:00<?, ?it/s]"
     ]
    },
    {
     "name": "stderr",
     "output_type": "stream",
     "text": [
      "\r",
      "get_H:  10%|█         | 1/10 [00:00<00:01,  6.60it/s]"
     ]
    },
    {
     "name": "stderr",
     "output_type": "stream",
     "text": [
      "\r",
      "get_H:  20%|██        | 2/10 [00:00<00:01,  7.75it/s]"
     ]
    },
    {
     "name": "stderr",
     "output_type": "stream",
     "text": [
      "\r",
      "get_H:  40%|████      | 4/10 [00:00<00:00, 10.05it/s]"
     ]
    },
    {
     "name": "stderr",
     "output_type": "stream",
     "text": [
      "\r",
      "get_H:  50%|█████     | 5/10 [00:00<00:00,  9.13it/s]"
     ]
    },
    {
     "name": "stderr",
     "output_type": "stream",
     "text": [
      "\r",
      "get_H:  60%|██████    | 6/10 [00:00<00:00,  5.51it/s]"
     ]
    },
    {
     "name": "stderr",
     "output_type": "stream",
     "text": [
      "\r",
      "get_H:  70%|███████   | 7/10 [00:01<00:00,  5.74it/s]"
     ]
    },
    {
     "name": "stderr",
     "output_type": "stream",
     "text": [
      "\r",
      "get_H:  80%|████████  | 8/10 [00:01<00:00,  6.34it/s]"
     ]
    },
    {
     "name": "stderr",
     "output_type": "stream",
     "text": [
      "\r",
      "get_H:  90%|█████████ | 9/10 [00:01<00:00,  6.32it/s]"
     ]
    },
    {
     "name": "stderr",
     "output_type": "stream",
     "text": [
      "\r",
      "get_H: 100%|██████████| 10/10 [00:01<00:00,  6.62it/s]"
     ]
    },
    {
     "name": "stderr",
     "output_type": "stream",
     "text": [
      "\r",
      "get_H: 100%|██████████| 10/10 [00:01<00:00,  6.77it/s]"
     ]
    },
    {
     "name": "stderr",
     "output_type": "stream",
     "text": [
      "\n"
     ]
    }
   ],
   "source": [
    "θ_start = dict(μ=[0.5, 0.5], σ=0)\n",
    "result = prob.solve(θ_start=θ_start, progress=True)"
   ]
  },
  {
   "cell_type": "markdown",
   "id": "82224fe6",
   "metadata": {},
   "source": [
    "When there are multiple parameters, the starting guess should be specified as as a dictionary, as above.\n",
    "\n",
    "The parameter estimate is returned as a dictionary,"
   ]
  },
  {
   "cell_type": "code",
   "execution_count": 6,
   "id": "fd980b53",
   "metadata": {
    "execution": {
     "iopub.execute_input": "2022-08-12T09:05:09.300254Z",
     "iopub.status.busy": "2022-08-12T09:05:09.298507Z",
     "iopub.status.idle": "2022-08-12T09:05:09.334817Z",
     "shell.execute_reply": "2022-08-12T09:05:09.333979Z"
    }
   },
   "outputs": [
    {
     "data": {
      "text/plain": [
       "{'μ': array([0.40842233, 0.41796136]), 'σ': array(0.89459097)}"
      ]
     },
     "execution_count": 6,
     "metadata": {},
     "output_type": "execute_result"
    }
   ],
   "source": [
    "result.θ"
   ]
  },
  {
   "cell_type": "markdown",
   "id": "f81145bd",
   "metadata": {},
   "source": [
    " and the covariance as matrix, with parameters concatenated in the order they appear in the model (or in the order specified in `params`, if that was used):"
   ]
  },
  {
   "cell_type": "code",
   "execution_count": 7,
   "id": "8ff076e1",
   "metadata": {
    "execution": {
     "iopub.execute_input": "2022-08-12T09:05:09.340942Z",
     "iopub.status.busy": "2022-08-12T09:05:09.339506Z",
     "iopub.status.idle": "2022-08-12T09:05:09.370324Z",
     "shell.execute_reply": "2022-08-12T09:05:09.369556Z"
    }
   },
   "outputs": [
    {
     "data": {
      "text/plain": [
       "array([[ 0.03031984,  0.00595757, -0.01080122],\n",
       "       [ 0.00595757,  0.03350543, -0.00778456],\n",
       "       [-0.01080122, -0.00778456,  0.02513137]])"
      ]
     },
     "execution_count": 7,
     "metadata": {},
     "output_type": "execute_result"
    }
   ],
   "source": [
    "result.Σ"
   ]
  },
  {
   "cell_type": "markdown",
   "id": "77c7306b",
   "metadata": {},
   "source": [
    "The `result.ravel` and `result.unravel` functions can be used to convert between dictionary and vector representations of the parameters. For example, to compute the standard deviation for each parameter (the square root of the diagonal of the covariance):"
   ]
  },
  {
   "cell_type": "code",
   "execution_count": 8,
   "id": "0c7bbdfb",
   "metadata": {
    "execution": {
     "iopub.execute_input": "2022-08-12T09:05:09.376269Z",
     "iopub.status.busy": "2022-08-12T09:05:09.374865Z",
     "iopub.status.idle": "2022-08-12T09:05:09.405197Z",
     "shell.execute_reply": "2022-08-12T09:05:09.404380Z"
    }
   },
   "outputs": [
    {
     "data": {
      "text/plain": [
       "{'μ': array([0.17412594, 0.18304489]), 'σ': array(0.15852878)}"
      ]
     },
     "execution_count": 8,
     "metadata": {},
     "output_type": "execute_result"
    }
   ],
   "source": [
    "result.unravel(np.sqrt(np.diag(result.Σ)))"
   ]
  },
  {
   "cell_type": "markdown",
   "id": "1748b87a",
   "metadata": {},
   "source": [
    "or to convert the mean parameters to a vector:"
   ]
  },
  {
   "cell_type": "code",
   "execution_count": 9,
   "id": "4d473ad3",
   "metadata": {
    "execution": {
     "iopub.execute_input": "2022-08-12T09:05:09.411576Z",
     "iopub.status.busy": "2022-08-12T09:05:09.409784Z",
     "iopub.status.idle": "2022-08-12T09:05:09.449704Z",
     "shell.execute_reply": "2022-08-12T09:05:09.448523Z"
    }
   },
   "outputs": [
    {
     "data": {
      "text/plain": [
       "array([0.40842233, 0.41796136, 0.89459097])"
      ]
     },
     "execution_count": 9,
     "metadata": {},
     "output_type": "execute_result"
    }
   ],
   "source": [
    "result.ravel(result.θ)"
   ]
  },
  {
   "cell_type": "markdown",
   "id": "12f2e92f",
   "metadata": {},
   "source": [
    "## Jax"
   ]
  },
  {
   "cell_type": "markdown",
   "id": "43b89093",
   "metadata": {},
   "source": [
    "We can also use [Jax](https://jax.readthedocs.io/) to define the problem. In this case we will write out function to generate forward samples and to compute the posterior, and Jax will provide necessary gradients for free. To use Jax, load the necessary packages:"
   ]
  },
  {
   "cell_type": "code",
   "execution_count": 10,
   "id": "04c07d3b",
   "metadata": {
    "execution": {
     "iopub.execute_input": "2022-08-12T09:05:09.455037Z",
     "iopub.status.busy": "2022-08-12T09:05:09.454225Z",
     "iopub.status.idle": "2022-08-12T09:05:09.831729Z",
     "shell.execute_reply": "2022-08-12T09:05:09.830576Z"
    }
   },
   "outputs": [],
   "source": [
    "from functools import partial\n",
    "import jax\n",
    "import jax.numpy as jnp\n",
    "from muse_inference.jax import JaxMuseProblem"
   ]
  },
  {
   "cell_type": "markdown",
   "id": "b01a1863",
   "metadata": {},
   "source": [
    "Let's implement the noisy funnel problem from the [Example](example.html) page. To do so, extend `JaxMuseProblem` and define `sample_x_z`, `logLike`, and `logPrior`. "
   ]
  },
  {
   "cell_type": "code",
   "execution_count": 11,
   "id": "5565cd57",
   "metadata": {
    "execution": {
     "iopub.execute_input": "2022-08-12T09:05:09.837902Z",
     "iopub.status.busy": "2022-08-12T09:05:09.836732Z",
     "iopub.status.idle": "2022-08-12T09:05:09.868074Z",
     "shell.execute_reply": "2022-08-12T09:05:09.866865Z"
    }
   },
   "outputs": [],
   "source": [
    "class JaxFunnelMuseProblem(JaxMuseProblem):\n",
    "\n",
    "    def __init__(self, N, **kwargs):\n",
    "        super().__init__(**kwargs)\n",
    "        self.N = N\n",
    "\n",
    "    def sample_x_z(self, key, θ):\n",
    "        keys = jax.random.split(key, 2)\n",
    "        z = jax.random.normal(keys[0], (self.N,)) * jnp.exp(θ/2)\n",
    "        x = z + jax.random.normal(keys[1], (self.N,))\n",
    "        return (x, z)\n",
    "\n",
    "    def logLike(self, x, z, θ):\n",
    "        return -(jnp.sum((x - z)**2) + jnp.sum(z**2) / jnp.exp(θ) + 512*θ) / 2\n",
    "\n",
    "    def logPrior(self, θ):\n",
    "        return -θ**2 / (2*3**2)"
   ]
  },
  {
   "cell_type": "markdown",
   "id": "78d8589a",
   "metadata": {},
   "source": [
    "Note that the super-class `JaxMuseProblem` will automatically take care of JIT compiling these functions, so you do *not* need to manually decorate them with `@jit`. However, if your functions contain code which cannot be JIT compiled, you should pass `super().__init__(jit=False)` to the super constructor in your `__init__` function.\n",
    "\n",
    "The JAX MUSE interface also contains an option to use implicit differentation to compute the $H$ matrix (paper in prep). This is more numerically stable and faster than the default, which uses finite differences, although requires 2nd order automatic differentiation to work through your posterior. It's enabled by default, but can be disabled with `super().__init__(implicit_diff=False)`."
   ]
  },
  {
   "cell_type": "markdown",
   "id": "a3622d47",
   "metadata": {},
   "source": [
    "With the problem defined, we now generate some simulated data and save it to the problem with `set_data`. Note also the use of `PRNGKey` (rather than `RandomState` for PyMC/Numpy) for random number generation. "
   ]
  },
  {
   "cell_type": "code",
   "execution_count": 12,
   "id": "a6a75158",
   "metadata": {
    "execution": {
     "iopub.execute_input": "2022-08-12T09:05:09.872239Z",
     "iopub.status.busy": "2022-08-12T09:05:09.871923Z",
     "iopub.status.idle": "2022-08-12T09:05:10.525715Z",
     "shell.execute_reply": "2022-08-12T09:05:10.524183Z"
    }
   },
   "outputs": [
    {
     "name": "stderr",
     "output_type": "stream",
     "text": [
      "WARNING:absl:No GPU/TPU found, falling back to CPU. (Set TF_CPP_MIN_LOG_LEVEL=0 and rerun for more info.)\n"
     ]
    }
   ],
   "source": [
    "prob = JaxFunnelMuseProblem(10000, implicit_diff=True)\n",
    "key = jax.random.PRNGKey(0)\n",
    "(x, z) = prob.sample_x_z(key, 0)\n",
    "prob.set_data(x)"
   ]
  },
  {
   "cell_type": "markdown",
   "id": "890bfb3a",
   "metadata": {},
   "source": [
    "And finally, run MUSE:"
   ]
  },
  {
   "cell_type": "code",
   "execution_count": 13,
   "id": "31838edd",
   "metadata": {
    "execution": {
     "iopub.execute_input": "2022-08-12T09:05:10.530315Z",
     "iopub.status.busy": "2022-08-12T09:05:10.530010Z",
     "iopub.status.idle": "2022-08-12T09:05:23.431064Z",
     "shell.execute_reply": "2022-08-12T09:05:23.429980Z"
    },
    "nbsphinx": "hidden",
    "tags": []
   },
   "outputs": [
    {
     "data": {
      "text/plain": [
       "MuseResult(-0.00396±0.0271)"
      ]
     },
     "execution_count": 13,
     "metadata": {},
     "output_type": "execute_result"
    }
   ],
   "source": [
    "prob.solve(θ_start=0., rng=jax.random.PRNGKey(1)) # warmup"
   ]
  },
  {
   "cell_type": "code",
   "execution_count": 14,
   "id": "37a1325a",
   "metadata": {
    "execution": {
     "iopub.execute_input": "2022-08-12T09:05:23.435511Z",
     "iopub.status.busy": "2022-08-12T09:05:23.435199Z",
     "iopub.status.idle": "2022-08-12T09:05:24.604830Z",
     "shell.execute_reply": "2022-08-12T09:05:24.603948Z"
    }
   },
   "outputs": [
    {
     "name": "stderr",
     "output_type": "stream",
     "text": [
      "\r",
      "MUSE:   0%|          | 0/5050 [00:00<?, ?it/s]"
     ]
    },
    {
     "name": "stderr",
     "output_type": "stream",
     "text": [
      "\r",
      "MUSE:   2%|▏         | 102/5050 [00:00<00:09, 541.71it/s]"
     ]
    },
    {
     "name": "stderr",
     "output_type": "stream",
     "text": [
      "\r",
      "MUSE:   4%|▎         | 177/5050 [00:00<00:07, 629.98it/s]"
     ]
    },
    {
     "name": "stderr",
     "output_type": "stream",
     "text": [
      "\r",
      "MUSE:   5%|▍         | 244/5050 [00:00<00:10, 474.48it/s]"
     ]
    },
    {
     "name": "stderr",
     "output_type": "stream",
     "text": [
      "\r",
      "MUSE:   6%|▌         | 304/5050 [00:00<00:11, 418.20it/s]"
     ]
    },
    {
     "name": "stderr",
     "output_type": "stream",
     "text": [
      "\r",
      "MUSE:   7%|▋         | 355/5050 [00:00<00:10, 440.77it/s]"
     ]
    },
    {
     "name": "stderr",
     "output_type": "stream",
     "text": [
      "\r",
      "MUSE: 100%|██████████| 5050/5050 [00:00<00:00, 9494.83it/s]"
     ]
    },
    {
     "name": "stderr",
     "output_type": "stream",
     "text": [
      "\r",
      "MUSE: 100%|██████████| 5050/5050 [00:00<00:00, 5100.51it/s]"
     ]
    },
    {
     "name": "stderr",
     "output_type": "stream",
     "text": [
      "\n"
     ]
    },
    {
     "name": "stderr",
     "output_type": "stream",
     "text": [
      "\r",
      "get_H:   0%|          | 0/10 [00:00<?, ?it/s]"
     ]
    },
    {
     "name": "stderr",
     "output_type": "stream",
     "text": [
      "\r",
      "get_H: 100%|██████████| 10/10 [00:00<00:00, 615.25it/s]"
     ]
    },
    {
     "name": "stderr",
     "output_type": "stream",
     "text": [
      "\n"
     ]
    }
   ],
   "source": [
    "result = prob.solve(θ_start=0., rng=jax.random.PRNGKey(1), progress=True)"
   ]
  },
  {
   "cell_type": "markdown",
   "id": "4a574385",
   "metadata": {},
   "source": [
    "Note that the solution here is obtained around 10X faster that the PyMC version of this in the [Example](example.html) page (the cloud machines which build these docs don't always achieve the 10X, but you see this if you run these examples locally). The Jax interface has much lower overhead, which will be noticeable for very fast posteriors like the one above. "
   ]
  },
  {
   "cell_type": "markdown",
   "id": "c4a616bd",
   "metadata": {},
   "source": [
    "One convenient aspect of using Jax is that the parameters, `θ`, and latent space, `z`, can be any [pytree](https://jax.readthedocs.io/en/latest/pytrees.html), ie tuples, dictionaries, nested combinations of them, etc... (there is no requirement on the data format of the `x` variable). To demonstrate, consider a problem which is just two copies of the noisy funnel problem:"
   ]
  },
  {
   "cell_type": "code",
   "execution_count": 15,
   "id": "3dcb9e61",
   "metadata": {
    "execution": {
     "iopub.execute_input": "2022-08-12T09:05:24.609362Z",
     "iopub.status.busy": "2022-08-12T09:05:24.608689Z",
     "iopub.status.idle": "2022-08-12T09:05:24.647181Z",
     "shell.execute_reply": "2022-08-12T09:05:24.646215Z"
    }
   },
   "outputs": [],
   "source": [
    "class JaxPyTreeFunnelMuseProblem(JaxMuseProblem):\n",
    "\n",
    "    def __init__(self, N):\n",
    "        super().__init__()\n",
    "        self.N = N\n",
    "\n",
    "    def sample_x_z(self, key, θ):\n",
    "        (θ1, θ2) = (θ[\"θ1\"], θ[\"θ2\"])\n",
    "        keys = jax.random.split(key, 4)\n",
    "        z1 = jax.random.normal(keys[0], (self.N,)) * jnp.exp(θ1/2)\n",
    "        z2 = jax.random.normal(keys[1], (self.N,)) * jnp.exp(θ2/2)        \n",
    "        x1 = z1 + jax.random.normal(keys[2], (self.N,))\n",
    "        x2 = z2 + jax.random.normal(keys[3], (self.N,))        \n",
    "        return ({\"x1\":x1, \"x2\":x2}, {\"z1\":z1, \"z2\":z2})\n",
    "\n",
    "    def logLike(self, x, z, θ):\n",
    "        return (\n",
    "            -(jnp.sum((x[\"x1\"] - z[\"z1\"])**2) + jnp.sum(z[\"z1\"]**2) / jnp.exp(θ[\"θ1\"]) + 512*θ[\"θ1\"]) / 2\n",
    "            -(jnp.sum((x[\"x2\"] - z[\"z2\"])**2) + jnp.sum(z[\"z2\"]**2) / jnp.exp(θ[\"θ2\"]) + 512*θ[\"θ2\"]) / 2\n",
    "        )\n",
    "\n",
    "    def logPrior(self, θ):\n",
    "        return - θ[\"θ1\"]**2 / (2*3**2) - θ[\"θ2\"]**2 / (2*3**2)"
   ]
  },
  {
   "cell_type": "markdown",
   "id": "bc49b4df",
   "metadata": {},
   "source": [
    "Here, `x`, `θ`, and `z` are all dictionaries. We generate the problem as usual, passing in parameters as dictionaries,"
   ]
  },
  {
   "cell_type": "code",
   "execution_count": 16,
   "id": "03199d95",
   "metadata": {
    "execution": {
     "iopub.execute_input": "2022-08-12T09:05:24.652530Z",
     "iopub.status.busy": "2022-08-12T09:05:24.651637Z",
     "iopub.status.idle": "2022-08-12T09:05:24.677921Z",
     "shell.execute_reply": "2022-08-12T09:05:24.676853Z"
    }
   },
   "outputs": [],
   "source": [
    "θ_true = dict(θ1=-1., θ2=2.)\n",
    "θ_start = dict(θ1=0., θ2=0.)"
   ]
  },
  {
   "cell_type": "code",
   "execution_count": 17,
   "id": "1c93252a",
   "metadata": {
    "execution": {
     "iopub.execute_input": "2022-08-12T09:05:24.682071Z",
     "iopub.status.busy": "2022-08-12T09:05:24.681712Z",
     "iopub.status.idle": "2022-08-12T09:05:25.608803Z",
     "shell.execute_reply": "2022-08-12T09:05:25.607647Z"
    }
   },
   "outputs": [],
   "source": [
    "prob = JaxPyTreeFunnelMuseProblem(10000)\n",
    "key = jax.random.PRNGKey(0)\n",
    "(x, z) = prob.sample_x_z(key, θ_true)\n",
    "prob.set_data(x)"
   ]
  },
  {
   "cell_type": "markdown",
   "id": "f11825c8",
   "metadata": {},
   "source": [
    "and run MUSE:"
   ]
  },
  {
   "cell_type": "code",
   "execution_count": 18,
   "id": "ec91ec28",
   "metadata": {
    "execution": {
     "iopub.execute_input": "2022-08-12T09:05:25.614027Z",
     "iopub.status.busy": "2022-08-12T09:05:25.613531Z",
     "iopub.status.idle": "2022-08-12T09:05:49.354212Z",
     "shell.execute_reply": "2022-08-12T09:05:49.353238Z"
    },
    "nbsphinx": "hidden",
    "tags": []
   },
   "outputs": [
    {
     "data": {
      "text/plain": [
       "MuseResult({θ1=-1±0.0578, θ2=2.03±0.0156})"
      ]
     },
     "execution_count": 18,
     "metadata": {},
     "output_type": "execute_result"
    }
   ],
   "source": [
    "prob.solve(θ_start=θ_start, rng=jax.random.PRNGKey(0)) # warmup"
   ]
  },
  {
   "cell_type": "code",
   "execution_count": 19,
   "id": "57230b83",
   "metadata": {
    "execution": {
     "iopub.execute_input": "2022-08-12T09:05:49.358680Z",
     "iopub.status.busy": "2022-08-12T09:05:49.358302Z",
     "iopub.status.idle": "2022-08-12T09:05:59.256077Z",
     "shell.execute_reply": "2022-08-12T09:05:59.254478Z"
    }
   },
   "outputs": [
    {
     "name": "stderr",
     "output_type": "stream",
     "text": [
      "\r",
      "MUSE:   0%|          | 0/5050 [00:00<?, ?it/s]"
     ]
    },
    {
     "name": "stderr",
     "output_type": "stream",
     "text": [
      "\r",
      "MUSE:   2%|▏         | 77/5050 [00:00<00:06, 764.78it/s]"
     ]
    },
    {
     "name": "stderr",
     "output_type": "stream",
     "text": [
      "\r",
      "MUSE:   3%|▎         | 154/5050 [00:00<00:18, 262.26it/s]"
     ]
    },
    {
     "name": "stderr",
     "output_type": "stream",
     "text": [
      "\r",
      "MUSE:   4%|▍         | 197/5050 [00:00<00:18, 269.54it/s]"
     ]
    },
    {
     "name": "stderr",
     "output_type": "stream",
     "text": [
      "\r",
      "MUSE:   5%|▍         | 233/5050 [00:01<00:27, 177.95it/s]"
     ]
    },
    {
     "name": "stderr",
     "output_type": "stream",
     "text": [
      "\r",
      "MUSE:   5%|▌         | 259/5050 [00:01<00:26, 180.21it/s]"
     ]
    },
    {
     "name": "stderr",
     "output_type": "stream",
     "text": [
      "\r",
      "MUSE:   6%|▌         | 283/5050 [00:01<00:26, 180.44it/s]"
     ]
    },
    {
     "name": "stderr",
     "output_type": "stream",
     "text": [
      "\r",
      "MUSE:   6%|▌         | 305/5050 [00:01<00:36, 128.41it/s]"
     ]
    },
    {
     "name": "stderr",
     "output_type": "stream",
     "text": [
      "\r",
      "MUSE:   6%|▋         | 325/5050 [00:01<00:33, 139.72it/s]"
     ]
    },
    {
     "name": "stderr",
     "output_type": "stream",
     "text": [
      "\r",
      "MUSE:   7%|▋         | 343/5050 [00:01<00:33, 142.46it/s]"
     ]
    },
    {
     "name": "stderr",
     "output_type": "stream",
     "text": [
      "\r",
      "MUSE:   7%|▋         | 364/5050 [00:01<00:30, 155.51it/s]"
     ]
    },
    {
     "name": "stderr",
     "output_type": "stream",
     "text": [
      "\r",
      "MUSE:   8%|▊         | 382/5050 [00:02<00:29, 159.67it/s]"
     ]
    },
    {
     "name": "stderr",
     "output_type": "stream",
     "text": [
      "\r",
      "MUSE:   8%|▊         | 400/5050 [00:02<00:28, 164.16it/s]"
     ]
    },
    {
     "name": "stderr",
     "output_type": "stream",
     "text": [
      "\r",
      "MUSE:   8%|▊         | 418/5050 [00:02<00:42, 110.11it/s]"
     ]
    },
    {
     "name": "stderr",
     "output_type": "stream",
     "text": [
      "\r",
      "MUSE:   9%|▊         | 439/5050 [00:02<00:35, 128.35it/s]"
     ]
    },
    {
     "name": "stderr",
     "output_type": "stream",
     "text": [
      "\r",
      "MUSE:   9%|▉         | 460/5050 [00:02<00:31, 144.73it/s]"
     ]
    },
    {
     "name": "stderr",
     "output_type": "stream",
     "text": [
      "\r",
      "MUSE:  10%|▉         | 481/5050 [00:02<00:29, 157.35it/s]"
     ]
    },
    {
     "name": "stderr",
     "output_type": "stream",
     "text": [
      "\r",
      "MUSE:  10%|▉         | 502/5050 [00:02<00:26, 169.84it/s]"
     ]
    },
    {
     "name": "stderr",
     "output_type": "stream",
     "text": [
      "\r",
      "MUSE:  10%|█         | 521/5050 [00:03<00:40, 113.00it/s]"
     ]
    },
    {
     "name": "stderr",
     "output_type": "stream",
     "text": [
      "\r",
      "MUSE:  11%|█         | 543/5050 [00:03<00:33, 132.63it/s]"
     ]
    },
    {
     "name": "stderr",
     "output_type": "stream",
     "text": [
      "\r",
      "MUSE:  11%|█         | 565/5050 [00:03<00:29, 150.70it/s]"
     ]
    },
    {
     "name": "stderr",
     "output_type": "stream",
     "text": [
      "\r",
      "MUSE:  12%|█▏        | 587/5050 [00:03<00:26, 166.06it/s]"
     ]
    },
    {
     "name": "stderr",
     "output_type": "stream",
     "text": [
      "\r",
      "MUSE:  12%|█▏        | 607/5050 [00:03<00:38, 115.73it/s]"
     ]
    },
    {
     "name": "stderr",
     "output_type": "stream",
     "text": [
      "\r",
      "MUSE:  12%|█▏        | 629/5050 [00:03<00:32, 135.25it/s]"
     ]
    },
    {
     "name": "stderr",
     "output_type": "stream",
     "text": [
      "\r",
      "MUSE:  13%|█▎        | 651/5050 [00:04<00:28, 152.56it/s]"
     ]
    },
    {
     "name": "stderr",
     "output_type": "stream",
     "text": [
      "\r",
      "MUSE:  13%|█▎        | 673/5050 [00:04<00:26, 167.92it/s]"
     ]
    },
    {
     "name": "stderr",
     "output_type": "stream",
     "text": [
      "\r",
      "MUSE:  14%|█▍        | 696/5050 [00:04<00:23, 182.79it/s]"
     ]
    },
    {
     "name": "stderr",
     "output_type": "stream",
     "text": [
      "\r",
      "MUSE:  14%|█▍        | 717/5050 [00:04<00:35, 123.26it/s]"
     ]
    },
    {
     "name": "stderr",
     "output_type": "stream",
     "text": [
      "\r",
      "MUSE:  15%|█▍        | 739/5050 [00:04<00:30, 141.38it/s]"
     ]
    },
    {
     "name": "stderr",
     "output_type": "stream",
     "text": [
      "\r",
      "MUSE:  15%|█▌        | 761/5050 [00:04<00:27, 158.22it/s]"
     ]
    },
    {
     "name": "stderr",
     "output_type": "stream",
     "text": [
      "\r",
      "MUSE:  16%|█▌        | 784/5050 [00:04<00:24, 173.24it/s]"
     ]
    },
    {
     "name": "stderr",
     "output_type": "stream",
     "text": [
      "\r",
      "MUSE:  16%|█▌        | 807/5050 [00:04<00:22, 185.50it/s]"
     ]
    },
    {
     "name": "stderr",
     "output_type": "stream",
     "text": [
      "\r",
      "MUSE:  16%|█▋        | 828/5050 [00:05<00:34, 122.58it/s]"
     ]
    },
    {
     "name": "stderr",
     "output_type": "stream",
     "text": [
      "\r",
      "MUSE:  17%|█▋        | 849/5050 [00:05<00:30, 139.40it/s]"
     ]
    },
    {
     "name": "stderr",
     "output_type": "stream",
     "text": [
      "\r",
      "MUSE:  17%|█▋        | 870/5050 [00:05<00:27, 152.88it/s]"
     ]
    },
    {
     "name": "stderr",
     "output_type": "stream",
     "text": [
      "\r",
      "MUSE:  18%|█▊        | 891/5050 [00:05<00:25, 165.43it/s]"
     ]
    },
    {
     "name": "stderr",
     "output_type": "stream",
     "text": [
      "\r",
      "MUSE:  18%|█▊        | 911/5050 [00:05<00:37, 111.16it/s]"
     ]
    },
    {
     "name": "stderr",
     "output_type": "stream",
     "text": [
      "\r",
      "MUSE:  18%|█▊        | 932/5050 [00:06<00:32, 128.42it/s]"
     ]
    },
    {
     "name": "stderr",
     "output_type": "stream",
     "text": [
      "\r",
      "MUSE:  19%|█▉        | 951/5050 [00:06<00:29, 138.97it/s]"
     ]
    },
    {
     "name": "stderr",
     "output_type": "stream",
     "text": [
      "\r",
      "MUSE:  19%|█▉        | 970/5050 [00:06<00:27, 149.43it/s]"
     ]
    },
    {
     "name": "stderr",
     "output_type": "stream",
     "text": [
      "\r",
      "MUSE:  20%|█▉        | 992/5050 [00:06<00:24, 165.07it/s]"
     ]
    },
    {
     "name": "stderr",
     "output_type": "stream",
     "text": [
      "\r",
      "MUSE:  20%|██        | 1011/5050 [00:06<00:36, 110.81it/s]"
     ]
    },
    {
     "name": "stderr",
     "output_type": "stream",
     "text": [
      "\r",
      "MUSE:  21%|██        | 1042/5050 [00:06<00:27, 148.08it/s]"
     ]
    },
    {
     "name": "stderr",
     "output_type": "stream",
     "text": [
      "\r",
      "MUSE:  21%|██        | 1071/5050 [00:06<00:22, 177.99it/s]"
     ]
    },
    {
     "name": "stderr",
     "output_type": "stream",
     "text": [
      "\r",
      "MUSE:  22%|██▏       | 1101/5050 [00:06<00:19, 205.10it/s]"
     ]
    },
    {
     "name": "stderr",
     "output_type": "stream",
     "text": [
      "\r",
      "MUSE:  22%|██▏       | 1126/5050 [00:07<00:27, 143.46it/s]"
     ]
    },
    {
     "name": "stderr",
     "output_type": "stream",
     "text": [
      "\r",
      "MUSE:  23%|██▎       | 1156/5050 [00:07<00:22, 172.67it/s]"
     ]
    },
    {
     "name": "stderr",
     "output_type": "stream",
     "text": [
      "\r",
      "MUSE:  24%|██▎       | 1188/5050 [00:07<00:19, 203.17it/s]"
     ]
    },
    {
     "name": "stderr",
     "output_type": "stream",
     "text": [
      "\r",
      "MUSE:  24%|██▍       | 1214/5050 [00:07<00:26, 144.94it/s]"
     ]
    },
    {
     "name": "stderr",
     "output_type": "stream",
     "text": [
      "\r",
      "MUSE:  25%|██▍       | 1247/5050 [00:07<00:21, 178.56it/s]"
     ]
    },
    {
     "name": "stderr",
     "output_type": "stream",
     "text": [
      "\r",
      "MUSE:  25%|██▌       | 1282/5050 [00:07<00:17, 213.47it/s]"
     ]
    },
    {
     "name": "stderr",
     "output_type": "stream",
     "text": [
      "\r",
      "MUSE:  26%|██▌       | 1311/5050 [00:08<00:16, 230.25it/s]"
     ]
    },
    {
     "name": "stderr",
     "output_type": "stream",
     "text": [
      "\r",
      "MUSE:  27%|██▋       | 1339/5050 [00:08<00:23, 159.85it/s]"
     ]
    },
    {
     "name": "stderr",
     "output_type": "stream",
     "text": [
      "\r",
      "MUSE:  27%|██▋       | 1370/5050 [00:08<00:19, 186.20it/s]"
     ]
    },
    {
     "name": "stderr",
     "output_type": "stream",
     "text": [
      "\r",
      "MUSE:  28%|██▊       | 1396/5050 [00:08<00:18, 201.38it/s]"
     ]
    },
    {
     "name": "stderr",
     "output_type": "stream",
     "text": [
      "\r",
      "MUSE:  28%|██▊       | 1421/5050 [00:08<00:25, 143.76it/s]"
     ]
    },
    {
     "name": "stderr",
     "output_type": "stream",
     "text": [
      "\r",
      "MUSE:  29%|██▊       | 1445/5050 [00:09<00:22, 159.96it/s]"
     ]
    },
    {
     "name": "stderr",
     "output_type": "stream",
     "text": [
      "\r",
      "MUSE:  29%|██▉       | 1466/5050 [00:09<00:21, 168.61it/s]"
     ]
    },
    {
     "name": "stderr",
     "output_type": "stream",
     "text": [
      "\r",
      "MUSE:  29%|██▉       | 1489/5050 [00:09<00:19, 180.58it/s]"
     ]
    },
    {
     "name": "stderr",
     "output_type": "stream",
     "text": [
      "\r",
      "MUSE:  30%|██▉       | 1511/5050 [00:09<00:18, 189.55it/s]"
     ]
    },
    {
     "name": "stderr",
     "output_type": "stream",
     "text": [
      "\r",
      "MUSE: 100%|██████████| 5050/5050 [00:09<00:00, 6827.86it/s]"
     ]
    },
    {
     "name": "stderr",
     "output_type": "stream",
     "text": [
      "\r",
      "MUSE: 100%|██████████| 5050/5050 [00:09<00:00, 528.44it/s] "
     ]
    },
    {
     "name": "stderr",
     "output_type": "stream",
     "text": [
      "\n"
     ]
    },
    {
     "name": "stderr",
     "output_type": "stream",
     "text": [
      "\r",
      "get_H:   0%|          | 0/10 [00:00<?, ?it/s]"
     ]
    },
    {
     "name": "stderr",
     "output_type": "stream",
     "text": [
      "\r",
      "get_H: 100%|██████████| 10/10 [00:00<00:00, 107.53it/s]"
     ]
    },
    {
     "name": "stderr",
     "output_type": "stream",
     "text": [
      "\n"
     ]
    }
   ],
   "source": [
    "result = prob.solve(θ_start=θ_start, rng=jax.random.PRNGKey(0), progress=True)"
   ]
  },
  {
   "cell_type": "markdown",
   "id": "ae409407",
   "metadata": {},
   "source": [
    "The result is returned as a pytree:"
   ]
  },
  {
   "cell_type": "code",
   "execution_count": 20,
   "id": "c98ba2fd",
   "metadata": {
    "execution": {
     "iopub.execute_input": "2022-08-12T09:05:59.260677Z",
     "iopub.status.busy": "2022-08-12T09:05:59.260273Z",
     "iopub.status.idle": "2022-08-12T09:05:59.291036Z",
     "shell.execute_reply": "2022-08-12T09:05:59.289995Z"
    }
   },
   "outputs": [
    {
     "data": {
      "text/plain": [
       "{'θ1': DeviceArray(-1.0018644, dtype=float32),\n",
       " 'θ2': DeviceArray(2.0271175, dtype=float32)}"
      ]
     },
     "execution_count": 20,
     "metadata": {},
     "output_type": "execute_result"
    }
   ],
   "source": [
    "result.θ"
   ]
  },
  {
   "cell_type": "markdown",
   "id": "beb2ced7",
   "metadata": {},
   "source": [
    "and the covariance as a matrix:"
   ]
  },
  {
   "cell_type": "code",
   "execution_count": 21,
   "id": "3a9ed482",
   "metadata": {
    "execution": {
     "iopub.execute_input": "2022-08-12T09:05:59.294869Z",
     "iopub.status.busy": "2022-08-12T09:05:59.294537Z",
     "iopub.status.idle": "2022-08-12T09:05:59.324542Z",
     "shell.execute_reply": "2022-08-12T09:05:59.323525Z"
    }
   },
   "outputs": [
    {
     "data": {
      "text/plain": [
       "array([[ 3.3435659e-03, -4.2480078e-05],\n",
       "       [-4.2480078e-05,  2.4452971e-04]], dtype=float32)"
      ]
     },
     "execution_count": 21,
     "metadata": {},
     "output_type": "execute_result"
    }
   ],
   "source": [
    "result.Σ"
   ]
  },
  {
   "cell_type": "markdown",
   "id": "8b639f2e",
   "metadata": {},
   "source": [
    "The `result.ravel` and `result.unravel` functions can be used to convert between pytree and vector representations of the parameters. For example, to compute the standard deviation for each parameter (the square root of the diagonal of the covariance):"
   ]
  },
  {
   "cell_type": "code",
   "execution_count": 22,
   "id": "d091186f",
   "metadata": {
    "execution": {
     "iopub.execute_input": "2022-08-12T09:05:59.328938Z",
     "iopub.status.busy": "2022-08-12T09:05:59.328637Z",
     "iopub.status.idle": "2022-08-12T09:05:59.364825Z",
     "shell.execute_reply": "2022-08-12T09:05:59.363732Z"
    }
   },
   "outputs": [
    {
     "data": {
      "text/plain": [
       "{'θ1': DeviceArray(0.05782358, dtype=float32),\n",
       " 'θ2': DeviceArray(0.01563745, dtype=float32)}"
      ]
     },
     "execution_count": 22,
     "metadata": {},
     "output_type": "execute_result"
    }
   ],
   "source": [
    "result.unravel(np.sqrt(np.diag(result.Σ)))"
   ]
  },
  {
   "cell_type": "markdown",
   "id": "cb569c2b",
   "metadata": {},
   "source": [
    "or to convert the mean parameters to a vector:"
   ]
  },
  {
   "cell_type": "code",
   "execution_count": 23,
   "id": "ae821372",
   "metadata": {
    "execution": {
     "iopub.execute_input": "2022-08-12T09:05:59.369683Z",
     "iopub.status.busy": "2022-08-12T09:05:59.369149Z",
     "iopub.status.idle": "2022-08-12T09:05:59.402414Z",
     "shell.execute_reply": "2022-08-12T09:05:59.401362Z"
    }
   },
   "outputs": [
    {
     "data": {
      "text/plain": [
       "DeviceArray([-1.0018644,  2.0271175], dtype=float32)"
      ]
     },
     "execution_count": 23,
     "metadata": {},
     "output_type": "execute_result"
    }
   ],
   "source": [
    "result.ravel(result.θ)"
   ]
  }
 ],
 "metadata": {
  "jupytext": {
   "text_representation": {
    "extension": ".md",
    "format_name": "markdown",
    "format_version": "1.3",
    "jupytext_version": "1.13.8"
   }
  },
  "kernelspec": {
   "display_name": "Python 3.9.7 ('.venv': poetry)",
   "language": "python",
   "name": "python3"
  },
  "language_info": {
   "codemirror_mode": {
    "name": "ipython",
    "version": 3
   },
   "file_extension": ".py",
   "mimetype": "text/x-python",
   "name": "python",
   "nbconvert_exporter": "python",
   "pygments_lexer": "ipython3",
   "version": "3.9.13"
  }
 },
 "nbformat": 4,
 "nbformat_minor": 5
}
